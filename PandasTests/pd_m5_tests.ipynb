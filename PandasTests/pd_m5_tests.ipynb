{
 "cells": [
  {
   "cell_type": "code",
   "execution_count": 1,
   "outputs": [
    {
     "name": "stdout",
     "output_type": "stream",
     "text": [
      "  criterion_1 criterion_2                  type  coefficient\n",
      "0          g6          g7  Interaction_type.STN         0.03\n",
      "1          g1          g3  Interaction_type.STN         0.03\n",
      "2          g4          g5  Interaction_type.STN         0.03\n",
      "3          g2          g3  Interaction_type.ANT         0.03\n"
     ]
    },
    {
     "data": {
      "text/plain": "0                                                 [a1]\n1                      [a3, a4, a7, a8, a10, a13, a30]\n2       [a2, a5, a6, a9, a11, a12, a16, a17, a18, a31]\n3    [a14, a15, a19, a20, a21, a22, a23, a26, a27, ...\n4                                 [a24, a35, a37, a39]\nName: Alternatives, dtype: object"
     },
     "execution_count": 1,
     "metadata": {},
     "output_type": "execute_result"
    }
   ],
   "source": [
    "from PandasModularParts.pd_M1_SurrogateWeights import SurrogateWeights\n",
    "import numpy as np\n",
    "from PandasModularParts.pd_M5_PrometheePreferenceWithInteractions import PrometheePreferenceWithInteractions\n",
    "from PandasModularParts.pd_M24_OrderedClustering import OrderedClustering\n",
    "from Tests.DecisionProblemData import *\n",
    "\n",
    "alternatives_performances = pd.DataFrame(data=alternatives_performances, index=alternatives, columns=criteria)\n",
    "preference_thresholds = pd.Series(data=preference_thresholds, index=criteria)\n",
    "indifference_thresholds = pd.Series(data=indifference_thresholds, index=criteria)\n",
    "standard_deviations = pd.Series(data=standard_deviations, index=criteria)\n",
    "generalized_criteria = pd.Series(data=generalized_criteria, index=criteria)\n",
    "criteria_directions = pd.Series(data=criteria_directions, index=criteria)\n",
    "veto_thresholds = pd.Series(data=veto_thr, index=criteria)\n",
    "weights = SurrogateWeights(ranked_criteria=pd.Series(data=[7, 1, 3, 2, 4, 5, 6], index=criteria)).rank_sum()\n",
    "\n",
    "preference, partial_preference = PrometheePreferenceWithInteractions(\n",
    "    alternatives_performances=alternatives_performances, preference_thresholds=preference_thresholds,\n",
    "    indifference_thresholds=indifference_thresholds, standard_deviations=standard_deviations,\n",
    "    generalized_criteria=generalized_criteria,\n",
    "    directions=criteria_directions,\n",
    "    weights=weights, interactions=interactions).computePreferenceIndices()\n",
    "\n",
    "preference"
   ],
   "metadata": {
    "collapsed": false
   }
  },
  {
   "cell_type": "code",
   "execution_count": 2,
   "outputs": [
    {
     "data": {
      "text/plain": "0                                                 [a1]\n1                      [a3, a4, a7, a8, a10, a13, a30]\n2       [a2, a5, a6, a9, a11, a12, a16, a17, a18, a31]\n3    [a14, a15, a19, a20, a21, a22, a23, a26, a27, ...\n4                                 [a24, a35, a37, a39]\nName: Alternatives, dtype: object"
     },
     "execution_count": 2,
     "metadata": {},
     "output_type": "execute_result"
    }
   ],
   "source": [
    "clusters = OrderedClustering(preference).group_alternatives(5)\n",
    "clusters"
   ],
   "metadata": {
    "collapsed": false
   }
  },
  {
   "cell_type": "code",
   "execution_count": 2,
   "outputs": [
    {
     "data": {
      "text/plain": "0    g6\n1    g1\n2    g4\n3    g2\nName: criterion_1, dtype: object"
     },
     "execution_count": 2,
     "metadata": {},
     "output_type": "execute_result"
    }
   ],
   "source": [
    "interactions['criterion_1']"
   ],
   "metadata": {
    "collapsed": false
   }
  }
 ],
 "metadata": {
  "kernelspec": {
   "display_name": "Python 3",
   "language": "python",
   "name": "python3"
  },
  "language_info": {
   "codemirror_mode": {
    "name": "ipython",
    "version": 2
   },
   "file_extension": ".py",
   "mimetype": "text/x-python",
   "name": "python",
   "nbconvert_exporter": "python",
   "pygments_lexer": "ipython2",
   "version": "2.7.6"
  }
 },
 "nbformat": 4,
 "nbformat_minor": 0
}
