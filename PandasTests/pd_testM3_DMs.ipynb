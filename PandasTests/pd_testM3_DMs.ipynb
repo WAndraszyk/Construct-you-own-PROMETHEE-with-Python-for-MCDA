{
 "cells": [
  {
   "cell_type": "code",
   "execution_count": 1,
   "outputs": [
    {
     "name": "stdout",
     "output_type": "stream",
     "text": [
      "g1    0.036\n",
      "g2    0.250\n",
      "g3    0.179\n",
      "g4    0.214\n",
      "g5    0.143\n",
      "g6    0.107\n",
      "g7    0.071\n",
      "dtype: float64\n",
      "----------------------alternatives--------------\n"
     ]
    },
    {
     "data": {
      "text/plain": "                    g1    g2    g3    g4    g5   g6   g7\ndms alternatives                                        \ndm1 a1            35.8  67.0 -19.7  -0.0  -0.0  5.0  4.0\n    a2            16.4  14.5 -59.8  -7.5  -5.2  5.0  3.0\n    a3            35.8  24.0 -64.9  -2.1  -4.5  5.0  4.0\n    a4            20.6  61.7 -75.7  -3.6  -8.0  5.0  3.0\n    a5            11.5  17.1 -57.1  -4.2  -3.7  5.0  2.0\n...                ...   ...   ...   ...   ...  ...  ...\ndm2 a36          -13.3 -31.1 -63.0 -21.2 -29.1  2.0  1.0\n    a37            6.2  -3.2 -46.1  -4.8 -10.5  2.0  1.0\n    a38            4.8  -3.3 -71.1  -8.6 -11.6  2.0  2.0\n    a39            0.1  -9.6 -42.5 -12.9 -12.4  1.0  1.0\n    a40           13.6   9.1 -76.0 -17.1 -10.3  1.0  1.0\n\n[80 rows x 7 columns]",
      "text/html": "<div>\n<style scoped>\n    .dataframe tbody tr th:only-of-type {\n        vertical-align: middle;\n    }\n\n    .dataframe tbody tr th {\n        vertical-align: top;\n    }\n\n    .dataframe thead th {\n        text-align: right;\n    }\n</style>\n<table border=\"1\" class=\"dataframe\">\n  <thead>\n    <tr style=\"text-align: right;\">\n      <th></th>\n      <th></th>\n      <th>g1</th>\n      <th>g2</th>\n      <th>g3</th>\n      <th>g4</th>\n      <th>g5</th>\n      <th>g6</th>\n      <th>g7</th>\n    </tr>\n    <tr>\n      <th>dms</th>\n      <th>alternatives</th>\n      <th></th>\n      <th></th>\n      <th></th>\n      <th></th>\n      <th></th>\n      <th></th>\n      <th></th>\n    </tr>\n  </thead>\n  <tbody>\n    <tr>\n      <th rowspan=\"5\" valign=\"top\">dm1</th>\n      <th>a1</th>\n      <td>35.8</td>\n      <td>67.0</td>\n      <td>-19.7</td>\n      <td>-0.0</td>\n      <td>-0.0</td>\n      <td>5.0</td>\n      <td>4.0</td>\n    </tr>\n    <tr>\n      <th>a2</th>\n      <td>16.4</td>\n      <td>14.5</td>\n      <td>-59.8</td>\n      <td>-7.5</td>\n      <td>-5.2</td>\n      <td>5.0</td>\n      <td>3.0</td>\n    </tr>\n    <tr>\n      <th>a3</th>\n      <td>35.8</td>\n      <td>24.0</td>\n      <td>-64.9</td>\n      <td>-2.1</td>\n      <td>-4.5</td>\n      <td>5.0</td>\n      <td>4.0</td>\n    </tr>\n    <tr>\n      <th>a4</th>\n      <td>20.6</td>\n      <td>61.7</td>\n      <td>-75.7</td>\n      <td>-3.6</td>\n      <td>-8.0</td>\n      <td>5.0</td>\n      <td>3.0</td>\n    </tr>\n    <tr>\n      <th>a5</th>\n      <td>11.5</td>\n      <td>17.1</td>\n      <td>-57.1</td>\n      <td>-4.2</td>\n      <td>-3.7</td>\n      <td>5.0</td>\n      <td>2.0</td>\n    </tr>\n    <tr>\n      <th>...</th>\n      <th>...</th>\n      <td>...</td>\n      <td>...</td>\n      <td>...</td>\n      <td>...</td>\n      <td>...</td>\n      <td>...</td>\n      <td>...</td>\n    </tr>\n    <tr>\n      <th rowspan=\"5\" valign=\"top\">dm2</th>\n      <th>a36</th>\n      <td>-13.3</td>\n      <td>-31.1</td>\n      <td>-63.0</td>\n      <td>-21.2</td>\n      <td>-29.1</td>\n      <td>2.0</td>\n      <td>1.0</td>\n    </tr>\n    <tr>\n      <th>a37</th>\n      <td>6.2</td>\n      <td>-3.2</td>\n      <td>-46.1</td>\n      <td>-4.8</td>\n      <td>-10.5</td>\n      <td>2.0</td>\n      <td>1.0</td>\n    </tr>\n    <tr>\n      <th>a38</th>\n      <td>4.8</td>\n      <td>-3.3</td>\n      <td>-71.1</td>\n      <td>-8.6</td>\n      <td>-11.6</td>\n      <td>2.0</td>\n      <td>2.0</td>\n    </tr>\n    <tr>\n      <th>a39</th>\n      <td>0.1</td>\n      <td>-9.6</td>\n      <td>-42.5</td>\n      <td>-12.9</td>\n      <td>-12.4</td>\n      <td>1.0</td>\n      <td>1.0</td>\n    </tr>\n    <tr>\n      <th>a40</th>\n      <td>13.6</td>\n      <td>9.1</td>\n      <td>-76.0</td>\n      <td>-17.1</td>\n      <td>-10.3</td>\n      <td>1.0</td>\n      <td>1.0</td>\n    </tr>\n  </tbody>\n</table>\n<p>80 rows × 7 columns</p>\n</div>"
     },
     "execution_count": 1,
     "metadata": {},
     "output_type": "execute_result"
    }
   ],
   "source": [
    "from PandasModularParts.pd_M1_SurrogateWeights import SurrogateWeights\n",
    "from PandasModularParts.pd_M3_PrometheePreference import PrometheePreference\n",
    "from Tests.DecisionProblemData import *\n",
    "\n",
    "alternatives_performances = pd.DataFrame(data=alternatives_performances, index=alternatives, columns=criteria)\n",
    "preference_thresholds = pd.Series(data=preference_thresholds, index=criteria)\n",
    "indifference_thresholds = pd.Series(data=indifference_thresholds, index=criteria)\n",
    "standard_deviations = pd.Series(data=standard_deviations, index=criteria)\n",
    "generalized_criteria = pd.Series(data=generalized_criteria, index=criteria)\n",
    "criteria_directions = pd.Series(data=criteria_directions, index=criteria)\n",
    "weights = SurrogateWeights(ranked_criteria=pd.Series(data=[7, 1, 3, 2, 4, 5, 6], index=criteria)).rank_sum()\n",
    "print(weights)\n",
    "alternatives_performances = pd.concat([pd.DataFrame(data=alternatives_performances,\n",
    "                                                    index=alternatives_performances.index,\n",
    "                                                    columns=alternatives_performances.columns) for x in range(2)],\n",
    "                                      keys=['dm1', 'dm2'],\n",
    "                                      names=['dms', 'alternatives'])\n",
    "\n",
    "# print(\"----------------------P\n",
    "preference, partial_preference = PrometheePreference(alternatives_performances, preference_thresholds,\n",
    "                                                     indifference_thresholds, standard_deviations, generalized_criteria,\n",
    "                                                     criteria_directions, weights).computePreferenceIndices()\n",
    "\n",
    "print(\"----------------------alternatives--------------\")\n",
    "\n",
    "alternatives_performances\n",
    "# print(\"----------------------PREFERENCE--------------\")\n",
    "# preference\n"
   ],
   "metadata": {
    "collapsed": false,
    "pycharm": {
     "name": "#%%\n"
    }
   }
  },
  {
   "cell_type": "code",
   "execution_count": 2,
   "outputs": [
    {
     "data": {
      "text/plain": "dms                 dm1                                                   \\\nalternatives         a1     a2     a3     a4     a5     a6     a7     a8   \ndms alternatives                                                           \ndm1 a1            0.000  0.000  0.000  0.000  0.000  0.000  0.000  0.000   \n    a2            0.893  0.000  0.571  0.500  0.339  0.643  0.679  0.782   \n    a3            0.722  0.179  0.000  0.250  0.179  0.179  0.429  0.529   \n    a4            0.893  0.308  0.536  0.000  0.322  0.208  0.293  0.565   \n    a5            0.893  0.107  0.507  0.400  0.000  0.536  0.657  0.550   \n...                 ...    ...    ...    ...    ...    ...    ...    ...   \ndm2 a36           1.000  1.000  0.821  0.821  1.000  1.000  1.000  1.000   \n    a37           1.000  0.607  0.800  0.657  0.650  0.578  0.735  0.821   \n    a38           1.000  0.864  1.000  0.821  0.929  1.000  1.000  1.000   \n    a39           1.000  0.821  0.821  0.821  0.821  0.821  0.821  0.821   \n    a40           1.000  1.000  1.000  0.771  0.964  0.957  0.950  1.000   \n\ndms                             ...    dm2                                     \\\nalternatives         a9    a10  ...    a31    a32    a33    a34    a35    a36   \ndms alternatives                ...                                             \ndm1 a1            0.000  0.000  ...  0.000  0.000  0.000  0.000  0.000  0.000   \n    a2            0.393  0.708  ...  0.379  0.000  0.286  0.036  0.000  0.000   \n    a3            0.179  0.429  ...  0.179  0.000  0.340  0.000  0.000  0.090   \n    a4            0.322  0.358  ...  0.258  0.179  0.215  0.090  0.000  0.179   \n    a5            0.179  0.465  ...  0.286  0.071  0.286  0.107  0.036  0.000   \n...                 ...    ...  ...    ...    ...    ...    ...    ...    ...   \ndm2 a36           1.000  1.000  ...  0.893  0.357  0.821  0.821  0.714  0.000   \n    a37           0.807  0.621  ...  0.679  0.239  0.464  0.543  0.357  0.000   \n    a38           0.929  0.929  ...  0.893  0.529  0.601  0.607  0.322  0.179   \n    a39           1.000  0.821  ...  0.821  0.357  0.607  0.671  0.557  0.107   \n    a40           0.714  1.000  ...  0.750  0.400  0.857  0.832  0.349  0.286   \n\ndms                                           \nalternatives        a37    a38    a39    a40  \ndms alternatives                              \ndm1 a1            0.000  0.000  0.000  0.000  \n    a2            0.372  0.000  0.179  0.000  \n    a3            0.179  0.000  0.179  0.000  \n    a4            0.179  0.179  0.179  0.000  \n    a5            0.179  0.000  0.179  0.036  \n...                 ...    ...    ...    ...  \ndm2 a36           0.822  0.714  0.822  0.643  \n    a37           0.000  0.071  0.179  0.286  \n    a38           0.415  0.000  0.179  0.307  \n    a39           0.671  0.678  0.000  0.365  \n    a40           0.500  0.571  0.393  0.000  \n\n[80 rows x 80 columns]",
      "text/html": "<div>\n<style scoped>\n    .dataframe tbody tr th:only-of-type {\n        vertical-align: middle;\n    }\n\n    .dataframe tbody tr th {\n        vertical-align: top;\n    }\n\n    .dataframe thead tr th {\n        text-align: left;\n    }\n\n    .dataframe thead tr:last-of-type th {\n        text-align: right;\n    }\n</style>\n<table border=\"1\" class=\"dataframe\">\n  <thead>\n    <tr>\n      <th></th>\n      <th>dms</th>\n      <th colspan=\"10\" halign=\"left\">dm1</th>\n      <th>...</th>\n      <th colspan=\"10\" halign=\"left\">dm2</th>\n    </tr>\n    <tr>\n      <th></th>\n      <th>alternatives</th>\n      <th>a1</th>\n      <th>a2</th>\n      <th>a3</th>\n      <th>a4</th>\n      <th>a5</th>\n      <th>a6</th>\n      <th>a7</th>\n      <th>a8</th>\n      <th>a9</th>\n      <th>a10</th>\n      <th>...</th>\n      <th>a31</th>\n      <th>a32</th>\n      <th>a33</th>\n      <th>a34</th>\n      <th>a35</th>\n      <th>a36</th>\n      <th>a37</th>\n      <th>a38</th>\n      <th>a39</th>\n      <th>a40</th>\n    </tr>\n    <tr>\n      <th>dms</th>\n      <th>alternatives</th>\n      <th></th>\n      <th></th>\n      <th></th>\n      <th></th>\n      <th></th>\n      <th></th>\n      <th></th>\n      <th></th>\n      <th></th>\n      <th></th>\n      <th></th>\n      <th></th>\n      <th></th>\n      <th></th>\n      <th></th>\n      <th></th>\n      <th></th>\n      <th></th>\n      <th></th>\n      <th></th>\n      <th></th>\n    </tr>\n  </thead>\n  <tbody>\n    <tr>\n      <th rowspan=\"5\" valign=\"top\">dm1</th>\n      <th>a1</th>\n      <td>0.000</td>\n      <td>0.000</td>\n      <td>0.000</td>\n      <td>0.000</td>\n      <td>0.000</td>\n      <td>0.000</td>\n      <td>0.000</td>\n      <td>0.000</td>\n      <td>0.000</td>\n      <td>0.000</td>\n      <td>...</td>\n      <td>0.000</td>\n      <td>0.000</td>\n      <td>0.000</td>\n      <td>0.000</td>\n      <td>0.000</td>\n      <td>0.000</td>\n      <td>0.000</td>\n      <td>0.000</td>\n      <td>0.000</td>\n      <td>0.000</td>\n    </tr>\n    <tr>\n      <th>a2</th>\n      <td>0.893</td>\n      <td>0.000</td>\n      <td>0.571</td>\n      <td>0.500</td>\n      <td>0.339</td>\n      <td>0.643</td>\n      <td>0.679</td>\n      <td>0.782</td>\n      <td>0.393</td>\n      <td>0.708</td>\n      <td>...</td>\n      <td>0.379</td>\n      <td>0.000</td>\n      <td>0.286</td>\n      <td>0.036</td>\n      <td>0.000</td>\n      <td>0.000</td>\n      <td>0.372</td>\n      <td>0.000</td>\n      <td>0.179</td>\n      <td>0.000</td>\n    </tr>\n    <tr>\n      <th>a3</th>\n      <td>0.722</td>\n      <td>0.179</td>\n      <td>0.000</td>\n      <td>0.250</td>\n      <td>0.179</td>\n      <td>0.179</td>\n      <td>0.429</td>\n      <td>0.529</td>\n      <td>0.179</td>\n      <td>0.429</td>\n      <td>...</td>\n      <td>0.179</td>\n      <td>0.000</td>\n      <td>0.340</td>\n      <td>0.000</td>\n      <td>0.000</td>\n      <td>0.090</td>\n      <td>0.179</td>\n      <td>0.000</td>\n      <td>0.179</td>\n      <td>0.000</td>\n    </tr>\n    <tr>\n      <th>a4</th>\n      <td>0.893</td>\n      <td>0.308</td>\n      <td>0.536</td>\n      <td>0.000</td>\n      <td>0.322</td>\n      <td>0.208</td>\n      <td>0.293</td>\n      <td>0.565</td>\n      <td>0.322</td>\n      <td>0.358</td>\n      <td>...</td>\n      <td>0.258</td>\n      <td>0.179</td>\n      <td>0.215</td>\n      <td>0.090</td>\n      <td>0.000</td>\n      <td>0.179</td>\n      <td>0.179</td>\n      <td>0.179</td>\n      <td>0.179</td>\n      <td>0.000</td>\n    </tr>\n    <tr>\n      <th>a5</th>\n      <td>0.893</td>\n      <td>0.107</td>\n      <td>0.507</td>\n      <td>0.400</td>\n      <td>0.000</td>\n      <td>0.536</td>\n      <td>0.657</td>\n      <td>0.550</td>\n      <td>0.179</td>\n      <td>0.465</td>\n      <td>...</td>\n      <td>0.286</td>\n      <td>0.071</td>\n      <td>0.286</td>\n      <td>0.107</td>\n      <td>0.036</td>\n      <td>0.000</td>\n      <td>0.179</td>\n      <td>0.000</td>\n      <td>0.179</td>\n      <td>0.036</td>\n    </tr>\n    <tr>\n      <th>...</th>\n      <th>...</th>\n      <td>...</td>\n      <td>...</td>\n      <td>...</td>\n      <td>...</td>\n      <td>...</td>\n      <td>...</td>\n      <td>...</td>\n      <td>...</td>\n      <td>...</td>\n      <td>...</td>\n      <td>...</td>\n      <td>...</td>\n      <td>...</td>\n      <td>...</td>\n      <td>...</td>\n      <td>...</td>\n      <td>...</td>\n      <td>...</td>\n      <td>...</td>\n      <td>...</td>\n      <td>...</td>\n    </tr>\n    <tr>\n      <th rowspan=\"5\" valign=\"top\">dm2</th>\n      <th>a36</th>\n      <td>1.000</td>\n      <td>1.000</td>\n      <td>0.821</td>\n      <td>0.821</td>\n      <td>1.000</td>\n      <td>1.000</td>\n      <td>1.000</td>\n      <td>1.000</td>\n      <td>1.000</td>\n      <td>1.000</td>\n      <td>...</td>\n      <td>0.893</td>\n      <td>0.357</td>\n      <td>0.821</td>\n      <td>0.821</td>\n      <td>0.714</td>\n      <td>0.000</td>\n      <td>0.822</td>\n      <td>0.714</td>\n      <td>0.822</td>\n      <td>0.643</td>\n    </tr>\n    <tr>\n      <th>a37</th>\n      <td>1.000</td>\n      <td>0.607</td>\n      <td>0.800</td>\n      <td>0.657</td>\n      <td>0.650</td>\n      <td>0.578</td>\n      <td>0.735</td>\n      <td>0.821</td>\n      <td>0.807</td>\n      <td>0.621</td>\n      <td>...</td>\n      <td>0.679</td>\n      <td>0.239</td>\n      <td>0.464</td>\n      <td>0.543</td>\n      <td>0.357</td>\n      <td>0.000</td>\n      <td>0.000</td>\n      <td>0.071</td>\n      <td>0.179</td>\n      <td>0.286</td>\n    </tr>\n    <tr>\n      <th>a38</th>\n      <td>1.000</td>\n      <td>0.864</td>\n      <td>1.000</td>\n      <td>0.821</td>\n      <td>0.929</td>\n      <td>1.000</td>\n      <td>1.000</td>\n      <td>1.000</td>\n      <td>0.929</td>\n      <td>0.929</td>\n      <td>...</td>\n      <td>0.893</td>\n      <td>0.529</td>\n      <td>0.601</td>\n      <td>0.607</td>\n      <td>0.322</td>\n      <td>0.179</td>\n      <td>0.415</td>\n      <td>0.000</td>\n      <td>0.179</td>\n      <td>0.307</td>\n    </tr>\n    <tr>\n      <th>a39</th>\n      <td>1.000</td>\n      <td>0.821</td>\n      <td>0.821</td>\n      <td>0.821</td>\n      <td>0.821</td>\n      <td>0.821</td>\n      <td>0.821</td>\n      <td>0.821</td>\n      <td>1.000</td>\n      <td>0.821</td>\n      <td>...</td>\n      <td>0.821</td>\n      <td>0.357</td>\n      <td>0.607</td>\n      <td>0.671</td>\n      <td>0.557</td>\n      <td>0.107</td>\n      <td>0.671</td>\n      <td>0.678</td>\n      <td>0.000</td>\n      <td>0.365</td>\n    </tr>\n    <tr>\n      <th>a40</th>\n      <td>1.000</td>\n      <td>1.000</td>\n      <td>1.000</td>\n      <td>0.771</td>\n      <td>0.964</td>\n      <td>0.957</td>\n      <td>0.950</td>\n      <td>1.000</td>\n      <td>0.714</td>\n      <td>1.000</td>\n      <td>...</td>\n      <td>0.750</td>\n      <td>0.400</td>\n      <td>0.857</td>\n      <td>0.832</td>\n      <td>0.349</td>\n      <td>0.286</td>\n      <td>0.500</td>\n      <td>0.571</td>\n      <td>0.393</td>\n      <td>0.000</td>\n    </tr>\n  </tbody>\n</table>\n<p>80 rows × 80 columns</p>\n</div>"
     },
     "execution_count": 2,
     "metadata": {},
     "output_type": "execute_result"
    }
   ],
   "source": [
    "preference"
   ],
   "metadata": {
    "collapsed": false,
    "pycharm": {
     "name": "#%%\n"
    }
   }
  },
  {
   "cell_type": "code",
   "execution_count": 3,
   "outputs": [
    {
     "data": {
      "text/plain": "dms                       dm1                                               \\\nalternatives               a1   a2   a3   a4   a5   a6   a7   a8   a9  a10   \ncriteria dms alternatives                                                    \ng1       dm1 a1             0  1.0  0.0  1.0  1.0  1.0  1.0  1.0  1.0  1.0   \n             a2             0  0.0  0.0  0.0  1.0  0.0  0.0  0.0  1.0  0.0   \n             a3             0  1.0  0.0  1.0  1.0  1.0  1.0  1.0  1.0  1.0   \n             a4             0  1.0  0.0  0.0  1.0  0.0  0.0  0.0  1.0  0.0   \n             a5             0  0.0  0.0  0.0  0.0  0.0  0.0  0.0  1.0  0.0   \n...                        ..  ...  ...  ...  ...  ...  ...  ...  ...  ...   \ng7       dm2 a36            0  0.0  0.0  0.0  0.0  0.0  0.0  0.0  0.0  0.0   \n             a37            0  0.0  0.0  0.0  0.0  0.0  0.0  0.0  0.0  0.0   \n             a38            0  0.0  0.0  0.0  0.0  0.0  0.0  0.0  0.0  0.0   \n             a39            0  0.0  0.0  0.0  0.0  0.0  0.0  0.0  0.0  0.0   \n             a40            0  0.0  0.0  0.0  0.0  0.0  0.0  0.0  0.0  0.0   \n\ndms                        ...  dm2                                          \\\nalternatives               ...  a31  a32  a33  a34  a35  a36  a37  a38  a39   \ncriteria dms alternatives  ...                                                \ng1       dm1 a1            ...  1.0  1.0  1.0  1.0  1.0  1.0  1.0  1.0  1.0   \n             a2            ...  0.0  1.0  0.0  0.0  1.0  1.0  1.0  1.0  1.0   \n             a3            ...  1.0  1.0  1.0  1.0  1.0  1.0  1.0  1.0  1.0   \n             a4            ...  0.0  1.0  0.0  0.7  1.0  1.0  1.0  1.0  1.0   \n             a5            ...  0.0  1.0  0.0  0.0  0.0  1.0  1.0  1.0  1.0   \n...                        ...  ...  ...  ...  ...  ...  ...  ...  ...  ...   \ng7       dm2 a36           ...  0.0  0.0  0.0  0.0  0.0  0.0  0.0  0.0  0.0   \n             a37           ...  0.0  0.0  0.0  0.0  0.0  0.0  0.0  0.0  0.0   \n             a38           ...  0.0  0.0  0.0  0.0  0.0  1.0  1.0  0.0  1.0   \n             a39           ...  0.0  0.0  0.0  0.0  0.0  0.0  0.0  0.0  0.0   \n             a40           ...  0.0  0.0  0.0  0.0  0.0  0.0  0.0  0.0  0.0   \n\ndms                             \nalternatives               a40  \ncriteria dms alternatives       \ng1       dm1 a1            1.0  \n             a2            1.0  \n             a3            1.0  \n             a4            1.0  \n             a5            0.0  \n...                        ...  \ng7       dm2 a36           0.0  \n             a37           0.0  \n             a38           1.0  \n             a39           0.0  \n             a40           0.0  \n\n[560 rows x 80 columns]",
      "text/html": "<div>\n<style scoped>\n    .dataframe tbody tr th:only-of-type {\n        vertical-align: middle;\n    }\n\n    .dataframe tbody tr th {\n        vertical-align: top;\n    }\n\n    .dataframe thead tr th {\n        text-align: left;\n    }\n\n    .dataframe thead tr:last-of-type th {\n        text-align: right;\n    }\n</style>\n<table border=\"1\" class=\"dataframe\">\n  <thead>\n    <tr>\n      <th></th>\n      <th></th>\n      <th>dms</th>\n      <th colspan=\"10\" halign=\"left\">dm1</th>\n      <th>...</th>\n      <th colspan=\"10\" halign=\"left\">dm2</th>\n    </tr>\n    <tr>\n      <th></th>\n      <th></th>\n      <th>alternatives</th>\n      <th>a1</th>\n      <th>a2</th>\n      <th>a3</th>\n      <th>a4</th>\n      <th>a5</th>\n      <th>a6</th>\n      <th>a7</th>\n      <th>a8</th>\n      <th>a9</th>\n      <th>a10</th>\n      <th>...</th>\n      <th>a31</th>\n      <th>a32</th>\n      <th>a33</th>\n      <th>a34</th>\n      <th>a35</th>\n      <th>a36</th>\n      <th>a37</th>\n      <th>a38</th>\n      <th>a39</th>\n      <th>a40</th>\n    </tr>\n    <tr>\n      <th>criteria</th>\n      <th>dms</th>\n      <th>alternatives</th>\n      <th></th>\n      <th></th>\n      <th></th>\n      <th></th>\n      <th></th>\n      <th></th>\n      <th></th>\n      <th></th>\n      <th></th>\n      <th></th>\n      <th></th>\n      <th></th>\n      <th></th>\n      <th></th>\n      <th></th>\n      <th></th>\n      <th></th>\n      <th></th>\n      <th></th>\n      <th></th>\n      <th></th>\n    </tr>\n  </thead>\n  <tbody>\n    <tr>\n      <th rowspan=\"5\" valign=\"top\">g1</th>\n      <th rowspan=\"5\" valign=\"top\">dm1</th>\n      <th>a1</th>\n      <td>0</td>\n      <td>1.0</td>\n      <td>0.0</td>\n      <td>1.0</td>\n      <td>1.0</td>\n      <td>1.0</td>\n      <td>1.0</td>\n      <td>1.0</td>\n      <td>1.0</td>\n      <td>1.0</td>\n      <td>...</td>\n      <td>1.0</td>\n      <td>1.0</td>\n      <td>1.0</td>\n      <td>1.0</td>\n      <td>1.0</td>\n      <td>1.0</td>\n      <td>1.0</td>\n      <td>1.0</td>\n      <td>1.0</td>\n      <td>1.0</td>\n    </tr>\n    <tr>\n      <th>a2</th>\n      <td>0</td>\n      <td>0.0</td>\n      <td>0.0</td>\n      <td>0.0</td>\n      <td>1.0</td>\n      <td>0.0</td>\n      <td>0.0</td>\n      <td>0.0</td>\n      <td>1.0</td>\n      <td>0.0</td>\n      <td>...</td>\n      <td>0.0</td>\n      <td>1.0</td>\n      <td>0.0</td>\n      <td>0.0</td>\n      <td>1.0</td>\n      <td>1.0</td>\n      <td>1.0</td>\n      <td>1.0</td>\n      <td>1.0</td>\n      <td>1.0</td>\n    </tr>\n    <tr>\n      <th>a3</th>\n      <td>0</td>\n      <td>1.0</td>\n      <td>0.0</td>\n      <td>1.0</td>\n      <td>1.0</td>\n      <td>1.0</td>\n      <td>1.0</td>\n      <td>1.0</td>\n      <td>1.0</td>\n      <td>1.0</td>\n      <td>...</td>\n      <td>1.0</td>\n      <td>1.0</td>\n      <td>1.0</td>\n      <td>1.0</td>\n      <td>1.0</td>\n      <td>1.0</td>\n      <td>1.0</td>\n      <td>1.0</td>\n      <td>1.0</td>\n      <td>1.0</td>\n    </tr>\n    <tr>\n      <th>a4</th>\n      <td>0</td>\n      <td>1.0</td>\n      <td>0.0</td>\n      <td>0.0</td>\n      <td>1.0</td>\n      <td>0.0</td>\n      <td>0.0</td>\n      <td>0.0</td>\n      <td>1.0</td>\n      <td>0.0</td>\n      <td>...</td>\n      <td>0.0</td>\n      <td>1.0</td>\n      <td>0.0</td>\n      <td>0.7</td>\n      <td>1.0</td>\n      <td>1.0</td>\n      <td>1.0</td>\n      <td>1.0</td>\n      <td>1.0</td>\n      <td>1.0</td>\n    </tr>\n    <tr>\n      <th>a5</th>\n      <td>0</td>\n      <td>0.0</td>\n      <td>0.0</td>\n      <td>0.0</td>\n      <td>0.0</td>\n      <td>0.0</td>\n      <td>0.0</td>\n      <td>0.0</td>\n      <td>1.0</td>\n      <td>0.0</td>\n      <td>...</td>\n      <td>0.0</td>\n      <td>1.0</td>\n      <td>0.0</td>\n      <td>0.0</td>\n      <td>0.0</td>\n      <td>1.0</td>\n      <td>1.0</td>\n      <td>1.0</td>\n      <td>1.0</td>\n      <td>0.0</td>\n    </tr>\n    <tr>\n      <th>...</th>\n      <th>...</th>\n      <th>...</th>\n      <td>...</td>\n      <td>...</td>\n      <td>...</td>\n      <td>...</td>\n      <td>...</td>\n      <td>...</td>\n      <td>...</td>\n      <td>...</td>\n      <td>...</td>\n      <td>...</td>\n      <td>...</td>\n      <td>...</td>\n      <td>...</td>\n      <td>...</td>\n      <td>...</td>\n      <td>...</td>\n      <td>...</td>\n      <td>...</td>\n      <td>...</td>\n      <td>...</td>\n      <td>...</td>\n    </tr>\n    <tr>\n      <th rowspan=\"5\" valign=\"top\">g7</th>\n      <th rowspan=\"5\" valign=\"top\">dm2</th>\n      <th>a36</th>\n      <td>0</td>\n      <td>0.0</td>\n      <td>0.0</td>\n      <td>0.0</td>\n      <td>0.0</td>\n      <td>0.0</td>\n      <td>0.0</td>\n      <td>0.0</td>\n      <td>0.0</td>\n      <td>0.0</td>\n      <td>...</td>\n      <td>0.0</td>\n      <td>0.0</td>\n      <td>0.0</td>\n      <td>0.0</td>\n      <td>0.0</td>\n      <td>0.0</td>\n      <td>0.0</td>\n      <td>0.0</td>\n      <td>0.0</td>\n      <td>0.0</td>\n    </tr>\n    <tr>\n      <th>a37</th>\n      <td>0</td>\n      <td>0.0</td>\n      <td>0.0</td>\n      <td>0.0</td>\n      <td>0.0</td>\n      <td>0.0</td>\n      <td>0.0</td>\n      <td>0.0</td>\n      <td>0.0</td>\n      <td>0.0</td>\n      <td>...</td>\n      <td>0.0</td>\n      <td>0.0</td>\n      <td>0.0</td>\n      <td>0.0</td>\n      <td>0.0</td>\n      <td>0.0</td>\n      <td>0.0</td>\n      <td>0.0</td>\n      <td>0.0</td>\n      <td>0.0</td>\n    </tr>\n    <tr>\n      <th>a38</th>\n      <td>0</td>\n      <td>0.0</td>\n      <td>0.0</td>\n      <td>0.0</td>\n      <td>0.0</td>\n      <td>0.0</td>\n      <td>0.0</td>\n      <td>0.0</td>\n      <td>0.0</td>\n      <td>0.0</td>\n      <td>...</td>\n      <td>0.0</td>\n      <td>0.0</td>\n      <td>0.0</td>\n      <td>0.0</td>\n      <td>0.0</td>\n      <td>1.0</td>\n      <td>1.0</td>\n      <td>0.0</td>\n      <td>1.0</td>\n      <td>1.0</td>\n    </tr>\n    <tr>\n      <th>a39</th>\n      <td>0</td>\n      <td>0.0</td>\n      <td>0.0</td>\n      <td>0.0</td>\n      <td>0.0</td>\n      <td>0.0</td>\n      <td>0.0</td>\n      <td>0.0</td>\n      <td>0.0</td>\n      <td>0.0</td>\n      <td>...</td>\n      <td>0.0</td>\n      <td>0.0</td>\n      <td>0.0</td>\n      <td>0.0</td>\n      <td>0.0</td>\n      <td>0.0</td>\n      <td>0.0</td>\n      <td>0.0</td>\n      <td>0.0</td>\n      <td>0.0</td>\n    </tr>\n    <tr>\n      <th>a40</th>\n      <td>0</td>\n      <td>0.0</td>\n      <td>0.0</td>\n      <td>0.0</td>\n      <td>0.0</td>\n      <td>0.0</td>\n      <td>0.0</td>\n      <td>0.0</td>\n      <td>0.0</td>\n      <td>0.0</td>\n      <td>...</td>\n      <td>0.0</td>\n      <td>0.0</td>\n      <td>0.0</td>\n      <td>0.0</td>\n      <td>0.0</td>\n      <td>0.0</td>\n      <td>0.0</td>\n      <td>0.0</td>\n      <td>0.0</td>\n      <td>0.0</td>\n    </tr>\n  </tbody>\n</table>\n<p>560 rows × 80 columns</p>\n</div>"
     },
     "execution_count": 3,
     "metadata": {},
     "output_type": "execute_result"
    }
   ],
   "source": [
    "partial_preference"
   ],
   "metadata": {
    "collapsed": false,
    "pycharm": {
     "name": "#%%\n"
    }
   }
  },
  {
   "cell_type": "code",
   "execution_count": 3,
   "outputs": [],
   "source": [],
   "metadata": {
    "collapsed": false,
    "pycharm": {
     "name": "#%%\n"
    }
   }
  }
 ],
 "metadata": {
  "kernelspec": {
   "display_name": "Python 3",
   "language": "python",
   "name": "python3"
  },
  "language_info": {
   "codemirror_mode": {
    "name": "ipython",
    "version": 2
   },
   "file_extension": ".py",
   "mimetype": "text/x-python",
   "name": "python",
   "nbconvert_exporter": "python",
   "pygments_lexer": "ipython2",
   "version": "2.7.6"
  }
 },
 "nbformat": 4,
 "nbformat_minor": 0
}