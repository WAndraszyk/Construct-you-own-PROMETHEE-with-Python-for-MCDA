{
 "cells": [
  {
   "cell_type": "code",
   "execution_count": 2,
   "metadata": {
    "collapsed": true,
    "pycharm": {
     "name": "#%%\n"
    }
   },
   "outputs": [
    {
     "data": {
      "text/plain": "g1    0.278\ng2    0.111\ng3    0.611\nName: weights, dtype: float64"
     },
     "execution_count": 2,
     "metadata": {},
     "output_type": "execute_result"
    }
   ],
   "source": [
    "import pandas as pd\n",
    "from core.enums import Direction, SurrogateMethod, GeneralCriterion, FlowType\n",
    "from core.constraint import Constraint, Relation\n",
    "from modular_parts.weights import surrogate_weights\n",
    "from modular_parts.preference import compute_reinforced_preference,    \\\n",
    "    compute_veto, compute_preference_indices\n",
    "from modular_parts.flows import calculate_promethee_outranking_flows, \\\n",
    "    calculate_net_outranking_flows\n",
    "from modular_parts.ranking import calculate_promethee_ii_ranking\n",
    "from modular_parts.choice import compute_decision\n",
    "\n",
    "criteria = ['g1', 'g2', 'g3']\n",
    "ranks = [2, 3, 1]\n",
    "criteria_ranks = pd.Series(ranks, criteria)\n",
    "weights = surrogate_weights(criteria_ranks, SurrogateMethod.ROC)\n",
    "weights"
   ]
  },
  {
   "cell_type": "code",
   "execution_count": 3,
   "outputs": [
    {
     "data": {
      "text/plain": "              ITA  BEL  GER  SWE  AUT  FRA\ncriteria                                  \ng1       ITA  0.0  1.3  1.3  1.3  1.3  1.3\n         BEL  0.0  0.0  0.0  0.0  0.0  0.0\n         GER  0.0  1.0  0.0  0.0  0.0  0.0\n         SWE  0.0  1.3  1.0  0.0  0.0  0.0\n         AUT  0.0  1.3  1.3  1.0  0.0  0.0\n         FRA  0.0  1.3  1.3  1.0  1.0  0.0\ng2       ITA  0.0  1.2  1.0  1.0  1.0  0.0\n         BEL  0.0  0.0  0.0  0.0  0.0  0.0\n         GER  0.0  1.0  0.0  1.0  0.0  0.0\n         SWE  0.0  1.0  0.0  0.0  0.0  0.0\n         AUT  0.0  1.2  1.0  1.0  0.0  0.0\n         FRA  1.0  1.2  1.0  1.2  1.0  0.0\ng3       ITA  0.0  1.0  1.5  0.5  0.0  0.5\n         BEL  0.0  0.0  0.5  0.0  0.0  0.0\n         GER  0.0  0.0  0.0  0.0  0.0  0.0\n         SWE  0.0  0.5  1.0  0.0  0.0  0.0\n         AUT  0.5  1.5  1.5  1.0  0.0  1.0\n         FRA  0.0  0.5  1.0  0.0  0.0  0.0",
      "text/html": "<div>\n<style scoped>\n    .dataframe tbody tr th:only-of-type {\n        vertical-align: middle;\n    }\n\n    .dataframe tbody tr th {\n        vertical-align: top;\n    }\n\n    .dataframe thead th {\n        text-align: right;\n    }\n</style>\n<table border=\"1\" class=\"dataframe\">\n  <thead>\n    <tr style=\"text-align: right;\">\n      <th></th>\n      <th></th>\n      <th>ITA</th>\n      <th>BEL</th>\n      <th>GER</th>\n      <th>SWE</th>\n      <th>AUT</th>\n      <th>FRA</th>\n    </tr>\n    <tr>\n      <th>criteria</th>\n      <th></th>\n      <th></th>\n      <th></th>\n      <th></th>\n      <th></th>\n      <th></th>\n      <th></th>\n    </tr>\n  </thead>\n  <tbody>\n    <tr>\n      <th rowspan=\"6\" valign=\"top\">g1</th>\n      <th>ITA</th>\n      <td>0.0</td>\n      <td>1.3</td>\n      <td>1.3</td>\n      <td>1.3</td>\n      <td>1.3</td>\n      <td>1.3</td>\n    </tr>\n    <tr>\n      <th>BEL</th>\n      <td>0.0</td>\n      <td>0.0</td>\n      <td>0.0</td>\n      <td>0.0</td>\n      <td>0.0</td>\n      <td>0.0</td>\n    </tr>\n    <tr>\n      <th>GER</th>\n      <td>0.0</td>\n      <td>1.0</td>\n      <td>0.0</td>\n      <td>0.0</td>\n      <td>0.0</td>\n      <td>0.0</td>\n    </tr>\n    <tr>\n      <th>SWE</th>\n      <td>0.0</td>\n      <td>1.3</td>\n      <td>1.0</td>\n      <td>0.0</td>\n      <td>0.0</td>\n      <td>0.0</td>\n    </tr>\n    <tr>\n      <th>AUT</th>\n      <td>0.0</td>\n      <td>1.3</td>\n      <td>1.3</td>\n      <td>1.0</td>\n      <td>0.0</td>\n      <td>0.0</td>\n    </tr>\n    <tr>\n      <th>FRA</th>\n      <td>0.0</td>\n      <td>1.3</td>\n      <td>1.3</td>\n      <td>1.0</td>\n      <td>1.0</td>\n      <td>0.0</td>\n    </tr>\n    <tr>\n      <th rowspan=\"6\" valign=\"top\">g2</th>\n      <th>ITA</th>\n      <td>0.0</td>\n      <td>1.2</td>\n      <td>1.0</td>\n      <td>1.0</td>\n      <td>1.0</td>\n      <td>0.0</td>\n    </tr>\n    <tr>\n      <th>BEL</th>\n      <td>0.0</td>\n      <td>0.0</td>\n      <td>0.0</td>\n      <td>0.0</td>\n      <td>0.0</td>\n      <td>0.0</td>\n    </tr>\n    <tr>\n      <th>GER</th>\n      <td>0.0</td>\n      <td>1.0</td>\n      <td>0.0</td>\n      <td>1.0</td>\n      <td>0.0</td>\n      <td>0.0</td>\n    </tr>\n    <tr>\n      <th>SWE</th>\n      <td>0.0</td>\n      <td>1.0</td>\n      <td>0.0</td>\n      <td>0.0</td>\n      <td>0.0</td>\n      <td>0.0</td>\n    </tr>\n    <tr>\n      <th>AUT</th>\n      <td>0.0</td>\n      <td>1.2</td>\n      <td>1.0</td>\n      <td>1.0</td>\n      <td>0.0</td>\n      <td>0.0</td>\n    </tr>\n    <tr>\n      <th>FRA</th>\n      <td>1.0</td>\n      <td>1.2</td>\n      <td>1.0</td>\n      <td>1.2</td>\n      <td>1.0</td>\n      <td>0.0</td>\n    </tr>\n    <tr>\n      <th rowspan=\"6\" valign=\"top\">g3</th>\n      <th>ITA</th>\n      <td>0.0</td>\n      <td>1.0</td>\n      <td>1.5</td>\n      <td>0.5</td>\n      <td>0.0</td>\n      <td>0.5</td>\n    </tr>\n    <tr>\n      <th>BEL</th>\n      <td>0.0</td>\n      <td>0.0</td>\n      <td>0.5</td>\n      <td>0.0</td>\n      <td>0.0</td>\n      <td>0.0</td>\n    </tr>\n    <tr>\n      <th>GER</th>\n      <td>0.0</td>\n      <td>0.0</td>\n      <td>0.0</td>\n      <td>0.0</td>\n      <td>0.0</td>\n      <td>0.0</td>\n    </tr>\n    <tr>\n      <th>SWE</th>\n      <td>0.0</td>\n      <td>0.5</td>\n      <td>1.0</td>\n      <td>0.0</td>\n      <td>0.0</td>\n      <td>0.0</td>\n    </tr>\n    <tr>\n      <th>AUT</th>\n      <td>0.5</td>\n      <td>1.5</td>\n      <td>1.5</td>\n      <td>1.0</td>\n      <td>0.0</td>\n      <td>1.0</td>\n    </tr>\n    <tr>\n      <th>FRA</th>\n      <td>0.0</td>\n      <td>0.5</td>\n      <td>1.0</td>\n      <td>0.0</td>\n      <td>0.0</td>\n      <td>0.0</td>\n    </tr>\n  </tbody>\n</table>\n</div>"
     },
     "execution_count": 3,
     "metadata": {},
     "output_type": "execute_result"
    }
   ],
   "source": [
    "directions = [Direction.MAX, Direction.MAX, Direction.MIN]\n",
    "q = [0, 0, 100]\n",
    "p = [0, 1, 300]\n",
    "rp = [10, 5, 500]\n",
    "omega = [1.3, 1.2, 1.5]\n",
    "gc = [GeneralCriterion.V_SHAPE_INDIFFERENCE,\n",
    "      GeneralCriterion.V_SHAPE_INDIFFERENCE,\n",
    "      GeneralCriterion.V_SHAPE_INDIFFERENCE]\n",
    "\n",
    "criteria_directions = pd.Series(directions, criteria)\n",
    "indifference_thresholds = pd.Series(q, criteria)\n",
    "preference_thresholds = pd.Series(p, criteria)\n",
    "reinforced_preference_thresholds = pd.Series(rp, criteria)\n",
    "reinforcement_factors = pd.Series(omega, criteria)\n",
    "generalised_criteria = pd.Series(gc, criteria)\n",
    "\n",
    "s_parameters = pd.Series([None, None, None], criteria)\n",
    "\n",
    "alternatives = ['ITA', 'BEL', 'GER', 'SWE', 'AUT', 'FRA']\n",
    "performances = [[98, 8, 400],\n",
    "                [58, 0, 800],\n",
    "                [66, 5, 1000],\n",
    "                [74, 3, 600],\n",
    "                [80, 7, 200],\n",
    "                [82, 10, 600]]\n",
    "protifles = [[80, 7, 200],\n",
    "             [82, 10, 600]]\n",
    "\n",
    "alternatives_performances = pd.DataFrame(data=performances, columns=criteria,\n",
    "                                         index=alternatives)\n",
    "protifles_perfomance = pd.DataFrame(data=protifles, columns=criteria, index = ['prof1','prof2'])\n",
    "pref, part_pref = compute_reinforced_preference(alternatives_performances,\n",
    "                                                preference_thresholds,\n",
    "                                                indifference_thresholds,\n",
    "                                                s_parameters,\n",
    "                                                generalised_criteria,\n",
    "                                                criteria_directions,\n",
    "                                                reinforced_preference_thresholds,\n",
    "                                                reinforcement_factors,\n",
    "                                                weights)\n",
    "part_pref"
   ],
   "metadata": {
    "collapsed": false,
    "pycharm": {
     "name": "#%%\n"
    }
   }
  },
  {
   "cell_type": "code",
   "execution_count": 4,
   "outputs": [
    {
     "data": {
      "text/plain": "     ITA  BEL  GER  SWE  AUT  FRA\nITA  0.0  0.0  0.0  0.0  0.5  0.0\nBEL  1.0  0.0  0.0  0.5  1.5  0.5\nGER  1.5  0.5  0.0  1.0  1.5  1.0\nSWE  0.5  0.0  0.0  0.0  1.0  0.0\nAUT  0.0  0.0  0.0  0.0  0.0  0.0\nFRA  0.5  0.0  0.0  0.0  1.0  0.0",
      "text/html": "<div>\n<style scoped>\n    .dataframe tbody tr th:only-of-type {\n        vertical-align: middle;\n    }\n\n    .dataframe tbody tr th {\n        vertical-align: top;\n    }\n\n    .dataframe thead th {\n        text-align: right;\n    }\n</style>\n<table border=\"1\" class=\"dataframe\">\n  <thead>\n    <tr style=\"text-align: right;\">\n      <th></th>\n      <th>ITA</th>\n      <th>BEL</th>\n      <th>GER</th>\n      <th>SWE</th>\n      <th>AUT</th>\n      <th>FRA</th>\n    </tr>\n  </thead>\n  <tbody>\n    <tr>\n      <th>ITA</th>\n      <td>0.0</td>\n      <td>0.0</td>\n      <td>0.0</td>\n      <td>0.0</td>\n      <td>0.5</td>\n      <td>0.0</td>\n    </tr>\n    <tr>\n      <th>BEL</th>\n      <td>1.0</td>\n      <td>0.0</td>\n      <td>0.0</td>\n      <td>0.5</td>\n      <td>1.5</td>\n      <td>0.5</td>\n    </tr>\n    <tr>\n      <th>GER</th>\n      <td>1.5</td>\n      <td>0.5</td>\n      <td>0.0</td>\n      <td>1.0</td>\n      <td>1.5</td>\n      <td>1.0</td>\n    </tr>\n    <tr>\n      <th>SWE</th>\n      <td>0.5</td>\n      <td>0.0</td>\n      <td>0.0</td>\n      <td>0.0</td>\n      <td>1.0</td>\n      <td>0.0</td>\n    </tr>\n    <tr>\n      <th>AUT</th>\n      <td>0.0</td>\n      <td>0.0</td>\n      <td>0.0</td>\n      <td>0.0</td>\n      <td>0.0</td>\n      <td>0.0</td>\n    </tr>\n    <tr>\n      <th>FRA</th>\n      <td>0.5</td>\n      <td>0.0</td>\n      <td>0.0</td>\n      <td>0.0</td>\n      <td>1.0</td>\n      <td>0.0</td>\n    </tr>\n  </tbody>\n</table>\n</div>"
     },
     "execution_count": 4,
     "metadata": {},
     "output_type": "execute_result"
    }
   ],
   "source": [
    "part_pref.loc[\"g3\"].T"
   ],
   "metadata": {
    "collapsed": false,
    "pycharm": {
     "name": "#%%\n"
    }
   }
  },
  {
   "cell_type": "code",
   "execution_count": 5,
   "outputs": [
    {
     "data": {
      "text/plain": "       ITA    BEL    GER    SWE    AUT    FRA\nITA  0.000  1.000  1.000  0.718  0.436  0.616\nBEL  0.000  0.000  0.306  0.000  0.000  0.000\nGER  0.000  0.389  0.000  0.111  0.000  0.000\nSWE  0.000  0.718  0.889  0.000  0.000  0.000\nAUT  0.306  1.000  1.000  1.000  0.000  0.611\nFRA  0.111  0.724  1.000  0.402  0.389  0.000",
      "text/html": "<div>\n<style scoped>\n    .dataframe tbody tr th:only-of-type {\n        vertical-align: middle;\n    }\n\n    .dataframe tbody tr th {\n        vertical-align: top;\n    }\n\n    .dataframe thead th {\n        text-align: right;\n    }\n</style>\n<table border=\"1\" class=\"dataframe\">\n  <thead>\n    <tr style=\"text-align: right;\">\n      <th></th>\n      <th>ITA</th>\n      <th>BEL</th>\n      <th>GER</th>\n      <th>SWE</th>\n      <th>AUT</th>\n      <th>FRA</th>\n    </tr>\n  </thead>\n  <tbody>\n    <tr>\n      <th>ITA</th>\n      <td>0.000</td>\n      <td>1.000</td>\n      <td>1.000</td>\n      <td>0.718</td>\n      <td>0.436</td>\n      <td>0.616</td>\n    </tr>\n    <tr>\n      <th>BEL</th>\n      <td>0.000</td>\n      <td>0.000</td>\n      <td>0.306</td>\n      <td>0.000</td>\n      <td>0.000</td>\n      <td>0.000</td>\n    </tr>\n    <tr>\n      <th>GER</th>\n      <td>0.000</td>\n      <td>0.389</td>\n      <td>0.000</td>\n      <td>0.111</td>\n      <td>0.000</td>\n      <td>0.000</td>\n    </tr>\n    <tr>\n      <th>SWE</th>\n      <td>0.000</td>\n      <td>0.718</td>\n      <td>0.889</td>\n      <td>0.000</td>\n      <td>0.000</td>\n      <td>0.000</td>\n    </tr>\n    <tr>\n      <th>AUT</th>\n      <td>0.306</td>\n      <td>1.000</td>\n      <td>1.000</td>\n      <td>1.000</td>\n      <td>0.000</td>\n      <td>0.611</td>\n    </tr>\n    <tr>\n      <th>FRA</th>\n      <td>0.111</td>\n      <td>0.724</td>\n      <td>1.000</td>\n      <td>0.402</td>\n      <td>0.389</td>\n      <td>0.000</td>\n    </tr>\n  </tbody>\n</table>\n</div>"
     },
     "execution_count": 5,
     "metadata": {},
     "output_type": "execute_result"
    }
   ],
   "source": [
    "pref"
   ],
   "metadata": {
    "collapsed": false,
    "pycharm": {
     "name": "#%%\n"
    }
   }
  },
  {
   "cell_type": "code",
   "execution_count": 8,
   "outputs": [
    {
     "data": {
      "text/plain": "(              prof1  prof2\n criteria                  \n g1       ITA      0      0\n          BEL      0      0\n          GER      0      0\n          SWE      0      0\n          AUT      0      0\n          FRA      0      0\n g2       ITA      0      0\n          BEL      1      1\n          GER      0      1\n          SWE      0      1\n          AUT      0      0\n          FRA      0      0\n g3       ITA      0      0\n          BEL      1      0\n          GER      1      1\n          SWE      1      0\n          AUT      0      0\n          FRA      1      0,\n                 ITA  BEL  GER  SWE  AUT  FRA\n criteria                                    \n g1       prof1    0    0    0    0    0    0\n          prof2    0    0    0    0    0    0\n g2       prof1    0    0    0    0    0    0\n          prof2    0    0    0    0    0    0\n g3       prof1    0    0    0    0    0    0\n          prof2    0    0    0    0    1    0)"
     },
     "execution_count": 8,
     "metadata": {},
     "output_type": "execute_result"
    }
   ],
   "source": [
    "veto = [None, 5, 400]\n",
    "veto_thresholds = pd.Series(veto, criteria)\n",
    "\n",
    "veto, partial_veto = compute_veto(alternatives_performances, weights,\n",
    "                                  veto_thresholds, criteria_directions, profiles_performance=protifles_perfomance)\n",
    "partial_veto"
   ],
   "metadata": {
    "collapsed": false,
    "pycharm": {
     "name": "#%%\n"
    }
   }
  },
  {
   "cell_type": "code",
   "execution_count": 9,
   "outputs": [
    {
     "data": {
      "text/plain": "(     prof1  prof2\n ITA      0      0\n BEL      1      1\n GER      1      1\n SWE      1      1\n AUT      0      0\n FRA      1      0,\n        ITA  BEL  GER  SWE  AUT  FRA\n prof1    0    0    0    0    0    0\n prof2    0    0    0    0    1    0)"
     },
     "execution_count": 9,
     "metadata": {},
     "output_type": "execute_result"
    }
   ],
   "source": [
    "veto"
   ],
   "metadata": {
    "collapsed": false,
    "pycharm": {
     "name": "#%%\n"
    }
   }
  },
  {
   "cell_type": "code",
   "execution_count": 7,
   "outputs": [
    {
     "data": {
      "text/plain": "       ITA    BEL    GER    SWE    AUT    FRA\nITA  0.000  1.000  1.000  0.718  0.436  0.616\nBEL  0.000  0.000  0.000  0.000  0.000  0.000\nGER  0.000  0.389  0.000  0.000  0.000  0.000\nSWE  0.000  0.718  0.889  0.000  0.000  0.000\nAUT  0.306  1.000  1.000  1.000  0.000  0.611\nFRA  0.111  0.724  1.000  0.402  0.000  0.000",
      "text/html": "<div>\n<style scoped>\n    .dataframe tbody tr th:only-of-type {\n        vertical-align: middle;\n    }\n\n    .dataframe tbody tr th {\n        vertical-align: top;\n    }\n\n    .dataframe thead th {\n        text-align: right;\n    }\n</style>\n<table border=\"1\" class=\"dataframe\">\n  <thead>\n    <tr style=\"text-align: right;\">\n      <th></th>\n      <th>ITA</th>\n      <th>BEL</th>\n      <th>GER</th>\n      <th>SWE</th>\n      <th>AUT</th>\n      <th>FRA</th>\n    </tr>\n  </thead>\n  <tbody>\n    <tr>\n      <th>ITA</th>\n      <td>0.000</td>\n      <td>1.000</td>\n      <td>1.000</td>\n      <td>0.718</td>\n      <td>0.436</td>\n      <td>0.616</td>\n    </tr>\n    <tr>\n      <th>BEL</th>\n      <td>0.000</td>\n      <td>0.000</td>\n      <td>0.000</td>\n      <td>0.000</td>\n      <td>0.000</td>\n      <td>0.000</td>\n    </tr>\n    <tr>\n      <th>GER</th>\n      <td>0.000</td>\n      <td>0.389</td>\n      <td>0.000</td>\n      <td>0.000</td>\n      <td>0.000</td>\n      <td>0.000</td>\n    </tr>\n    <tr>\n      <th>SWE</th>\n      <td>0.000</td>\n      <td>0.718</td>\n      <td>0.889</td>\n      <td>0.000</td>\n      <td>0.000</td>\n      <td>0.000</td>\n    </tr>\n    <tr>\n      <th>AUT</th>\n      <td>0.306</td>\n      <td>1.000</td>\n      <td>1.000</td>\n      <td>1.000</td>\n      <td>0.000</td>\n      <td>0.611</td>\n    </tr>\n    <tr>\n      <th>FRA</th>\n      <td>0.111</td>\n      <td>0.724</td>\n      <td>1.000</td>\n      <td>0.402</td>\n      <td>0.000</td>\n      <td>0.000</td>\n    </tr>\n  </tbody>\n</table>\n</div>"
     },
     "execution_count": 7,
     "metadata": {},
     "output_type": "execute_result"
    }
   ],
   "source": [
    "_, _, overall_pref = compute_veto(alternatives_performances, weights,\n",
    "                                  veto_thresholds, criteria_directions,\n",
    "                                  preferences=pref)\n",
    "overall_pref"
   ],
   "metadata": {
    "collapsed": false,
    "pycharm": {
     "name": "#%%\n"
    }
   }
  },
  {
   "cell_type": "code",
   "execution_count": 8,
   "outputs": [
    {
     "data": {
      "text/plain": "     positive  negative\nITA    0.7540    0.0834\nBEL    0.0000    0.7662\nGER    0.0778    0.7778\nSWE    0.3214    0.4240\nAUT    0.7834    0.0872\nFRA    0.4474    0.2454",
      "text/html": "<div>\n<style scoped>\n    .dataframe tbody tr th:only-of-type {\n        vertical-align: middle;\n    }\n\n    .dataframe tbody tr th {\n        vertical-align: top;\n    }\n\n    .dataframe thead th {\n        text-align: right;\n    }\n</style>\n<table border=\"1\" class=\"dataframe\">\n  <thead>\n    <tr style=\"text-align: right;\">\n      <th></th>\n      <th>positive</th>\n      <th>negative</th>\n    </tr>\n  </thead>\n  <tbody>\n    <tr>\n      <th>ITA</th>\n      <td>0.7540</td>\n      <td>0.0834</td>\n    </tr>\n    <tr>\n      <th>BEL</th>\n      <td>0.0000</td>\n      <td>0.7662</td>\n    </tr>\n    <tr>\n      <th>GER</th>\n      <td>0.0778</td>\n      <td>0.7778</td>\n    </tr>\n    <tr>\n      <th>SWE</th>\n      <td>0.3214</td>\n      <td>0.4240</td>\n    </tr>\n    <tr>\n      <th>AUT</th>\n      <td>0.7834</td>\n      <td>0.0872</td>\n    </tr>\n    <tr>\n      <th>FRA</th>\n      <td>0.4474</td>\n      <td>0.2454</td>\n    </tr>\n  </tbody>\n</table>\n</div>"
     },
     "execution_count": 8,
     "metadata": {},
     "output_type": "execute_result"
    }
   ],
   "source": [
    "outranking_flows = calculate_promethee_outranking_flows(overall_pref,\n",
    "                                                        FlowType.BASIC)\n",
    "outranking_flows"
   ],
   "metadata": {
    "collapsed": false,
    "pycharm": {
     "name": "#%%\n"
    }
   }
  },
  {
   "cell_type": "code",
   "execution_count": 9,
   "outputs": [
    {
     "data": {
      "text/plain": "     positive  negative     net\nITA    0.7540    0.0834  0.6706\nBEL    0.0000    0.7662 -0.7662\nGER    0.0778    0.7778 -0.7000\nSWE    0.3214    0.4240 -0.1026\nAUT    0.7834    0.0872  0.6962\nFRA    0.4474    0.2454  0.2020",
      "text/html": "<div>\n<style scoped>\n    .dataframe tbody tr th:only-of-type {\n        vertical-align: middle;\n    }\n\n    .dataframe tbody tr th {\n        vertical-align: top;\n    }\n\n    .dataframe thead th {\n        text-align: right;\n    }\n</style>\n<table border=\"1\" class=\"dataframe\">\n  <thead>\n    <tr style=\"text-align: right;\">\n      <th></th>\n      <th>positive</th>\n      <th>negative</th>\n      <th>net</th>\n    </tr>\n  </thead>\n  <tbody>\n    <tr>\n      <th>ITA</th>\n      <td>0.7540</td>\n      <td>0.0834</td>\n      <td>0.6706</td>\n    </tr>\n    <tr>\n      <th>BEL</th>\n      <td>0.0000</td>\n      <td>0.7662</td>\n      <td>-0.7662</td>\n    </tr>\n    <tr>\n      <th>GER</th>\n      <td>0.0778</td>\n      <td>0.7778</td>\n      <td>-0.7000</td>\n    </tr>\n    <tr>\n      <th>SWE</th>\n      <td>0.3214</td>\n      <td>0.4240</td>\n      <td>-0.1026</td>\n    </tr>\n    <tr>\n      <th>AUT</th>\n      <td>0.7834</td>\n      <td>0.0872</td>\n      <td>0.6962</td>\n    </tr>\n    <tr>\n      <th>FRA</th>\n      <td>0.4474</td>\n      <td>0.2454</td>\n      <td>0.2020</td>\n    </tr>\n  </tbody>\n</table>\n</div>"
     },
     "execution_count": 9,
     "metadata": {},
     "output_type": "execute_result"
    }
   ],
   "source": [
    "pIIflows = calculate_net_outranking_flows(outranking_flows, True)\n",
    "pIIflows"
   ],
   "metadata": {
    "collapsed": false,
    "pycharm": {
     "name": "#%%\n"
    }
   }
  },
  {
   "cell_type": "code",
   "execution_count": 10,
   "outputs": [
    {
     "data": {
      "text/plain": "1    AUT\n2    ITA\n3    FRA\n4    SWE\n5    GER\n6    BEL\nName: ranking, dtype: object"
     },
     "execution_count": 10,
     "metadata": {},
     "output_type": "execute_result"
    }
   ],
   "source": [
    "calculate_promethee_ii_ranking(pIIflows)"
   ],
   "metadata": {
    "collapsed": false,
    "pycharm": {
     "name": "#%%\n"
    }
   }
  },
  {
   "cell_type": "code",
   "execution_count": 11,
   "outputs": [
    {
     "data": {
      "text/plain": "0    AUT\n1    FRA\nName: chosen alternatives, dtype: object"
     },
     "execution_count": 11,
     "metadata": {},
     "output_type": "execute_result"
    }
   ],
   "source": [
    "cost = [22, 17, 25, 28, 20, 18]\n",
    "constraint1 = Constraint(cost, Relation.LEQ, 40)\n",
    "x = [1, 1, 1, 1, 1, 1]\n",
    "constraint2 = Constraint(x, Relation.LEQ, 2)\n",
    "compute_decision(pIIflows['net'], [constraint1, constraint2])"
   ],
   "metadata": {
    "collapsed": false,
    "pycharm": {
     "name": "#%%\n"
    }
   }
  },
  {
   "cell_type": "code",
   "execution_count": 12,
   "outputs": [
    {
     "data": {
      "text/plain": "        ITA  BEL  GER  SWE  AUT  FRA\ng1 ITA  0.0  0.0  0.0  0.0  0.0  0.0\n   BEL  1.3  0.0  1.0  1.3  1.3  1.3\n   GER  1.3  0.0  0.0  1.0  1.3  1.3\n   SWE  1.3  0.0  0.0  0.0  1.0  1.0\n   AUT  1.3  0.0  0.0  0.0  0.0  1.0\n   FRA  1.3  0.0  0.0  0.0  0.0  0.0\ng2 ITA  0.0  0.0  0.0  0.0  0.0  1.0\n   BEL  1.2  0.0  1.0  1.0  1.2  1.2\n   GER  1.0  0.0  0.0  0.0  1.0  1.0\n   SWE  1.0  0.0  1.0  0.0  1.0  1.2\n   AUT  1.0  0.0  0.0  0.0  0.0  1.0\n   FRA  0.0  0.0  0.0  0.0  0.0  0.0\ng3 ITA  0.0  0.0  0.0  0.0  0.5  0.0\n   BEL  1.0  0.0  0.0  0.5  1.5  0.5\n   GER  1.5  0.5  0.0  1.0  1.5  1.0\n   SWE  0.5  0.0  0.0  0.0  1.0  0.0\n   AUT  0.0  0.0  0.0  0.0  0.0  0.0\n   FRA  0.5  0.0  0.0  0.0  1.0  0.0",
      "text/html": "<div>\n<style scoped>\n    .dataframe tbody tr th:only-of-type {\n        vertical-align: middle;\n    }\n\n    .dataframe tbody tr th {\n        vertical-align: top;\n    }\n\n    .dataframe thead th {\n        text-align: right;\n    }\n</style>\n<table border=\"1\" class=\"dataframe\">\n  <thead>\n    <tr style=\"text-align: right;\">\n      <th></th>\n      <th></th>\n      <th>ITA</th>\n      <th>BEL</th>\n      <th>GER</th>\n      <th>SWE</th>\n      <th>AUT</th>\n      <th>FRA</th>\n    </tr>\n  </thead>\n  <tbody>\n    <tr>\n      <th rowspan=\"6\" valign=\"top\">g1</th>\n      <th>ITA</th>\n      <td>0.0</td>\n      <td>0.0</td>\n      <td>0.0</td>\n      <td>0.0</td>\n      <td>0.0</td>\n      <td>0.0</td>\n    </tr>\n    <tr>\n      <th>BEL</th>\n      <td>1.3</td>\n      <td>0.0</td>\n      <td>1.0</td>\n      <td>1.3</td>\n      <td>1.3</td>\n      <td>1.3</td>\n    </tr>\n    <tr>\n      <th>GER</th>\n      <td>1.3</td>\n      <td>0.0</td>\n      <td>0.0</td>\n      <td>1.0</td>\n      <td>1.3</td>\n      <td>1.3</td>\n    </tr>\n    <tr>\n      <th>SWE</th>\n      <td>1.3</td>\n      <td>0.0</td>\n      <td>0.0</td>\n      <td>0.0</td>\n      <td>1.0</td>\n      <td>1.0</td>\n    </tr>\n    <tr>\n      <th>AUT</th>\n      <td>1.3</td>\n      <td>0.0</td>\n      <td>0.0</td>\n      <td>0.0</td>\n      <td>0.0</td>\n      <td>1.0</td>\n    </tr>\n    <tr>\n      <th>FRA</th>\n      <td>1.3</td>\n      <td>0.0</td>\n      <td>0.0</td>\n      <td>0.0</td>\n      <td>0.0</td>\n      <td>0.0</td>\n    </tr>\n    <tr>\n      <th rowspan=\"6\" valign=\"top\">g2</th>\n      <th>ITA</th>\n      <td>0.0</td>\n      <td>0.0</td>\n      <td>0.0</td>\n      <td>0.0</td>\n      <td>0.0</td>\n      <td>1.0</td>\n    </tr>\n    <tr>\n      <th>BEL</th>\n      <td>1.2</td>\n      <td>0.0</td>\n      <td>1.0</td>\n      <td>1.0</td>\n      <td>1.2</td>\n      <td>1.2</td>\n    </tr>\n    <tr>\n      <th>GER</th>\n      <td>1.0</td>\n      <td>0.0</td>\n      <td>0.0</td>\n      <td>0.0</td>\n      <td>1.0</td>\n      <td>1.0</td>\n    </tr>\n    <tr>\n      <th>SWE</th>\n      <td>1.0</td>\n      <td>0.0</td>\n      <td>1.0</td>\n      <td>0.0</td>\n      <td>1.0</td>\n      <td>1.2</td>\n    </tr>\n    <tr>\n      <th>AUT</th>\n      <td>1.0</td>\n      <td>0.0</td>\n      <td>0.0</td>\n      <td>0.0</td>\n      <td>0.0</td>\n      <td>1.0</td>\n    </tr>\n    <tr>\n      <th>FRA</th>\n      <td>0.0</td>\n      <td>0.0</td>\n      <td>0.0</td>\n      <td>0.0</td>\n      <td>0.0</td>\n      <td>0.0</td>\n    </tr>\n    <tr>\n      <th rowspan=\"6\" valign=\"top\">g3</th>\n      <th>ITA</th>\n      <td>0.0</td>\n      <td>0.0</td>\n      <td>0.0</td>\n      <td>0.0</td>\n      <td>0.5</td>\n      <td>0.0</td>\n    </tr>\n    <tr>\n      <th>BEL</th>\n      <td>1.0</td>\n      <td>0.0</td>\n      <td>0.0</td>\n      <td>0.5</td>\n      <td>1.5</td>\n      <td>0.5</td>\n    </tr>\n    <tr>\n      <th>GER</th>\n      <td>1.5</td>\n      <td>0.5</td>\n      <td>0.0</td>\n      <td>1.0</td>\n      <td>1.5</td>\n      <td>1.0</td>\n    </tr>\n    <tr>\n      <th>SWE</th>\n      <td>0.5</td>\n      <td>0.0</td>\n      <td>0.0</td>\n      <td>0.0</td>\n      <td>1.0</td>\n      <td>0.0</td>\n    </tr>\n    <tr>\n      <th>AUT</th>\n      <td>0.0</td>\n      <td>0.0</td>\n      <td>0.0</td>\n      <td>0.0</td>\n      <td>0.0</td>\n      <td>0.0</td>\n    </tr>\n    <tr>\n      <th>FRA</th>\n      <td>0.5</td>\n      <td>0.0</td>\n      <td>0.0</td>\n      <td>0.0</td>\n      <td>1.0</td>\n      <td>0.0</td>\n    </tr>\n  </tbody>\n</table>\n</div>"
     },
     "execution_count": 12,
     "metadata": {},
     "output_type": "execute_result"
    }
   ],
   "source": [
    "from modular_parts.preference import compute_discordance\n",
    "\n",
    "p, x = compute_discordance(criteria, part_pref, 2)\n",
    "x"
   ],
   "metadata": {
    "collapsed": false,
    "pycharm": {
     "name": "#%%\n"
    }
   }
  },
  {
   "cell_type": "code",
   "execution_count": 13,
   "outputs": [
    {
     "data": {
      "text/plain": "   a  b  c\na  0  0  0\nb  1  1  1",
      "text/html": "<div>\n<style scoped>\n    .dataframe tbody tr th:only-of-type {\n        vertical-align: middle;\n    }\n\n    .dataframe tbody tr th {\n        vertical-align: top;\n    }\n\n    .dataframe thead th {\n        text-align: right;\n    }\n</style>\n<table border=\"1\" class=\"dataframe\">\n  <thead>\n    <tr style=\"text-align: right;\">\n      <th></th>\n      <th>a</th>\n      <th>b</th>\n      <th>c</th>\n    </tr>\n  </thead>\n  <tbody>\n    <tr>\n      <th>a</th>\n      <td>0</td>\n      <td>0</td>\n      <td>0</td>\n    </tr>\n    <tr>\n      <th>b</th>\n      <td>1</td>\n      <td>1</td>\n      <td>1</td>\n    </tr>\n  </tbody>\n</table>\n</div>"
     },
     "execution_count": 13,
     "metadata": {},
     "output_type": "execute_result"
    }
   ],
   "source": [
    "x = pd.DataFrame(index=[\"a\", \"b\", \"c\"], columns=[\"a\", \"b\"], data=[[0, 1],\n",
    "                                                                  [0, 1],\n",
    "                                                                  [0, 1]])\n",
    "x.T"
   ],
   "metadata": {
    "collapsed": false,
    "pycharm": {
     "name": "#%%\n"
    }
   }
  },
  {
   "cell_type": "code",
   "execution_count": 14,
   "outputs": [
    {
     "data": {
      "text/plain": "   a  b\na  0  1\nb  0  1\nc  0  1",
      "text/html": "<div>\n<style scoped>\n    .dataframe tbody tr th:only-of-type {\n        vertical-align: middle;\n    }\n\n    .dataframe tbody tr th {\n        vertical-align: top;\n    }\n\n    .dataframe thead th {\n        text-align: right;\n    }\n</style>\n<table border=\"1\" class=\"dataframe\">\n  <thead>\n    <tr style=\"text-align: right;\">\n      <th></th>\n      <th>a</th>\n      <th>b</th>\n    </tr>\n  </thead>\n  <tbody>\n    <tr>\n      <th>a</th>\n      <td>0</td>\n      <td>1</td>\n    </tr>\n    <tr>\n      <th>b</th>\n      <td>0</td>\n      <td>1</td>\n    </tr>\n    <tr>\n      <th>c</th>\n      <td>0</td>\n      <td>1</td>\n    </tr>\n  </tbody>\n</table>\n</div>"
     },
     "execution_count": 14,
     "metadata": {},
     "output_type": "execute_result"
    }
   ],
   "source": [
    "x"
   ],
   "metadata": {
    "collapsed": false,
    "pycharm": {
     "name": "#%%\n"
    }
   }
  }
 ],
 "metadata": {
  "kernelspec": {
   "display_name": "Python 3",
   "language": "python",
   "name": "python3"
  },
  "language_info": {
   "codemirror_mode": {
    "name": "ipython",
    "version": 2
   },
   "file_extension": ".py",
   "mimetype": "text/x-python",
   "name": "python",
   "nbconvert_exporter": "python",
   "pygments_lexer": "ipython2",
   "version": "2.7.6"
  }
 },
 "nbformat": 4,
 "nbformat_minor": 0
}