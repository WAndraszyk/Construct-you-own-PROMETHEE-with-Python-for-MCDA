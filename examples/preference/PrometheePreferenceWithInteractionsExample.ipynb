{
 "cells": [
  {
   "cell_type": "code",
   "execution_count": 26,
   "metadata": {
    "collapsed": true
   },
   "outputs": [
    {
     "data": {
      "text/plain": "    g1   g2    g3\na1  98  4.0   400\na2  58  5.0   800\na3  66  1.5  1000",
      "text/html": "<div>\n<style scoped>\n    .dataframe tbody tr th:only-of-type {\n        vertical-align: middle;\n    }\n\n    .dataframe tbody tr th {\n        vertical-align: top;\n    }\n\n    .dataframe thead th {\n        text-align: right;\n    }\n</style>\n<table border=\"1\" class=\"dataframe\">\n  <thead>\n    <tr style=\"text-align: right;\">\n      <th></th>\n      <th>g1</th>\n      <th>g2</th>\n      <th>g3</th>\n    </tr>\n  </thead>\n  <tbody>\n    <tr>\n      <th>a1</th>\n      <td>98</td>\n      <td>4.0</td>\n      <td>400</td>\n    </tr>\n    <tr>\n      <th>a2</th>\n      <td>58</td>\n      <td>5.0</td>\n      <td>800</td>\n    </tr>\n    <tr>\n      <th>a3</th>\n      <td>66</td>\n      <td>1.5</td>\n      <td>1000</td>\n    </tr>\n  </tbody>\n</table>\n</div>"
     },
     "execution_count": 26,
     "metadata": {},
     "output_type": "execute_result"
    }
   ],
   "source": [
    "import pandas as pd\n",
    "from core.enums import Direction, GeneralCriterion, InteractionType\n",
    "from modular_parts.preference import compute_preference_indices_with_interactions\n",
    "\n",
    "alternatives = ['a1', 'a2', 'a3']\n",
    "criteria = ['g1', 'g2', 'g3']\n",
    "criteria_directions = [Direction.MAX, Direction.MAX, Direction.MIN]\n",
    "criteria_weights = [0.3, 0.2, 0.5]\n",
    "generalised_criteria = [GeneralCriterion.V_SHAPE_INDIFFERENCE, GeneralCriterion.V_SHAPE_INDIFFERENCE, GeneralCriterion.V_SHAPE_INDIFFERENCE]\n",
    "preference_thresholds = [20, 2, 300]\n",
    "indifference_thresholds = [7, 0, 100]\n",
    "alternatives_performances = [[98,4,400],\n",
    "                            [58,5,800],\n",
    "                            [66,1.5,1000]]\n",
    "\n",
    "criteria_directions = pd.Series(criteria_directions, criteria)\n",
    "criteria_weights = pd.Series(criteria_weights, criteria)\n",
    "generalised_criteria = pd.Series(generalised_criteria, criteria)\n",
    "preference_thresholds = pd.Series(preference_thresholds, criteria)\n",
    "indifference_thresholds = pd.Series(indifference_thresholds, criteria)\n",
    "interactions = pd.DataFrame(data=[['g1','g3', InteractionType.STN, 0.15],\n",
    "                                  ['g2','g3', InteractionType.WKN, -0.12],\n",
    "                                  ['g2','g1', InteractionType.ANT, 0.05]],\n",
    "                        columns=['criterion_1', 'criterion_2', 'type', 'coefficient'])\n",
    "alternatives_performances = pd.DataFrame(data=alternatives_performances, index=alternatives, columns=criteria)\n",
    "alternatives_performances"
   ]
  },
  {
   "cell_type": "code",
   "execution_count": null,
   "outputs": [],
   "source": [],
   "metadata": {
    "collapsed": false
   }
  },
  {
   "cell_type": "code",
   "execution_count": 29,
   "outputs": [
    {
     "data": {
      "text/plain": "  criterion_1 criterion_2                 type  coefficient\n0          g1          g3  InteractionType.STN         0.15\n1          g2          g3  InteractionType.WKN        -0.12\n2          g2          g1  InteractionType.ANT         0.05",
      "text/html": "<div>\n<style scoped>\n    .dataframe tbody tr th:only-of-type {\n        vertical-align: middle;\n    }\n\n    .dataframe tbody tr th {\n        vertical-align: top;\n    }\n\n    .dataframe thead th {\n        text-align: right;\n    }\n</style>\n<table border=\"1\" class=\"dataframe\">\n  <thead>\n    <tr style=\"text-align: right;\">\n      <th></th>\n      <th>criterion_1</th>\n      <th>criterion_2</th>\n      <th>type</th>\n      <th>coefficient</th>\n    </tr>\n  </thead>\n  <tbody>\n    <tr>\n      <th>0</th>\n      <td>g1</td>\n      <td>g3</td>\n      <td>InteractionType.STN</td>\n      <td>0.15</td>\n    </tr>\n    <tr>\n      <th>1</th>\n      <td>g2</td>\n      <td>g3</td>\n      <td>InteractionType.WKN</td>\n      <td>-0.12</td>\n    </tr>\n    <tr>\n      <th>2</th>\n      <td>g2</td>\n      <td>g1</td>\n      <td>InteractionType.ANT</td>\n      <td>0.05</td>\n    </tr>\n  </tbody>\n</table>\n</div>"
     },
     "execution_count": 29,
     "metadata": {},
     "output_type": "execute_result"
    }
   ],
   "source": [
    "interactions"
   ],
   "metadata": {
    "collapsed": false
   }
  },
  {
   "cell_type": "code",
   "execution_count": 27,
   "outputs": [
    {
     "name": "stderr",
     "output_type": "stream",
     "text": [
      "C:\\Users\\wandr\\AppData\\Local\\Temp\\ipykernel_13276\\2883657887.py:2: FutureWarning: The default dtype for empty Series will be 'object' instead of 'float64' in a future version. Specify a dtype explicitly to silence this warning.\n",
      "  preference_indices, partial_preference_indices = compute_preference_indices_with_interactions(alternatives_performances,criteria_weights, preference_thresholds,indifference_thresholds, pd.Series(data=None, index=criteria), generalised_criteria, criteria_directions, interactions)\n"
     ]
    },
    {
     "data": {
      "text/plain": "              a1        a2   a3\ncriteria                       \ng1       a1  0.0  1.000000  1.0\n         a2  0.0  0.000000  0.0\n         a3  0.0  0.076923  0.0\ng2       a1  0.0  0.000000  1.0\n         a2  0.5  0.000000  1.0\n         a3  0.0  0.000000  0.0\ng3       a1  0.0  1.000000  1.0\n         a2  0.0  0.000000  0.5\n         a3  0.0  0.000000  0.0",
      "text/html": "<div>\n<style scoped>\n    .dataframe tbody tr th:only-of-type {\n        vertical-align: middle;\n    }\n\n    .dataframe tbody tr th {\n        vertical-align: top;\n    }\n\n    .dataframe thead th {\n        text-align: right;\n    }\n</style>\n<table border=\"1\" class=\"dataframe\">\n  <thead>\n    <tr style=\"text-align: right;\">\n      <th></th>\n      <th></th>\n      <th>a1</th>\n      <th>a2</th>\n      <th>a3</th>\n    </tr>\n    <tr>\n      <th>criteria</th>\n      <th></th>\n      <th></th>\n      <th></th>\n      <th></th>\n    </tr>\n  </thead>\n  <tbody>\n    <tr>\n      <th rowspan=\"3\" valign=\"top\">g1</th>\n      <th>a1</th>\n      <td>0.0</td>\n      <td>1.000000</td>\n      <td>1.0</td>\n    </tr>\n    <tr>\n      <th>a2</th>\n      <td>0.0</td>\n      <td>0.000000</td>\n      <td>0.0</td>\n    </tr>\n    <tr>\n      <th>a3</th>\n      <td>0.0</td>\n      <td>0.076923</td>\n      <td>0.0</td>\n    </tr>\n    <tr>\n      <th rowspan=\"3\" valign=\"top\">g2</th>\n      <th>a1</th>\n      <td>0.0</td>\n      <td>0.000000</td>\n      <td>1.0</td>\n    </tr>\n    <tr>\n      <th>a2</th>\n      <td>0.5</td>\n      <td>0.000000</td>\n      <td>1.0</td>\n    </tr>\n    <tr>\n      <th>a3</th>\n      <td>0.0</td>\n      <td>0.000000</td>\n      <td>0.0</td>\n    </tr>\n    <tr>\n      <th rowspan=\"3\" valign=\"top\">g3</th>\n      <th>a1</th>\n      <td>0.0</td>\n      <td>1.000000</td>\n      <td>1.0</td>\n    </tr>\n    <tr>\n      <th>a2</th>\n      <td>0.0</td>\n      <td>0.000000</td>\n      <td>0.5</td>\n    </tr>\n    <tr>\n      <th>a3</th>\n      <td>0.0</td>\n      <td>0.000000</td>\n      <td>0.0</td>\n    </tr>\n  </tbody>\n</table>\n</div>"
     },
     "execution_count": 27,
     "metadata": {},
     "output_type": "execute_result"
    }
   ],
   "source": [
    "alternatives_performances\n",
    "preference_indices, partial_preference_indices = compute_preference_indices_with_interactions(alternatives_performances,criteria_weights, preference_thresholds,indifference_thresholds, pd.Series(data=None, index=criteria), generalised_criteria, criteria_directions, interactions)\n",
    "\n",
    "partial_preference_indices"
   ],
   "metadata": {
    "collapsed": false
   }
  },
  {
   "cell_type": "code",
   "execution_count": 28,
   "outputs": [
    {
     "data": {
      "text/plain": "       a1     a2     a3\na1  0.000  0.826  1.000\na2  0.077  0.000  0.412\na3  0.000  0.023  0.000",
      "text/html": "<div>\n<style scoped>\n    .dataframe tbody tr th:only-of-type {\n        vertical-align: middle;\n    }\n\n    .dataframe tbody tr th {\n        vertical-align: top;\n    }\n\n    .dataframe thead th {\n        text-align: right;\n    }\n</style>\n<table border=\"1\" class=\"dataframe\">\n  <thead>\n    <tr style=\"text-align: right;\">\n      <th></th>\n      <th>a1</th>\n      <th>a2</th>\n      <th>a3</th>\n    </tr>\n  </thead>\n  <tbody>\n    <tr>\n      <th>a1</th>\n      <td>0.000</td>\n      <td>0.826</td>\n      <td>1.000</td>\n    </tr>\n    <tr>\n      <th>a2</th>\n      <td>0.077</td>\n      <td>0.000</td>\n      <td>0.412</td>\n    </tr>\n    <tr>\n      <th>a3</th>\n      <td>0.000</td>\n      <td>0.023</td>\n      <td>0.000</td>\n    </tr>\n  </tbody>\n</table>\n</div>"
     },
     "execution_count": 28,
     "metadata": {},
     "output_type": "execute_result"
    }
   ],
   "source": [
    "preference_indices"
   ],
   "metadata": {
    "collapsed": false
   }
  }
 ],
 "metadata": {
  "kernelspec": {
   "display_name": "Python 3",
   "language": "python",
   "name": "python3"
  },
  "language_info": {
   "codemirror_mode": {
    "name": "ipython",
    "version": 2
   },
   "file_extension": ".py",
   "mimetype": "text/x-python",
   "name": "python",
   "nbconvert_exporter": "python",
   "pygments_lexer": "ipython2",
   "version": "2.7.6"
  }
 },
 "nbformat": 4,
 "nbformat_minor": 0
}
