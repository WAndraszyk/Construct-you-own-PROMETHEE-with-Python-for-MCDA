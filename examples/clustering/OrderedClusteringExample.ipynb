{
 "cells": [
  {
   "cell_type": "markdown",
   "source": [
    "# Ordered Clustering\n",
    "This module shows an example of how to use the \"Ordered clustering\" module"
   ],
   "metadata": {
    "collapsed": false
   }
  },
  {
   "cell_type": "markdown",
   "source": [
    "## Definition of inputs and problem formalization"
   ],
   "metadata": {
    "collapsed": false
   }
  },
  {
   "cell_type": "code",
   "execution_count": 3,
   "metadata": {
    "collapsed": true
   },
   "outputs": [
    {
     "data": {
      "text/plain": "    a1    a2    a3    a4\na1   0  1.05  1.04  1.03\na2   0  0.00  0.51  1.02\na3   0  0.50  0.00  1.01\na4   0  0.00  0.00  0.00",
      "text/html": "<div>\n<style scoped>\n    .dataframe tbody tr th:only-of-type {\n        vertical-align: middle;\n    }\n\n    .dataframe tbody tr th {\n        vertical-align: top;\n    }\n\n    .dataframe thead th {\n        text-align: right;\n    }\n</style>\n<table border=\"1\" class=\"dataframe\">\n  <thead>\n    <tr style=\"text-align: right;\">\n      <th></th>\n      <th>a1</th>\n      <th>a2</th>\n      <th>a3</th>\n      <th>a4</th>\n    </tr>\n  </thead>\n  <tbody>\n    <tr>\n      <th>a1</th>\n      <td>0</td>\n      <td>1.05</td>\n      <td>1.04</td>\n      <td>1.03</td>\n    </tr>\n    <tr>\n      <th>a2</th>\n      <td>0</td>\n      <td>0.00</td>\n      <td>0.51</td>\n      <td>1.02</td>\n    </tr>\n    <tr>\n      <th>a3</th>\n      <td>0</td>\n      <td>0.50</td>\n      <td>0.00</td>\n      <td>1.01</td>\n    </tr>\n    <tr>\n      <th>a4</th>\n      <td>0</td>\n      <td>0.00</td>\n      <td>0.00</td>\n      <td>0.00</td>\n    </tr>\n  </tbody>\n</table>\n</div>"
     },
     "execution_count": 3,
     "metadata": {},
     "output_type": "execute_result"
    }
   ],
   "source": [
    "import pandas as pd\n",
    "from modular_parts.clustering import group_into_ordered_clusters\n",
    "\n",
    "alternatives = ['a1', 'a2', 'a3', 'a4']\n",
    "preference_indices = pd.DataFrame([[0, 1.05, 1.04, 1.03],\n",
    "                                   [0, 0.00, 0.51, 1.02],\n",
    "                                   [0, 0.50, 0.00, 1.01],\n",
    "                                   [0, 0.00, 0.00, 0.00]], index=alternatives, columns=alternatives)\n",
    "\n",
    "preference_indices"
   ]
  },
  {
   "cell_type": "markdown",
   "source": [
    "## Ordered Clustering"
   ],
   "metadata": {
    "collapsed": false
   }
  },
  {
   "cell_type": "code",
   "execution_count": 4,
   "outputs": [
    {
     "data": {
      "text/plain": "0        [a1]\n1    [a2, a3]\n2        [a4]\nName: Alternatives in clusters, dtype: object"
     },
     "execution_count": 4,
     "metadata": {},
     "output_type": "execute_result"
    }
   ],
   "source": [
    "group_into_ordered_clusters(preference_indices, 3)"
   ],
   "metadata": {
    "collapsed": false
   }
  }
 ],
 "metadata": {
  "kernelspec": {
   "display_name": "Python 3",
   "language": "python",
   "name": "python3"
  },
  "language_info": {
   "codemirror_mode": {
    "name": "ipython",
    "version": 2
   },
   "file_extension": ".py",
   "mimetype": "text/x-python",
   "name": "python",
   "nbconvert_exporter": "python",
   "pygments_lexer": "ipython2",
   "version": "2.7.6"
  }
 },
 "nbformat": 4,
 "nbformat_minor": 0
}
