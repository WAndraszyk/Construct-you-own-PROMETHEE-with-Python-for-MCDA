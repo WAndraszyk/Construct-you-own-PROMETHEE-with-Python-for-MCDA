{
 "cells": [
  {
   "cell_type": "markdown",
   "metadata": {
    "pycharm": {
     "name": "#%% md\n"
    }
   },
   "source": [
    "# Promethee Cluster\n",
    "This module shows an example of how to use the \"Promethee Cluster\" module"
   ]
  },
  {
   "cell_type": "markdown",
   "metadata": {
    "pycharm": {
     "name": "#%% md\n"
    }
   },
   "source": [
    "## Definition of inputs and problem formalization"
   ]
  },
  {
   "cell_type": "code",
   "execution_count": 1,
   "metadata": {
    "pycharm": {
     "name": "#%%\n"
    }
   },
   "outputs": [],
   "source": [
    "import pandas as pd\n",
    "from core.enums import Direction, GeneralCriterion\n",
    "from modular_parts.clustering import promethee_cluster\n",
    "\n",
    "alternatives = [f\"a{i}\" for i in range(1, 8)]\n",
    "profiles = [f\"p{i}\" for i in range(1, 4)]\n",
    "criteria = [f\"c{i}\" for i in range(1, 4)]\n",
    "criteria_directions = pd.Series([Direction.MAX, Direction.MIN, Direction.MAX], index=criteria)\n",
    "criteria_weights = pd.Series([0.3, 0.2, 0.5], index=criteria)\n",
    "generalised_criteria = pd.Series([GeneralCriterion.U_SHAPE,\n",
    "                                  GeneralCriterion.V_SHAPE_INDIFFERENCE,\n",
    "                                  GeneralCriterion.USUAL], index=criteria)\n",
    "preference_thresholds = pd.Series([2, 10, None], index=criteria)\n",
    "indifference_thresholds = pd.Series([1, 5, None], index=criteria)\n",
    "standard_deviations = pd.Series([None, None, None], index=criteria) # None, because we do not use GeneralCriterion.GAUSSIAN\n",
    "\n",
    "alternatives_performances = pd.DataFrame([[15, 83, 21],\n",
    "                                          [10, 90, 15],\n",
    "                                          [11, 75, 20],\n",
    "                                          [18, 59, 20],\n",
    "                                          [17, 60, 28],\n",
    "                                          [22, 44, 15],\n",
    "                                          [13, 62, 22]], index=alternatives, columns=criteria)"
   ]
  },
  {
   "cell_type": "markdown",
   "metadata": {
    "pycharm": {
     "name": "#%% md\n"
    }
   },
   "source": [
    "\n",
    "## Promethee Cluster"
   ]
  },
  {
   "cell_type": "code",
   "execution_count": 2,
   "metadata": {
    "pycharm": {
     "name": "#%%\n"
    }
   },
   "outputs": [
    {
     "data": {
      "text/plain": [
       "C1    [a4, a5, a7]\n",
       "C2            [a6]\n",
       "C3    [a1, a2, a3]\n",
       "dtype: object"
      ]
     },
     "execution_count": 2,
     "metadata": {},
     "output_type": "execute_result"
    }
   ],
   "source": [
    "clusters = promethee_cluster(alternatives_performances,\n",
    "                             preference_thresholds,\n",
    "                             indifference_thresholds,\n",
    "                             standard_deviations, generalised_criteria,\n",
    "                             criteria_directions,\n",
    "                             criteria_weights,\n",
    "                             n_categories=3)\n",
    "clusters"
   ]
  },
  {
   "cell_type": "markdown",
   "metadata": {},
   "source": [
    "Note, these clusters are not ordered (e.g., alternatives in **C1** may be \"weaker\" than those in **C2**, but this is not necessarily true)"
   ]
  },
  {
   "cell_type": "markdown",
   "metadata": {},
   "source": [
    "### Change output format"
   ]
  },
  {
   "cell_type": "code",
   "execution_count": 3,
   "metadata": {},
   "outputs": [
    {
     "data": {
      "text/plain": [
       "a1    C3\n",
       "a2    C3\n",
       "a3    C3\n",
       "a4    C1\n",
       "a5    C1\n",
       "a6    C2\n",
       "a7    C1\n",
       "dtype: object"
      ]
     },
     "execution_count": 3,
     "metadata": {},
     "output_type": "execute_result"
    }
   ],
   "source": [
    "from core.clusters_commons import change_clusters_output\n",
    "\n",
    "change_clusters_output(clusters)"
   ]
  }
 ],
 "metadata": {
  "kernelspec": {
   "display_name": "Python 3 (ipykernel)",
   "language": "python",
   "name": "python3"
  },
  "language_info": {
   "codemirror_mode": {
    "name": "ipython",
    "version": 3
   },
   "file_extension": ".py",
   "mimetype": "text/x-python",
   "name": "python",
   "nbconvert_exporter": "python",
   "pygments_lexer": "ipython3",
   "version": "3.9.11"
  }
 },
 "nbformat": 4,
 "nbformat_minor": 1
}
