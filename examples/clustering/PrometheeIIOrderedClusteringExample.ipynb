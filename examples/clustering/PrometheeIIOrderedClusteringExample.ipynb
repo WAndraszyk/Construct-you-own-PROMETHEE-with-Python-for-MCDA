{
 "cells": [
  {
   "cell_type": "markdown",
   "source": [
    "# Promethee II Ordered Clustering\n",
    "This module shows an example of how to use the \"Promethee II  Ordered clustering\" module"
   ],
   "metadata": {
    "collapsed": false,
    "pycharm": {
     "name": "#%% md\n"
    }
   }
  },
  {
   "cell_type": "markdown",
   "source": [
    "## Definition of inputs and problem formalization"
   ],
   "metadata": {
    "collapsed": false,
    "pycharm": {
     "name": "#%% md\n"
    }
   }
  },
  {
   "cell_type": "code",
   "execution_count": 43,
   "outputs": [],
   "source": [
    "import pandas as pd\n",
    "from core.enums import Direction, GeneralCriterion\n",
    "from modular_parts.clustering import promethee_II_ordered_clustering\n",
    "\n",
    "alternatives = ['a1', 'a2', 'a3', 'a4', 'a5', 'a6']\n",
    "criteria = ['g1', 'g2', 'g3']\n",
    "criteria_directions = [Direction.MAX, Direction.MAX, Direction.MIN]\n",
    "criteria_weights = [0.3, 0.2, 0.5]\n",
    "generalised_criteria = [GeneralCriterion.V_SHAPE_INDIFFERENCE, GeneralCriterion.V_SHAPE_INDIFFERENCE,\n",
    "                        GeneralCriterion.V_SHAPE_INDIFFERENCE]\n",
    "preference_thresholds = [20, 2, 300]\n",
    "indifference_thresholds = [7, 0, 100]\n",
    "alternatives_performances = [[98, 4, 400],\n",
    "                             [58, 5, 800],\n",
    "                             [66, 1.5, 1000],\n",
    "                             [40, 3, 1200],\n",
    "                             [100, 5, 450],\n",
    "                             [59, 6, 850]]\n",
    "\n",
    "criteria_directions = pd.Series(criteria_directions, criteria)\n",
    "criteria_weights = pd.Series(criteria_weights, criteria)\n",
    "generalised_criteria = pd.Series(generalised_criteria, criteria)\n",
    "preference_thresholds = pd.Series(preference_thresholds, criteria)\n",
    "indifference_thresholds = pd.Series(indifference_thresholds, criteria)\n",
    "\n",
    "alternatives_performances = pd.DataFrame(data=alternatives_performances, index=alternatives, columns=criteria)"
   ],
   "metadata": {
    "collapsed": false,
    "pycharm": {
     "name": "#%%\n"
    }
   }
  },
  {
   "cell_type": "markdown",
   "source": [
    "## Ordered Clustering"
   ],
   "metadata": {
    "collapsed": false,
    "pycharm": {
     "name": "#%% md\n"
    }
   }
  },
  {
   "cell_type": "code",
   "execution_count": 46,
   "outputs": [
    {
     "name": "stderr",
     "output_type": "stream",
     "text": [
      "C:\\Users\\teba_sgrabowski\\AppData\\Local\\Temp\\ipykernel_20260\\2375489541.py:3: FutureWarning: The default dtype for empty Series will be 'object' instead of 'float64' in a future version. Specify a dtype explicitly to silence this warning.\n",
      "  pd.Series(data=None, index=criteria), generalised_criteria,\n"
     ]
    },
    {
     "data": {
      "text/plain": "C1    [a3, a4, a6]\nC2            [a2]\nC3        [a1, a5]\ndtype: object"
     },
     "execution_count": 46,
     "metadata": {},
     "output_type": "execute_result"
    }
   ],
   "source": [
    "promethee_II_ordered_clustering(alternatives_performances, preference_thresholds,\n",
    "                                             indifference_thresholds,\n",
    "                                             pd.Series(data=None, index=criteria), generalised_criteria,\n",
    "                                             criteria_directions,\n",
    "                                             criteria_weights, 3,500)"
   ],
   "metadata": {
    "collapsed": false,
    "pycharm": {
     "name": "#%%\n"
    }
   }
  }
 ],
 "metadata": {
  "kernelspec": {
   "display_name": "Python 3",
   "language": "python",
   "name": "python3"
  },
  "language_info": {
   "codemirror_mode": {
    "name": "ipython",
    "version": 2
   },
   "file_extension": ".py",
   "mimetype": "text/x-python",
   "name": "python",
   "nbconvert_exporter": "python",
   "pygments_lexer": "ipython2",
   "version": "2.7.6"
  }
 },
 "nbformat": 4,
 "nbformat_minor": 0
}