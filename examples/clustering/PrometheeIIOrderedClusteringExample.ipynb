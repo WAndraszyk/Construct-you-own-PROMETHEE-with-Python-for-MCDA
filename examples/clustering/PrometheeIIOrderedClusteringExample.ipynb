{
 "cells": [
  {
   "cell_type": "markdown",
   "metadata": {
    "pycharm": {
     "name": "#%% md\n"
    }
   },
   "source": [
    "# Promethee II Ordered Clustering\n",
    "This module shows an example of how to use the \"Promethee II  Ordered clustering\" module"
   ]
  },
  {
   "cell_type": "markdown",
   "metadata": {
    "pycharm": {
     "name": "#%% md\n"
    }
   },
   "source": [
    "## Definition of inputs and problem formalization"
   ]
  },
  {
   "cell_type": "code",
   "execution_count": 1,
   "metadata": {
    "pycharm": {
     "name": "#%%\n"
    }
   },
   "outputs": [],
   "source": [
    "import pandas as pd\n",
    "from core.enums import Direction, GeneralCriterion\n",
    "from modular_parts.clustering import promethee_II_ordered_clustering\n",
    "\n",
    "alternatives = ['a1', 'a2', 'a3', 'a4', 'a5', 'a6']\n",
    "criteria = ['g1', 'g2', 'g3']\n",
    "criteria_directions = [Direction.MAX, Direction.MAX, Direction.MIN]\n",
    "criteria_weights = [0.3, 0.2, 0.5]\n",
    "generalised_criteria = [GeneralCriterion.V_SHAPE_INDIFFERENCE, GeneralCriterion.V_SHAPE_INDIFFERENCE,\n",
    "                        GeneralCriterion.V_SHAPE_INDIFFERENCE]\n",
    "preference_thresholds = [20, 2, 300]\n",
    "indifference_thresholds = [7, 0, 100]\n",
    "alternatives_performances = [[98, 4, 400],\n",
    "                             [58, 5, 800],\n",
    "                             [66, 1.5, 1000],\n",
    "                             [40, 3, 1200],\n",
    "                             [100, 5, 450],\n",
    "                             [59, 6, 850]]\n",
    "\n",
    "criteria_directions = pd.Series(criteria_directions, criteria)\n",
    "criteria_weights = pd.Series(criteria_weights, criteria)\n",
    "generalised_criteria = pd.Series(generalised_criteria, criteria)\n",
    "preference_thresholds = pd.Series(preference_thresholds, criteria)\n",
    "indifference_thresholds = pd.Series(indifference_thresholds, criteria)\n",
    "\n",
    "alternatives_performances = pd.DataFrame(data=alternatives_performances, index=alternatives, columns=criteria)"
   ]
  },
  {
   "cell_type": "markdown",
   "metadata": {
    "pycharm": {
     "name": "#%% md\n"
    }
   },
   "source": [
    "## Ordered Clustering"
   ]
  },
  {
   "cell_type": "code",
   "execution_count": 2,
   "metadata": {
    "pycharm": {
     "name": "#%%\n"
    }
   },
   "outputs": [
    {
     "data": {
      "text/plain": [
       "C1        [a3, a5]\n",
       "C2    [a2, a4, a6]\n",
       "C3            [a1]\n",
       "dtype: object"
      ]
     },
     "execution_count": 2,
     "metadata": {},
     "output_type": "execute_result"
    }
   ],
   "source": [
    "clusters = promethee_II_ordered_clustering(alternatives_performances, preference_thresholds,\n",
    "                                             indifference_thresholds,\n",
    "                                             pd.Series(data=None, index=criteria, dtype='object'), generalised_criteria,\n",
    "                                             criteria_directions,\n",
    "                                             criteria_weights, 3, 500)\n",
    "clusters"
   ]
  },
  {
   "cell_type": "markdown",
   "metadata": {},
   "source": [
    "### Change output format"
   ]
  },
  {
   "cell_type": "code",
   "execution_count": 3,
   "metadata": {},
   "outputs": [
    {
     "data": {
      "text/plain": [
       "a3    C1\n",
       "a5    C1\n",
       "a2    C2\n",
       "a4    C2\n",
       "a6    C2\n",
       "a1    C3\n",
       "dtype: object"
      ]
     },
     "execution_count": 3,
     "metadata": {},
     "output_type": "execute_result"
    }
   ],
   "source": [
    "from core.clusters_commons import change_clusters_output\n",
    "\n",
    "change_clusters_output(clusters)"
   ]
  }
 ],
 "metadata": {
  "kernelspec": {
   "display_name": "Python 3 (ipykernel)",
   "language": "python",
   "name": "python3"
  },
  "language_info": {
   "codemirror_mode": {
    "name": "ipython",
    "version": 3
   },
   "file_extension": ".py",
   "mimetype": "text/x-python",
   "name": "python",
   "nbconvert_exporter": "python",
   "pygments_lexer": "ipython3",
   "version": "3.9.11"
  }
 },
 "nbformat": 4,
 "nbformat_minor": 1
}
