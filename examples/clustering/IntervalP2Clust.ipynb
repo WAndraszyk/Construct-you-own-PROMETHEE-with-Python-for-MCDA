{
 "cells": [
  {
   "cell_type": "markdown",
   "metadata": {
    "collapsed": true
   },
   "source": [
    "# Interval P2Clust\n",
    "This module shows an example of how to use the \"Interval P2Clust\" module."
   ]
  },
  {
   "cell_type": "markdown",
   "metadata": {},
   "source": [
    "## Definition of inputs and problem formalization"
   ]
  },
  {
   "cell_type": "code",
   "execution_count": 1,
   "metadata": {},
   "outputs": [],
   "source": [
    "import pandas as pd\n",
    "from modular_parts.preference import compute_preference_indices\n",
    "from modular_parts.clustering import cluster_using_interval_p2clust\n",
    "from core.enums import Direction, GeneralCriterion\n",
    "\n",
    "\n",
    "alternatives = [f\"a{i}\" for i in range(1, 8)]\n",
    "profiles = [f\"p{i}\" for i in range(1, 4)]\n",
    "criteria = [f\"c{i}\" for i in range(1, 4)]\n",
    "criteria_directions = pd.Series([Direction.MAX, Direction.MIN, Direction.MAX], index=criteria)\n",
    "criteria_weights = pd.Series([0.3, 0.2, 0.5], index=criteria)\n",
    "generalised_criteria = pd.Series([GeneralCriterion.U_SHAPE,\n",
    "                                  GeneralCriterion.V_SHAPE_INDIFFERENCE,\n",
    "                                  GeneralCriterion.USUAL], index=criteria)\n",
    "preference_thresholds = pd.Series([2, 10, None], index=criteria)\n",
    "indifference_thresholds = pd.Series([1, 5, None], index=criteria)\n",
    "standard_deviations = pd.Series([None, None, None], index=criteria) # None, because we do not use GeneraCriterion.GAUSSIAN\n",
    "\n",
    "alternatives_performances = pd.DataFrame([[15, 83, 21],\n",
    "                                          [10, 90, 15],\n",
    "                                          [11, 75, 20],\n",
    "                                          [18, 59, 20],\n",
    "                                          [17, 60, 28],\n",
    "                                          [22, 44, 15],\n",
    "                                          [13, 62, 22]], index=alternatives, columns=criteria)"
   ]
  },
  {
   "cell_type": "markdown",
   "metadata": {},
   "source": [
    "## Usage of Interval P2Clust"
   ]
  },
  {
   "cell_type": "markdown",
   "metadata": {},
   "source": [
    "### Comparison between n_categories = 2 and n_categories = 3"
   ]
  },
  {
   "cell_type": "markdown",
   "metadata": {},
   "source": [
    "#### n_categories = 2"
   ]
  },
  {
   "cell_type": "code",
   "execution_count": 2,
   "metadata": {},
   "outputs": [],
   "source": [
    "assignments, central_profiles, global_quality_index = cluster_using_interval_p2clust(alternatives_performances,\n",
    "                                                                                    preference_thresholds,\n",
    "                                                                                    indifference_thresholds,\n",
    "                                                                                    standard_deviations,\n",
    "                                                                                    generalised_criteria,\n",
    "                                                                                    criteria_directions,\n",
    "                                                                                    criteria_weights,\n",
    "                                                                                    n_categories=2)"
   ]
  },
  {
   "cell_type": "code",
   "execution_count": 3,
   "metadata": {},
   "outputs": [
    {
     "data": {
      "text/plain": [
       "a1    C1\n",
       "a2    C1\n",
       "a3    C1\n",
       "a4    C2\n",
       "a5    C2\n",
       "a6    C1\n",
       "a7    C1\n",
       "dtype: object"
      ]
     },
     "execution_count": 3,
     "metadata": {},
     "output_type": "execute_result"
    }
   ],
   "source": [
    "assignments"
   ]
  },
  {
   "cell_type": "code",
   "execution_count": 4,
   "metadata": {},
   "outputs": [
    {
     "data": {
      "text/html": [
       "<div>\n",
       "<style scoped>\n",
       "    .dataframe tbody tr th:only-of-type {\n",
       "        vertical-align: middle;\n",
       "    }\n",
       "\n",
       "    .dataframe tbody tr th {\n",
       "        vertical-align: top;\n",
       "    }\n",
       "\n",
       "    .dataframe thead th {\n",
       "        text-align: right;\n",
       "    }\n",
       "</style>\n",
       "<table border=\"1\" class=\"dataframe\">\n",
       "  <thead>\n",
       "    <tr style=\"text-align: right;\">\n",
       "      <th></th>\n",
       "      <th>c1</th>\n",
       "      <th>c2</th>\n",
       "      <th>c3</th>\n",
       "    </tr>\n",
       "  </thead>\n",
       "  <tbody>\n",
       "    <tr>\n",
       "      <th>C1</th>\n",
       "      <td>14.2</td>\n",
       "      <td>70.8</td>\n",
       "      <td>18.6</td>\n",
       "    </tr>\n",
       "    <tr>\n",
       "      <th>C2</th>\n",
       "      <td>17.5</td>\n",
       "      <td>59.5</td>\n",
       "      <td>24.0</td>\n",
       "    </tr>\n",
       "  </tbody>\n",
       "</table>\n",
       "</div>"
      ],
      "text/plain": [
       "      c1    c2    c3\n",
       "C1  14.2  70.8  18.6\n",
       "C2  17.5  59.5  24.0"
      ]
     },
     "execution_count": 4,
     "metadata": {},
     "output_type": "execute_result"
    }
   ],
   "source": [
    "central_profiles"
   ]
  },
  {
   "cell_type": "code",
   "execution_count": 5,
   "metadata": {},
   "outputs": [
    {
     "data": {
      "text/plain": [
       "1.4285714285714286"
      ]
     },
     "execution_count": 5,
     "metadata": {},
     "output_type": "execute_result"
    }
   ],
   "source": [
    "global_quality_index"
   ]
  },
  {
   "cell_type": "markdown",
   "metadata": {},
   "source": [
    "#### n_categories = 3"
   ]
  },
  {
   "cell_type": "code",
   "execution_count": 6,
   "metadata": {},
   "outputs": [],
   "source": [
    "assignments, central_profiles, global_quality_index = cluster_using_interval_p2clust(alternatives_performances,\n",
    "                                                                                    preference_thresholds,\n",
    "                                                                                    indifference_thresholds,\n",
    "                                                                                    standard_deviations,\n",
    "                                                                                    generalised_criteria,\n",
    "                                                                                    criteria_directions,\n",
    "                                                                                    criteria_weights,\n",
    "                                                                                    n_categories=3)"
   ]
  },
  {
   "cell_type": "code",
   "execution_count": 7,
   "metadata": {},
   "outputs": [
    {
     "data": {
      "text/plain": [
       "a1    C2\n",
       "a2    C1\n",
       "a3    C2\n",
       "a4    C3\n",
       "a5    C3\n",
       "a6    C2\n",
       "a7    C2\n",
       "dtype: object"
      ]
     },
     "execution_count": 7,
     "metadata": {},
     "output_type": "execute_result"
    }
   ],
   "source": [
    "assignments"
   ]
  },
  {
   "cell_type": "code",
   "execution_count": 8,
   "metadata": {},
   "outputs": [
    {
     "data": {
      "text/html": [
       "<div>\n",
       "<style scoped>\n",
       "    .dataframe tbody tr th:only-of-type {\n",
       "        vertical-align: middle;\n",
       "    }\n",
       "\n",
       "    .dataframe tbody tr th {\n",
       "        vertical-align: top;\n",
       "    }\n",
       "\n",
       "    .dataframe thead th {\n",
       "        text-align: right;\n",
       "    }\n",
       "</style>\n",
       "<table border=\"1\" class=\"dataframe\">\n",
       "  <thead>\n",
       "    <tr style=\"text-align: right;\">\n",
       "      <th></th>\n",
       "      <th>c1</th>\n",
       "      <th>c2</th>\n",
       "      <th>c3</th>\n",
       "    </tr>\n",
       "  </thead>\n",
       "  <tbody>\n",
       "    <tr>\n",
       "      <th>C1</th>\n",
       "      <td>10.00</td>\n",
       "      <td>90.0</td>\n",
       "      <td>15.0</td>\n",
       "    </tr>\n",
       "    <tr>\n",
       "      <th>C2</th>\n",
       "      <td>15.25</td>\n",
       "      <td>66.0</td>\n",
       "      <td>19.5</td>\n",
       "    </tr>\n",
       "    <tr>\n",
       "      <th>C3</th>\n",
       "      <td>17.50</td>\n",
       "      <td>59.5</td>\n",
       "      <td>24.0</td>\n",
       "    </tr>\n",
       "  </tbody>\n",
       "</table>\n",
       "</div>"
      ],
      "text/plain": [
       "       c1    c2    c3\n",
       "C1  10.00  90.0  15.0\n",
       "C2  15.25  66.0  19.5\n",
       "C3  17.50  59.5  24.0"
      ]
     },
     "execution_count": 8,
     "metadata": {},
     "output_type": "execute_result"
    }
   ],
   "source": [
    "central_profiles"
   ]
  },
  {
   "cell_type": "code",
   "execution_count": 9,
   "metadata": {},
   "outputs": [
    {
     "data": {
      "text/plain": [
       "1.066921606118547"
      ]
     },
     "execution_count": 9,
     "metadata": {},
     "output_type": "execute_result"
    }
   ],
   "source": [
    "global_quality_index"
   ]
  },
  {
   "cell_type": "markdown",
   "metadata": {},
   "source": [
    "As you can see, for this example, the best number of clusters is 2"
   ]
  },
  {
   "cell_type": "markdown",
   "metadata": {},
   "source": [
    "### Change max_iteration parameter\n",
    "This parameter is useful for large data sets with many alternatives. For this example, it may look grotesque."
   ]
  },
  {
   "cell_type": "code",
   "execution_count": 33,
   "metadata": {},
   "outputs": [],
   "source": [
    "assignments, central_profiles, global_quality_index = cluster_using_interval_p2clust(alternatives_performances,\n",
    "                                                                                    preference_thresholds,\n",
    "                                                                                    indifference_thresholds,\n",
    "                                                                                    standard_deviations,\n",
    "                                                                                    generalised_criteria,\n",
    "                                                                                    criteria_directions,\n",
    "                                                                                    criteria_weights,\n",
    "                                                                                    n_categories=2,\n",
    "                                                                                    max_iterations=1)"
   ]
  },
  {
   "cell_type": "code",
   "execution_count": 34,
   "metadata": {},
   "outputs": [
    {
     "data": {
      "text/plain": [
       "a1      C1\n",
       "a2      C1\n",
       "a3      C1\n",
       "a4      C2\n",
       "a5      C2\n",
       "a6    C1C2\n",
       "a7      C1\n",
       "dtype: object"
      ]
     },
     "execution_count": 34,
     "metadata": {},
     "output_type": "execute_result"
    }
   ],
   "source": [
    "assignments"
   ]
  },
  {
   "cell_type": "code",
   "execution_count": 36,
   "metadata": {},
   "outputs": [
    {
     "data": {
      "text/html": [
       "<div>\n",
       "<style scoped>\n",
       "    .dataframe tbody tr th:only-of-type {\n",
       "        vertical-align: middle;\n",
       "    }\n",
       "\n",
       "    .dataframe tbody tr th {\n",
       "        vertical-align: top;\n",
       "    }\n",
       "\n",
       "    .dataframe thead th {\n",
       "        text-align: right;\n",
       "    }\n",
       "</style>\n",
       "<table border=\"1\" class=\"dataframe\">\n",
       "  <thead>\n",
       "    <tr style=\"text-align: right;\">\n",
       "      <th></th>\n",
       "      <th>c1</th>\n",
       "      <th>c2</th>\n",
       "      <th>c3</th>\n",
       "    </tr>\n",
       "  </thead>\n",
       "  <tbody>\n",
       "    <tr>\n",
       "      <th>C1</th>\n",
       "      <td>12.25</td>\n",
       "      <td>77.5</td>\n",
       "      <td>19.5</td>\n",
       "    </tr>\n",
       "    <tr>\n",
       "      <th>C2</th>\n",
       "      <td>17.50</td>\n",
       "      <td>59.5</td>\n",
       "      <td>24.0</td>\n",
       "    </tr>\n",
       "  </tbody>\n",
       "</table>\n",
       "</div>"
      ],
      "text/plain": [
       "       c1    c2    c3\n",
       "C1  12.25  77.5  19.5\n",
       "C2  17.50  59.5  24.0"
      ]
     },
     "execution_count": 36,
     "metadata": {},
     "output_type": "execute_result"
    }
   ],
   "source": [
    "central_profiles"
   ]
  },
  {
   "cell_type": "code",
   "execution_count": 37,
   "metadata": {},
   "outputs": [
    {
     "data": {
      "text/plain": [
       "1.3454117647058825"
      ]
     },
     "execution_count": 37,
     "metadata": {},
     "output_type": "execute_result"
    }
   ],
   "source": [
    "global_quality_index"
   ]
  }
 ],
 "metadata": {
  "kernelspec": {
   "display_name": "Python 3 (ipykernel)",
   "language": "python",
   "name": "python3"
  },
  "language_info": {
   "codemirror_mode": {
    "name": "ipython",
    "version": 3
   },
   "file_extension": ".py",
   "mimetype": "text/x-python",
   "name": "python",
   "nbconvert_exporter": "python",
   "pygments_lexer": "ipython3",
   "version": "3.9.11"
  }
 },
 "nbformat": 4,
 "nbformat_minor": 1
}