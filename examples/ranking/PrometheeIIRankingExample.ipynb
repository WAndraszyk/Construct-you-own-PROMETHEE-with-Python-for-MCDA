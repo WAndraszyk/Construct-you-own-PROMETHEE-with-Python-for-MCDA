{
 "cells": [
  {
   "cell_type": "markdown",
   "id": "1f436a07",
   "metadata": {},
   "source": [
    "# Promethee II Ranking"
   ]
  },
  {
   "cell_type": "markdown",
   "id": "5b0b6c23",
   "metadata": {},
   "source": [
    "This module shows an example of how to use the \"Promethee II Ranking\" module"
   ]
  },
  {
   "cell_type": "markdown",
   "id": "2d918a22",
   "metadata": {},
   "source": [
    "## Definition of inputs"
   ]
  },
  {
   "cell_type": "code",
   "execution_count": 1,
   "id": "0e8c1c3a",
   "metadata": {},
   "outputs": [],
   "source": [
    "import pandas as pd\n",
    "import sys\n",
    "\n",
    "sys.path.append('../..')\n",
    "from modular_parts.ranking import calculate_promethee_ii_ranking"
   ]
  },
  {
   "cell_type": "markdown",
   "id": "58fa9ef7",
   "metadata": {},
   "source": [
    "## Problem formalization"
   ]
  },
  {
   "cell_type": "code",
   "execution_count": 2,
   "id": "16b57223",
   "metadata": {},
   "outputs": [],
   "source": [
    "alternatives = ['a1', 'a2', 'a3', 'a4', 'a5', 'a6']"
   ]
  },
  {
   "cell_type": "code",
   "execution_count": 3,
   "id": "7eeec1db",
   "metadata": {},
   "outputs": [],
   "source": [
    "net_flows = pd.DataFrame({'positive': [0.04151, 0.12188, 0.46870, 0.60934, 0.21058, 0.33652],\n",
    "                                 'negative': [0.69889, 0.22204, 0.22227, 0.15025, 0.18933, 0.39276],\n",
    "                                 'net': [-0.65738, -0.10016, 0.24643, 0.45909, 0.02125, -0.05624]}, index=alternatives)\n"
   ]
  },
  {
   "cell_type": "markdown",
   "id": "8ac1d384",
   "metadata": {},
   "source": [
    "## Promethee II Ranking"
   ]
  },
  {
   "cell_type": "code",
   "execution_count": 4,
   "outputs": [
    {
     "data": {
      "text/plain": "1    a4\n2    a3\n3    a5\n4    a6\n5    a2\n6    a1\nName: ranking, dtype: object"
     },
     "execution_count": 4,
     "metadata": {},
     "output_type": "execute_result"
    }
   ],
   "source": [
    "promethee_rank = calculate_promethee_ii_ranking(net_flows)\n",
    "promethee_rank"
   ],
   "metadata": {
    "collapsed": false
   }
  }
 ],
 "metadata": {
  "kernelspec": {
   "display_name": "Python 3 (ipykernel)",
   "language": "python",
   "name": "python3"
  },
  "language_info": {
   "codemirror_mode": {
    "name": "ipython",
    "version": 3
   },
   "file_extension": ".py",
   "mimetype": "text/x-python",
   "name": "python",
   "nbconvert_exporter": "python",
   "pygments_lexer": "ipython3",
   "version": "3.11.0"
  }
 },
 "nbformat": 4,
 "nbformat_minor": 5
}
