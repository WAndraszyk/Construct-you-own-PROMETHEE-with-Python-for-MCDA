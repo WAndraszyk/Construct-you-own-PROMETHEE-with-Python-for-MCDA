{
 "cells": [
  {
   "cell_type": "markdown",
   "metadata": {
    "collapsed": true
   },
   "source": [
    "# Net Flow Score Iterative\n",
    "This module shows an example of how to use the \"Net Flow Score Iterative\" module."
   ]
  },
  {
   "cell_type": "markdown",
   "metadata": {},
   "source": [
    "## Definition of inputs and problem formalization"
   ]
  },
  {
   "cell_type": "code",
   "execution_count": 1,
   "metadata": {},
   "outputs": [],
   "source": [
    "import pandas as pd\n",
    "from modular_parts.preference import compute_preference_indices\n",
    "from modular_parts.ranking import calculate_netflow_score_ranking\n",
    "from core.enums import Direction, GeneralCriterion, ScoringFunction, ScoringFunctionDirection\n",
    "\n",
    "\n",
    "alternatives = [f\"a{i}\" for i in range(1, 8)]\n",
    "profiles = [f\"p{i}\" for i in range(1, 4)]\n",
    "criteria = [f\"c{i}\" for i in range(1, 4)]\n",
    "criteria_directions = pd.Series([Direction.MAX, Direction.MIN, Direction.MAX], index=criteria)\n",
    "criteria_weights = pd.Series([0.3, 0.2, 0.5], index=criteria)\n",
    "generalised_criteria = pd.Series([GeneralCriterion.U_SHAPE,\n",
    "                                  GeneralCriterion.V_SHAPE_INDIFFERENCE,\n",
    "                                  GeneralCriterion.USUAL], index=criteria)\n",
    "preference_thresholds = pd.Series([2, 10, None], index=criteria)\n",
    "indifference_thresholds = pd.Series([1, 5, None], index=criteria)\n",
    "standard_deviations = pd.Series([None, None, None], index=criteria) # None, because we do not use GeneraCriterion.GAUSSIAN\n",
    "\n",
    "alternatives_performances = pd.DataFrame([[15, 83, 21],\n",
    "                                          [10, 90, 15],\n",
    "                                          [11, 75, 20],\n",
    "                                          [18, 59, 20],\n",
    "                                          [17, 60, 28],\n",
    "                                          [22, 44, 15],\n",
    "                                          [13, 62, 22]], index=alternatives, columns=criteria)"
   ]
  },
  {
   "cell_type": "markdown",
   "metadata": {},
   "source": [
    "## Required preferences"
   ]
  },
  {
   "cell_type": "code",
   "execution_count": 2,
   "metadata": {},
   "outputs": [],
   "source": [
    "aggregated_alternatives_preferences, _ = compute_preference_indices(alternatives_performances,\n",
    "                                                                    preference_thresholds,\n",
    "                                                                    indifference_thresholds,\n",
    "                                                                    standard_deviations,\n",
    "                                                                    generalised_criteria,\n",
    "                                                                    criteria_directions,\n",
    "                                                                    criteria_weights)"
   ]
  },
  {
   "cell_type": "code",
   "execution_count": 3,
   "metadata": {},
   "outputs": [
    {
     "data": {
      "text/html": [
       "<div>\n",
       "<style scoped>\n",
       "    .dataframe tbody tr th:only-of-type {\n",
       "        vertical-align: middle;\n",
       "    }\n",
       "\n",
       "    .dataframe tbody tr th {\n",
       "        vertical-align: top;\n",
       "    }\n",
       "\n",
       "    .dataframe thead th {\n",
       "        text-align: right;\n",
       "    }\n",
       "</style>\n",
       "<table border=\"1\" class=\"dataframe\">\n",
       "  <thead>\n",
       "    <tr style=\"text-align: right;\">\n",
       "      <th></th>\n",
       "      <th>a1</th>\n",
       "      <th>a2</th>\n",
       "      <th>a3</th>\n",
       "      <th>a4</th>\n",
       "      <th>a5</th>\n",
       "      <th>a6</th>\n",
       "      <th>a7</th>\n",
       "    </tr>\n",
       "  </thead>\n",
       "  <tbody>\n",
       "    <tr>\n",
       "      <th>a1</th>\n",
       "      <td>0.00</td>\n",
       "      <td>0.88</td>\n",
       "      <td>0.8</td>\n",
       "      <td>0.5</td>\n",
       "      <td>0.0</td>\n",
       "      <td>0.5</td>\n",
       "      <td>0.3</td>\n",
       "    </tr>\n",
       "    <tr>\n",
       "      <th>a2</th>\n",
       "      <td>0.00</td>\n",
       "      <td>0.00</td>\n",
       "      <td>0.0</td>\n",
       "      <td>0.0</td>\n",
       "      <td>0.0</td>\n",
       "      <td>0.0</td>\n",
       "      <td>0.0</td>\n",
       "    </tr>\n",
       "    <tr>\n",
       "      <th>a3</th>\n",
       "      <td>0.12</td>\n",
       "      <td>0.70</td>\n",
       "      <td>0.0</td>\n",
       "      <td>0.0</td>\n",
       "      <td>0.0</td>\n",
       "      <td>0.5</td>\n",
       "      <td>0.0</td>\n",
       "    </tr>\n",
       "    <tr>\n",
       "      <th>a4</th>\n",
       "      <td>0.50</td>\n",
       "      <td>1.00</td>\n",
       "      <td>0.5</td>\n",
       "      <td>0.0</td>\n",
       "      <td>0.0</td>\n",
       "      <td>0.5</td>\n",
       "      <td>0.3</td>\n",
       "    </tr>\n",
       "    <tr>\n",
       "      <th>a5</th>\n",
       "      <td>1.00</td>\n",
       "      <td>1.00</td>\n",
       "      <td>1.0</td>\n",
       "      <td>0.5</td>\n",
       "      <td>0.0</td>\n",
       "      <td>0.5</td>\n",
       "      <td>0.8</td>\n",
       "    </tr>\n",
       "    <tr>\n",
       "      <th>a6</th>\n",
       "      <td>0.50</td>\n",
       "      <td>0.50</td>\n",
       "      <td>0.5</td>\n",
       "      <td>0.5</td>\n",
       "      <td>0.5</td>\n",
       "      <td>0.0</td>\n",
       "      <td>0.5</td>\n",
       "    </tr>\n",
       "    <tr>\n",
       "      <th>a7</th>\n",
       "      <td>0.70</td>\n",
       "      <td>1.00</td>\n",
       "      <td>1.0</td>\n",
       "      <td>0.5</td>\n",
       "      <td>0.0</td>\n",
       "      <td>0.5</td>\n",
       "      <td>0.0</td>\n",
       "    </tr>\n",
       "  </tbody>\n",
       "</table>\n",
       "</div>"
      ],
      "text/plain": [
       "      a1    a2   a3   a4   a5   a6   a7\n",
       "a1  0.00  0.88  0.8  0.5  0.0  0.5  0.3\n",
       "a2  0.00  0.00  0.0  0.0  0.0  0.0  0.0\n",
       "a3  0.12  0.70  0.0  0.0  0.0  0.5  0.0\n",
       "a4  0.50  1.00  0.5  0.0  0.0  0.5  0.3\n",
       "a5  1.00  1.00  1.0  0.5  0.0  0.5  0.8\n",
       "a6  0.50  0.50  0.5  0.5  0.5  0.0  0.5\n",
       "a7  0.70  1.00  1.0  0.5  0.0  0.5  0.0"
      ]
     },
     "execution_count": 3,
     "metadata": {},
     "output_type": "execute_result"
    }
   ],
   "source": [
    "aggregated_alternatives_preferences"
   ]
  },
  {
   "cell_type": "markdown",
   "metadata": {},
   "source": [
    "## Usage of Net Flow Score Iterative"
   ]
  },
  {
   "cell_type": "markdown",
   "metadata": {},
   "source": [
    "### ScoringFunction = MAX"
   ]
  },
  {
   "cell_type": "code",
   "execution_count": 4,
   "metadata": {},
   "outputs": [
    {
     "data": {
      "text/plain": [
       "a1    0.88\n",
       "a5    0.80\n",
       "a3    0.70\n",
       "a6    0.50\n",
       "a7    0.50\n",
       "a4    0.30\n",
       "a2    0.00\n",
       "dtype: float64"
      ]
     },
     "execution_count": 4,
     "metadata": {},
     "output_type": "execute_result"
    }
   ],
   "source": [
    "net_flow_score_ranking = calculate_netflow_score_ranking(aggregated_alternatives_preferences,\n",
    "                                                         function=ScoringFunction.MAX,\n",
    "                                                         direction=ScoringFunctionDirection.IN_FAVOR)\n",
    "net_flow_score_ranking"
   ]
  },
  {
   "cell_type": "code",
   "execution_count": 5,
   "metadata": {},
   "outputs": [
    {
     "data": {
      "text/plain": [
       "a1   -0.12\n",
       "a4   -0.50\n",
       "a5   -0.50\n",
       "a6   -0.50\n",
       "a3   -0.80\n",
       "a7   -0.80\n",
       "a2   -0.88\n",
       "dtype: float64"
      ]
     },
     "execution_count": 5,
     "metadata": {},
     "output_type": "execute_result"
    }
   ],
   "source": [
    "net_flow_score_ranking = calculate_netflow_score_ranking(aggregated_alternatives_preferences,\n",
    "                                                         function=ScoringFunction.MAX,\n",
    "                                                         direction=ScoringFunctionDirection.AGAINST)\n",
    "net_flow_score_ranking"
   ]
  },
  {
   "cell_type": "code",
   "execution_count": 6,
   "metadata": {},
   "outputs": [
    {
     "data": {
      "text/plain": [
       "a1    0.88\n",
       "a5    0.80\n",
       "a3    0.70\n",
       "a6    0.50\n",
       "a7    0.20\n",
       "a4   -0.20\n",
       "a2   -0.50\n",
       "dtype: float64"
      ]
     },
     "execution_count": 6,
     "metadata": {},
     "output_type": "execute_result"
    }
   ],
   "source": [
    "net_flow_score_ranking = calculate_netflow_score_ranking(aggregated_alternatives_preferences,\n",
    "                                                         function=ScoringFunction.MAX,\n",
    "                                                         direction=ScoringFunctionDirection.DIFFERENCE)\n",
    "net_flow_score_ranking"
   ]
  },
  {
   "cell_type": "markdown",
   "metadata": {},
   "source": [
    "### ScoringFunction = MIN"
   ]
  },
  {
   "cell_type": "code",
   "execution_count": 7,
   "metadata": {},
   "outputs": [
    {
     "data": {
      "text/plain": [
       "a5    0.5\n",
       "a6    0.5\n",
       "a1    0.3\n",
       "a4    0.3\n",
       "a2    0.0\n",
       "a3    0.0\n",
       "a7    0.0\n",
       "dtype: float64"
      ]
     },
     "execution_count": 7,
     "metadata": {},
     "output_type": "execute_result"
    }
   ],
   "source": [
    "net_flow_score_ranking = calculate_netflow_score_ranking(aggregated_alternatives_preferences,\n",
    "                                                         function=ScoringFunction.MIN,\n",
    "                                                         direction=ScoringFunctionDirection.IN_FAVOR)\n",
    "net_flow_score_ranking"
   ]
  },
  {
   "cell_type": "code",
   "execution_count": 8,
   "metadata": {},
   "outputs": [
    {
     "data": {
      "text/plain": [
       "a4   -0.00\n",
       "a5   -0.00\n",
       "a7   -0.00\n",
       "a1   -0.12\n",
       "a2   -0.50\n",
       "a3   -0.50\n",
       "a6   -0.50\n",
       "dtype: float64"
      ]
     },
     "execution_count": 8,
     "metadata": {},
     "output_type": "execute_result"
    }
   ],
   "source": [
    "net_flow_score_ranking = calculate_netflow_score_ranking(aggregated_alternatives_preferences,\n",
    "                                                         function=ScoringFunction.MIN,\n",
    "                                                         direction=ScoringFunctionDirection.AGAINST)\n",
    "net_flow_score_ranking"
   ]
  },
  {
   "cell_type": "code",
   "execution_count": 9,
   "metadata": {},
   "outputs": [
    {
     "data": {
      "text/plain": [
       "a1    0.68\n",
       "a5    0.00\n",
       "a6    0.00\n",
       "a4   -0.50\n",
       "a3   -0.68\n",
       "a7   -0.80\n",
       "a2   -0.88\n",
       "dtype: float64"
      ]
     },
     "execution_count": 9,
     "metadata": {},
     "output_type": "execute_result"
    }
   ],
   "source": [
    "net_flow_score_ranking = calculate_netflow_score_ranking(aggregated_alternatives_preferences,\n",
    "                                                         function=ScoringFunction.MIN,\n",
    "                                                         direction=ScoringFunctionDirection.DIFFERENCE)\n",
    "net_flow_score_ranking"
   ]
  },
  {
   "cell_type": "markdown",
   "metadata": {},
   "source": [
    "### ScoringFunction = SUM"
   ]
  },
  {
   "cell_type": "code",
   "execution_count": 10,
   "metadata": {},
   "outputs": [
    {
     "data": {
      "text/plain": [
       "a5    4.80\n",
       "a7    3.70\n",
       "a6    3.00\n",
       "a1    2.98\n",
       "a4    2.80\n",
       "a3    1.32\n",
       "a2    0.00\n",
       "dtype: float64"
      ]
     },
     "execution_count": 10,
     "metadata": {},
     "output_type": "execute_result"
    }
   ],
   "source": [
    "net_flow_score_ranking = calculate_netflow_score_ranking(aggregated_alternatives_preferences,\n",
    "                                                         function=ScoringFunction.SUM,\n",
    "                                                         direction=ScoringFunctionDirection.IN_FAVOR)\n",
    "net_flow_score_ranking"
   ]
  },
  {
   "cell_type": "code",
   "execution_count": 11,
   "metadata": {},
   "outputs": [
    {
     "data": {
      "text/plain": [
       "a5   -0.50\n",
       "a7   -1.90\n",
       "a4   -2.00\n",
       "a6   -2.50\n",
       "a1   -2.82\n",
       "a3   -3.80\n",
       "a2   -5.08\n",
       "dtype: float64"
      ]
     },
     "execution_count": 11,
     "metadata": {},
     "output_type": "execute_result"
    }
   ],
   "source": [
    "net_flow_score_ranking = calculate_netflow_score_ranking(aggregated_alternatives_preferences,\n",
    "                                                         function=ScoringFunction.SUM,\n",
    "                                                         direction=ScoringFunctionDirection.AGAINST)\n",
    "net_flow_score_ranking"
   ]
  },
  {
   "cell_type": "code",
   "execution_count": 12,
   "metadata": {},
   "outputs": [
    {
     "data": {
      "text/plain": [
       "a5    4.30\n",
       "a7    1.80\n",
       "a4    0.80\n",
       "a6    0.50\n",
       "a1    0.16\n",
       "a3   -2.48\n",
       "a2   -5.08\n",
       "dtype: float64"
      ]
     },
     "execution_count": 12,
     "metadata": {},
     "output_type": "execute_result"
    }
   ],
   "source": [
    "net_flow_score_ranking = calculate_netflow_score_ranking(aggregated_alternatives_preferences,\n",
    "                                                         function=ScoringFunction.SUM,\n",
    "                                                         direction=ScoringFunctionDirection.DIFFERENCE)\n",
    "net_flow_score_ranking"
   ]
  }
 ],
 "metadata": {
  "kernelspec": {
   "display_name": "Python 3 (ipykernel)",
   "language": "python",
   "name": "python3"
  },
  "language_info": {
   "codemirror_mode": {
    "name": "ipython",
    "version": 3
   },
   "file_extension": ".py",
   "mimetype": "text/x-python",
   "name": "python",
   "nbconvert_exporter": "python",
   "pygments_lexer": "ipython3",
   "version": "3.9.11"
  }
 },
 "nbformat": 4,
 "nbformat_minor": 1
}
