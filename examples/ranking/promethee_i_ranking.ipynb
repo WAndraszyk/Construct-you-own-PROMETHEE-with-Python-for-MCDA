{
 "cells": [
  {
   "cell_type": "markdown",
   "id": "1f436a07",
   "metadata": {},
   "source": [
    "# Promethee I Ranking"
   ]
  },
  {
   "cell_type": "markdown",
   "id": "5b0b6c23",
   "metadata": {},
   "source": [
    "This module shows an example of how to use the \"Promethee I Ranking\" module"
   ]
  },
  {
   "cell_type": "code",
   "execution_count": 1,
   "id": "f25c0032",
   "metadata": {},
   "outputs": [],
   "source": [
    "%config Completer.use_jedi = False"
   ]
  },
  {
   "cell_type": "markdown",
   "id": "be574b47",
   "metadata": {},
   "source": [
    "## Definition of inputs and problem formalization"
   ]
  },
  {
   "cell_type": "code",
   "execution_count": 2,
   "id": "47228a54",
   "metadata": {},
   "outputs": [],
   "source": [
    "import pandas as pd\n",
    "from modular_parts.M3_PrometheePreference import compute_preference_indices\n",
    "from modular_parts.M8_PrometheeOutrankingFlows import calculate_promethee_outranking_flows\n",
    "from modular_parts.M14_PrometheeIRanking import calculate_prometheeI_ranking\n",
    "from core.enums import Direction, GeneralCriterion, FlowType\n",
    "\n",
    "\n",
    "alternatives = [f\"a{i}\" for i in range(1, 9)]\n",
    "profiles = [f\"p{i}\" for i in range(1, 4)]\n",
    "criteria = [f\"c{i}\" for i in range(1, 4)]\n",
    "criteria_directions = pd.Series([Direction.MAX, Direction.MIN, Direction.MAX], index=criteria)\n",
    "criteria_weights = pd.Series([0.3, 0.2, 0.5], index=criteria)\n",
    "generalised_criteria = pd.Series([GeneralCriterion.U_SHAPE,\n",
    "                                  GeneralCriterion.V_SHAPE_INDIFFERENCE,\n",
    "                                  GeneralCriterion.USUAL], index=criteria)\n",
    "preference_thresholds = pd.Series([2, 10, None], index=criteria)\n",
    "indifference_thresholds = pd.Series([1, 5, None], index=criteria)\n",
    "standard_deviations = pd.Series([None, None, None], index=criteria) # None, because we do not use GeneralCriterion.GAUSSIAN\n",
    "\n",
    "alternatives_performances = pd.DataFrame([[15, 83, 21],\n",
    "                                          [10, 90, 15],\n",
    "                                          [11, 75, 20],\n",
    "                                          [18, 59, 20],\n",
    "                                          [17, 60, 28],\n",
    "                                          [22, 44, 15],\n",
    "                                          [13, 62, 22],\n",
    "                                          [10, 75, 20]], index=alternatives, columns=criteria)"
   ]
  },
  {
   "cell_type": "markdown",
   "id": "632200d3",
   "metadata": {},
   "source": [
    "## Required data"
   ]
  },
  {
   "cell_type": "markdown",
   "id": "3c61a610",
   "metadata": {},
   "source": [
    "### Required prefereces"
   ]
  },
  {
   "cell_type": "code",
   "execution_count": 3,
   "id": "0c8faf0d",
   "metadata": {},
   "outputs": [
    {
     "data": {
      "text/html": [
       "<div>\n",
       "<style scoped>\n",
       "    .dataframe tbody tr th:only-of-type {\n",
       "        vertical-align: middle;\n",
       "    }\n",
       "\n",
       "    .dataframe tbody tr th {\n",
       "        vertical-align: top;\n",
       "    }\n",
       "\n",
       "    .dataframe thead th {\n",
       "        text-align: right;\n",
       "    }\n",
       "</style>\n",
       "<table border=\"1\" class=\"dataframe\">\n",
       "  <thead>\n",
       "    <tr style=\"text-align: right;\">\n",
       "      <th></th>\n",
       "      <th>a1</th>\n",
       "      <th>a2</th>\n",
       "      <th>a3</th>\n",
       "      <th>a4</th>\n",
       "      <th>a5</th>\n",
       "      <th>a6</th>\n",
       "      <th>a7</th>\n",
       "      <th>a8</th>\n",
       "    </tr>\n",
       "  </thead>\n",
       "  <tbody>\n",
       "    <tr>\n",
       "      <th>a1</th>\n",
       "      <td>0.00</td>\n",
       "      <td>0.88</td>\n",
       "      <td>0.8</td>\n",
       "      <td>0.5</td>\n",
       "      <td>0.0</td>\n",
       "      <td>0.5</td>\n",
       "      <td>0.3</td>\n",
       "      <td>0.8</td>\n",
       "    </tr>\n",
       "    <tr>\n",
       "      <th>a2</th>\n",
       "      <td>0.00</td>\n",
       "      <td>0.00</td>\n",
       "      <td>0.0</td>\n",
       "      <td>0.0</td>\n",
       "      <td>0.0</td>\n",
       "      <td>0.0</td>\n",
       "      <td>0.0</td>\n",
       "      <td>0.0</td>\n",
       "    </tr>\n",
       "    <tr>\n",
       "      <th>a3</th>\n",
       "      <td>0.12</td>\n",
       "      <td>0.70</td>\n",
       "      <td>0.0</td>\n",
       "      <td>0.0</td>\n",
       "      <td>0.0</td>\n",
       "      <td>0.5</td>\n",
       "      <td>0.0</td>\n",
       "      <td>0.0</td>\n",
       "    </tr>\n",
       "    <tr>\n",
       "      <th>a4</th>\n",
       "      <td>0.50</td>\n",
       "      <td>1.00</td>\n",
       "      <td>0.5</td>\n",
       "      <td>0.0</td>\n",
       "      <td>0.0</td>\n",
       "      <td>0.5</td>\n",
       "      <td>0.3</td>\n",
       "      <td>0.5</td>\n",
       "    </tr>\n",
       "    <tr>\n",
       "      <th>a5</th>\n",
       "      <td>1.00</td>\n",
       "      <td>1.00</td>\n",
       "      <td>1.0</td>\n",
       "      <td>0.5</td>\n",
       "      <td>0.0</td>\n",
       "      <td>0.5</td>\n",
       "      <td>0.8</td>\n",
       "      <td>1.0</td>\n",
       "    </tr>\n",
       "    <tr>\n",
       "      <th>a6</th>\n",
       "      <td>0.50</td>\n",
       "      <td>0.50</td>\n",
       "      <td>0.5</td>\n",
       "      <td>0.5</td>\n",
       "      <td>0.5</td>\n",
       "      <td>0.0</td>\n",
       "      <td>0.5</td>\n",
       "      <td>0.5</td>\n",
       "    </tr>\n",
       "    <tr>\n",
       "      <th>a7</th>\n",
       "      <td>0.70</td>\n",
       "      <td>1.00</td>\n",
       "      <td>1.0</td>\n",
       "      <td>0.5</td>\n",
       "      <td>0.0</td>\n",
       "      <td>0.5</td>\n",
       "      <td>0.0</td>\n",
       "      <td>1.0</td>\n",
       "    </tr>\n",
       "    <tr>\n",
       "      <th>a8</th>\n",
       "      <td>0.12</td>\n",
       "      <td>0.70</td>\n",
       "      <td>0.0</td>\n",
       "      <td>0.0</td>\n",
       "      <td>0.0</td>\n",
       "      <td>0.5</td>\n",
       "      <td>0.0</td>\n",
       "      <td>0.0</td>\n",
       "    </tr>\n",
       "  </tbody>\n",
       "</table>\n",
       "</div>"
      ],
      "text/plain": [
       "      a1    a2   a3   a4   a5   a6   a7   a8\n",
       "a1  0.00  0.88  0.8  0.5  0.0  0.5  0.3  0.8\n",
       "a2  0.00  0.00  0.0  0.0  0.0  0.0  0.0  0.0\n",
       "a3  0.12  0.70  0.0  0.0  0.0  0.5  0.0  0.0\n",
       "a4  0.50  1.00  0.5  0.0  0.0  0.5  0.3  0.5\n",
       "a5  1.00  1.00  1.0  0.5  0.0  0.5  0.8  1.0\n",
       "a6  0.50  0.50  0.5  0.5  0.5  0.0  0.5  0.5\n",
       "a7  0.70  1.00  1.0  0.5  0.0  0.5  0.0  1.0\n",
       "a8  0.12  0.70  0.0  0.0  0.0  0.5  0.0  0.0"
      ]
     },
     "execution_count": 3,
     "metadata": {},
     "output_type": "execute_result"
    }
   ],
   "source": [
    "aggregated_alternatives_vs_alternatives_preferences, _ = compute_preference_indices(alternatives_performances,\n",
    "                                                                                    preference_thresholds,\n",
    "                                                                                    indifference_thresholds,\n",
    "                                                                                    standard_deviations,\n",
    "                                                                                    generalised_criteria,\n",
    "                                                                                    criteria_directions,\n",
    "                                                                                    criteria_weights)\n",
    "aggregated_alternatives_vs_alternatives_preferences"
   ]
  },
  {
   "cell_type": "markdown",
   "id": "5bb129aa",
   "metadata": {},
   "source": [
    "### Required flows"
   ]
  },
  {
   "cell_type": "code",
   "execution_count": 4,
   "id": "fb44fd82",
   "metadata": {},
   "outputs": [
    {
     "data": {
      "text/html": [
       "<div>\n",
       "<style scoped>\n",
       "    .dataframe tbody tr th:only-of-type {\n",
       "        vertical-align: middle;\n",
       "    }\n",
       "\n",
       "    .dataframe tbody tr th {\n",
       "        vertical-align: top;\n",
       "    }\n",
       "\n",
       "    .dataframe thead th {\n",
       "        text-align: right;\n",
       "    }\n",
       "</style>\n",
       "<table border=\"1\" class=\"dataframe\">\n",
       "  <thead>\n",
       "    <tr style=\"text-align: right;\">\n",
       "      <th></th>\n",
       "      <th>positive</th>\n",
       "      <th>negative</th>\n",
       "    </tr>\n",
       "  </thead>\n",
       "  <tbody>\n",
       "    <tr>\n",
       "      <th>a1</th>\n",
       "      <td>0.540000</td>\n",
       "      <td>0.420000</td>\n",
       "    </tr>\n",
       "    <tr>\n",
       "      <th>a2</th>\n",
       "      <td>0.000000</td>\n",
       "      <td>0.825714</td>\n",
       "    </tr>\n",
       "    <tr>\n",
       "      <th>a3</th>\n",
       "      <td>0.188571</td>\n",
       "      <td>0.542857</td>\n",
       "    </tr>\n",
       "    <tr>\n",
       "      <th>a4</th>\n",
       "      <td>0.471429</td>\n",
       "      <td>0.285714</td>\n",
       "    </tr>\n",
       "    <tr>\n",
       "      <th>a5</th>\n",
       "      <td>0.828571</td>\n",
       "      <td>0.071429</td>\n",
       "    </tr>\n",
       "    <tr>\n",
       "      <th>a6</th>\n",
       "      <td>0.500000</td>\n",
       "      <td>0.428571</td>\n",
       "    </tr>\n",
       "    <tr>\n",
       "      <th>a7</th>\n",
       "      <td>0.671429</td>\n",
       "      <td>0.271429</td>\n",
       "    </tr>\n",
       "    <tr>\n",
       "      <th>a8</th>\n",
       "      <td>0.188571</td>\n",
       "      <td>0.542857</td>\n",
       "    </tr>\n",
       "  </tbody>\n",
       "</table>\n",
       "</div>"
      ],
      "text/plain": [
       "    positive  negative\n",
       "a1  0.540000  0.420000\n",
       "a2  0.000000  0.825714\n",
       "a3  0.188571  0.542857\n",
       "a4  0.471429  0.285714\n",
       "a5  0.828571  0.071429\n",
       "a6  0.500000  0.428571\n",
       "a7  0.671429  0.271429\n",
       "a8  0.188571  0.542857"
      ]
     },
     "execution_count": 4,
     "metadata": {},
     "output_type": "execute_result"
    }
   ],
   "source": [
    "prometheeI_flows = calculate_promethee_outranking_flows(aggregated_alternatives_vs_alternatives_preferences,\n",
    "                                                        flow_type=FlowType.BASIC)\n",
    "prometheeI_flows"
   ]
  },
  {
   "cell_type": "markdown",
   "id": "31398cfd",
   "metadata": {},
   "source": [
    "## Usage of Promethee I Ranking"
   ]
  },
  {
   "cell_type": "markdown",
   "id": "92922a96",
   "metadata": {},
   "source": [
    "### Weak preference"
   ]
  },
  {
   "cell_type": "code",
   "execution_count": 5,
   "id": "2b888e1e",
   "metadata": {},
   "outputs": [
    {
     "data": {
      "text/plain": [
       "[('a1', 'a2', <RelationType.WEAK_PREFERENCE: 4>),\n",
       " ('a1', 'a3', <RelationType.WEAK_PREFERENCE: 4>),\n",
       " ('a1', 'a4', <RelationType.INCOMPARABLE: 3>),\n",
       " ('a1', 'a5', <RelationType.REVERSE_PREFERENCE: 5>),\n",
       " ('a1', 'a6', <RelationType.WEAK_PREFERENCE: 4>),\n",
       " ('a1', 'a7', <RelationType.REVERSE_PREFERENCE: 5>),\n",
       " ('a1', 'a8', <RelationType.WEAK_PREFERENCE: 4>),\n",
       " ('a2', 'a1', <RelationType.REVERSE_PREFERENCE: 5>),\n",
       " ('a2', 'a3', <RelationType.REVERSE_PREFERENCE: 5>),\n",
       " ('a2', 'a4', <RelationType.REVERSE_PREFERENCE: 5>),\n",
       " ('a2', 'a5', <RelationType.REVERSE_PREFERENCE: 5>),\n",
       " ('a2', 'a6', <RelationType.REVERSE_PREFERENCE: 5>),\n",
       " ('a2', 'a7', <RelationType.REVERSE_PREFERENCE: 5>),\n",
       " ('a2', 'a8', <RelationType.REVERSE_PREFERENCE: 5>),\n",
       " ('a3', 'a1', <RelationType.REVERSE_PREFERENCE: 5>),\n",
       " ('a3', 'a2', <RelationType.WEAK_PREFERENCE: 4>),\n",
       " ('a3', 'a4', <RelationType.REVERSE_PREFERENCE: 5>),\n",
       " ('a3', 'a5', <RelationType.REVERSE_PREFERENCE: 5>),\n",
       " ('a3', 'a6', <RelationType.REVERSE_PREFERENCE: 5>),\n",
       " ('a3', 'a7', <RelationType.REVERSE_PREFERENCE: 5>),\n",
       " ('a3', 'a8', <RelationType.WEAK_PREFERENCE: 4>),\n",
       " ('a4', 'a1', <RelationType.INCOMPARABLE: 3>),\n",
       " ('a4', 'a2', <RelationType.WEAK_PREFERENCE: 4>),\n",
       " ('a4', 'a3', <RelationType.WEAK_PREFERENCE: 4>),\n",
       " ('a4', 'a5', <RelationType.REVERSE_PREFERENCE: 5>),\n",
       " ('a4', 'a6', <RelationType.INCOMPARABLE: 3>),\n",
       " ('a4', 'a7', <RelationType.REVERSE_PREFERENCE: 5>),\n",
       " ('a4', 'a8', <RelationType.WEAK_PREFERENCE: 4>),\n",
       " ('a5', 'a1', <RelationType.WEAK_PREFERENCE: 4>),\n",
       " ('a5', 'a2', <RelationType.WEAK_PREFERENCE: 4>),\n",
       " ('a5', 'a3', <RelationType.WEAK_PREFERENCE: 4>),\n",
       " ('a5', 'a4', <RelationType.WEAK_PREFERENCE: 4>),\n",
       " ('a5', 'a6', <RelationType.WEAK_PREFERENCE: 4>),\n",
       " ('a5', 'a7', <RelationType.WEAK_PREFERENCE: 4>),\n",
       " ('a5', 'a8', <RelationType.WEAK_PREFERENCE: 4>),\n",
       " ('a6', 'a1', <RelationType.REVERSE_PREFERENCE: 5>),\n",
       " ('a6', 'a2', <RelationType.WEAK_PREFERENCE: 4>),\n",
       " ('a6', 'a3', <RelationType.WEAK_PREFERENCE: 4>),\n",
       " ('a6', 'a4', <RelationType.INCOMPARABLE: 3>),\n",
       " ('a6', 'a5', <RelationType.REVERSE_PREFERENCE: 5>),\n",
       " ('a6', 'a7', <RelationType.REVERSE_PREFERENCE: 5>),\n",
       " ('a6', 'a8', <RelationType.WEAK_PREFERENCE: 4>),\n",
       " ('a7', 'a1', <RelationType.WEAK_PREFERENCE: 4>),\n",
       " ('a7', 'a2', <RelationType.WEAK_PREFERENCE: 4>),\n",
       " ('a7', 'a3', <RelationType.WEAK_PREFERENCE: 4>),\n",
       " ('a7', 'a4', <RelationType.WEAK_PREFERENCE: 4>),\n",
       " ('a7', 'a5', <RelationType.REVERSE_PREFERENCE: 5>),\n",
       " ('a7', 'a6', <RelationType.WEAK_PREFERENCE: 4>),\n",
       " ('a7', 'a8', <RelationType.WEAK_PREFERENCE: 4>),\n",
       " ('a8', 'a1', <RelationType.REVERSE_PREFERENCE: 5>),\n",
       " ('a8', 'a2', <RelationType.WEAK_PREFERENCE: 4>),\n",
       " ('a8', 'a3', <RelationType.WEAK_PREFERENCE: 4>),\n",
       " ('a8', 'a4', <RelationType.REVERSE_PREFERENCE: 5>),\n",
       " ('a8', 'a5', <RelationType.REVERSE_PREFERENCE: 5>),\n",
       " ('a8', 'a6', <RelationType.REVERSE_PREFERENCE: 5>),\n",
       " ('a8', 'a7', <RelationType.REVERSE_PREFERENCE: 5>)]"
      ]
     },
     "execution_count": 5,
     "metadata": {},
     "output_type": "execute_result"
    }
   ],
   "source": [
    "promethee_I_ranking_weak = calculate_prometheeI_ranking(prometheeI_flows, weak_preference=True)\n",
    "promethee_I_ranking_weak"
   ]
  },
  {
   "cell_type": "markdown",
   "id": "5a0a0f59",
   "metadata": {},
   "source": [
    "### Strong preference"
   ]
  },
  {
   "cell_type": "code",
   "execution_count": 6,
   "id": "2edd8719",
   "metadata": {},
   "outputs": [
    {
     "data": {
      "text/plain": [
       "[('a1', 'a2', <RelationType.PREFERENCE: 1>),\n",
       " ('a1', 'a3', <RelationType.PREFERENCE: 1>),\n",
       " ('a1', 'a4', <RelationType.INCOMPARABLE: 3>),\n",
       " ('a1', 'a5', <RelationType.REVERSE_PREFERENCE: 5>),\n",
       " ('a1', 'a6', <RelationType.PREFERENCE: 1>),\n",
       " ('a1', 'a7', <RelationType.REVERSE_PREFERENCE: 5>),\n",
       " ('a1', 'a8', <RelationType.PREFERENCE: 1>),\n",
       " ('a2', 'a1', <RelationType.REVERSE_PREFERENCE: 5>),\n",
       " ('a2', 'a3', <RelationType.REVERSE_PREFERENCE: 5>),\n",
       " ('a2', 'a4', <RelationType.REVERSE_PREFERENCE: 5>),\n",
       " ('a2', 'a5', <RelationType.REVERSE_PREFERENCE: 5>),\n",
       " ('a2', 'a6', <RelationType.REVERSE_PREFERENCE: 5>),\n",
       " ('a2', 'a7', <RelationType.REVERSE_PREFERENCE: 5>),\n",
       " ('a2', 'a8', <RelationType.REVERSE_PREFERENCE: 5>),\n",
       " ('a3', 'a1', <RelationType.REVERSE_PREFERENCE: 5>),\n",
       " ('a3', 'a2', <RelationType.PREFERENCE: 1>),\n",
       " ('a3', 'a4', <RelationType.REVERSE_PREFERENCE: 5>),\n",
       " ('a3', 'a5', <RelationType.REVERSE_PREFERENCE: 5>),\n",
       " ('a3', 'a6', <RelationType.REVERSE_PREFERENCE: 5>),\n",
       " ('a3', 'a7', <RelationType.REVERSE_PREFERENCE: 5>),\n",
       " ('a3', 'a8', <RelationType.INDIFFERENCE: 2>),\n",
       " ('a4', 'a1', <RelationType.INCOMPARABLE: 3>),\n",
       " ('a4', 'a2', <RelationType.PREFERENCE: 1>),\n",
       " ('a4', 'a3', <RelationType.PREFERENCE: 1>),\n",
       " ('a4', 'a5', <RelationType.REVERSE_PREFERENCE: 5>),\n",
       " ('a4', 'a6', <RelationType.INCOMPARABLE: 3>),\n",
       " ('a4', 'a7', <RelationType.REVERSE_PREFERENCE: 5>),\n",
       " ('a4', 'a8', <RelationType.PREFERENCE: 1>),\n",
       " ('a5', 'a1', <RelationType.PREFERENCE: 1>),\n",
       " ('a5', 'a2', <RelationType.PREFERENCE: 1>),\n",
       " ('a5', 'a3', <RelationType.PREFERENCE: 1>),\n",
       " ('a5', 'a4', <RelationType.PREFERENCE: 1>),\n",
       " ('a5', 'a6', <RelationType.PREFERENCE: 1>),\n",
       " ('a5', 'a7', <RelationType.PREFERENCE: 1>),\n",
       " ('a5', 'a8', <RelationType.PREFERENCE: 1>),\n",
       " ('a6', 'a1', <RelationType.REVERSE_PREFERENCE: 5>),\n",
       " ('a6', 'a2', <RelationType.PREFERENCE: 1>),\n",
       " ('a6', 'a3', <RelationType.PREFERENCE: 1>),\n",
       " ('a6', 'a4', <RelationType.INCOMPARABLE: 3>),\n",
       " ('a6', 'a5', <RelationType.REVERSE_PREFERENCE: 5>),\n",
       " ('a6', 'a7', <RelationType.REVERSE_PREFERENCE: 5>),\n",
       " ('a6', 'a8', <RelationType.PREFERENCE: 1>),\n",
       " ('a7', 'a1', <RelationType.PREFERENCE: 1>),\n",
       " ('a7', 'a2', <RelationType.PREFERENCE: 1>),\n",
       " ('a7', 'a3', <RelationType.PREFERENCE: 1>),\n",
       " ('a7', 'a4', <RelationType.PREFERENCE: 1>),\n",
       " ('a7', 'a5', <RelationType.REVERSE_PREFERENCE: 5>),\n",
       " ('a7', 'a6', <RelationType.PREFERENCE: 1>),\n",
       " ('a7', 'a8', <RelationType.PREFERENCE: 1>),\n",
       " ('a8', 'a1', <RelationType.REVERSE_PREFERENCE: 5>),\n",
       " ('a8', 'a2', <RelationType.PREFERENCE: 1>),\n",
       " ('a8', 'a3', <RelationType.INDIFFERENCE: 2>),\n",
       " ('a8', 'a4', <RelationType.REVERSE_PREFERENCE: 5>),\n",
       " ('a8', 'a5', <RelationType.REVERSE_PREFERENCE: 5>),\n",
       " ('a8', 'a6', <RelationType.REVERSE_PREFERENCE: 5>),\n",
       " ('a8', 'a7', <RelationType.REVERSE_PREFERENCE: 5>)]"
      ]
     },
     "execution_count": 6,
     "metadata": {},
     "output_type": "execute_result"
    }
   ],
   "source": [
    "promethee_I_ranking_strong = calculate_prometheeI_ranking(prometheeI_flows, weak_preference=False)\n",
    "promethee_I_ranking_strong"
   ]
  },
  {
   "cell_type": "markdown",
   "id": "21486251",
   "metadata": {},
   "source": [
    "The additional alternative **a8** differs from **a3** by 1 unit on the criterion **c1**, but since 1 unit of difference on this criterion still means indifference, these alternatives are in an indifference relation. (The result may be more spectacular for examples where the preference and indifference thresholds have higher values)"
   ]
  }
 ],
 "metadata": {
  "kernelspec": {
   "display_name": "Python 3 (ipykernel)",
   "language": "python",
   "name": "python3"
  },
  "language_info": {
   "codemirror_mode": {
    "name": "ipython",
    "version": 3
   },
   "file_extension": ".py",
   "mimetype": "text/x-python",
   "name": "python",
   "nbconvert_exporter": "python",
   "pygments_lexer": "ipython3",
   "version": "3.9.11"
  }
 },
 "nbformat": 4,
 "nbformat_minor": 5
}