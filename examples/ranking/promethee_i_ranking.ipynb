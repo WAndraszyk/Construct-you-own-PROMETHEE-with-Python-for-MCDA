{
 "cells": [
  {
   "cell_type": "markdown",
   "id": "1f436a07",
   "metadata": {},
   "source": [
    "# Promethee I Ranking"
   ]
  },
  {
   "cell_type": "markdown",
   "id": "5b0b6c23",
   "metadata": {},
   "source": [
    "This module shows an example of how to use the \"Promethee I Ranking\" module"
   ]
  },
  {
   "cell_type": "code",
   "execution_count": 1,
   "id": "f25c0032",
   "metadata": {},
   "outputs": [],
   "source": [
    "%config Completer.use_jedi = False"
   ]
  },
  {
   "cell_type": "markdown",
   "id": "2d918a22",
   "metadata": {},
   "source": [
    "## Definition of inputs"
   ]
  },
  {
   "cell_type": "code",
   "execution_count": 2,
   "id": "0e8c1c3a",
   "metadata": {},
   "outputs": [],
   "source": [
    "import pandas as pd\n",
    "import sys\n",
    "sys.path.append('../..')\n",
    "\n",
    "from modular_parts.ranking import calculate_prometheeI_ranking"
   ]
  },
  {
   "cell_type": "markdown",
   "id": "58fa9ef7",
   "metadata": {},
   "source": [
    "## Problem formalization"
   ]
  },
  {
   "cell_type": "code",
   "execution_count": 3,
   "id": "16b57223",
   "metadata": {},
   "outputs": [],
   "source": [
    "alternatives = ['a1', 'a2', 'a3', 'a4', 'a5', 'a6']"
   ]
  },
  {
   "cell_type": "code",
   "execution_count": 4,
   "id": "7eeec1db",
   "metadata": {},
   "outputs": [],
   "source": [
    "outranking_flows = pd.DataFrame({'positive': [0.04151, 0.12188, 0.26870, 0.60934, 0.26058, 0.03652],\n",
    "                                 'negative': [0.49889, 0.22204, 0.08527, 0.05025, 0.08933, 0.39276]}, index=alternatives)"
   ]
  },
  {
   "cell_type": "markdown",
   "id": "8ac1d384",
   "metadata": {},
   "source": [
    "## Promethee I Ranking"
   ]
  },
  {
   "cell_type": "code",
   "execution_count": 5,
   "id": "a3a0ee91",
   "metadata": {},
   "outputs": [
    {
     "data": {
      "text/html": [
       "<div>\n",
       "<style scoped>\n",
       "    .dataframe tbody tr th:only-of-type {\n",
       "        vertical-align: middle;\n",
       "    }\n",
       "\n",
       "    .dataframe tbody tr th {\n",
       "        vertical-align: top;\n",
       "    }\n",
       "\n",
       "    .dataframe thead th {\n",
       "        text-align: right;\n",
       "    }\n",
       "</style>\n",
       "<table border=\"1\" class=\"dataframe\">\n",
       "  <thead>\n",
       "    <tr style=\"text-align: right;\">\n",
       "      <th></th>\n",
       "      <th>a1</th>\n",
       "      <th>a2</th>\n",
       "      <th>a3</th>\n",
       "      <th>a4</th>\n",
       "      <th>a5</th>\n",
       "      <th>a6</th>\n",
       "    </tr>\n",
       "  </thead>\n",
       "  <tbody>\n",
       "    <tr>\n",
       "      <th>a1</th>\n",
       "      <td>None</td>\n",
       "      <td>?</td>\n",
       "      <td>?</td>\n",
       "      <td>?</td>\n",
       "      <td>?</td>\n",
       "      <td>?</td>\n",
       "    </tr>\n",
       "    <tr>\n",
       "      <th>a2</th>\n",
       "      <td>P</td>\n",
       "      <td>None</td>\n",
       "      <td>?</td>\n",
       "      <td>?</td>\n",
       "      <td>?</td>\n",
       "      <td>P</td>\n",
       "    </tr>\n",
       "    <tr>\n",
       "      <th>a3</th>\n",
       "      <td>P</td>\n",
       "      <td>P</td>\n",
       "      <td>None</td>\n",
       "      <td>?</td>\n",
       "      <td>P</td>\n",
       "      <td>P</td>\n",
       "    </tr>\n",
       "    <tr>\n",
       "      <th>a4</th>\n",
       "      <td>P</td>\n",
       "      <td>P</td>\n",
       "      <td>P</td>\n",
       "      <td>None</td>\n",
       "      <td>P</td>\n",
       "      <td>P</td>\n",
       "    </tr>\n",
       "    <tr>\n",
       "      <th>a5</th>\n",
       "      <td>P</td>\n",
       "      <td>P</td>\n",
       "      <td>?</td>\n",
       "      <td>?</td>\n",
       "      <td>None</td>\n",
       "      <td>P</td>\n",
       "    </tr>\n",
       "    <tr>\n",
       "      <th>a6</th>\n",
       "      <td>?</td>\n",
       "      <td>?</td>\n",
       "      <td>?</td>\n",
       "      <td>?</td>\n",
       "      <td>?</td>\n",
       "      <td>None</td>\n",
       "    </tr>\n",
       "  </tbody>\n",
       "</table>\n",
       "</div>"
      ],
      "text/plain": [
       "      a1    a2    a3    a4    a5    a6\n",
       "a1  None     ?     ?     ?     ?     ?\n",
       "a2     P  None     ?     ?     ?     P\n",
       "a3     P     P  None     ?     P     P\n",
       "a4     P     P     P  None     P     P\n",
       "a5     P     P     ?     ?  None     P\n",
       "a6     ?     ?     ?     ?     ?  None"
      ]
     },
     "execution_count": 5,
     "metadata": {},
     "output_type": "execute_result"
    }
   ],
   "source": [
    "promethee_rank = calculate_prometheeI_ranking(outranking_flows, weak_preference=False)\n",
    "promethee_rank"
   ]
  },
  {
   "cell_type": "markdown",
   "id": "73801cba",
   "metadata": {},
   "source": [
    "With weak_preference parameter"
   ]
  },
  {
   "cell_type": "code",
   "execution_count": 6,
   "id": "2852f797",
   "metadata": {},
   "outputs": [
    {
     "data": {
      "text/html": [
       "<div>\n",
       "<style scoped>\n",
       "    .dataframe tbody tr th:only-of-type {\n",
       "        vertical-align: middle;\n",
       "    }\n",
       "\n",
       "    .dataframe tbody tr th {\n",
       "        vertical-align: top;\n",
       "    }\n",
       "\n",
       "    .dataframe thead th {\n",
       "        text-align: right;\n",
       "    }\n",
       "</style>\n",
       "<table border=\"1\" class=\"dataframe\">\n",
       "  <thead>\n",
       "    <tr style=\"text-align: right;\">\n",
       "      <th></th>\n",
       "      <th>a1</th>\n",
       "      <th>a2</th>\n",
       "      <th>a3</th>\n",
       "      <th>a4</th>\n",
       "      <th>a5</th>\n",
       "      <th>a6</th>\n",
       "    </tr>\n",
       "  </thead>\n",
       "  <tbody>\n",
       "    <tr>\n",
       "      <th>a1</th>\n",
       "      <td>None</td>\n",
       "      <td>?</td>\n",
       "      <td>?</td>\n",
       "      <td>?</td>\n",
       "      <td>?</td>\n",
       "      <td>?</td>\n",
       "    </tr>\n",
       "    <tr>\n",
       "      <th>a2</th>\n",
       "      <td>S</td>\n",
       "      <td>None</td>\n",
       "      <td>?</td>\n",
       "      <td>?</td>\n",
       "      <td>?</td>\n",
       "      <td>S</td>\n",
       "    </tr>\n",
       "    <tr>\n",
       "      <th>a3</th>\n",
       "      <td>S</td>\n",
       "      <td>S</td>\n",
       "      <td>None</td>\n",
       "      <td>?</td>\n",
       "      <td>S</td>\n",
       "      <td>S</td>\n",
       "    </tr>\n",
       "    <tr>\n",
       "      <th>a4</th>\n",
       "      <td>S</td>\n",
       "      <td>S</td>\n",
       "      <td>S</td>\n",
       "      <td>None</td>\n",
       "      <td>S</td>\n",
       "      <td>S</td>\n",
       "    </tr>\n",
       "    <tr>\n",
       "      <th>a5</th>\n",
       "      <td>S</td>\n",
       "      <td>S</td>\n",
       "      <td>?</td>\n",
       "      <td>?</td>\n",
       "      <td>None</td>\n",
       "      <td>S</td>\n",
       "    </tr>\n",
       "    <tr>\n",
       "      <th>a6</th>\n",
       "      <td>?</td>\n",
       "      <td>?</td>\n",
       "      <td>?</td>\n",
       "      <td>?</td>\n",
       "      <td>?</td>\n",
       "      <td>None</td>\n",
       "    </tr>\n",
       "  </tbody>\n",
       "</table>\n",
       "</div>"
      ],
      "text/plain": [
       "      a1    a2    a3    a4    a5    a6\n",
       "a1  None     ?     ?     ?     ?     ?\n",
       "a2     S  None     ?     ?     ?     S\n",
       "a3     S     S  None     ?     S     S\n",
       "a4     S     S     S  None     S     S\n",
       "a5     S     S     ?     ?  None     S\n",
       "a6     ?     ?     ?     ?     ?  None"
      ]
     },
     "execution_count": 6,
     "metadata": {},
     "output_type": "execute_result"
    }
   ],
   "source": [
    "promethee_rank2 = calculate_prometheeI_ranking(outranking_flows, weak_preference=True)\n",
    "promethee_rank2"
   ]
  }
 ],
 "metadata": {
  "kernelspec": {
   "display_name": "Python 3 (ipykernel)",
   "language": "python",
   "name": "python3"
  },
  "language_info": {
   "codemirror_mode": {
    "name": "ipython",
    "version": 3
   },
   "file_extension": ".py",
   "mimetype": "text/x-python",
   "name": "python",
   "nbconvert_exporter": "python",
   "pygments_lexer": "ipython3",
   "version": "3.9.11"
  }
 },
 "nbformat": 4,
 "nbformat_minor": 5
}