{
 "cells": [
  {
   "cell_type": "code",
   "execution_count": 6,
   "metadata": {
    "collapsed": true
   },
   "outputs": [
    {
     "data": {
      "text/plain": "    g1  g2  g3  g4  g5\na1  25  65  30  15  65\na2  30  65  30  10  65\na3  50  30  60  55  50\na4  65  20  50  65  45\na5  70  10  15  70  10",
      "text/html": "<div>\n<style scoped>\n    .dataframe tbody tr th:only-of-type {\n        vertical-align: middle;\n    }\n\n    .dataframe tbody tr th {\n        vertical-align: top;\n    }\n\n    .dataframe thead th {\n        text-align: right;\n    }\n</style>\n<table border=\"1\" class=\"dataframe\">\n  <thead>\n    <tr style=\"text-align: right;\">\n      <th></th>\n      <th>g1</th>\n      <th>g2</th>\n      <th>g3</th>\n      <th>g4</th>\n      <th>g5</th>\n    </tr>\n  </thead>\n  <tbody>\n    <tr>\n      <th>a1</th>\n      <td>25</td>\n      <td>65</td>\n      <td>30</td>\n      <td>15</td>\n      <td>65</td>\n    </tr>\n    <tr>\n      <th>a2</th>\n      <td>30</td>\n      <td>65</td>\n      <td>30</td>\n      <td>10</td>\n      <td>65</td>\n    </tr>\n    <tr>\n      <th>a3</th>\n      <td>50</td>\n      <td>30</td>\n      <td>60</td>\n      <td>55</td>\n      <td>50</td>\n    </tr>\n    <tr>\n      <th>a4</th>\n      <td>65</td>\n      <td>20</td>\n      <td>50</td>\n      <td>65</td>\n      <td>45</td>\n    </tr>\n    <tr>\n      <th>a5</th>\n      <td>70</td>\n      <td>10</td>\n      <td>15</td>\n      <td>70</td>\n      <td>10</td>\n    </tr>\n  </tbody>\n</table>\n</div>"
     },
     "execution_count": 6,
     "metadata": {},
     "output_type": "execute_result"
    }
   ],
   "source": [
    "import pandas as pd\n",
    "from core.enums import Direction, GeneralCriterion\n",
    "from modular_parts.preference import compute_preference_indices\n",
    "from  modular_parts.flows import calculate_prometheeI_outranking_flows\n",
    "from modular_parts.ranking import calculate_promethee_iii_ranking\n",
    "\n",
    "alternatives = [f\"a{i}\" for i in range(1, 6)]\n",
    "criteria = [f\"g{i}\" for i in range(1, 6)]\n",
    "\n",
    "criteria_directions = pd.Series([Direction.MAX, Direction.MIN, Direction.MAX,\n",
    "                                 Direction.MAX, Direction.MIN], index=criteria)\n",
    "generalized_criteria = pd.Series([GeneralCriterion.V_SHAPE, GeneralCriterion.U_SHAPE,\n",
    "                                  GeneralCriterion.V_SHAPE_INDIFFERENCE, GeneralCriterion.LEVEL,\n",
    "                                  GeneralCriterion.V_SHAPE_INDIFFERENCE], index=criteria)\n",
    "criteria_weights = pd.Series([0.35, 0.25, 0.18, 0.07, 0.15], index=criteria)\n",
    "\n",
    "preference_thresholds = pd.Series([10, 0, 10, 8, 10], index=criteria)\n",
    "indifference_thresholds = pd.Series([0, 15, 5, 0, 5], index=criteria)\n",
    "\n",
    "alternatives_performances = pd.DataFrame([[25, 65, 30, 15, 65],\n",
    "                                          [30, 65, 30, 10, 65],\n",
    "                                          [50, 30, 60, 55, 50],\n",
    "                                          [65, 20, 50, 65, 45],\n",
    "                                          [70, 10, 15, 70, 10]],\n",
    "                                         index=alternatives, columns=criteria)\n",
    "\n",
    "alternatives_performances"
   ]
  },
  {
   "cell_type": "code",
   "execution_count": 7,
   "outputs": [
    {
     "name": "stderr",
     "output_type": "stream",
     "text": [
      "C:\\Users\\wandr\\AppData\\Local\\Temp\\ipykernel_16748\\2684311127.py:2: FutureWarning: The default dtype for empty Series will be 'object' instead of 'float64' in a future version. Specify a dtype explicitly to silence this warning.\n",
      "  indifference_thresholds, pd.Series(data=None, index=criteria),\n"
     ]
    },
    {
     "data": {
      "text/plain": "       a1     a2    a3    a4    a5\na1  0.000  0.035  0.00  0.00  0.18\na2  0.175  0.000  0.00  0.00  0.18\na3  1.000  1.000  0.00  0.18  0.18\na4  1.000  1.000  0.42  0.00  0.18\na5  0.820  0.820  0.82  0.36  0.00",
      "text/html": "<div>\n<style scoped>\n    .dataframe tbody tr th:only-of-type {\n        vertical-align: middle;\n    }\n\n    .dataframe tbody tr th {\n        vertical-align: top;\n    }\n\n    .dataframe thead th {\n        text-align: right;\n    }\n</style>\n<table border=\"1\" class=\"dataframe\">\n  <thead>\n    <tr style=\"text-align: right;\">\n      <th></th>\n      <th>a1</th>\n      <th>a2</th>\n      <th>a3</th>\n      <th>a4</th>\n      <th>a5</th>\n    </tr>\n  </thead>\n  <tbody>\n    <tr>\n      <th>a1</th>\n      <td>0.000</td>\n      <td>0.035</td>\n      <td>0.00</td>\n      <td>0.00</td>\n      <td>0.18</td>\n    </tr>\n    <tr>\n      <th>a2</th>\n      <td>0.175</td>\n      <td>0.000</td>\n      <td>0.00</td>\n      <td>0.00</td>\n      <td>0.18</td>\n    </tr>\n    <tr>\n      <th>a3</th>\n      <td>1.000</td>\n      <td>1.000</td>\n      <td>0.00</td>\n      <td>0.18</td>\n      <td>0.18</td>\n    </tr>\n    <tr>\n      <th>a4</th>\n      <td>1.000</td>\n      <td>1.000</td>\n      <td>0.42</td>\n      <td>0.00</td>\n      <td>0.18</td>\n    </tr>\n    <tr>\n      <th>a5</th>\n      <td>0.820</td>\n      <td>0.820</td>\n      <td>0.82</td>\n      <td>0.36</td>\n      <td>0.00</td>\n    </tr>\n  </tbody>\n</table>\n</div>"
     },
     "execution_count": 7,
     "metadata": {},
     "output_type": "execute_result"
    }
   ],
   "source": [
    "preferences, partial_preferences = compute_preference_indices(alternatives_performances, preference_thresholds,\n",
    "                                                              indifference_thresholds, pd.Series(data=None, index=criteria),\n",
    "                                                              generalized_criteria, criteria_directions,\n",
    "                                                              criteria_weights)\n",
    "preferences"
   ],
   "metadata": {
    "collapsed": false
   }
  },
  {
   "cell_type": "code",
   "execution_count": 8,
   "outputs": [
    {
     "data": {
      "text/plain": "    positive  negative\na1   0.05375   0.74875\na2   0.08875   0.71375\na3   0.59000   0.31000\na4   0.65000   0.13500\na5   0.70500   0.18000",
      "text/html": "<div>\n<style scoped>\n    .dataframe tbody tr th:only-of-type {\n        vertical-align: middle;\n    }\n\n    .dataframe tbody tr th {\n        vertical-align: top;\n    }\n\n    .dataframe thead th {\n        text-align: right;\n    }\n</style>\n<table border=\"1\" class=\"dataframe\">\n  <thead>\n    <tr style=\"text-align: right;\">\n      <th></th>\n      <th>positive</th>\n      <th>negative</th>\n    </tr>\n  </thead>\n  <tbody>\n    <tr>\n      <th>a1</th>\n      <td>0.05375</td>\n      <td>0.74875</td>\n    </tr>\n    <tr>\n      <th>a2</th>\n      <td>0.08875</td>\n      <td>0.71375</td>\n    </tr>\n    <tr>\n      <th>a3</th>\n      <td>0.59000</td>\n      <td>0.31000</td>\n    </tr>\n    <tr>\n      <th>a4</th>\n      <td>0.65000</td>\n      <td>0.13500</td>\n    </tr>\n    <tr>\n      <th>a5</th>\n      <td>0.70500</td>\n      <td>0.18000</td>\n    </tr>\n  </tbody>\n</table>\n</div>"
     },
     "execution_count": 8,
     "metadata": {},
     "output_type": "execute_result"
    }
   ],
   "source": [
    "outranking_flows = calculate_prometheeI_outranking_flows(preferences)\n",
    "outranking_flows"
   ],
   "metadata": {
    "collapsed": false
   }
  },
  {
   "cell_type": "code",
   "execution_count": 12,
   "outputs": [
    {
     "data": {
      "text/plain": "        x      y\na1 -0.916 -0.474\na2 -0.876 -0.374\na3 -0.054  0.614\na4  0.261  0.769\na5  0.378  0.672",
      "text/html": "<div>\n<style scoped>\n    .dataframe tbody tr th:only-of-type {\n        vertical-align: middle;\n    }\n\n    .dataframe tbody tr th {\n        vertical-align: top;\n    }\n\n    .dataframe thead th {\n        text-align: right;\n    }\n</style>\n<table border=\"1\" class=\"dataframe\">\n  <thead>\n    <tr style=\"text-align: right;\">\n      <th></th>\n      <th>x</th>\n      <th>y</th>\n    </tr>\n  </thead>\n  <tbody>\n    <tr>\n      <th>a1</th>\n      <td>-0.916</td>\n      <td>-0.474</td>\n    </tr>\n    <tr>\n      <th>a2</th>\n      <td>-0.876</td>\n      <td>-0.374</td>\n    </tr>\n    <tr>\n      <th>a3</th>\n      <td>-0.054</td>\n      <td>0.614</td>\n    </tr>\n    <tr>\n      <th>a4</th>\n      <td>0.261</td>\n      <td>0.769</td>\n    </tr>\n    <tr>\n      <th>a5</th>\n      <td>0.378</td>\n      <td>0.672</td>\n    </tr>\n  </tbody>\n</table>\n</div>"
     },
     "execution_count": 12,
     "metadata": {},
     "output_type": "execute_result"
    }
   ],
   "source": [
    "intervals, outranking_pairs = calculate_promethee_iii_ranking(outranking_flows, preferences, 0.5)\n",
    "intervals"
   ],
   "metadata": {
    "collapsed": false
   }
  },
  {
   "cell_type": "code",
   "execution_count": 13,
   "outputs": [
    {
     "data": {
      "text/plain": "   a1 a2 a3 a4 a5\na1  I  I  ?  ?  ?\na2  I  I  ?  ?  ?\na3  P  P  I  I  I\na4  P  P  I  I  I\na5  P  P  I  I  I",
      "text/html": "<div>\n<style scoped>\n    .dataframe tbody tr th:only-of-type {\n        vertical-align: middle;\n    }\n\n    .dataframe tbody tr th {\n        vertical-align: top;\n    }\n\n    .dataframe thead th {\n        text-align: right;\n    }\n</style>\n<table border=\"1\" class=\"dataframe\">\n  <thead>\n    <tr style=\"text-align: right;\">\n      <th></th>\n      <th>a1</th>\n      <th>a2</th>\n      <th>a3</th>\n      <th>a4</th>\n      <th>a5</th>\n    </tr>\n  </thead>\n  <tbody>\n    <tr>\n      <th>a1</th>\n      <td>I</td>\n      <td>I</td>\n      <td>?</td>\n      <td>?</td>\n      <td>?</td>\n    </tr>\n    <tr>\n      <th>a2</th>\n      <td>I</td>\n      <td>I</td>\n      <td>?</td>\n      <td>?</td>\n      <td>?</td>\n    </tr>\n    <tr>\n      <th>a3</th>\n      <td>P</td>\n      <td>P</td>\n      <td>I</td>\n      <td>I</td>\n      <td>I</td>\n    </tr>\n    <tr>\n      <th>a4</th>\n      <td>P</td>\n      <td>P</td>\n      <td>I</td>\n      <td>I</td>\n      <td>I</td>\n    </tr>\n    <tr>\n      <th>a5</th>\n      <td>P</td>\n      <td>P</td>\n      <td>I</td>\n      <td>I</td>\n      <td>I</td>\n    </tr>\n  </tbody>\n</table>\n</div>"
     },
     "execution_count": 13,
     "metadata": {},
     "output_type": "execute_result"
    }
   ],
   "source": [
    "outranking_pairs"
   ],
   "metadata": {
    "collapsed": false
   }
  }
 ],
 "metadata": {
  "kernelspec": {
   "display_name": "Python 3",
   "language": "python",
   "name": "python3"
  },
  "language_info": {
   "codemirror_mode": {
    "name": "ipython",
    "version": 2
   },
   "file_extension": ".py",
   "mimetype": "text/x-python",
   "name": "python",
   "nbconvert_exporter": "python",
   "pygments_lexer": "ipython2",
   "version": "2.7.6"
  }
 },
 "nbformat": 4,
 "nbformat_minor": 0
}
