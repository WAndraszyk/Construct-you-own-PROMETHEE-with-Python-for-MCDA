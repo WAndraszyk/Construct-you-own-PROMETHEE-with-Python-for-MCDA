{
 "cells": [
  {
   "cell_type": "markdown",
   "metadata": {},
   "source": [
    "# Promethee V\n",
    "This module shows an example of how to use the \"Promethee V\" module"
   ]
  },
  {
   "cell_type": "markdown",
   "metadata": {},
   "source": [
    "## Definition of inputs and problem formalization"
   ]
  },
  {
   "cell_type": "code",
   "execution_count": 19,
   "metadata": {},
   "outputs": [],
   "source": [
    "import pandas as pd\n",
    "from core.constraint import Constraint, Relation\n",
    "from modular_parts.preference import compute_preference_indices\n",
    "from modular_parts.flows import calculate_promethee_outranking_flows, calculate_net_outranking_flows\n",
    "from core.enums import Direction, GeneralCriterion, FlowType\n",
    "from modular_parts.choice import compute_decision\n",
    "\n",
    "\n",
    "alternatives = [f\"a{i}\" for i in range(1, 8)]\n",
    "profiles = [f\"p{i}\" for i in range(1, 4)]\n",
    "criteria = [f\"c{i}\" for i in range(1, 4)]\n",
    "criteria_directions = pd.Series([Direction.MAX, Direction.MIN, Direction.MAX], index=criteria)\n",
    "criteria_weights = pd.Series([0.3, 0.2, 0.5], index=criteria)\n",
    "generalised_criteria = pd.Series([GeneralCriterion.U_SHAPE,\n",
    "                                  GeneralCriterion.V_SHAPE_INDIFFERENCE,\n",
    "                                  GeneralCriterion.USUAL], index=criteria)\n",
    "preference_thresholds = pd.Series([2, 10, None], index=criteria)\n",
    "indifference_thresholds = pd.Series([1, 5, None], index=criteria)\n",
    "standard_deviations = pd.Series([None, None, None], index=criteria) # None, because we do not use GeneralCriterion.GAUSSIAN\n",
    "\n",
    "alternatives_performances = pd.DataFrame([[15, 83, 21],\n",
    "                                          [10, 90, 15],\n",
    "                                          [11, 75, 20],\n",
    "                                          [18, 59, 20],\n",
    "                                          [17, 60, 28],\n",
    "                                          [22, 44, 15],\n",
    "                                          [13, 62, 22]], index=alternatives, columns=criteria)\n",
    "\n",
    "constraints1 = [Constraint([0.6, 0.9, 1.5, 1.2, 0.3, 1.2, 0.4], Relation.LEQ, 3)]\n",
    "constraints2 = [Constraint([0.6, 0.9, 1.5, 1.2, 0.3, 1.2, 0.4], Relation.GEQ, 3)]\n",
    "constraints3 = [Constraint([0.4, 0.9, 1.5, 1.2, 0.3, 1.2, 0.4], Relation.EQ, 3)]"
   ]
  },
  {
   "cell_type": "markdown",
   "metadata": {},
   "source": [
    "## Required data"
   ]
  },
  {
   "cell_type": "markdown",
   "metadata": {},
   "source": [
    "### Required preferences"
   ]
  },
  {
   "cell_type": "code",
   "execution_count": 20,
   "metadata": {},
   "outputs": [
    {
     "data": {
      "text/html": [
       "<div>\n",
       "<style scoped>\n",
       "    .dataframe tbody tr th:only-of-type {\n",
       "        vertical-align: middle;\n",
       "    }\n",
       "\n",
       "    .dataframe tbody tr th {\n",
       "        vertical-align: top;\n",
       "    }\n",
       "\n",
       "    .dataframe thead th {\n",
       "        text-align: right;\n",
       "    }\n",
       "</style>\n",
       "<table border=\"1\" class=\"dataframe\">\n",
       "  <thead>\n",
       "    <tr style=\"text-align: right;\">\n",
       "      <th></th>\n",
       "      <th>a1</th>\n",
       "      <th>a2</th>\n",
       "      <th>a3</th>\n",
       "      <th>a4</th>\n",
       "      <th>a5</th>\n",
       "      <th>a6</th>\n",
       "      <th>a7</th>\n",
       "    </tr>\n",
       "  </thead>\n",
       "  <tbody>\n",
       "    <tr>\n",
       "      <th>a1</th>\n",
       "      <td>0.00</td>\n",
       "      <td>0.88</td>\n",
       "      <td>0.8</td>\n",
       "      <td>0.5</td>\n",
       "      <td>0.0</td>\n",
       "      <td>0.5</td>\n",
       "      <td>0.3</td>\n",
       "    </tr>\n",
       "    <tr>\n",
       "      <th>a2</th>\n",
       "      <td>0.00</td>\n",
       "      <td>0.00</td>\n",
       "      <td>0.0</td>\n",
       "      <td>0.0</td>\n",
       "      <td>0.0</td>\n",
       "      <td>0.0</td>\n",
       "      <td>0.0</td>\n",
       "    </tr>\n",
       "    <tr>\n",
       "      <th>a3</th>\n",
       "      <td>0.12</td>\n",
       "      <td>0.70</td>\n",
       "      <td>0.0</td>\n",
       "      <td>0.0</td>\n",
       "      <td>0.0</td>\n",
       "      <td>0.5</td>\n",
       "      <td>0.0</td>\n",
       "    </tr>\n",
       "    <tr>\n",
       "      <th>a4</th>\n",
       "      <td>0.50</td>\n",
       "      <td>1.00</td>\n",
       "      <td>0.5</td>\n",
       "      <td>0.0</td>\n",
       "      <td>0.0</td>\n",
       "      <td>0.5</td>\n",
       "      <td>0.3</td>\n",
       "    </tr>\n",
       "    <tr>\n",
       "      <th>a5</th>\n",
       "      <td>1.00</td>\n",
       "      <td>1.00</td>\n",
       "      <td>1.0</td>\n",
       "      <td>0.5</td>\n",
       "      <td>0.0</td>\n",
       "      <td>0.5</td>\n",
       "      <td>0.8</td>\n",
       "    </tr>\n",
       "    <tr>\n",
       "      <th>a6</th>\n",
       "      <td>0.50</td>\n",
       "      <td>0.50</td>\n",
       "      <td>0.5</td>\n",
       "      <td>0.5</td>\n",
       "      <td>0.5</td>\n",
       "      <td>0.0</td>\n",
       "      <td>0.5</td>\n",
       "    </tr>\n",
       "    <tr>\n",
       "      <th>a7</th>\n",
       "      <td>0.70</td>\n",
       "      <td>1.00</td>\n",
       "      <td>1.0</td>\n",
       "      <td>0.5</td>\n",
       "      <td>0.0</td>\n",
       "      <td>0.5</td>\n",
       "      <td>0.0</td>\n",
       "    </tr>\n",
       "  </tbody>\n",
       "</table>\n",
       "</div>"
      ],
      "text/plain": [
       "      a1    a2   a3   a4   a5   a6   a7\n",
       "a1  0.00  0.88  0.8  0.5  0.0  0.5  0.3\n",
       "a2  0.00  0.00  0.0  0.0  0.0  0.0  0.0\n",
       "a3  0.12  0.70  0.0  0.0  0.0  0.5  0.0\n",
       "a4  0.50  1.00  0.5  0.0  0.0  0.5  0.3\n",
       "a5  1.00  1.00  1.0  0.5  0.0  0.5  0.8\n",
       "a6  0.50  0.50  0.5  0.5  0.5  0.0  0.5\n",
       "a7  0.70  1.00  1.0  0.5  0.0  0.5  0.0"
      ]
     },
     "execution_count": 20,
     "metadata": {},
     "output_type": "execute_result"
    }
   ],
   "source": [
    "aggregated_alternatives_preferences, _ = compute_preference_indices(alternatives_performances,\n",
    "                                                                    preference_thresholds,\n",
    "                                                                    indifference_thresholds,\n",
    "                                                                    standard_deviations,\n",
    "                                                                    generalised_criteria,\n",
    "                                                                    criteria_directions,\n",
    "                                                                    criteria_weights)\n",
    "aggregated_alternatives_preferences"
   ]
  },
  {
   "cell_type": "markdown",
   "metadata": {},
   "source": [
    "### Required flows"
   ]
  },
  {
   "cell_type": "code",
   "execution_count": 21,
   "metadata": {},
   "outputs": [
    {
     "data": {
      "text/plain": [
       "a1    0.026667\n",
       "a2   -0.846667\n",
       "a3   -0.413333\n",
       "a4    0.133333\n",
       "a5    0.716667\n",
       "a6    0.083333\n",
       "a7    0.300000\n",
       "Name: Net outranking flow, dtype: float64"
      ]
     },
     "execution_count": 21,
     "metadata": {},
     "output_type": "execute_result"
    }
   ],
   "source": [
    "alternatives_flows = calculate_promethee_outranking_flows(aggregated_alternatives_preferences,\n",
    "                                                          flow_type=FlowType.BASIC)\n",
    "alternatives_net_flows = calculate_net_outranking_flows(alternatives_flows)\n",
    "alternatives_net_flows"
   ]
  },
  {
   "cell_type": "markdown",
   "metadata": {},
   "source": [
    "## Promethee V"
   ]
  },
  {
   "cell_type": "code",
   "execution_count": 22,
   "metadata": {},
   "outputs": [
    {
     "data": {
      "text/plain": [
       "0    a1\n",
       "1    a4\n",
       "2    a5\n",
       "3    a7\n",
       "Name: chosen alternatives, dtype: object"
      ]
     },
     "execution_count": 22,
     "metadata": {},
     "output_type": "execute_result"
    }
   ],
   "source": [
    "compute_decision(alternatives_net_flows, constraints1)"
   ]
  },
  {
   "cell_type": "code",
   "execution_count": 23,
   "metadata": {},
   "outputs": [
    {
     "data": {
      "text/plain": [
       "0    a1\n",
       "1    a4\n",
       "2    a5\n",
       "3    a6\n",
       "4    a7\n",
       "Name: chosen alternatives, dtype: object"
      ]
     },
     "execution_count": 23,
     "metadata": {},
     "output_type": "execute_result"
    }
   ],
   "source": [
    "compute_decision(alternatives_net_flows, constraints2)"
   ]
  },
  {
   "cell_type": "code",
   "execution_count": 24,
   "metadata": {},
   "outputs": [
    {
     "data": {
      "text/plain": [
       "0    a3\n",
       "1    a4\n",
       "2    a5\n",
       "Name: chosen alternatives, dtype: object"
      ]
     },
     "execution_count": 24,
     "metadata": {},
     "output_type": "execute_result"
    }
   ],
   "source": [
    "compute_decision(alternatives_net_flows, constraints3)"
   ]
  }
 ],
 "metadata": {
  "kernelspec": {
   "display_name": "Python 3 (ipykernel)",
   "language": "python",
   "name": "python3"
  },
  "language_info": {
   "codemirror_mode": {
    "name": "ipython",
    "version": 3
   },
   "file_extension": ".py",
   "mimetype": "text/x-python",
   "name": "python",
   "nbconvert_exporter": "python",
   "pygments_lexer": "ipython3",
   "version": "3.9.11"
  }
 },
 "nbformat": 4,
 "nbformat_minor": 1
}
