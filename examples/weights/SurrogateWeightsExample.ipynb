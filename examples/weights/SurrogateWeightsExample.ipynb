{
 "cells": [
  {
   "cell_type": "markdown",
   "metadata": {},
   "source": [
    "# Surrogate Weightst\n",
    "This module shows an example of how to use the \"Surrogate Weights\" module\n",
    "## Definition of inputs"
   ]
  },
  {
   "cell_type": "code",
   "execution_count": 2,
   "metadata": {
    "pycharm": {
     "is_executing": true
    }
   },
   "outputs": [],
   "source": [
    "import pandas as pd\n",
    "from core.enums import SurrogateMethod\n",
    "from modular_parts.weights import surrogate_weights\n",
    "\n",
    "criteria_ranks = pd.Series({\n",
    "        'a': 6, 'b': 4, 'c': 1,\n",
    "        'd': 2, 'e': 5, 'f': 4,\n",
    "        'g': 1, 'h': 6, 'i': 4,\n",
    "        'j': 4, 'k': 7, 'l': 1,\n",
    "    })"
   ]
  },
  {
   "cell_type": "markdown",
   "metadata": {},
   "source": [
    "## Surrogate Weights"
   ]
  },
  {
   "cell_type": "markdown",
   "metadata": {},
   "source": [
    "Weights calculated with Equal Weights method:"
   ]
  },
  {
   "cell_type": "code",
   "execution_count": 4,
   "metadata": {},
   "outputs": [
    {
     "data": {
      "text/plain": [
       "0.9959999999999999"
      ]
     },
     "execution_count": 4,
     "metadata": {},
     "output_type": "execute_result"
    }
   ],
   "source": [
    "surrogate_weights(criteria_ranks, SurrogateMethod.EW).sum()"
   ]
  },
  {
   "cell_type": "markdown",
   "metadata": {},
   "source": [
    "Weights calculated with Rank Sum method:"
   ]
  },
  {
   "cell_type": "code",
   "execution_count": 5,
   "metadata": {},
   "outputs": [
    {
     "data": {
      "text/plain": [
       "1.4229999999999998"
      ]
     },
     "execution_count": 5,
     "metadata": {},
     "output_type": "execute_result"
    }
   ],
   "source": [
    "surrogate_weights(criteria_ranks, SurrogateMethod.RS).sum()"
   ]
  },
  {
   "cell_type": "markdown",
   "metadata": {},
   "source": [
    "Weights calculated with Reciprocal of Ranks method:"
   ]
  },
  {
   "cell_type": "code",
   "execution_count": 6,
   "metadata": {},
   "outputs": [
    {
     "data": {
      "text/plain": [
       "1.669"
      ]
     },
     "execution_count": 6,
     "metadata": {},
     "output_type": "execute_result"
    }
   ],
   "source": [
    "surrogate_weights(criteria_ranks, SurrogateMethod.RR).sum()"
   ]
  },
  {
   "cell_type": "markdown",
   "metadata": {},
   "source": [
    "Weights calculated with Rank Ordered Centroid method:"
   ]
  },
  {
   "cell_type": "code",
   "execution_count": 5,
   "metadata": {},
   "outputs": [
    {
     "data": {
      "text/plain": [
       "a    0.068\n",
       "b    0.106\n",
       "c    0.259\n",
       "d    0.175\n",
       "e    0.085\n",
       "f    0.106\n",
       "g    0.259\n",
       "h    0.068\n",
       "i    0.106\n",
       "j    0.106\n",
       "k    0.054\n",
       "l    0.259\n",
       "Name: weights, dtype: float64"
      ]
     },
     "execution_count": 5,
     "metadata": {},
     "output_type": "execute_result"
    }
   ],
   "source": [
    "surrogate_weights(criteria_ranks, SurrogateMethod.ROC).sum()"
   ]
  }
 ],
 "metadata": {
  "kernelspec": {
   "display_name": "Python 3 (ipykernel)",
   "language": "python",
   "name": "python3"
  },
  "language_info": {
   "codemirror_mode": {
    "name": "ipython",
    "version": 3
   },
   "file_extension": ".py",
   "mimetype": "text/x-python",
   "name": "python",
   "nbconvert_exporter": "python",
   "pygments_lexer": "ipython3",
   "version": "3.9.11"
  }
 },
 "nbformat": 4,
 "nbformat_minor": 1
}