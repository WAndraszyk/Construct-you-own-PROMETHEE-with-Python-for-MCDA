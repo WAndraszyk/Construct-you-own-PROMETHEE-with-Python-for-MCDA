{
 "cells": [
  {
   "cell_type": "markdown",
   "source": [
    "# Surrogate Weightst\n",
    "This module shows an example of how to use the \"Surrogate Weights\" module\n",
    "## Definition of inputs"
   ],
   "metadata": {
    "collapsed": false
   }
  },
  {
   "cell_type": "code",
   "execution_count": 14,
   "outputs": [],
   "source": [
    "import pandas as pd\n",
    "from core.enums import SurrogateMethod\n",
    "from modular_parts.weights import surrogate_weights\n",
    "\n",
    "criteria_ranks = pd.Series({\n",
    "        'a': 6, 'b': 4, 'c': 1,\n",
    "        'd': 2, 'e': 5, 'f': 4,\n",
    "        'g': 1, 'h': 6, 'i': 4,\n",
    "        'j': 4, 'k': 7, 'l': 1,\n",
    "    })"
   ],
   "metadata": {
    "collapsed": false
   }
  },
  {
   "cell_type": "markdown",
   "source": [
    "## Surrogate Weights"
   ],
   "metadata": {
    "collapsed": false
   }
  },
  {
   "cell_type": "markdown",
   "source": [
    "Weights calculated with Equal Weights method:"
   ],
   "metadata": {
    "collapsed": false
   }
  },
  {
   "cell_type": "code",
   "execution_count": 15,
   "outputs": [
    {
     "data": {
      "text/plain": "a    0.083\nb    0.083\nc    0.083\nd    0.083\ne    0.083\nf    0.083\ng    0.083\nh    0.083\ni    0.083\nj    0.083\nk    0.083\nl    0.083\nName: weights, dtype: float64"
     },
     "execution_count": 15,
     "metadata": {},
     "output_type": "execute_result"
    }
   ],
   "source": [
    "surrogate_weights(criteria_ranks, SurrogateMethod.EW)"
   ],
   "metadata": {
    "collapsed": false
   }
  },
  {
   "cell_type": "markdown",
   "source": [
    "Weights calculated with Rank Sum method:"
   ],
   "metadata": {
    "collapsed": false
   }
  },
  {
   "cell_type": "code",
   "execution_count": 16,
   "outputs": [
    {
     "data": {
      "text/plain": "a    0.090\nb    0.115\nc    0.154\nd    0.141\ne    0.103\nf    0.115\ng    0.154\nh    0.090\ni    0.115\nj    0.115\nk    0.077\nl    0.154\nName: weights, dtype: float64"
     },
     "execution_count": 16,
     "metadata": {},
     "output_type": "execute_result"
    }
   ],
   "source": [
    "surrogate_weights(criteria_ranks, SurrogateMethod.RS)"
   ],
   "metadata": {
    "collapsed": false
   }
  },
  {
   "cell_type": "markdown",
   "source": [
    "Weights calculated with Reciprocal of Ranks method:"
   ],
   "metadata": {
    "collapsed": false
   }
  },
  {
   "cell_type": "code",
   "execution_count": 17,
   "outputs": [
    {
     "data": {
      "text/plain": "a    0.054\nb    0.081\nc    0.322\nd    0.161\ne    0.064\nf    0.081\ng    0.322\nh    0.054\ni    0.081\nj    0.081\nk    0.046\nl    0.322\nName: weights, dtype: float64"
     },
     "execution_count": 17,
     "metadata": {},
     "output_type": "execute_result"
    }
   ],
   "source": [
    "surrogate_weights(criteria_ranks, SurrogateMethod.RR)"
   ],
   "metadata": {
    "collapsed": false
   }
  },
  {
   "cell_type": "markdown",
   "source": [
    "Weights calculated with Rank Ordered Centroid method:"
   ],
   "metadata": {
    "collapsed": false
   }
  },
  {
   "cell_type": "code",
   "execution_count": 18,
   "outputs": [
    {
     "data": {
      "text/plain": "a    0.068\nb    0.106\nc    0.259\nd    0.175\ne    0.085\nf    0.106\ng    0.259\nh    0.068\ni    0.106\nj    0.106\nk    0.054\nl    0.259\nName: weights, dtype: float64"
     },
     "execution_count": 18,
     "metadata": {},
     "output_type": "execute_result"
    }
   ],
   "source": [
    "surrogate_weights(criteria_ranks, SurrogateMethod.ROC)"
   ],
   "metadata": {
    "collapsed": false
   }
  }
 ],
 "metadata": {
  "kernelspec": {
   "display_name": "Python 3",
   "language": "python",
   "name": "python3"
  },
  "language_info": {
   "codemirror_mode": {
    "name": "ipython",
    "version": 2
   },
   "file_extension": ".py",
   "mimetype": "text/x-python",
   "name": "python",
   "nbconvert_exporter": "python",
   "pygments_lexer": "ipython2",
   "version": "2.7.6"
  }
 },
 "nbformat": 4,
 "nbformat_minor": 0
}
