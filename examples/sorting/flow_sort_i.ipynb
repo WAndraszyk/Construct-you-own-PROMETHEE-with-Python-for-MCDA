{
 "cells": [
  {
   "cell_type": "markdown",
   "id": "dd390b46",
   "metadata": {},
   "source": [
    "# Flow Sort I"
   ]
  },
  {
   "cell_type": "markdown",
   "id": "aeca98d7",
   "metadata": {},
   "source": [
    "This module shows an example of how to use the \"Flow Sort I\" module."
   ]
  },
  {
   "cell_type": "code",
   "execution_count": 1,
   "id": "1702fbe9",
   "metadata": {},
   "outputs": [],
   "source": [
    "%config Completer.use_jedi = False"
   ]
  },
  {
   "cell_type": "markdown",
   "id": "23d8538f",
   "metadata": {},
   "source": [
    "## Definition of inputs"
   ]
  },
  {
   "cell_type": "code",
   "execution_count": 2,
   "id": "56b3676c",
   "metadata": {},
   "outputs": [],
   "source": [
    "import pandas as pd\n",
    "import sys\n",
    "sys.path.append('../..')\n",
    "\n",
    "from core.enums import CompareProfiles, Direction\n",
    "from modular_parts.sorting import calculate_flowsortI_sorted_alternatives"
   ]
  },
  {
   "cell_type": "markdown",
   "id": "38b7d40e",
   "metadata": {},
   "source": [
    "## Problem formalization"
   ]
  },
  {
   "cell_type": "code",
   "execution_count": 3,
   "id": "4c96296a",
   "metadata": {},
   "outputs": [],
   "source": [
    "categories = [f\"C{i}\" for i in range(1, 5)]\n",
    "profiles = [f\"r{i}\" for i in range(1, 6)]\n",
    "criteria = [f\"g{i}\" for i in range(1, 6)]\n",
    "alternatives = [f\"a{i}\" for i in range(1, 4)]"
   ]
  },
  {
   "cell_type": "code",
   "execution_count": 4,
   "id": "84a43327",
   "metadata": {},
   "outputs": [
    {
     "data": {
      "text/html": [
       "<div>\n",
       "<style scoped>\n",
       "    .dataframe tbody tr th:only-of-type {\n",
       "        vertical-align: middle;\n",
       "    }\n",
       "\n",
       "    .dataframe tbody tr th {\n",
       "        vertical-align: top;\n",
       "    }\n",
       "\n",
       "    .dataframe thead th {\n",
       "        text-align: right;\n",
       "    }\n",
       "</style>\n",
       "<table border=\"1\" class=\"dataframe\">\n",
       "  <thead>\n",
       "    <tr style=\"text-align: right;\">\n",
       "      <th></th>\n",
       "      <th>g1</th>\n",
       "      <th>g2</th>\n",
       "      <th>g3</th>\n",
       "      <th>g4</th>\n",
       "      <th>g5</th>\n",
       "    </tr>\n",
       "  </thead>\n",
       "  <tbody>\n",
       "    <tr>\n",
       "      <th>r1</th>\n",
       "      <td>0</td>\n",
       "      <td>0</td>\n",
       "      <td>0</td>\n",
       "      <td>0</td>\n",
       "      <td>0</td>\n",
       "    </tr>\n",
       "    <tr>\n",
       "      <th>r2</th>\n",
       "      <td>25</td>\n",
       "      <td>25</td>\n",
       "      <td>25</td>\n",
       "      <td>25</td>\n",
       "      <td>25</td>\n",
       "    </tr>\n",
       "    <tr>\n",
       "      <th>r3</th>\n",
       "      <td>50</td>\n",
       "      <td>50</td>\n",
       "      <td>50</td>\n",
       "      <td>50</td>\n",
       "      <td>50</td>\n",
       "    </tr>\n",
       "    <tr>\n",
       "      <th>r4</th>\n",
       "      <td>75</td>\n",
       "      <td>75</td>\n",
       "      <td>75</td>\n",
       "      <td>75</td>\n",
       "      <td>75</td>\n",
       "    </tr>\n",
       "    <tr>\n",
       "      <th>r5</th>\n",
       "      <td>100</td>\n",
       "      <td>100</td>\n",
       "      <td>100</td>\n",
       "      <td>100</td>\n",
       "      <td>100</td>\n",
       "    </tr>\n",
       "  </tbody>\n",
       "</table>\n",
       "</div>"
      ],
      "text/plain": [
       "     g1   g2   g3   g4   g5\n",
       "r1    0    0    0    0    0\n",
       "r2   25   25   25   25   25\n",
       "r3   50   50   50   50   50\n",
       "r4   75   75   75   75   75\n",
       "r5  100  100  100  100  100"
      ]
     },
     "execution_count": 4,
     "metadata": {},
     "output_type": "execute_result"
    }
   ],
   "source": [
    "category_profiles_performances = pd.DataFrame([[0, 0, 0, 0, 0], [25, 25, 25, 25, 25], [50, 50, 50, 50, 50],\n",
    "                                               [75, 75, 75, 75, 75], [100, 100, 100, 100, 100]],\n",
    "                                               index=profiles, columns=criteria)\n",
    "category_profiles_performances"
   ]
  },
  {
   "cell_type": "code",
   "execution_count": 5,
   "id": "52813be1",
   "metadata": {},
   "outputs": [
    {
     "data": {
      "text/plain": [
       "g1    Direction.MAX\n",
       "g2    Direction.MAX\n",
       "g3    Direction.MAX\n",
       "g4    Direction.MAX\n",
       "g5    Direction.MAX\n",
       "dtype: object"
      ]
     },
     "execution_count": 5,
     "metadata": {},
     "output_type": "execute_result"
    }
   ],
   "source": [
    "criteria_directions = pd.Series([Direction.MAX, Direction.MAX, Direction.MAX, Direction.MAX, Direction.MAX], index=criteria)\n",
    "criteria_directions"
   ]
  },
  {
   "cell_type": "code",
   "execution_count": 6,
   "id": "97bbc7a4",
   "metadata": {},
   "outputs": [
    {
     "data": {
      "text/html": [
       "<div>\n",
       "<style scoped>\n",
       "    .dataframe tbody tr th:only-of-type {\n",
       "        vertical-align: middle;\n",
       "    }\n",
       "\n",
       "    .dataframe tbody tr th {\n",
       "        vertical-align: top;\n",
       "    }\n",
       "\n",
       "    .dataframe thead th {\n",
       "        text-align: right;\n",
       "    }\n",
       "</style>\n",
       "<table border=\"1\" class=\"dataframe\">\n",
       "  <thead>\n",
       "    <tr style=\"text-align: right;\">\n",
       "      <th></th>\n",
       "      <th>positive</th>\n",
       "      <th>negative</th>\n",
       "    </tr>\n",
       "  </thead>\n",
       "  <tbody>\n",
       "    <tr>\n",
       "      <th>a1</th>\n",
       "      <td>0.48</td>\n",
       "      <td>0.52</td>\n",
       "    </tr>\n",
       "    <tr>\n",
       "      <th>a2</th>\n",
       "      <td>0.20</td>\n",
       "      <td>0.80</td>\n",
       "    </tr>\n",
       "    <tr>\n",
       "      <th>a3</th>\n",
       "      <td>0.40</td>\n",
       "      <td>0.40</td>\n",
       "    </tr>\n",
       "  </tbody>\n",
       "</table>\n",
       "</div>"
      ],
      "text/plain": [
       "    positive  negative\n",
       "a1      0.48      0.52\n",
       "a2      0.20      0.80\n",
       "a3      0.40      0.40"
      ]
     },
     "execution_count": 6,
     "metadata": {},
     "output_type": "execute_result"
    }
   ],
   "source": [
    "alternatives_flows = pd.DataFrame({'positive': [0.48, 0.20, 0.40], 'negative': [0.52, 0.80, 0.40]}, index=alternatives)\n",
    "alternatives_flows"
   ]
  },
  {
   "cell_type": "code",
   "execution_count": 7,
   "id": "d8c2b8a0",
   "metadata": {},
   "outputs": [
    {
     "data": {
      "text/html": [
       "<div>\n",
       "<style scoped>\n",
       "    .dataframe tbody tr th:only-of-type {\n",
       "        vertical-align: middle;\n",
       "    }\n",
       "\n",
       "    .dataframe tbody tr th {\n",
       "        vertical-align: top;\n",
       "    }\n",
       "\n",
       "    .dataframe thead th {\n",
       "        text-align: right;\n",
       "    }\n",
       "</style>\n",
       "<table border=\"1\" class=\"dataframe\">\n",
       "  <thead>\n",
       "    <tr style=\"text-align: right;\">\n",
       "      <th></th>\n",
       "      <th>positive</th>\n",
       "      <th>negative</th>\n",
       "    </tr>\n",
       "  </thead>\n",
       "  <tbody>\n",
       "    <tr>\n",
       "      <th>r1</th>\n",
       "      <td>0.000000</td>\n",
       "      <td>1.000000</td>\n",
       "    </tr>\n",
       "    <tr>\n",
       "      <th>r2</th>\n",
       "      <td>0.400000</td>\n",
       "      <td>0.466667</td>\n",
       "    </tr>\n",
       "    <tr>\n",
       "      <th>r3</th>\n",
       "      <td>0.600000</td>\n",
       "      <td>0.333333</td>\n",
       "    </tr>\n",
       "    <tr>\n",
       "      <th>r4</th>\n",
       "      <td>0.866667</td>\n",
       "      <td>0.000000</td>\n",
       "    </tr>\n",
       "    <tr>\n",
       "      <th>r5</th>\n",
       "      <td>1.000000</td>\n",
       "      <td>0.000000</td>\n",
       "    </tr>\n",
       "  </tbody>\n",
       "</table>\n",
       "</div>"
      ],
      "text/plain": [
       "    positive  negative\n",
       "r1  0.000000  1.000000\n",
       "r2  0.400000  0.466667\n",
       "r3  0.600000  0.333333\n",
       "r4  0.866667  0.000000\n",
       "r5  1.000000  0.000000"
      ]
     },
     "execution_count": 7,
     "metadata": {},
     "output_type": "execute_result"
    }
   ],
   "source": [
    "category_profiles_flows = pd.DataFrame({'positive': [0.0, 0.4, 0.6, 0.866667, 1.0],\n",
    "                                        'negative': [1.0, 0.466667, 0.333333, 0.0, 0.0]}, index=profiles)\n",
    "category_profiles_flows"
   ]
  },
  {
   "cell_type": "markdown",
   "id": "22aff1db",
   "metadata": {},
   "source": [
    "## Flow Sort I"
   ]
  },
  {
   "cell_type": "code",
   "execution_count": 8,
   "id": "ad544505",
   "metadata": {},
   "outputs": [
    {
     "data": {
      "text/html": [
       "<div>\n",
       "<style scoped>\n",
       "    .dataframe tbody tr th:only-of-type {\n",
       "        vertical-align: middle;\n",
       "    }\n",
       "\n",
       "    .dataframe tbody tr th {\n",
       "        vertical-align: top;\n",
       "    }\n",
       "\n",
       "    .dataframe thead th {\n",
       "        text-align: right;\n",
       "    }\n",
       "</style>\n",
       "<table border=\"1\" class=\"dataframe\">\n",
       "  <thead>\n",
       "    <tr style=\"text-align: right;\">\n",
       "      <th></th>\n",
       "      <th>worse</th>\n",
       "      <th>better</th>\n",
       "    </tr>\n",
       "  </thead>\n",
       "  <tbody>\n",
       "    <tr>\n",
       "      <th>a1</th>\n",
       "      <td>C1</td>\n",
       "      <td>C2</td>\n",
       "    </tr>\n",
       "    <tr>\n",
       "      <th>a2</th>\n",
       "      <td>C1</td>\n",
       "      <td>C1</td>\n",
       "    </tr>\n",
       "    <tr>\n",
       "      <th>a3</th>\n",
       "      <td>C1</td>\n",
       "      <td>C2</td>\n",
       "    </tr>\n",
       "  </tbody>\n",
       "</table>\n",
       "</div>"
      ],
      "text/plain": [
       "   worse better\n",
       "a1    C1     C2\n",
       "a2    C1     C1\n",
       "a3    C1     C2"
      ]
     },
     "execution_count": 8,
     "metadata": {},
     "output_type": "execute_result"
    }
   ],
   "source": [
    "flow_sort1 = calculate_flowsortI_sorted_alternatives(categories, category_profiles_performances,\n",
    "                                                     criteria_directions, alternatives_flows,\n",
    "                                                     category_profiles_flows, CompareProfiles.LIMITING_PROFILES)\n",
    "flow_sort1"
   ]
  }
 ],
 "metadata": {
  "kernelspec": {
   "display_name": "Python 3 (ipykernel)",
   "language": "python",
   "name": "python3"
  },
  "language_info": {
   "codemirror_mode": {
    "name": "ipython",
    "version": 3
   },
   "file_extension": ".py",
   "mimetype": "text/x-python",
   "name": "python",
   "nbconvert_exporter": "python",
   "pygments_lexer": "ipython3",
   "version": "3.9.11"
  }
 },
 "nbformat": 4,
 "nbformat_minor": 5
}
