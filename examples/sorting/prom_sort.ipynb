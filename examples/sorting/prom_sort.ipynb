{
 "cells": [
  {
   "cell_type": "markdown",
   "id": "dd390b46",
   "metadata": {},
   "source": [
    "# Prom Sort"
   ]
  },
  {
   "cell_type": "markdown",
   "id": "aeca98d7",
   "metadata": {},
   "source": [
    "This module shows an example of how to use the \"Prom Sort\" module."
   ]
  },
  {
   "cell_type": "code",
   "execution_count": 1,
   "id": "1702fbe9",
   "metadata": {},
   "outputs": [],
   "source": [
    "%config Completer.use_jedi = False"
   ]
  },
  {
   "cell_type": "markdown",
   "id": "23d8538f",
   "metadata": {},
   "source": [
    "## Definition of inputs"
   ]
  },
  {
   "cell_type": "code",
   "execution_count": 2,
   "id": "56b3676c",
   "metadata": {},
   "outputs": [],
   "source": [
    "import pandas as pd\n",
    "import sys\n",
    "sys.path.append('../..')\n",
    "\n",
    "from modular_parts.sorting import calculate_promsort_sorted_alternatives\n",
    "from core.enums import Direction"
   ]
  },
  {
   "cell_type": "markdown",
   "id": "38b7d40e",
   "metadata": {},
   "source": [
    "## Problem formalization"
   ]
  },
  {
   "cell_type": "code",
   "execution_count": 3,
   "id": "4c96296a",
   "metadata": {},
   "outputs": [],
   "source": [
    "categories = [f\"C{i}\" for i in range(1, 5)]\n",
    "alternatives = [f\"a{i}\" for i in range(1, 13)]\n",
    "profiles = [f\"r{i}\" for i in range(1, 4)]\n",
    "criteria = [f\"g{i}\" for i in range(1, 6)]"
   ]
  },
  {
   "cell_type": "code",
   "execution_count": 4,
   "id": "84a43327",
   "metadata": {},
   "outputs": [
    {
     "data": {
      "text/html": [
       "<div>\n",
       "<style scoped>\n",
       "    .dataframe tbody tr th:only-of-type {\n",
       "        vertical-align: middle;\n",
       "    }\n",
       "\n",
       "    .dataframe tbody tr th {\n",
       "        vertical-align: top;\n",
       "    }\n",
       "\n",
       "    .dataframe thead th {\n",
       "        text-align: right;\n",
       "    }\n",
       "</style>\n",
       "<table border=\"1\" class=\"dataframe\">\n",
       "  <thead>\n",
       "    <tr style=\"text-align: right;\">\n",
       "      <th></th>\n",
       "      <th>positive</th>\n",
       "      <th>negative</th>\n",
       "    </tr>\n",
       "  </thead>\n",
       "  <tbody>\n",
       "    <tr>\n",
       "      <th>a1</th>\n",
       "      <td>0.557053</td>\n",
       "      <td>0.144954</td>\n",
       "    </tr>\n",
       "    <tr>\n",
       "      <th>a2</th>\n",
       "      <td>0.439676</td>\n",
       "      <td>0.303983</td>\n",
       "    </tr>\n",
       "    <tr>\n",
       "      <th>a3</th>\n",
       "      <td>0.441899</td>\n",
       "      <td>0.289308</td>\n",
       "    </tr>\n",
       "    <tr>\n",
       "      <th>a4</th>\n",
       "      <td>0.142408</td>\n",
       "      <td>0.584007</td>\n",
       "    </tr>\n",
       "    <tr>\n",
       "      <th>a5</th>\n",
       "      <td>0.583432</td>\n",
       "      <td>0.251572</td>\n",
       "    </tr>\n",
       "    <tr>\n",
       "      <th>a6</th>\n",
       "      <td>0.383648</td>\n",
       "      <td>0.399221</td>\n",
       "    </tr>\n",
       "    <tr>\n",
       "      <th>a7</th>\n",
       "      <td>0.400120</td>\n",
       "      <td>0.301887</td>\n",
       "    </tr>\n",
       "    <tr>\n",
       "      <th>a8</th>\n",
       "      <td>0.683312</td>\n",
       "      <td>0.064091</td>\n",
       "    </tr>\n",
       "    <tr>\n",
       "      <th>a9</th>\n",
       "      <td>0.402516</td>\n",
       "      <td>0.352689</td>\n",
       "    </tr>\n",
       "    <tr>\n",
       "      <th>a10</th>\n",
       "      <td>0.047170</td>\n",
       "      <td>0.768693</td>\n",
       "    </tr>\n",
       "    <tr>\n",
       "      <th>a11</th>\n",
       "      <td>0.188679</td>\n",
       "      <td>0.632974</td>\n",
       "    </tr>\n",
       "    <tr>\n",
       "      <th>a12</th>\n",
       "      <td>0.739916</td>\n",
       "      <td>0.000000</td>\n",
       "    </tr>\n",
       "  </tbody>\n",
       "</table>\n",
       "</div>"
      ],
      "text/plain": [
       "     positive  negative\n",
       "a1   0.557053  0.144954\n",
       "a2   0.439676  0.303983\n",
       "a3   0.441899  0.289308\n",
       "a4   0.142408  0.584007\n",
       "a5   0.583432  0.251572\n",
       "a6   0.383648  0.399221\n",
       "a7   0.400120  0.301887\n",
       "a8   0.683312  0.064091\n",
       "a9   0.402516  0.352689\n",
       "a10  0.047170  0.768693\n",
       "a11  0.188679  0.632974\n",
       "a12  0.739916  0.000000"
      ]
     },
     "execution_count": 4,
     "metadata": {},
     "output_type": "execute_result"
    }
   ],
   "source": [
    "alternatives_flows = pd.DataFrame({'positive': [0.557053009883198, 0.439676427229803, 0.441898772087451, 0.14240790655885,\n",
    "                                                0.583432042683531, 0.383647798742138, 0.400119796346211, 0.68331224633732,\n",
    "                                                0.40251572327044, 0.0471698113207547, 0.188679245283019, 0.739916019922226],\n",
    "                                   'negative': [0.144953578915843, 0.30398322851153, 0.289308176100629, 0.584007187780773,\n",
    "                                                0.251572327044025, 0.399221323748186, 0.30188679245283, 0.0640910452231207,\n",
    "                                                0.352688997142961, 0.768693354515415, 0.632973944293259, 0.0]}, \n",
    "                                  index=alternatives)\n",
    "alternatives_flows"
   ]
  },
  {
   "cell_type": "code",
   "execution_count": 5,
   "id": "f1168879",
   "metadata": {},
   "outputs": [
    {
     "data": {
      "text/html": [
       "<div>\n",
       "<style scoped>\n",
       "    .dataframe tbody tr th:only-of-type {\n",
       "        vertical-align: middle;\n",
       "    }\n",
       "\n",
       "    .dataframe tbody tr th {\n",
       "        vertical-align: top;\n",
       "    }\n",
       "\n",
       "    .dataframe thead th {\n",
       "        text-align: right;\n",
       "    }\n",
       "</style>\n",
       "<table border=\"1\" class=\"dataframe\">\n",
       "  <thead>\n",
       "    <tr style=\"text-align: right;\">\n",
       "      <th></th>\n",
       "      <th>positive</th>\n",
       "      <th>negative</th>\n",
       "    </tr>\n",
       "  </thead>\n",
       "  <tbody>\n",
       "    <tr>\n",
       "      <th>r1</th>\n",
       "      <td>0.099977</td>\n",
       "      <td>0.721661</td>\n",
       "    </tr>\n",
       "    <tr>\n",
       "      <th>r2</th>\n",
       "      <td>0.340708</td>\n",
       "      <td>0.452531</td>\n",
       "    </tr>\n",
       "    <tr>\n",
       "      <th>r3</th>\n",
       "      <td>0.582659</td>\n",
       "      <td>0.078266</td>\n",
       "    </tr>\n",
       "  </tbody>\n",
       "</table>\n",
       "</div>"
      ],
      "text/plain": [
       "    positive  negative\n",
       "r1  0.099977  0.721661\n",
       "r2  0.340708  0.452531\n",
       "r3  0.582659  0.078266"
      ]
     },
     "execution_count": 5,
     "metadata": {},
     "output_type": "execute_result"
    }
   ],
   "source": [
    "category_profiles_flows = pd.DataFrame({'positive': [0.0999772141492737, 0.340708295896975, 0.582659478885894],\n",
    "                                        'negative': [0.721660676849356, 0.452530697813716, 0.078265825253163]}, index=profiles)\n",
    "category_profiles_flows"
   ]
  },
  {
   "cell_type": "code",
   "execution_count": 6,
   "id": "9caa9279",
   "metadata": {},
   "outputs": [
    {
     "data": {
      "text/plain": [
       "g1    0.0\n",
       "g2    0.0\n",
       "g3    0.0\n",
       "g4    0.0\n",
       "g5    0.5\n",
       "dtype: float64"
      ]
     },
     "execution_count": 6,
     "metadata": {},
     "output_type": "execute_result"
    }
   ],
   "source": [
    "criteria_thresholds = pd.Series([0, 0, 0, 0, 0.5], index=criteria)\n",
    "criteria_thresholds"
   ]
  },
  {
   "cell_type": "code",
   "execution_count": 7,
   "id": "73600bbb",
   "metadata": {},
   "outputs": [
    {
     "data": {
      "text/html": [
       "<div>\n",
       "<style scoped>\n",
       "    .dataframe tbody tr th:only-of-type {\n",
       "        vertical-align: middle;\n",
       "    }\n",
       "\n",
       "    .dataframe tbody tr th {\n",
       "        vertical-align: top;\n",
       "    }\n",
       "\n",
       "    .dataframe thead th {\n",
       "        text-align: right;\n",
       "    }\n",
       "</style>\n",
       "<table border=\"1\" class=\"dataframe\">\n",
       "  <thead>\n",
       "    <tr style=\"text-align: right;\">\n",
       "      <th></th>\n",
       "      <th>g1</th>\n",
       "      <th>g2</th>\n",
       "      <th>g3</th>\n",
       "      <th>g4</th>\n",
       "      <th>g5</th>\n",
       "    </tr>\n",
       "  </thead>\n",
       "  <tbody>\n",
       "    <tr>\n",
       "      <th>r1</th>\n",
       "      <td>65</td>\n",
       "      <td>70</td>\n",
       "      <td>25</td>\n",
       "      <td>25</td>\n",
       "      <td>65</td>\n",
       "    </tr>\n",
       "    <tr>\n",
       "      <th>r2</th>\n",
       "      <td>80</td>\n",
       "      <td>80</td>\n",
       "      <td>18</td>\n",
       "      <td>15</td>\n",
       "      <td>75</td>\n",
       "    </tr>\n",
       "    <tr>\n",
       "      <th>r3</th>\n",
       "      <td>90</td>\n",
       "      <td>90</td>\n",
       "      <td>8</td>\n",
       "      <td>7</td>\n",
       "      <td>90</td>\n",
       "    </tr>\n",
       "  </tbody>\n",
       "</table>\n",
       "</div>"
      ],
      "text/plain": [
       "    g1  g2  g3  g4  g5\n",
       "r1  65  70  25  25  65\n",
       "r2  80  80  18  15  75\n",
       "r3  90  90   8   7  90"
      ]
     },
     "execution_count": 7,
     "metadata": {},
     "output_type": "execute_result"
    }
   ],
   "source": [
    "category_profiles_performances = pd.DataFrame([[65, 70, 25, 25, 65], [80, 80, 18, 15, 75], [90, 90, 8, 7, 90]],\n",
    "                                             index=profiles, columns=criteria)\n",
    "category_profiles_performances"
   ]
  },
  {
   "cell_type": "code",
   "execution_count": 8,
   "id": "e9968c65",
   "metadata": {},
   "outputs": [
    {
     "data": {
      "text/plain": [
       "g1    Direction.MAX\n",
       "g2    Direction.MAX\n",
       "g3    Direction.MIN\n",
       "g4    Direction.MIN\n",
       "g5    Direction.MAX\n",
       "dtype: object"
      ]
     },
     "execution_count": 8,
     "metadata": {},
     "output_type": "execute_result"
    }
   ],
   "source": [
    "criteria_directions = pd.Series([Direction.MAX, Direction.MAX, Direction.MIN, Direction.MIN, Direction.MAX], index=criteria)\n",
    "criteria_directions"
   ]
  },
  {
   "cell_type": "markdown",
   "id": "22aff1db",
   "metadata": {},
   "source": [
    "## Prom Sort"
   ]
  },
  {
   "cell_type": "code",
   "execution_count": 9,
   "id": "ad544505",
   "metadata": {},
   "outputs": [
    {
     "data": {
      "text/html": [
       "<div>\n",
       "<style scoped>\n",
       "    .dataframe tbody tr th:only-of-type {\n",
       "        vertical-align: middle;\n",
       "    }\n",
       "\n",
       "    .dataframe tbody tr th {\n",
       "        vertical-align: top;\n",
       "    }\n",
       "\n",
       "    .dataframe thead th {\n",
       "        text-align: right;\n",
       "    }\n",
       "</style>\n",
       "<table border=\"1\" class=\"dataframe\">\n",
       "  <thead>\n",
       "    <tr style=\"text-align: right;\">\n",
       "      <th></th>\n",
       "      <th>worse</th>\n",
       "      <th>better</th>\n",
       "    </tr>\n",
       "  </thead>\n",
       "  <tbody>\n",
       "    <tr>\n",
       "      <th>a1</th>\n",
       "      <td>C3</td>\n",
       "      <td>C3</td>\n",
       "    </tr>\n",
       "    <tr>\n",
       "      <th>a2</th>\n",
       "      <td>C3</td>\n",
       "      <td>C3</td>\n",
       "    </tr>\n",
       "    <tr>\n",
       "      <th>a3</th>\n",
       "      <td>C3</td>\n",
       "      <td>C3</td>\n",
       "    </tr>\n",
       "    <tr>\n",
       "      <th>a4</th>\n",
       "      <td>C2</td>\n",
       "      <td>C2</td>\n",
       "    </tr>\n",
       "    <tr>\n",
       "      <th>a5</th>\n",
       "      <td>C3</td>\n",
       "      <td>C3</td>\n",
       "    </tr>\n",
       "    <tr>\n",
       "      <th>a6</th>\n",
       "      <td>C3</td>\n",
       "      <td>C3</td>\n",
       "    </tr>\n",
       "    <tr>\n",
       "      <th>a7</th>\n",
       "      <td>C3</td>\n",
       "      <td>C3</td>\n",
       "    </tr>\n",
       "    <tr>\n",
       "      <th>a8</th>\n",
       "      <td>C4</td>\n",
       "      <td>C4</td>\n",
       "    </tr>\n",
       "    <tr>\n",
       "      <th>a9</th>\n",
       "      <td>C3</td>\n",
       "      <td>C3</td>\n",
       "    </tr>\n",
       "    <tr>\n",
       "      <th>a10</th>\n",
       "      <td>C1</td>\n",
       "      <td>C1</td>\n",
       "    </tr>\n",
       "    <tr>\n",
       "      <th>a11</th>\n",
       "      <td>C2</td>\n",
       "      <td>C2</td>\n",
       "    </tr>\n",
       "    <tr>\n",
       "      <th>a12</th>\n",
       "      <td>C4</td>\n",
       "      <td>C4</td>\n",
       "    </tr>\n",
       "  </tbody>\n",
       "</table>\n",
       "</div>"
      ],
      "text/plain": [
       "    worse better\n",
       "a1     C3     C3\n",
       "a2     C3     C3\n",
       "a3     C3     C3\n",
       "a4     C2     C2\n",
       "a5     C3     C3\n",
       "a6     C3     C3\n",
       "a7     C3     C3\n",
       "a8     C4     C4\n",
       "a9     C3     C3\n",
       "a10    C1     C1\n",
       "a11    C2     C2\n",
       "a12    C4     C4"
      ]
     },
     "execution_count": 9,
     "metadata": {},
     "output_type": "execute_result"
    }
   ],
   "source": [
    "actual_first_assigments, actual_final_assigments = \\\n",
    "        calculate_promsort_sorted_alternatives(categories, alternatives_flows, category_profiles_flows, criteria_thresholds,\n",
    "                                               category_profiles_performances, criteria_directions, 0, True)\n",
    "\n",
    "actual_first_assigments"
   ]
  },
  {
   "cell_type": "code",
   "execution_count": 10,
   "id": "35c48d02",
   "metadata": {},
   "outputs": [
    {
     "data": {
      "text/plain": [
       "a1     C3\n",
       "a2     C3\n",
       "a3     C3\n",
       "a4     C2\n",
       "a5     C3\n",
       "a6     C3\n",
       "a7     C3\n",
       "a8     C4\n",
       "a9     C3\n",
       "a10    C1\n",
       "a11    C2\n",
       "a12    C4\n",
       "dtype: object"
      ]
     },
     "execution_count": 10,
     "metadata": {},
     "output_type": "execute_result"
    }
   ],
   "source": [
    "actual_final_assigments"
   ]
  },
  {
   "cell_type": "code",
   "execution_count": null,
   "id": "ef25f09b",
   "metadata": {},
   "outputs": [],
   "source": []
  }
 ],
 "metadata": {
  "kernelspec": {
   "display_name": "Python 3 (ipykernel)",
   "language": "python",
   "name": "python3"
  },
  "language_info": {
   "codemirror_mode": {
    "name": "ipython",
    "version": 3
   },
   "file_extension": ".py",
   "mimetype": "text/x-python",
   "name": "python",
   "nbconvert_exporter": "python",
   "pygments_lexer": "ipython3",
   "version": "3.11.0"
  }
 },
 "nbformat": 4,
 "nbformat_minor": 5
}
