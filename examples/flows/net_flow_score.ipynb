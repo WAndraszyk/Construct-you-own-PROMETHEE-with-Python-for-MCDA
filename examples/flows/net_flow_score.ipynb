{
 "cells": [
  {
   "cell_type": "markdown",
   "id": "75eec40d",
   "metadata": {},
   "source": [
    "# Net Flow Score"
   ]
  },
  {
   "cell_type": "markdown",
   "id": "52aee925",
   "metadata": {},
   "source": [
    "This module shows an example of how to use the \"Net Flow Score\" module."
   ]
  },
  {
   "cell_type": "code",
   "execution_count": 1,
   "id": "5db132e6",
   "metadata": {},
   "outputs": [],
   "source": [
    "%config Completer.use_jedi = False"
   ]
  },
  {
   "cell_type": "markdown",
   "id": "f99cbe00",
   "metadata": {},
   "source": [
    "## Definition of inputs"
   ]
  },
  {
   "cell_type": "code",
   "execution_count": 2,
   "id": "4230982e",
   "metadata": {},
   "outputs": [],
   "source": [
    "import pandas as pd\n",
    "import sys\n",
    "sys.path.append('../..')\n",
    "\n",
    "from core.enums import ScoringFunction, ScoringFunctionDirection\n",
    "from modular_parts.flows import calculate_net_flows_score"
   ]
  },
  {
   "cell_type": "markdown",
   "id": "9f348baa",
   "metadata": {},
   "source": [
    "## Problem formalization"
   ]
  },
  {
   "cell_type": "code",
   "execution_count": 3,
   "id": "53142f22",
   "metadata": {},
   "outputs": [],
   "source": [
    "alternatives = ['a1', 'a2', 'a3', 'a4', 'a5', 'a6']"
   ]
  },
  {
   "cell_type": "code",
   "execution_count": 4,
   "id": "1c89b94d",
   "metadata": {},
   "outputs": [],
   "source": [
    "alternatives_preferences = pd.DataFrame([[0, 0.06554, 0.02185, 0.07647, 0, 0.04370],\n",
    "                                         [0.36323, 0, 0, 0.01092, 0, 0.23526],\n",
    "                                         [0.5586, 0.23632, 0, 0.05462, 0.04697, 0.44973],\n",
    "                                         [0.92353, 0.56030, 0.36767, 0, 0.39967, 0.79555],\n",
    "                                         [0.52386, 0.22617, 0.03683, 0.07647, 0, 0.43958],\n",
    "                                         [0.12798, 0.02185, 0, 0.03277, 0, 0]], index=alternatives, columns=alternatives)"
   ]
  },
  {
   "cell_type": "markdown",
   "id": "3495a584",
   "metadata": {},
   "source": [
    "## Net Flow Score"
   ]
  },
  {
   "cell_type": "markdown",
   "id": "e73b5836",
   "metadata": {},
   "source": [
    "Function: sum\n",
    "Direction: in favor"
   ]
  },
  {
   "cell_type": "code",
   "execution_count": 5,
   "id": "faf7b909",
   "metadata": {},
   "outputs": [
    {
     "data": {
      "text/plain": [
       "a1    0.20756\n",
       "a2    0.60941\n",
       "a3    1.34624\n",
       "a4    3.04672\n",
       "a5    1.30291\n",
       "a6    0.18260\n",
       "dtype: float64"
      ]
     },
     "execution_count": 5,
     "metadata": {},
     "output_type": "execute_result"
    }
   ],
   "source": [
    "nfs1 = calculate_net_flows_score(alternatives_preferences, ScoringFunction.SUM,\n",
    "                                 ScoringFunctionDirection.IN_FAVOR, avoid_same_scores=True)\n",
    "nfs1"
   ]
  },
  {
   "cell_type": "markdown",
   "id": "146c3f3d",
   "metadata": {},
   "source": [
    "Function: min Direction: against"
   ]
  },
  {
   "cell_type": "code",
   "execution_count": 6,
   "id": "b84cb0ba",
   "metadata": {},
   "outputs": [
    {
     "data": {
      "text/plain": [
       "a1   -0.12798\n",
       "a2   -0.02185\n",
       "a3   -0.03683\n",
       "a4   -0.01092\n",
       "a5   -0.04697\n",
       "a6   -0.04370\n",
       "dtype: float64"
      ]
     },
     "execution_count": 6,
     "metadata": {},
     "output_type": "execute_result"
    }
   ],
   "source": [
    "nfs2 = calculate_net_flows_score(alternatives_preferences, ScoringFunction.MIN,\n",
    "                                 ScoringFunctionDirection.AGAINST, avoid_same_scores=True)\n",
    "nfs2"
   ]
  },
  {
   "cell_type": "markdown",
   "id": "e0873fbf",
   "metadata": {},
   "source": [
    "Function: max Direction: difference"
   ]
  },
  {
   "cell_type": "code",
   "execution_count": 7,
   "id": "bb2c38fd",
   "metadata": {},
   "outputs": [
    {
     "data": {
      "text/plain": [
       "a1   -0.08428\n",
       "a2    0.29769\n",
       "a3    0.53675\n",
       "a4    0.84706\n",
       "a5    0.52386\n",
       "a6    0.08428\n",
       "dtype: float64"
      ]
     },
     "execution_count": 7,
     "metadata": {},
     "output_type": "execute_result"
    }
   ],
   "source": [
    "nfs3 = calculate_net_flows_score(alternatives_preferences, ScoringFunction.MAX,\n",
    "                                 ScoringFunctionDirection.DIFFERENCE, avoid_same_scores=True)\n",
    "nfs3"
   ]
  },
  {
   "cell_type": "code",
   "execution_count": null,
   "id": "14f0c337",
   "metadata": {},
   "outputs": [],
   "source": []
  }
 ],
 "metadata": {
  "kernelspec": {
   "display_name": "Python 3 (ipykernel)",
   "language": "python",
   "name": "python3"
  },
  "language_info": {
   "codemirror_mode": {
    "name": "ipython",
    "version": 3
   },
   "file_extension": ".py",
   "mimetype": "text/x-python",
   "name": "python",
   "nbconvert_exporter": "python",
   "pygments_lexer": "ipython3",
   "version": "3.9.11"
  }
 },
 "nbformat": 4,
 "nbformat_minor": 5
}
