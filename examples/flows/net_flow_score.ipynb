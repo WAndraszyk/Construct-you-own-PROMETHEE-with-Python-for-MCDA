{
 "cells": [
  {
   "cell_type": "markdown",
   "id": "75eec40d",
   "metadata": {},
   "source": [
    "# Net Flow Score"
   ]
  },
  {
   "cell_type": "markdown",
   "id": "52aee925",
   "metadata": {},
   "source": [
    "This module shows an example of how to use the \"Net Flow Score\" module."
   ]
  },
  {
   "cell_type": "code",
   "execution_count": 1,
   "id": "5db132e6",
   "metadata": {},
   "outputs": [],
   "source": [
    "%config Completer.use_jedi = False"
   ]
  },
  {
   "cell_type": "markdown",
   "id": "f99cbe00",
   "metadata": {},
   "source": [
    "## Definition of inputs and problem formalization"
   ]
  },
  {
   "cell_type": "code",
   "execution_count": 2,
   "id": "4230982e",
   "metadata": {},
   "outputs": [],
   "source": [
    "import pandas as pd\n",
    "from core.enums import ScoringFunction, ScoringFunctionDirection\n",
    "from modular_parts.M10_NetFlowScore import calculate_net_flows_score\n",
    "\n",
    "alternatives = pd.Index([f\"a{i}\" for i in range(1,7)])\n",
    "alternatives_preferences = pd.DataFrame([[0, 0.06554, 0.02185, 0.07647, 0, 0.04370],\n",
    "                                         [0.36323, 0, 0, 0.01092, 0, 0.23526],\n",
    "                                         [0.5586, 0.23632, 0, 0.05462, 0.04697, 0.44973],\n",
    "                                         [0.92353, 0.56030, 0.36767, 0, 0.39967, 0.79555],\n",
    "                                         [0.52386, 0.22617, 0.03683, 0.07647, 0, 0.43958],\n",
    "                                         [0.12798, 0.02185, 0, 0.03277, 0, 0]], index=alternatives, columns=alternatives)"
   ]
  },
  {
   "cell_type": "markdown",
   "id": "3495a584",
   "metadata": {},
   "source": [
    "## Usage of Net Flow Score"
   ]
  },
  {
   "cell_type": "markdown",
   "id": "7729de9d",
   "metadata": {},
   "source": [
    "### ScoringFunction : MAX"
   ]
  },
  {
   "cell_type": "code",
   "execution_count": 3,
   "id": "5842c70f",
   "metadata": {},
   "outputs": [
    {
     "data": {
      "text/plain": [
       "a1    0.07647\n",
       "a2    0.36323\n",
       "a3    0.55860\n",
       "a4    0.92353\n",
       "a5    0.52386\n",
       "a6    0.12798\n",
       "dtype: float64"
      ]
     },
     "execution_count": 3,
     "metadata": {},
     "output_type": "execute_result"
    }
   ],
   "source": [
    "nfs1 = calculate_net_flows_score(alternatives_preferences, ScoringFunction.MAX,\n",
    "                                 ScoringFunctionDirection.IN_FAVOR, avoid_same_scores=False)\n",
    "nfs1"
   ]
  },
  {
   "cell_type": "code",
   "execution_count": 4,
   "id": "fb7fe653",
   "metadata": {},
   "outputs": [
    {
     "data": {
      "text/plain": [
       "a1   -0.92353\n",
       "a2   -0.56030\n",
       "a3   -0.36767\n",
       "a4   -0.07647\n",
       "a5   -0.39967\n",
       "a6   -0.79555\n",
       "dtype: float64"
      ]
     },
     "execution_count": 4,
     "metadata": {},
     "output_type": "execute_result"
    }
   ],
   "source": [
    "nfs2 = calculate_net_flows_score(alternatives_preferences, ScoringFunction.MAX,\n",
    "                                 ScoringFunctionDirection.AGAINST, avoid_same_scores=True)\n",
    "nfs2"
   ]
  },
  {
   "cell_type": "code",
   "execution_count": 5,
   "id": "236bd90b",
   "metadata": {},
   "outputs": [
    {
     "data": {
      "text/plain": [
       "a1   -0.08428\n",
       "a2    0.29769\n",
       "a3    0.53675\n",
       "a4    0.84706\n",
       "a5    0.52386\n",
       "a6    0.08428\n",
       "dtype: float64"
      ]
     },
     "execution_count": 5,
     "metadata": {},
     "output_type": "execute_result"
    }
   ],
   "source": [
    "nfs3 = calculate_net_flows_score(alternatives_preferences, ScoringFunction.MAX,\n",
    "                                 ScoringFunctionDirection.DIFFERENCE, avoid_same_scores=True)\n",
    "nfs3"
   ]
  },
  {
   "cell_type": "markdown",
   "id": "360e7812",
   "metadata": {},
   "source": [
    "### ScoringFunction : MIN"
   ]
  },
  {
   "cell_type": "code",
   "execution_count": 6,
   "id": "38ee2e5b",
   "metadata": {},
   "outputs": [
    {
     "data": {
      "text/plain": [
       "a1    0.00000\n",
       "a2    0.00000\n",
       "a3    0.04697\n",
       "a4    0.36767\n",
       "a5    0.03683\n",
       "a6    0.00000\n",
       "dtype: float64"
      ]
     },
     "execution_count": 6,
     "metadata": {},
     "output_type": "execute_result"
    }
   ],
   "source": [
    "nfs4 = calculate_net_flows_score(alternatives_preferences, ScoringFunction.MIN,\n",
    "                                 ScoringFunctionDirection.IN_FAVOR, avoid_same_scores=False)\n",
    "nfs4"
   ]
  },
  {
   "cell_type": "code",
   "execution_count": 7,
   "id": "55b4010f",
   "metadata": {},
   "outputs": [
    {
     "data": {
      "text/plain": [
       "a1   -0.12798\n",
       "a2   -0.02185\n",
       "a3   -0.03683\n",
       "a4   -0.01092\n",
       "a5   -0.04697\n",
       "a6   -0.04370\n",
       "dtype: float64"
      ]
     },
     "execution_count": 7,
     "metadata": {},
     "output_type": "execute_result"
    }
   ],
   "source": [
    "nfs5 = calculate_net_flows_score(alternatives_preferences, ScoringFunction.MIN,\n",
    "                                 ScoringFunctionDirection.AGAINST, avoid_same_scores=True)\n",
    "nfs5"
   ]
  },
  {
   "cell_type": "code",
   "execution_count": 8,
   "id": "7a65b4a6",
   "metadata": {},
   "outputs": [
    {
     "data": {
      "text/plain": [
       "a1   -0.84706\n",
       "a2   -0.54938\n",
       "a3   -0.31305\n",
       "a4    0.31305\n",
       "a5   -0.32320\n",
       "a6   -0.76278\n",
       "dtype: float64"
      ]
     },
     "execution_count": 8,
     "metadata": {},
     "output_type": "execute_result"
    }
   ],
   "source": [
    "nfs6 = calculate_net_flows_score(alternatives_preferences, ScoringFunction.MIN,\n",
    "                                 ScoringFunctionDirection.DIFFERENCE, avoid_same_scores=True)\n",
    "nfs6"
   ]
  },
  {
   "cell_type": "markdown",
   "id": "e73b5836",
   "metadata": {},
   "source": [
    "### ScoringFunction : SUM"
   ]
  },
  {
   "cell_type": "code",
   "execution_count": 9,
   "id": "faf7b909",
   "metadata": {},
   "outputs": [
    {
     "data": {
      "text/plain": [
       "a1    0.20756\n",
       "a2    0.60941\n",
       "a3    1.34624\n",
       "a4    3.04672\n",
       "a5    1.30291\n",
       "a6    0.18260\n",
       "dtype: float64"
      ]
     },
     "execution_count": 9,
     "metadata": {},
     "output_type": "execute_result"
    }
   ],
   "source": [
    "nfs7 = calculate_net_flows_score(alternatives_preferences, ScoringFunction.SUM,\n",
    "                                 ScoringFunctionDirection.IN_FAVOR, avoid_same_scores=False)\n",
    "nfs7"
   ]
  },
  {
   "cell_type": "code",
   "execution_count": 10,
   "id": "b84cb0ba",
   "metadata": {},
   "outputs": [
    {
     "data": {
      "text/plain": [
       "a1   -2.49720\n",
       "a2   -1.11018\n",
       "a3   -0.42635\n",
       "a4   -0.25125\n",
       "a5   -0.44664\n",
       "a6   -1.96382\n",
       "dtype: float64"
      ]
     },
     "execution_count": 10,
     "metadata": {},
     "output_type": "execute_result"
    }
   ],
   "source": [
    "nfs8 = calculate_net_flows_score(alternatives_preferences, ScoringFunction.SUM,\n",
    "                                 ScoringFunctionDirection.AGAINST, avoid_same_scores=True)\n",
    "nfs8"
   ]
  },
  {
   "cell_type": "code",
   "execution_count": 11,
   "id": "bb2c38fd",
   "metadata": {},
   "outputs": [
    {
     "data": {
      "text/plain": [
       "a1   -0.08428\n",
       "a2    0.29769\n",
       "a3    0.53675\n",
       "a4    0.84706\n",
       "a5    0.52386\n",
       "a6    0.08428\n",
       "dtype: float64"
      ]
     },
     "execution_count": 11,
     "metadata": {},
     "output_type": "execute_result"
    }
   ],
   "source": [
    "nfs9 = calculate_net_flows_score(alternatives_preferences, ScoringFunction.MAX,\n",
    "                                 ScoringFunctionDirection.DIFFERENCE, avoid_same_scores=True)\n",
    "nfs9"
   ]
  }
 ],
 "metadata": {
  "kernelspec": {
   "display_name": "Python 3 (ipykernel)",
   "language": "python",
   "name": "python3"
  },
  "language_info": {
   "codemirror_mode": {
    "name": "ipython",
    "version": 3
   },
   "file_extension": ".py",
   "mimetype": "text/x-python",
   "name": "python",
   "nbconvert_exporter": "python",
   "pygments_lexer": "ipython3",
   "version": "3.9.11"
  }
 },
 "nbformat": 4,
 "nbformat_minor": 5
}