{
 "cells": [
  {
   "cell_type": "code",
   "execution_count": 12,
   "outputs": [
    {
     "data": {
      "text/plain": "    positive  negative\na1    0.9342    0.9845\na2    0.9406    0.8373\na3    0.1875    0.3045\na4    0.0395    0.6059\na5    0.4318    0.2914\na6    0.1159    0.0194\na7    0.8456    0.0777\na8    0.0536    0.3614\na9    0.6121    0.7187",
      "text/html": "<div>\n<style scoped>\n    .dataframe tbody tr th:only-of-type {\n        vertical-align: middle;\n    }\n\n    .dataframe tbody tr th {\n        vertical-align: top;\n    }\n\n    .dataframe thead th {\n        text-align: right;\n    }\n</style>\n<table border=\"1\" class=\"dataframe\">\n  <thead>\n    <tr style=\"text-align: right;\">\n      <th></th>\n      <th>positive</th>\n      <th>negative</th>\n    </tr>\n  </thead>\n  <tbody>\n    <tr>\n      <th>a1</th>\n      <td>0.9342</td>\n      <td>0.9845</td>\n    </tr>\n    <tr>\n      <th>a2</th>\n      <td>0.9406</td>\n      <td>0.8373</td>\n    </tr>\n    <tr>\n      <th>a3</th>\n      <td>0.1875</td>\n      <td>0.3045</td>\n    </tr>\n    <tr>\n      <th>a4</th>\n      <td>0.0395</td>\n      <td>0.6059</td>\n    </tr>\n    <tr>\n      <th>a5</th>\n      <td>0.4318</td>\n      <td>0.2914</td>\n    </tr>\n    <tr>\n      <th>a6</th>\n      <td>0.1159</td>\n      <td>0.0194</td>\n    </tr>\n    <tr>\n      <th>a7</th>\n      <td>0.8456</td>\n      <td>0.0777</td>\n    </tr>\n    <tr>\n      <th>a8</th>\n      <td>0.0536</td>\n      <td>0.3614</td>\n    </tr>\n    <tr>\n      <th>a9</th>\n      <td>0.6121</td>\n      <td>0.7187</td>\n    </tr>\n  </tbody>\n</table>\n</div>"
     },
     "execution_count": 12,
     "metadata": {},
     "output_type": "execute_result"
    }
   ],
   "source": [
    "import pandas as pd\n",
    "from  modular_parts.flows import calculate_net_outranking_flows_for_prometheeII, calculate_net_outranking_flows\n",
    "import random\n",
    "\n",
    "alternatives = [f\"a{i}\" for i in range(1, 10)]\n",
    "positive = [random.uniform(0,1).__round__(4)  for i in range(1, 10)]\n",
    "negative = [random.uniform(0,1).__round__(4)  for i in range(1, 10)]\n",
    "outranking_flows = pd.DataFrame({'positive': positive,\n",
    "                             'negative': negative\n",
    "                             }, index=alternatives)\n",
    "outranking_flows"
   ],
   "metadata": {
    "collapsed": false,
    "pycharm": {
     "name": "#%%\n"
    }
   }
  },
  {
   "cell_type": "code",
   "execution_count": 13,
   "outputs": [
    {
     "data": {
      "text/plain": "a1   -0.0503\na2    0.1033\na3   -0.1170\na4   -0.5664\na5    0.1404\na6    0.0965\na7    0.7679\na8   -0.3078\na9   -0.1066\nName: Net outranking flow, dtype: float64"
     },
     "execution_count": 13,
     "metadata": {},
     "output_type": "execute_result"
    }
   ],
   "source": [
    "net_outranking_flow = calculate_net_outranking_flows(outranking_flows)\n",
    "net_outranking_flow"
   ],
   "metadata": {
    "collapsed": false,
    "pycharm": {
     "name": "#%%\n"
    }
   }
  },
  {
   "cell_type": "code",
   "execution_count": 14,
   "outputs": [
    {
     "data": {
      "text/plain": "    positive  negative     net\na1    0.9342    0.9845 -0.0503\na2    0.9406    0.8373  0.1033\na3    0.1875    0.3045 -0.1170\na4    0.0395    0.6059 -0.5664\na5    0.4318    0.2914  0.1404\na6    0.1159    0.0194  0.0965\na7    0.8456    0.0777  0.7679\na8    0.0536    0.3614 -0.3078\na9    0.6121    0.7187 -0.1066",
      "text/html": "<div>\n<style scoped>\n    .dataframe tbody tr th:only-of-type {\n        vertical-align: middle;\n    }\n\n    .dataframe tbody tr th {\n        vertical-align: top;\n    }\n\n    .dataframe thead th {\n        text-align: right;\n    }\n</style>\n<table border=\"1\" class=\"dataframe\">\n  <thead>\n    <tr style=\"text-align: right;\">\n      <th></th>\n      <th>positive</th>\n      <th>negative</th>\n      <th>net</th>\n    </tr>\n  </thead>\n  <tbody>\n    <tr>\n      <th>a1</th>\n      <td>0.9342</td>\n      <td>0.9845</td>\n      <td>-0.0503</td>\n    </tr>\n    <tr>\n      <th>a2</th>\n      <td>0.9406</td>\n      <td>0.8373</td>\n      <td>0.1033</td>\n    </tr>\n    <tr>\n      <th>a3</th>\n      <td>0.1875</td>\n      <td>0.3045</td>\n      <td>-0.1170</td>\n    </tr>\n    <tr>\n      <th>a4</th>\n      <td>0.0395</td>\n      <td>0.6059</td>\n      <td>-0.5664</td>\n    </tr>\n    <tr>\n      <th>a5</th>\n      <td>0.4318</td>\n      <td>0.2914</td>\n      <td>0.1404</td>\n    </tr>\n    <tr>\n      <th>a6</th>\n      <td>0.1159</td>\n      <td>0.0194</td>\n      <td>0.0965</td>\n    </tr>\n    <tr>\n      <th>a7</th>\n      <td>0.8456</td>\n      <td>0.0777</td>\n      <td>0.7679</td>\n    </tr>\n    <tr>\n      <th>a8</th>\n      <td>0.0536</td>\n      <td>0.3614</td>\n      <td>-0.3078</td>\n    </tr>\n    <tr>\n      <th>a9</th>\n      <td>0.6121</td>\n      <td>0.7187</td>\n      <td>-0.1066</td>\n    </tr>\n  </tbody>\n</table>\n</div>"
     },
     "execution_count": 14,
     "metadata": {},
     "output_type": "execute_result"
    }
   ],
   "source": [
    "net_outranking_flowII = calculate_net_outranking_flows_for_prometheeII(outranking_flows)\n",
    "net_outranking_flowII"
   ],
   "metadata": {
    "collapsed": false,
    "pycharm": {
     "name": "#%%\n"
    }
   }
  }
 ],
 "metadata": {
  "kernelspec": {
   "display_name": "Python 3",
   "language": "python",
   "name": "python3"
  },
  "language_info": {
   "codemirror_mode": {
    "name": "ipython",
    "version": 2
   },
   "file_extension": ".py",
   "mimetype": "text/x-python",
   "name": "python",
   "nbconvert_exporter": "python",
   "pygments_lexer": "ipython2",
   "version": "2.7.6"
  }
 },
 "nbformat": 4,
 "nbformat_minor": 0
}