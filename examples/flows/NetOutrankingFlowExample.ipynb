{
 "cells": [
  {
   "cell_type": "markdown",
   "metadata": {
    "pycharm": {
     "name": "#%% md\n"
    }
   },
   "source": [
    "# Net Outranking Flow\n",
    "This module shows an example of how to use the “Net Outranking Flow” module."
   ]
  },
  {
   "cell_type": "markdown",
   "metadata": {
    "pycharm": {
     "name": "#%% md\n"
    }
   },
   "source": [
    "## Definition of inputs and problem formalization"
   ]
  },
  {
   "cell_type": "code",
   "execution_count": 6,
   "metadata": {
    "pycharm": {
     "name": "#%%\n"
    }
   },
   "outputs": [
    {
     "data": {
      "text/html": [
       "<div>\n",
       "<style scoped>\n",
       "    .dataframe tbody tr th:only-of-type {\n",
       "        vertical-align: middle;\n",
       "    }\n",
       "\n",
       "    .dataframe tbody tr th {\n",
       "        vertical-align: top;\n",
       "    }\n",
       "\n",
       "    .dataframe thead th {\n",
       "        text-align: right;\n",
       "    }\n",
       "</style>\n",
       "<table border=\"1\" class=\"dataframe\">\n",
       "  <thead>\n",
       "    <tr style=\"text-align: right;\">\n",
       "      <th></th>\n",
       "      <th>positive</th>\n",
       "      <th>negative</th>\n",
       "    </tr>\n",
       "  </thead>\n",
       "  <tbody>\n",
       "    <tr>\n",
       "      <th>a1</th>\n",
       "      <td>0.7377</td>\n",
       "      <td>0.0994</td>\n",
       "    </tr>\n",
       "    <tr>\n",
       "      <th>a2</th>\n",
       "      <td>0.1567</td>\n",
       "      <td>0.4513</td>\n",
       "    </tr>\n",
       "    <tr>\n",
       "      <th>a3</th>\n",
       "      <td>0.7950</td>\n",
       "      <td>0.6885</td>\n",
       "    </tr>\n",
       "    <tr>\n",
       "      <th>a4</th>\n",
       "      <td>0.1932</td>\n",
       "      <td>0.4056</td>\n",
       "    </tr>\n",
       "    <tr>\n",
       "      <th>a5</th>\n",
       "      <td>0.5963</td>\n",
       "      <td>0.4747</td>\n",
       "    </tr>\n",
       "    <tr>\n",
       "      <th>a6</th>\n",
       "      <td>0.6792</td>\n",
       "      <td>0.5502</td>\n",
       "    </tr>\n",
       "    <tr>\n",
       "      <th>a7</th>\n",
       "      <td>0.4462</td>\n",
       "      <td>0.8282</td>\n",
       "    </tr>\n",
       "    <tr>\n",
       "      <th>a8</th>\n",
       "      <td>0.3918</td>\n",
       "      <td>0.1565</td>\n",
       "    </tr>\n",
       "    <tr>\n",
       "      <th>a9</th>\n",
       "      <td>0.2858</td>\n",
       "      <td>0.5653</td>\n",
       "    </tr>\n",
       "  </tbody>\n",
       "</table>\n",
       "</div>"
      ],
      "text/plain": [
       "    positive  negative\n",
       "a1    0.7377    0.0994\n",
       "a2    0.1567    0.4513\n",
       "a3    0.7950    0.6885\n",
       "a4    0.1932    0.4056\n",
       "a5    0.5963    0.4747\n",
       "a6    0.6792    0.5502\n",
       "a7    0.4462    0.8282\n",
       "a8    0.3918    0.1565\n",
       "a9    0.2858    0.5653"
      ]
     },
     "execution_count": 6,
     "metadata": {},
     "output_type": "execute_result"
    }
   ],
   "source": [
    "import pandas as pd\n",
    "from modular_parts.flows import calculate_net_outranking_flows\n",
    "import random\n",
    "\n",
    "alternatives = [f\"a{i}\" for i in range(1, 10)]\n",
    "positive = [random.uniform(0, 1).__round__(4) for i in range(1, 10)]\n",
    "negative = [random.uniform(0, 1).__round__(4) for i in range(1, 10)]\n",
    "outranking_flows = pd.DataFrame({'positive': positive,\n",
    "                                 'negative': negative\n",
    "                                 }, index=alternatives)\n",
    "outranking_flows"
   ]
  },
  {
   "cell_type": "markdown",
   "metadata": {
    "pycharm": {
     "name": "#%% md\n"
    }
   },
   "source": [
    "## Net flow"
   ]
  },
  {
   "cell_type": "code",
   "execution_count": 9,
   "metadata": {
    "pycharm": {
     "name": "#%%\n"
    }
   },
   "outputs": [
    {
     "data": {
      "text/plain": [
       "a1    0.6383\n",
       "a2   -0.2946\n",
       "a3    0.1065\n",
       "a4   -0.2124\n",
       "a5    0.1216\n",
       "a6    0.1290\n",
       "a7   -0.3820\n",
       "a8    0.2353\n",
       "a9   -0.2795\n",
       "Name: Net outranking flow, dtype: float64"
      ]
     },
     "execution_count": 9,
     "metadata": {},
     "output_type": "execute_result"
    }
   ],
   "source": [
    "calculate_net_outranking_flows(outranking_flows)"
   ]
  },
  {
   "cell_type": "markdown",
   "metadata": {
    "pycharm": {
     "name": "#%% md\n"
    }
   },
   "source": [
    "# Net outranking flow for FlowSort II\n",
    "FlowSort II requires Dataframe containing all three flows: positive, negative, and net."
   ]
  },
  {
   "cell_type": "code",
   "execution_count": 11,
   "metadata": {
    "pycharm": {
     "name": "#%%\n"
    }
   },
   "outputs": [
    {
     "data": {
      "text/html": [
       "<div>\n",
       "<style scoped>\n",
       "    .dataframe tbody tr th:only-of-type {\n",
       "        vertical-align: middle;\n",
       "    }\n",
       "\n",
       "    .dataframe tbody tr th {\n",
       "        vertical-align: top;\n",
       "    }\n",
       "\n",
       "    .dataframe thead th {\n",
       "        text-align: right;\n",
       "    }\n",
       "</style>\n",
       "<table border=\"1\" class=\"dataframe\">\n",
       "  <thead>\n",
       "    <tr style=\"text-align: right;\">\n",
       "      <th></th>\n",
       "      <th>positive</th>\n",
       "      <th>negative</th>\n",
       "      <th>net</th>\n",
       "    </tr>\n",
       "  </thead>\n",
       "  <tbody>\n",
       "    <tr>\n",
       "      <th>a1</th>\n",
       "      <td>0.7377</td>\n",
       "      <td>0.0994</td>\n",
       "      <td>0.6383</td>\n",
       "    </tr>\n",
       "    <tr>\n",
       "      <th>a2</th>\n",
       "      <td>0.1567</td>\n",
       "      <td>0.4513</td>\n",
       "      <td>-0.2946</td>\n",
       "    </tr>\n",
       "    <tr>\n",
       "      <th>a3</th>\n",
       "      <td>0.7950</td>\n",
       "      <td>0.6885</td>\n",
       "      <td>0.1065</td>\n",
       "    </tr>\n",
       "    <tr>\n",
       "      <th>a4</th>\n",
       "      <td>0.1932</td>\n",
       "      <td>0.4056</td>\n",
       "      <td>-0.2124</td>\n",
       "    </tr>\n",
       "    <tr>\n",
       "      <th>a5</th>\n",
       "      <td>0.5963</td>\n",
       "      <td>0.4747</td>\n",
       "      <td>0.1216</td>\n",
       "    </tr>\n",
       "    <tr>\n",
       "      <th>a6</th>\n",
       "      <td>0.6792</td>\n",
       "      <td>0.5502</td>\n",
       "      <td>0.1290</td>\n",
       "    </tr>\n",
       "    <tr>\n",
       "      <th>a7</th>\n",
       "      <td>0.4462</td>\n",
       "      <td>0.8282</td>\n",
       "      <td>-0.3820</td>\n",
       "    </tr>\n",
       "    <tr>\n",
       "      <th>a8</th>\n",
       "      <td>0.3918</td>\n",
       "      <td>0.1565</td>\n",
       "      <td>0.2353</td>\n",
       "    </tr>\n",
       "    <tr>\n",
       "      <th>a9</th>\n",
       "      <td>0.2858</td>\n",
       "      <td>0.5653</td>\n",
       "      <td>-0.2795</td>\n",
       "    </tr>\n",
       "  </tbody>\n",
       "</table>\n",
       "</div>"
      ],
      "text/plain": [
       "    positive  negative     net\n",
       "a1    0.7377    0.0994  0.6383\n",
       "a2    0.1567    0.4513 -0.2946\n",
       "a3    0.7950    0.6885  0.1065\n",
       "a4    0.1932    0.4056 -0.2124\n",
       "a5    0.5963    0.4747  0.1216\n",
       "a6    0.6792    0.5502  0.1290\n",
       "a7    0.4462    0.8282 -0.3820\n",
       "a8    0.3918    0.1565  0.2353\n",
       "a9    0.2858    0.5653 -0.2795"
      ]
     },
     "execution_count": 11,
     "metadata": {},
     "output_type": "execute_result"
    }
   ],
   "source": [
    "calculate_net_outranking_flows(outranking_flows, True)"
   ]
  }
 ],
 "metadata": {
  "kernelspec": {
   "display_name": "Python 3 (ipykernel)",
   "language": "python",
   "name": "python3"
  },
  "language_info": {
   "codemirror_mode": {
    "name": "ipython",
    "version": 3
   },
   "file_extension": ".py",
   "mimetype": "text/x-python",
   "name": "python",
   "nbconvert_exporter": "python",
   "pygments_lexer": "ipython3",
   "version": "3.9.11"
  }
 },
 "nbformat": 4,
 "nbformat_minor": 1
}