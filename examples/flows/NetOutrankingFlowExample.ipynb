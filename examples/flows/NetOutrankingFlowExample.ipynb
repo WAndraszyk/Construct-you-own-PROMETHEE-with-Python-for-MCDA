{
 "cells": [
  {
   "cell_type": "code",
   "execution_count": 1,
   "outputs": [
    {
     "data": {
      "text/plain": "    positive  negative\na1    0.6922    0.5642\na2    0.6114    0.7014\na3    0.0931    0.6061\na4    0.4089    0.9430\na5    0.7531    0.8647\na6    0.5666    0.2845\na7    0.7947    0.0256\na8    0.5250    0.5241\na9    0.4136    0.6132",
      "text/html": "<div>\n<style scoped>\n    .dataframe tbody tr th:only-of-type {\n        vertical-align: middle;\n    }\n\n    .dataframe tbody tr th {\n        vertical-align: top;\n    }\n\n    .dataframe thead th {\n        text-align: right;\n    }\n</style>\n<table border=\"1\" class=\"dataframe\">\n  <thead>\n    <tr style=\"text-align: right;\">\n      <th></th>\n      <th>positive</th>\n      <th>negative</th>\n    </tr>\n  </thead>\n  <tbody>\n    <tr>\n      <th>a1</th>\n      <td>0.6922</td>\n      <td>0.5642</td>\n    </tr>\n    <tr>\n      <th>a2</th>\n      <td>0.6114</td>\n      <td>0.7014</td>\n    </tr>\n    <tr>\n      <th>a3</th>\n      <td>0.0931</td>\n      <td>0.6061</td>\n    </tr>\n    <tr>\n      <th>a4</th>\n      <td>0.4089</td>\n      <td>0.9430</td>\n    </tr>\n    <tr>\n      <th>a5</th>\n      <td>0.7531</td>\n      <td>0.8647</td>\n    </tr>\n    <tr>\n      <th>a6</th>\n      <td>0.5666</td>\n      <td>0.2845</td>\n    </tr>\n    <tr>\n      <th>a7</th>\n      <td>0.7947</td>\n      <td>0.0256</td>\n    </tr>\n    <tr>\n      <th>a8</th>\n      <td>0.5250</td>\n      <td>0.5241</td>\n    </tr>\n    <tr>\n      <th>a9</th>\n      <td>0.4136</td>\n      <td>0.6132</td>\n    </tr>\n  </tbody>\n</table>\n</div>"
     },
     "execution_count": 1,
     "metadata": {},
     "output_type": "execute_result"
    }
   ],
   "source": [
    "import pandas as pd\n",
    "from  modular_parts.flows import calculate_net_outranking_flows\n",
    "import random\n",
    "\n",
    "alternatives = [f\"a{i}\" for i in range(1, 10)]\n",
    "positive = [random.uniform(0,1).__round__(4)  for i in range(1, 10)]\n",
    "negative = [random.uniform(0,1).__round__(4)  for i in range(1, 10)]\n",
    "outranking_flows = pd.DataFrame({'positive': positive,\n",
    "                             'negative': negative\n",
    "                             }, index=alternatives)\n",
    "outranking_flows"
   ],
   "metadata": {
    "collapsed": false,
    "pycharm": {
     "name": "#%%\n"
    }
   }
  },
  {
   "cell_type": "code",
   "execution_count": 2,
   "outputs": [
    {
     "data": {
      "text/plain": "a1    0.1280\na2   -0.0900\na3   -0.5130\na4   -0.5341\na5   -0.1116\na6    0.2821\na7    0.7691\na8    0.0009\na9   -0.1996\nName: Net outranking flow, dtype: float64"
     },
     "execution_count": 2,
     "metadata": {},
     "output_type": "execute_result"
    }
   ],
   "source": [
    "net_outranking_flow = calculate_net_outranking_flows(outranking_flows)\n",
    "net_outranking_flow"
   ],
   "metadata": {
    "collapsed": false,
    "pycharm": {
     "name": "#%%\n"
    }
   }
  },
  {
   "cell_type": "code",
   "execution_count": 3,
   "outputs": [
    {
     "data": {
      "text/plain": "    positive  negative     net\na1    0.6922    0.5642  0.1280\na2    0.6114    0.7014 -0.0900\na3    0.0931    0.6061 -0.5130\na4    0.4089    0.9430 -0.5341\na5    0.7531    0.8647 -0.1116\na6    0.5666    0.2845  0.2821\na7    0.7947    0.0256  0.7691\na8    0.5250    0.5241  0.0009\na9    0.4136    0.6132 -0.1996",
      "text/html": "<div>\n<style scoped>\n    .dataframe tbody tr th:only-of-type {\n        vertical-align: middle;\n    }\n\n    .dataframe tbody tr th {\n        vertical-align: top;\n    }\n\n    .dataframe thead th {\n        text-align: right;\n    }\n</style>\n<table border=\"1\" class=\"dataframe\">\n  <thead>\n    <tr style=\"text-align: right;\">\n      <th></th>\n      <th>positive</th>\n      <th>negative</th>\n      <th>net</th>\n    </tr>\n  </thead>\n  <tbody>\n    <tr>\n      <th>a1</th>\n      <td>0.6922</td>\n      <td>0.5642</td>\n      <td>0.1280</td>\n    </tr>\n    <tr>\n      <th>a2</th>\n      <td>0.6114</td>\n      <td>0.7014</td>\n      <td>-0.0900</td>\n    </tr>\n    <tr>\n      <th>a3</th>\n      <td>0.0931</td>\n      <td>0.6061</td>\n      <td>-0.5130</td>\n    </tr>\n    <tr>\n      <th>a4</th>\n      <td>0.4089</td>\n      <td>0.9430</td>\n      <td>-0.5341</td>\n    </tr>\n    <tr>\n      <th>a5</th>\n      <td>0.7531</td>\n      <td>0.8647</td>\n      <td>-0.1116</td>\n    </tr>\n    <tr>\n      <th>a6</th>\n      <td>0.5666</td>\n      <td>0.2845</td>\n      <td>0.2821</td>\n    </tr>\n    <tr>\n      <th>a7</th>\n      <td>0.7947</td>\n      <td>0.0256</td>\n      <td>0.7691</td>\n    </tr>\n    <tr>\n      <th>a8</th>\n      <td>0.5250</td>\n      <td>0.5241</td>\n      <td>0.0009</td>\n    </tr>\n    <tr>\n      <th>a9</th>\n      <td>0.4136</td>\n      <td>0.6132</td>\n      <td>-0.1996</td>\n    </tr>\n  </tbody>\n</table>\n</div>"
     },
     "execution_count": 3,
     "metadata": {},
     "output_type": "execute_result"
    }
   ],
   "source": [
    "net_outranking_flowII = calculate_net_outranking_flows(outranking_flows, True)\n",
    "net_outranking_flowII"
   ],
   "metadata": {
    "collapsed": false,
    "pycharm": {
     "name": "#%%\n"
    }
   }
  }
 ],
 "metadata": {
  "kernelspec": {
   "display_name": "Python 3",
   "language": "python",
   "name": "python3"
  },
  "language_info": {
   "codemirror_mode": {
    "name": "ipython",
    "version": 2
   },
   "file_extension": ".py",
   "mimetype": "text/x-python",
   "name": "python",
   "nbconvert_exporter": "python",
   "pygments_lexer": "ipython2",
   "version": "2.7.6"
  }
 },
 "nbformat": 4,
 "nbformat_minor": 0
}