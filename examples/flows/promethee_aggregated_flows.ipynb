{
 "cells": [
  {
   "cell_type": "markdown",
   "id": "e6bce4cd",
   "metadata": {},
   "source": [
    "# Promethee Aggregated Flows"
   ]
  },
  {
   "cell_type": "markdown",
   "id": "94e074f1",
   "metadata": {},
   "source": [
    "This module shows an example of how to use the \"Promethee Aggregated Flows\" module."
   ]
  },
  {
   "cell_type": "code",
   "execution_count": 1,
   "id": "f6f2aec1",
   "metadata": {},
   "outputs": [],
   "source": [
    "%config Completer.use_jedi = False"
   ]
  },
  {
   "cell_type": "markdown",
   "id": "d5c3d1cc",
   "metadata": {},
   "source": [
    "## Definition of inputs"
   ]
  },
  {
   "cell_type": "code",
   "execution_count": 2,
   "id": "6e9a49cb",
   "metadata": {},
   "outputs": [],
   "source": [
    "import pandas as pd\n",
    "import sys\n",
    "sys.path.append('../..')\n",
    "\n",
    "from modular_parts.flows import calculate_promethee_group_ranking"
   ]
  },
  {
   "cell_type": "markdown",
   "id": "e2993870",
   "metadata": {},
   "source": [
    "## Problem formalization"
   ]
  },
  {
   "cell_type": "code",
   "execution_count": 3,
   "id": "968967c2",
   "metadata": {},
   "outputs": [],
   "source": [
    "alternatives = ['a1', 'a2', 'a3', 'a4', 'a5', 'a6']\n",
    "decision_makers = ['DM1', 'DM2', 'DM3', 'DM4']"
   ]
  },
  {
   "cell_type": "code",
   "execution_count": 4,
   "id": "5caf991c",
   "metadata": {},
   "outputs": [
    {
     "data": {
      "text/html": [
       "<div>\n",
       "<style scoped>\n",
       "    .dataframe tbody tr th:only-of-type {\n",
       "        vertical-align: middle;\n",
       "    }\n",
       "\n",
       "    .dataframe tbody tr th {\n",
       "        vertical-align: top;\n",
       "    }\n",
       "\n",
       "    .dataframe thead th {\n",
       "        text-align: right;\n",
       "    }\n",
       "</style>\n",
       "<table border=\"1\" class=\"dataframe\">\n",
       "  <thead>\n",
       "    <tr style=\"text-align: right;\">\n",
       "      <th></th>\n",
       "      <th>DM1</th>\n",
       "      <th>DM2</th>\n",
       "      <th>DM3</th>\n",
       "      <th>DM4</th>\n",
       "    </tr>\n",
       "  </thead>\n",
       "  <tbody>\n",
       "    <tr>\n",
       "      <th>a1</th>\n",
       "      <td>-0.40</td>\n",
       "      <td>0.21</td>\n",
       "      <td>0.28</td>\n",
       "      <td>-0.16</td>\n",
       "    </tr>\n",
       "    <tr>\n",
       "      <th>a2</th>\n",
       "      <td>0.23</td>\n",
       "      <td>0.10</td>\n",
       "      <td>0.28</td>\n",
       "      <td>0.09</td>\n",
       "    </tr>\n",
       "    <tr>\n",
       "      <th>a3</th>\n",
       "      <td>0.06</td>\n",
       "      <td>-0.19</td>\n",
       "      <td>-0.25</td>\n",
       "      <td>0.38</td>\n",
       "    </tr>\n",
       "    <tr>\n",
       "      <th>a4</th>\n",
       "      <td>-0.19</td>\n",
       "      <td>0.37</td>\n",
       "      <td>-0.05</td>\n",
       "      <td>-0.20</td>\n",
       "    </tr>\n",
       "    <tr>\n",
       "      <th>a5</th>\n",
       "      <td>0.28</td>\n",
       "      <td>-0.21</td>\n",
       "      <td>-0.42</td>\n",
       "      <td>-0.11</td>\n",
       "    </tr>\n",
       "    <tr>\n",
       "      <th>a6</th>\n",
       "      <td>0.02</td>\n",
       "      <td>-0.29</td>\n",
       "      <td>0.17</td>\n",
       "      <td>-0.01</td>\n",
       "    </tr>\n",
       "  </tbody>\n",
       "</table>\n",
       "</div>"
      ],
      "text/plain": [
       "     DM1   DM2   DM3   DM4\n",
       "a1 -0.40  0.21  0.28 -0.16\n",
       "a2  0.23  0.10  0.28  0.09\n",
       "a3  0.06 -0.19 -0.25  0.38\n",
       "a4 -0.19  0.37 -0.05 -0.20\n",
       "a5  0.28 -0.21 -0.42 -0.11\n",
       "a6  0.02 -0.29  0.17 -0.01"
      ]
     },
     "execution_count": 4,
     "metadata": {},
     "output_type": "execute_result"
    }
   ],
   "source": [
    "dms_flows = pd.DataFrame({'DM1': [-0.40, 0.23, 0.06, -0.19, 0.28, 0.02],\n",
    "                         'DM2': [0.21, 0.10, -0.19, 0.37, -0.21, -0.29],\n",
    "                         'DM3': [0.28, 0.28, -0.25, -0.05, -0.42, 0.17],\n",
    "                         'DM4': [-0.16, 0.09, 0.38, -0.20, -0.11, -0.01]}, index=alternatives)\n",
    "dms_flows"
   ]
  },
  {
   "cell_type": "code",
   "execution_count": 5,
   "id": "14b43e8e",
   "metadata": {},
   "outputs": [
    {
     "data": {
      "text/plain": [
       "DM1    1\n",
       "DM2    2\n",
       "DM3    1\n",
       "DM4    3\n",
       "dtype: int64"
      ]
     },
     "execution_count": 5,
     "metadata": {},
     "output_type": "execute_result"
    }
   ],
   "source": [
    "dms_weights = pd.Series([1, 2, 1, 3], index=decision_makers)\n",
    "dms_weights"
   ]
  },
  {
   "cell_type": "markdown",
   "id": "40d06517",
   "metadata": {},
   "source": [
    "## Promethee Aggregated Flows"
   ]
  },
  {
   "cell_type": "code",
   "execution_count": 6,
   "id": "77f3a817",
   "metadata": {},
   "outputs": [
    {
     "data": {
      "text/plain": [
       "a1   -0.18\n",
       "a2    0.98\n",
       "a3    0.57\n",
       "a4   -0.10\n",
       "a5   -0.89\n",
       "a6   -0.42\n",
       "Name: aggregated_flows, dtype: float64"
      ]
     },
     "execution_count": 6,
     "metadata": {},
     "output_type": "execute_result"
    }
   ],
   "source": [
    "aggreagted_flows = calculate_promethee_group_ranking(dms_flows, dms_weights)\n",
    "aggreagted_flows"
   ]
  },
  {
   "cell_type": "code",
   "execution_count": null,
   "id": "9cec06bb",
   "metadata": {},
   "outputs": [],
   "source": []
  }
 ],
 "metadata": {
  "kernelspec": {
   "display_name": "Python 3 (ipykernel)",
   "language": "python",
   "name": "python3"
  },
  "language_info": {
   "codemirror_mode": {
    "name": "ipython",
    "version": 3
   },
   "file_extension": ".py",
   "mimetype": "text/x-python",
   "name": "python",
   "nbconvert_exporter": "python",
   "pygments_lexer": "ipython3",
   "version": "3.11.0"
  }
 },
 "nbformat": 4,
 "nbformat_minor": 5
}
