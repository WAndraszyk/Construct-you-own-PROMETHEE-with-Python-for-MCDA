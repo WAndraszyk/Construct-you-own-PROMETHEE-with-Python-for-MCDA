{
 "cells": [
  {
   "cell_type": "markdown",
   "id": "e6bce4cd",
   "metadata": {},
   "source": [
    "# Promethee Aggregated Flows"
   ]
  },
  {
   "cell_type": "markdown",
   "id": "94e074f1",
   "metadata": {},
   "source": [
    "This module shows an example of how to use the \"Promethee Aggregated Flows\" module."
   ]
  },
  {
   "cell_type": "code",
   "execution_count": 1,
   "id": "f6f2aec1",
   "metadata": {},
   "outputs": [],
   "source": [
    "%config Completer.use_jedi = False"
   ]
  },
  {
   "cell_type": "markdown",
   "id": "d5c3d1cc",
   "metadata": {},
   "source": [
    "## Definition of inputs and problem formalization"
   ]
  },
  {
   "cell_type": "code",
   "execution_count": 2,
   "id": "6e9a49cb",
   "metadata": {},
   "outputs": [],
   "source": [
    "import pandas as pd\n",
    "from modular_parts.M11_PrometheeAggregatedFlows import calculate_promethee_aggregated_flows\n",
    "\n",
    "alternatives = pd.Index([f\"a{i}\" for i in range(1, 7)])\n",
    "decision_makers = pd.Index([f\"DM{i}\" for i in range(1, 5)])\n",
    "# Sample flows from many Decison Makers\n",
    "dms_flows = pd.DataFrame({'DM1': [-0.40, 0.23, 0.06, -0.19, 0.28, 0.02],\n",
    "                         'DM2': [0.21, 0.10, -0.19, 0.37, -0.21, -0.29],\n",
    "                         'DM3': [0.28, 0.28, -0.25, -0.05, -0.42, 0.17],\n",
    "                         'DM4': [-0.16, 0.09, 0.38, -0.20, -0.11, -0.01]}, index=alternatives)\n",
    "dms_weights = pd.Series([1.0, 1.8, 1.2, 2.5], index=decision_makers)"
   ]
  },
  {
   "cell_type": "markdown",
   "id": "40d06517",
   "metadata": {},
   "source": [
    "## Usage of Promethee Aggregated Flows"
   ]
  },
  {
   "cell_type": "code",
   "execution_count": 3,
   "id": "77f3a817",
   "metadata": {},
   "outputs": [
    {
     "data": {
      "text/plain": [
       "a1   -0.086\n",
       "a2    0.971\n",
       "a3    0.368\n",
       "a4   -0.084\n",
       "a5   -0.877\n",
       "a6   -0.323\n",
       "dtype: float64"
      ]
     },
     "execution_count": 3,
     "metadata": {},
     "output_type": "execute_result"
    }
   ],
   "source": [
    "aggreagted_flows = calculate_promethee_aggregated_flows(dms_flows, dms_weights)\n",
    "aggreagted_flows"
   ]
  }
 ],
 "metadata": {
  "kernelspec": {
   "display_name": "Python 3 (ipykernel)",
   "language": "python",
   "name": "python3"
  },
  "language_info": {
   "codemirror_mode": {
    "name": "ipython",
    "version": 3
   },
   "file_extension": ".py",
   "mimetype": "text/x-python",
   "name": "python",
   "nbconvert_exporter": "python",
   "pygments_lexer": "ipython3",
   "version": "3.9.11"
  }
 },
 "nbformat": 4,
 "nbformat_minor": 5
}