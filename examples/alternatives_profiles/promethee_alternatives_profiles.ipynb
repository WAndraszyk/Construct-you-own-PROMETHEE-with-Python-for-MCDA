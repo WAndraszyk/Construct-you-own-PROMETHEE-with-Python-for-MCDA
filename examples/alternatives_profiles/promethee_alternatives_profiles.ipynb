{
 "cells": [
  {
   "cell_type": "markdown",
   "id": "dd390b46",
   "metadata": {},
   "source": [
    "# Promethe Alternatives of Profiles"
   ]
  },
  {
   "cell_type": "markdown",
   "id": "aeca98d7",
   "metadata": {},
   "source": [
    "This module shows an example of how to use the \"Promethee Alternatives of Profiles\" module."
   ]
  },
  {
   "cell_type": "code",
   "execution_count": 1,
   "id": "1702fbe9",
   "metadata": {},
   "outputs": [],
   "source": [
    "%config Completer.use_jedi = False"
   ]
  },
  {
   "cell_type": "markdown",
   "id": "23d8538f",
   "metadata": {},
   "source": [
    "## Definition of inputs"
   ]
  },
  {
   "cell_type": "code",
   "execution_count": 2,
   "id": "56b3676c",
   "metadata": {},
   "outputs": [],
   "source": [
    "import pandas as pd\n",
    "import sys\n",
    "sys.path.append('../..')\n",
    "\n",
    "from modular_parts.alternatives_profiles import calculate_alternatives_profiles"
   ]
  },
  {
   "cell_type": "markdown",
   "id": "38b7d40e",
   "metadata": {},
   "source": [
    "## Problem formalization"
   ]
  },
  {
   "cell_type": "code",
   "execution_count": 3,
   "id": "4c96296a",
   "metadata": {},
   "outputs": [],
   "source": [
    "alternatives = ['a1', 'a2', 'a3', 'a4', 'a5', 'a6']\n",
    "criteria = ['g1', 'g2', 'g3']"
   ]
  },
  {
   "cell_type": "code",
   "execution_count": 4,
   "id": "84a43327",
   "metadata": {},
   "outputs": [],
   "source": [
    "g1_preferences = pd.DataFrame([[0, 0, 0, 0, 0, 0.3],\n",
    "                               [1, 0, 1, 1, 1, 1],\n",
    "                               [0.75, 0, 0, 0.5, 0.1, 1],\n",
    "                               [0.25, 0, 0, 0, 0, 0.5],\n",
    "                               [0.65, 0, 0, 0.4, 0, 0.9],\n",
    "                               [0, 0, 0, 0, 0, 0]], index=alternatives, columns=alternatives)\n",
    "\n",
    "g2_preferences = pd.DataFrame([[0, 1, 0, 1, 1, 0],\n",
    "                               [0, 0, 0, 0, 0, 0],\n",
    "                               [0, 1, 0, 1, 1, 0],\n",
    "                               [0, 1, 0, 0, 0, 0],\n",
    "                               [0, 0, 0, 0, 0, 0],\n",
    "                               [1, 1, 1, 1, 1, 0]], index=alternatives, columns=alternatives)\n",
    "\n",
    "g3_preferences = pd.DataFrame([[0, 0, 0, 0, 0, 0],\n",
    "                               [0, 0, 0, 0, 0, 0.5],\n",
    "                               [0, 0, 0, 0, 0, 0.5],\n",
    "                               [0.5, 0, 0, 0, 0, 1],\n",
    "                               [0.5, 0.5, 0.5, 0, 0, 1],\n",
    "                               [0, 0, 0, 0, 0, 0]], index=alternatives, columns=alternatives)\n",
    "\n",
    "partial_preferences = pd.concat([g1_preferences, g2_preferences, g3_preferences],\n",
    "                                keys=criteria, names=['criteria', 'alternatives'])"
   ]
  },
  {
   "cell_type": "code",
   "execution_count": 5,
   "id": "52813be1",
   "metadata": {},
   "outputs": [],
   "source": [
    "criteria_weights = pd.Series([2, 0.8, 1.5], index=criteria, name='criteria_weights')"
   ]
  },
  {
   "cell_type": "markdown",
   "id": "22aff1db",
   "metadata": {},
   "source": [
    "## Promethee Alternatives Profiles"
   ]
  },
  {
   "cell_type": "code",
   "execution_count": 6,
   "id": "ad544505",
   "metadata": {},
   "outputs": [
    {
     "data": {
      "text/plain": [
       "a1   -0.92\n",
       "a2    1.36\n",
       "a3    0.86\n",
       "a4   -0.33\n",
       "a5    0.61\n",
       "a6   -1.58\n",
       "dtype: float64"
      ]
     },
     "execution_count": 6,
     "metadata": {},
     "output_type": "execute_result"
    }
   ],
   "source": [
    "promethee_alternatives_profiles = calculate_alternatives_profiles(criteria_weights, partial_preferences)\n",
    "promethee_alternatives_profiles"
   ]
  }
 ],
 "metadata": {
  "kernelspec": {
   "display_name": "Python 3 (ipykernel)",
   "language": "python",
   "name": "python3"
  },
  "language_info": {
   "codemirror_mode": {
    "name": "ipython",
    "version": 3
   },
   "file_extension": ".py",
   "mimetype": "text/x-python",
   "name": "python",
   "nbconvert_exporter": "python",
   "pygments_lexer": "ipython3",
   "version": "3.11.0"
  }
 },
 "nbformat": 4,
 "nbformat_minor": 5
}
