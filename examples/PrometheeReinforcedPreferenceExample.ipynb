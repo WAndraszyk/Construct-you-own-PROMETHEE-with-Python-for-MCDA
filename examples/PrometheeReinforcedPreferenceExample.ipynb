{
 "cells": [
  {
   "cell_type": "code",
   "execution_count": 24,
   "metadata": {
    "collapsed": true
   },
   "outputs": [
    {
     "data": {
      "text/plain": "    g1   g2    g3\na1  98  4.0   400\na2  58  5.0   800\na3  66  1.5  1000",
      "text/html": "<div>\n<style scoped>\n    .dataframe tbody tr th:only-of-type {\n        vertical-align: middle;\n    }\n\n    .dataframe tbody tr th {\n        vertical-align: top;\n    }\n\n    .dataframe thead th {\n        text-align: right;\n    }\n</style>\n<table border=\"1\" class=\"dataframe\">\n  <thead>\n    <tr style=\"text-align: right;\">\n      <th></th>\n      <th>g1</th>\n      <th>g2</th>\n      <th>g3</th>\n    </tr>\n  </thead>\n  <tbody>\n    <tr>\n      <th>a1</th>\n      <td>98</td>\n      <td>4.0</td>\n      <td>400</td>\n    </tr>\n    <tr>\n      <th>a2</th>\n      <td>58</td>\n      <td>5.0</td>\n      <td>800</td>\n    </tr>\n    <tr>\n      <th>a3</th>\n      <td>66</td>\n      <td>1.5</td>\n      <td>1000</td>\n    </tr>\n  </tbody>\n</table>\n</div>"
     },
     "execution_count": 24,
     "metadata": {},
     "output_type": "execute_result"
    }
   ],
   "source": [
    "import pandas as pd\n",
    "from core.enums import Direction, GeneralCriterion\n",
    "from modular_parts.preference import compute_reinforced_preference\n",
    "\n",
    "alternatives = ['a1', 'a2', 'a3']\n",
    "criteria = ['g1', 'g2', 'g3']\n",
    "criteria_directions = [Direction.MAX, Direction.MAX, Direction.MIN]\n",
    "criteria_weights = [0.3, 0.2, 0.5]\n",
    "generalised_criteria = [GeneralCriterion.V_SHAPE_INDIFFERENCE, GeneralCriterion.V_SHAPE_INDIFFERENCE, GeneralCriterion.V_SHAPE_INDIFFERENCE]\n",
    "preference_thresholds = [20, 2, 300]\n",
    "indifference_thresholds = [7, 0, 100]\n",
    "reinforcement_factors = [1.2, 1.2, 1.2]\n",
    "reinforced_preference_thresholds = [35, 3, 1000]\n",
    "alternatives_performances = [[98,4,400],\n",
    "                            [58,5,800],\n",
    "                            [66,1.5,1000]]\n",
    "\n",
    "criteria_directions = pd.Series(criteria_directions, criteria)\n",
    "criteria_weights = pd.Series(criteria_weights, criteria)\n",
    "generalised_criteria = pd.Series(generalised_criteria, criteria)\n",
    "preference_thresholds = pd.Series(preference_thresholds, criteria)\n",
    "indifference_thresholds = pd.Series(indifference_thresholds, criteria)\n",
    "reinforcement_factors = pd.Series(reinforcement_factors, criteria)\n",
    "reinforced_preference_thresholds = pd.Series(reinforced_preference_thresholds, criteria)\n",
    "\n",
    "alternatives_performances = pd.DataFrame(data=alternatives_performances, index=alternatives, columns=criteria)\n",
    "alternatives_performances"
   ]
  },
  {
   "cell_type": "code",
   "execution_count": 25,
   "outputs": [
    {
     "data": {
      "text/plain": "              a1        a2   a3\ncriteria                       \ng1       a1  0.0  1.200000  1.0\n         a2  0.0  0.000000  0.0\n         a3  0.0  0.076923  0.0\ng2       a1  0.0  0.000000  1.0\n         a2  0.5  0.000000  1.2\n         a3  0.0  0.000000  0.0\ng3       a1  0.0  1.000000  1.0\n         a2  0.0  0.000000  0.5\n         a3  0.0  0.000000  0.0",
      "text/html": "<div>\n<style scoped>\n    .dataframe tbody tr th:only-of-type {\n        vertical-align: middle;\n    }\n\n    .dataframe tbody tr th {\n        vertical-align: top;\n    }\n\n    .dataframe thead th {\n        text-align: right;\n    }\n</style>\n<table border=\"1\" class=\"dataframe\">\n  <thead>\n    <tr style=\"text-align: right;\">\n      <th></th>\n      <th></th>\n      <th>a1</th>\n      <th>a2</th>\n      <th>a3</th>\n    </tr>\n    <tr>\n      <th>criteria</th>\n      <th></th>\n      <th></th>\n      <th></th>\n      <th></th>\n    </tr>\n  </thead>\n  <tbody>\n    <tr>\n      <th rowspan=\"3\" valign=\"top\">g1</th>\n      <th>a1</th>\n      <td>0.0</td>\n      <td>1.200000</td>\n      <td>1.0</td>\n    </tr>\n    <tr>\n      <th>a2</th>\n      <td>0.0</td>\n      <td>0.000000</td>\n      <td>0.0</td>\n    </tr>\n    <tr>\n      <th>a3</th>\n      <td>0.0</td>\n      <td>0.076923</td>\n      <td>0.0</td>\n    </tr>\n    <tr>\n      <th rowspan=\"3\" valign=\"top\">g2</th>\n      <th>a1</th>\n      <td>0.0</td>\n      <td>0.000000</td>\n      <td>1.0</td>\n    </tr>\n    <tr>\n      <th>a2</th>\n      <td>0.5</td>\n      <td>0.000000</td>\n      <td>1.2</td>\n    </tr>\n    <tr>\n      <th>a3</th>\n      <td>0.0</td>\n      <td>0.000000</td>\n      <td>0.0</td>\n    </tr>\n    <tr>\n      <th rowspan=\"3\" valign=\"top\">g3</th>\n      <th>a1</th>\n      <td>0.0</td>\n      <td>1.000000</td>\n      <td>1.0</td>\n    </tr>\n    <tr>\n      <th>a2</th>\n      <td>0.0</td>\n      <td>0.000000</td>\n      <td>0.5</td>\n    </tr>\n    <tr>\n      <th>a3</th>\n      <td>0.0</td>\n      <td>0.000000</td>\n      <td>0.0</td>\n    </tr>\n  </tbody>\n</table>\n</div>"
     },
     "execution_count": 25,
     "metadata": {},
     "output_type": "execute_result"
    }
   ],
   "source": [
    "preference_indices, partial_preference_indices = compute_reinforced_preference(alternatives_performances, preference_thresholds, indifference_thresholds, generalised_criteria, criteria_directions, reinforced_preference_thresholds, reinforcement_factors, criteria_weights)\n",
    "\n",
    "partial_preference_indices"
   ],
   "metadata": {
    "collapsed": false
   }
  },
  {
   "cell_type": "code",
   "execution_count": 26,
   "outputs": [
    {
     "data": {
      "text/plain": "     a1     a2     a3\na1  0.0  0.811  1.000\na2  0.1  0.000  0.471\na3  0.0  0.023  0.000",
      "text/html": "<div>\n<style scoped>\n    .dataframe tbody tr th:only-of-type {\n        vertical-align: middle;\n    }\n\n    .dataframe tbody tr th {\n        vertical-align: top;\n    }\n\n    .dataframe thead th {\n        text-align: right;\n    }\n</style>\n<table border=\"1\" class=\"dataframe\">\n  <thead>\n    <tr style=\"text-align: right;\">\n      <th></th>\n      <th>a1</th>\n      <th>a2</th>\n      <th>a3</th>\n    </tr>\n  </thead>\n  <tbody>\n    <tr>\n      <th>a1</th>\n      <td>0.0</td>\n      <td>0.811</td>\n      <td>1.000</td>\n    </tr>\n    <tr>\n      <th>a2</th>\n      <td>0.1</td>\n      <td>0.000</td>\n      <td>0.471</td>\n    </tr>\n    <tr>\n      <th>a3</th>\n      <td>0.0</td>\n      <td>0.023</td>\n      <td>0.000</td>\n    </tr>\n  </tbody>\n</table>\n</div>"
     },
     "execution_count": 26,
     "metadata": {},
     "output_type": "execute_result"
    }
   ],
   "source": [
    "preference_indices"
   ],
   "metadata": {
    "collapsed": false
   }
  },
  {
   "cell_type": "code",
   "execution_count": null,
   "outputs": [],
   "source": [],
   "metadata": {
    "collapsed": false
   }
  }
 ],
 "metadata": {
  "kernelspec": {
   "display_name": "Python 3",
   "language": "python",
   "name": "python3"
  },
  "language_info": {
   "codemirror_mode": {
    "name": "ipython",
    "version": 2
   },
   "file_extension": ".py",
   "mimetype": "text/x-python",
   "name": "python",
   "nbconvert_exporter": "python",
   "pygments_lexer": "ipython2",
   "version": "2.7.6"
  }
 },
 "nbformat": 4,
 "nbformat_minor": 0
}
