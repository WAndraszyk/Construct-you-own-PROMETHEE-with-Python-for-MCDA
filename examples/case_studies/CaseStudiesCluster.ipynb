{
 "cells": [
  {
   "cell_type": "markdown",
   "source": [
    "# CaseStudy III\n",
    "In this notebook, real-life MCDA problem will be solved using multiple modules. CaseStudy III group 30 alternatives into 4 clusters using Promethee Preference With Interactions."
   ],
   "metadata": {
    "collapsed": false,
    "pycharm": {
     "name": "#%% md\n"
    }
   }
  },
  {
   "cell_type": "markdown",
   "source": [
    "## Definition of inputs and problem formalization"
   ],
   "metadata": {
    "collapsed": false,
    "pycharm": {
     "name": "#%% md\n"
    }
   }
  },
  {
   "cell_type": "code",
   "execution_count": 11,
   "outputs": [
    {
     "name": "stderr",
     "output_type": "stream",
     "text": [
      "C:\\Users\\teba_sgrabowski\\AppData\\Local\\Temp\\ipykernel_7592\\2586806607.py:63: FutureWarning: The default dtype for empty Series will be 'object' instead of 'float64' in a future version. Specify a dtype explicitly to silence this warning.\n",
      "  s_parameters = pd.Series(data=None, index=criteria)\n"
     ]
    },
    {
     "data": {
      "text/plain": "       g1    g2    g3    g4    g5    g6\nUK   94.3  81.4  78.5  85.0  16.4  87.8\nSWE  91.0  86.7  64.3  81.5  26.0  80.2\nDEN  94.7  83.4  64.0  87.0  18.5  86.0\nNET  90.3  85.3  58.1  87.0  15.7  82.4\nSWI  89.0  93.3  53.9  85.0  12.6  81.9\nFIN  89.7  61.8  67.2  85.0  21.8  85.2\nNOR  82.6  71.6  63.3  85.0  10.8  88.7\nIRE  95.3  54.5  75.5  81.5  12.2  84.7\nAUS  88.3  61.2  54.9  85.0  15.3  77.8\nGER  89.0  62.0  57.5  85.0  14.1  70.8\nFRA  83.3  48.7  58.7  83.5  12.4  73.4\nBEL  89.7  46.1  58.9  88.5  10.0  80.9\nSPA  88.3  31.2  61.2  74.5   3.9  70.1\nEST  81.0  45.4  53.5  69.5   1.5  69.8\nITA  73.3  37.3  61.2  71.0   4.1  69.7\nSLO  68.7  38.1  63.5  73.0   4.4  66.3\nPOR  87.0  19.0  56.8  71.0   1.6  72.4\nHUN  80.3  17.0  59.7  71.0   5.8  58.1\nCZE  75.3  27.2  54.7  67.5   4.0  58.1\nSLK  76.3  30.0  52.5  67.5   1.6  54.8\nPOL  74.6  22.1  54.3  70.0   1.3  59.5\nGRE  74.0  11.3  61.0  67.5   1.7  60.8\nLAT  71.0  23.5  56.2  65.5   1.0  55.3\nLIT  66.3  19.1  56.7  67.5   1.2  55.3\nROM  67.0  12.1  48.2  56.0   0.6  52.1\nCRO  55.6   3.2  51.9  62.0   2.4  54.6\nBUL  61.3   6.8  47.4  56.0   1.1  49.3\nRUS  46.9  10.6  55.5  38.5   1.9  36.6\nUKR  40.2   4.0  49.0  46.0   1.4  31.4\nKAZ  49.6   3.5  32.3  42.0   0.5  43.4\nAZE  40.9   3.3  21.4  38.0   0.4  43.6",
      "text/html": "<div>\n<style scoped>\n    .dataframe tbody tr th:only-of-type {\n        vertical-align: middle;\n    }\n\n    .dataframe tbody tr th {\n        vertical-align: top;\n    }\n\n    .dataframe thead th {\n        text-align: right;\n    }\n</style>\n<table border=\"1\" class=\"dataframe\">\n  <thead>\n    <tr style=\"text-align: right;\">\n      <th></th>\n      <th>g1</th>\n      <th>g2</th>\n      <th>g3</th>\n      <th>g4</th>\n      <th>g5</th>\n      <th>g6</th>\n    </tr>\n  </thead>\n  <tbody>\n    <tr>\n      <th>UK</th>\n      <td>94.3</td>\n      <td>81.4</td>\n      <td>78.5</td>\n      <td>85.0</td>\n      <td>16.4</td>\n      <td>87.8</td>\n    </tr>\n    <tr>\n      <th>SWE</th>\n      <td>91.0</td>\n      <td>86.7</td>\n      <td>64.3</td>\n      <td>81.5</td>\n      <td>26.0</td>\n      <td>80.2</td>\n    </tr>\n    <tr>\n      <th>DEN</th>\n      <td>94.7</td>\n      <td>83.4</td>\n      <td>64.0</td>\n      <td>87.0</td>\n      <td>18.5</td>\n      <td>86.0</td>\n    </tr>\n    <tr>\n      <th>NET</th>\n      <td>90.3</td>\n      <td>85.3</td>\n      <td>58.1</td>\n      <td>87.0</td>\n      <td>15.7</td>\n      <td>82.4</td>\n    </tr>\n    <tr>\n      <th>SWI</th>\n      <td>89.0</td>\n      <td>93.3</td>\n      <td>53.9</td>\n      <td>85.0</td>\n      <td>12.6</td>\n      <td>81.9</td>\n    </tr>\n    <tr>\n      <th>FIN</th>\n      <td>89.7</td>\n      <td>61.8</td>\n      <td>67.2</td>\n      <td>85.0</td>\n      <td>21.8</td>\n      <td>85.2</td>\n    </tr>\n    <tr>\n      <th>NOR</th>\n      <td>82.6</td>\n      <td>71.6</td>\n      <td>63.3</td>\n      <td>85.0</td>\n      <td>10.8</td>\n      <td>88.7</td>\n    </tr>\n    <tr>\n      <th>IRE</th>\n      <td>95.3</td>\n      <td>54.5</td>\n      <td>75.5</td>\n      <td>81.5</td>\n      <td>12.2</td>\n      <td>84.7</td>\n    </tr>\n    <tr>\n      <th>AUS</th>\n      <td>88.3</td>\n      <td>61.2</td>\n      <td>54.9</td>\n      <td>85.0</td>\n      <td>15.3</td>\n      <td>77.8</td>\n    </tr>\n    <tr>\n      <th>GER</th>\n      <td>89.0</td>\n      <td>62.0</td>\n      <td>57.5</td>\n      <td>85.0</td>\n      <td>14.1</td>\n      <td>70.8</td>\n    </tr>\n    <tr>\n      <th>FRA</th>\n      <td>83.3</td>\n      <td>48.7</td>\n      <td>58.7</td>\n      <td>83.5</td>\n      <td>12.4</td>\n      <td>73.4</td>\n    </tr>\n    <tr>\n      <th>BEL</th>\n      <td>89.7</td>\n      <td>46.1</td>\n      <td>58.9</td>\n      <td>88.5</td>\n      <td>10.0</td>\n      <td>80.9</td>\n    </tr>\n    <tr>\n      <th>SPA</th>\n      <td>88.3</td>\n      <td>31.2</td>\n      <td>61.2</td>\n      <td>74.5</td>\n      <td>3.9</td>\n      <td>70.1</td>\n    </tr>\n    <tr>\n      <th>EST</th>\n      <td>81.0</td>\n      <td>45.4</td>\n      <td>53.5</td>\n      <td>69.5</td>\n      <td>1.5</td>\n      <td>69.8</td>\n    </tr>\n    <tr>\n      <th>ITA</th>\n      <td>73.3</td>\n      <td>37.3</td>\n      <td>61.2</td>\n      <td>71.0</td>\n      <td>4.1</td>\n      <td>69.7</td>\n    </tr>\n    <tr>\n      <th>SLO</th>\n      <td>68.7</td>\n      <td>38.1</td>\n      <td>63.5</td>\n      <td>73.0</td>\n      <td>4.4</td>\n      <td>66.3</td>\n    </tr>\n    <tr>\n      <th>POR</th>\n      <td>87.0</td>\n      <td>19.0</td>\n      <td>56.8</td>\n      <td>71.0</td>\n      <td>1.6</td>\n      <td>72.4</td>\n    </tr>\n    <tr>\n      <th>HUN</th>\n      <td>80.3</td>\n      <td>17.0</td>\n      <td>59.7</td>\n      <td>71.0</td>\n      <td>5.8</td>\n      <td>58.1</td>\n    </tr>\n    <tr>\n      <th>CZE</th>\n      <td>75.3</td>\n      <td>27.2</td>\n      <td>54.7</td>\n      <td>67.5</td>\n      <td>4.0</td>\n      <td>58.1</td>\n    </tr>\n    <tr>\n      <th>SLK</th>\n      <td>76.3</td>\n      <td>30.0</td>\n      <td>52.5</td>\n      <td>67.5</td>\n      <td>1.6</td>\n      <td>54.8</td>\n    </tr>\n    <tr>\n      <th>POL</th>\n      <td>74.6</td>\n      <td>22.1</td>\n      <td>54.3</td>\n      <td>70.0</td>\n      <td>1.3</td>\n      <td>59.5</td>\n    </tr>\n    <tr>\n      <th>GRE</th>\n      <td>74.0</td>\n      <td>11.3</td>\n      <td>61.0</td>\n      <td>67.5</td>\n      <td>1.7</td>\n      <td>60.8</td>\n    </tr>\n    <tr>\n      <th>LAT</th>\n      <td>71.0</td>\n      <td>23.5</td>\n      <td>56.2</td>\n      <td>65.5</td>\n      <td>1.0</td>\n      <td>55.3</td>\n    </tr>\n    <tr>\n      <th>LIT</th>\n      <td>66.3</td>\n      <td>19.1</td>\n      <td>56.7</td>\n      <td>67.5</td>\n      <td>1.2</td>\n      <td>55.3</td>\n    </tr>\n    <tr>\n      <th>ROM</th>\n      <td>67.0</td>\n      <td>12.1</td>\n      <td>48.2</td>\n      <td>56.0</td>\n      <td>0.6</td>\n      <td>52.1</td>\n    </tr>\n    <tr>\n      <th>CRO</th>\n      <td>55.6</td>\n      <td>3.2</td>\n      <td>51.9</td>\n      <td>62.0</td>\n      <td>2.4</td>\n      <td>54.6</td>\n    </tr>\n    <tr>\n      <th>BUL</th>\n      <td>61.3</td>\n      <td>6.8</td>\n      <td>47.4</td>\n      <td>56.0</td>\n      <td>1.1</td>\n      <td>49.3</td>\n    </tr>\n    <tr>\n      <th>RUS</th>\n      <td>46.9</td>\n      <td>10.6</td>\n      <td>55.5</td>\n      <td>38.5</td>\n      <td>1.9</td>\n      <td>36.6</td>\n    </tr>\n    <tr>\n      <th>UKR</th>\n      <td>40.2</td>\n      <td>4.0</td>\n      <td>49.0</td>\n      <td>46.0</td>\n      <td>1.4</td>\n      <td>31.4</td>\n    </tr>\n    <tr>\n      <th>KAZ</th>\n      <td>49.6</td>\n      <td>3.5</td>\n      <td>32.3</td>\n      <td>42.0</td>\n      <td>0.5</td>\n      <td>43.4</td>\n    </tr>\n    <tr>\n      <th>AZE</th>\n      <td>40.9</td>\n      <td>3.3</td>\n      <td>21.4</td>\n      <td>38.0</td>\n      <td>0.4</td>\n      <td>43.6</td>\n    </tr>\n  </tbody>\n</table>\n</div>"
     },
     "execution_count": 11,
     "metadata": {},
     "output_type": "execute_result"
    }
   ],
   "source": [
    "import pandas as pd\n",
    "from core.enums import Direction, GeneralCriterion, InteractionType\n",
    "from modular_parts.weights import calculate_srf_weights\n",
    "from modular_parts.preference import (compute_preference_indices,\n",
    "                                      compute_preference_indices_with_interactions)\n",
    "from modular_parts.clustering import group_into_ordered_clusters\n",
    "\n",
    "alternatives = [\"UK\", \"SWE\", \"DEN\", \"NET\", \"SWI\", \"FIN\", \"NOR\", \"IRE\", \"AUS\",\n",
    "                \"GER\", \"FRA\",\n",
    "                \"BEL\", \"SPA\", \"EST\", \"ITA\", \"SLO\", \"POR\", \"HUN\", \"CZE\", \"SLK\",\n",
    "                \"POL\", \"GRE\",\n",
    "                \"LAT\", \"LIT\", \"ROM\", \"CRO\", \"BUL\", \"RUS\", \"UKR\", \"KAZ\", \"AZE\"]\n",
    "criteria = ['g1', 'g2', 'g3', 'g4', 'g5', 'g6']\n",
    "criteria_directions = [Direction.MAX, Direction.MAX, Direction.MAX,\n",
    "                       Direction.MAX, Direction.MAX, Direction.MAX]\n",
    "\n",
    "generalised_criteria = [GeneralCriterion.V_SHAPE_INDIFFERENCE,\n",
    "                        GeneralCriterion.V_SHAPE,\n",
    "                        GeneralCriterion.V_SHAPE_INDIFFERENCE,\n",
    "                        GeneralCriterion.V_SHAPE,\n",
    "                        GeneralCriterion.LEVEL,\n",
    "                        GeneralCriterion.V_SHAPE]\n",
    "preference_thresholds = [5, 2, 5, 2, 0.9, 2]\n",
    "indifference_thresholds = [1, None, 1, None, 0.3, None]\n",
    "s_parameter = [None, None, None, None, 0.5, None]\n",
    "alternatives_performances = [[94.3, 81.4, 78.5, 85.0, 16.4, 87.8],\n",
    "                             [91.0, 86.7, 64.3, 81.5, 26.0, 80.2],\n",
    "                             [94.7, 83.4, 64.0, 87.0, 18.5, 86.0],\n",
    "                             [90.3, 85.3, 58.1, 87.0, 15.7, 82.4],\n",
    "                             [89.0, 93.3, 53.9, 85.0, 12.6, 81.9],\n",
    "                             [89.7, 61.8, 67.2, 85.0, 21.8, 85.2],\n",
    "                             [82.6, 71.6, 63.3, 85.0, 10.8, 88.7],\n",
    "                             [95.3, 54.5, 75.5, 81.5, 12.2, 84.7],\n",
    "                             [88.3, 61.2, 54.9, 85.0, 15.3, 77.8],\n",
    "                             [89.0, 62.0, 57.5, 85.0, 14.1, 70.8],\n",
    "                             [83.3, 48.7, 58.7, 83.5, 12.4, 73.4],\n",
    "                             [89.7, 46.1, 58.9, 88.5, 10.0, 80.9],\n",
    "                             [88.3, 31.2, 61.2, 74.5, 3.9, 70.1],\n",
    "                             [81.0, 45.4, 53.5, 69.5, 1.5, 69.8],\n",
    "                             [73.3, 37.3, 61.2, 71.0, 4.1, 69.7],\n",
    "                             [68.7, 38.1, 63.5, 73.0, 4.4, 66.3],\n",
    "                             [87.0, 19.0, 56.8, 71.0, 1.6, 72.4],\n",
    "                             [80.3, 17.0, 59.7, 71.0, 5.8, 58.1],\n",
    "                             [75.3, 27.2, 54.7, 67.5, 4.0, 58.1],\n",
    "                             [76.3, 30.0, 52.5, 67.5, 1.6, 54.8],\n",
    "                             [74.6, 22.1, 54.3, 70.0, 1.3, 59.5],\n",
    "                             [74.0, 11.3, 61.0, 67.5, 1.7, 60.8],\n",
    "                             [71.0, 23.5, 56.2, 65.5, 1.0, 55.3],\n",
    "                             [66.3, 19.1, 56.7, 67.5, 1.2, 55.3],\n",
    "                             [67.0, 12.1, 48.2, 56.0, 0.6, 52.1],\n",
    "                             [55.6, 3.2, 51.9, 62.0, 2.4, 54.6],\n",
    "                             [61.3, 6.8, 47.4, 56.0, 1.1, 49.3],\n",
    "                             [46.9, 10.6, 55.5, 38.5, 1.9, 36.6],\n",
    "                             [40.2, 4.0, 49.0, 46.0, 1.4, 31.4],\n",
    "                             [49.6, 3.5, 32.3, 42.0, 0.5, 43.4],\n",
    "                             [40.9, 3.3, 21.4, 38.0, 0.4, 43.6],\n",
    "                             ]\n",
    "\n",
    "criteria_directions = pd.Series(criteria_directions, criteria)\n",
    "generalised_criteria = pd.Series(generalised_criteria, criteria)\n",
    "preference_thresholds = pd.Series(preference_thresholds, criteria)\n",
    "indifference_thresholds = pd.Series(indifference_thresholds, criteria)\n",
    "s_parameters = pd.Series(data=None, index=criteria)\n",
    "criteria_ranks = pd.Series({\n",
    "    'g1': 8, 'g2': 4, 'g3': 7, 'g4': 2, 'g5': 4, 'g6': 1\n",
    "})\n",
    "criteria_weight_ratio = 5\n",
    "alternatives_performances = pd.DataFrame(data=alternatives_performances,\n",
    "                                         index=alternatives, columns=criteria)\n",
    "\n",
    "alternatives_performances"
   ],
   "metadata": {
    "collapsed": false,
    "pycharm": {
     "name": "#%%\n"
    }
   }
  },
  {
   "cell_type": "markdown",
   "source": [
    "Here are interactions used in Promethee Preference With Interactions (M5)."
   ],
   "metadata": {
    "collapsed": false,
    "pycharm": {
     "name": "#%% md\n"
    }
   }
  },
  {
   "cell_type": "code",
   "execution_count": 12,
   "outputs": [
    {
     "data": {
      "text/plain": "  criterion_1 criterion_2                 type  coefficient\n0          g1          g5  InteractionType.STN         0.03\n1          g2          g6  InteractionType.WKN        -0.02",
      "text/html": "<div>\n<style scoped>\n    .dataframe tbody tr th:only-of-type {\n        vertical-align: middle;\n    }\n\n    .dataframe tbody tr th {\n        vertical-align: top;\n    }\n\n    .dataframe thead th {\n        text-align: right;\n    }\n</style>\n<table border=\"1\" class=\"dataframe\">\n  <thead>\n    <tr style=\"text-align: right;\">\n      <th></th>\n      <th>criterion_1</th>\n      <th>criterion_2</th>\n      <th>type</th>\n      <th>coefficient</th>\n    </tr>\n  </thead>\n  <tbody>\n    <tr>\n      <th>0</th>\n      <td>g1</td>\n      <td>g5</td>\n      <td>InteractionType.STN</td>\n      <td>0.03</td>\n    </tr>\n    <tr>\n      <th>1</th>\n      <td>g2</td>\n      <td>g6</td>\n      <td>InteractionType.WKN</td>\n      <td>-0.02</td>\n    </tr>\n  </tbody>\n</table>\n</div>"
     },
     "execution_count": 12,
     "metadata": {},
     "output_type": "execute_result"
    }
   ],
   "source": [
    "interactions = pd.DataFrame(data=[['g1', 'g5', InteractionType.STN, 0.03],\n",
    "                                  ['g2', 'g6', InteractionType.WKN, -0.02]],\n",
    "                            columns=['criterion_1', 'criterion_2', 'type',\n",
    "                                     'coefficient'])\n",
    "interactions"
   ],
   "metadata": {
    "collapsed": false,
    "pycharm": {
     "name": "#%%\n"
    }
   }
  },
  {
   "cell_type": "markdown",
   "source": [
    "## Modules usage"
   ],
   "metadata": {
    "collapsed": false,
    "pycharm": {
     "name": "#%% md\n"
    }
   }
  },
  {
   "cell_type": "markdown",
   "source": [
    "Weights calculated with SRF method."
   ],
   "metadata": {
    "collapsed": false,
    "pycharm": {
     "name": "#%% md\n"
    }
   }
  },
  {
   "cell_type": "code",
   "execution_count": 13,
   "outputs": [
    {
     "data": {
      "text/plain": "g1    28.70\ng2    15.55\ng3    25.43\ng4     9.01\ng5    15.56\ng6     5.74\ndtype: float64"
     },
     "execution_count": 13,
     "metadata": {},
     "output_type": "execute_result"
    }
   ],
   "source": [
    "criteria_weights = calculate_srf_weights(criteria_ranks=criteria_ranks,\n",
    "                                         criteria_weight_ratio=criteria_weight_ratio,\n",
    "                                         decimal_place=2)\n",
    "criteria_weights"
   ],
   "metadata": {
    "collapsed": false,
    "pycharm": {
     "name": "#%%\n"
    }
   }
  },
  {
   "cell_type": "markdown",
   "source": [
    "The inclusion of \"Promethee Preference\" here is solely for the purpose of comparison with \"Preference With Interactions\". It is included to allow user of PyMCDA to easily recognize the difference in results."
   ],
   "metadata": {
    "collapsed": false,
    "pycharm": {
     "name": "#%% md\n"
    }
   }
  },
  {
   "cell_type": "code",
   "execution_count": 14,
   "outputs": [],
   "source": [
    "preference_indices, partial_preference_indices = compute_preference_indices(\n",
    "    alternatives_performances, preference_thresholds, indifference_thresholds,\n",
    "    s_parameters, generalised_criteria,\n",
    "    criteria_directions, criteria_weights, decimal_place=6,)"
   ],
   "metadata": {
    "collapsed": false,
    "pycharm": {
     "name": "#%%\n"
    }
   }
  },
  {
   "cell_type": "code",
   "execution_count": 15,
   "outputs": [
    {
     "data": {
      "text/plain": "           UK       SWE       DEN       NET       SWI       FIN       NOR  \\\nUK   0.000000  0.566882  0.305991  0.604810  0.754375  0.725573  0.852485   \nSWE  0.311131  0.000000  0.311131  0.518802  0.481698  0.332658  0.598160   \nDEN  0.401240  0.341259  0.000000  0.711321  0.844484  0.555616  0.688269   \nNET  0.245625  0.147515  0.147740  0.000000  0.485064  0.245625  0.688269   \nSWI  0.155516  0.294419  0.155516  0.155516  0.000000  0.155516  0.598160   \nFIN  0.155616  0.268319  0.295495  0.467347  0.467347  0.000000  0.627030   \nNOR  0.025833  0.147515  0.057406  0.311731  0.311731  0.212921  0.000000   \nIRE  0.000000  0.548530  0.254325  0.598760  0.598760  0.541354  0.696970   \nAUS  0.000000  0.090109  0.000000  0.000000  0.155616  0.000000  0.442644   \nGER  0.000000  0.090109  0.000000  0.000000  0.320927  0.015552  0.442644   \nFRA  0.000000  0.090109  0.000000  0.000000  0.241609  0.000000  0.155616   \nBEL  0.090109  0.110201  0.067582  0.067582  0.344434  0.090109  0.377138   \nSPA  0.000000  0.000000  0.000000  0.133521  0.254325  0.000000  0.287029   \nEST  0.000000  0.000000  0.000000  0.000000  0.000000  0.000000  0.000000   \nITA  0.000000  0.000000  0.000000  0.133521  0.254325  0.000000  0.000000   \nSLO  0.000000  0.000000  0.000000  0.254325  0.254325  0.000000  0.000000   \nPOR  0.000000  0.000000  0.000000  0.000000  0.120805  0.000000  0.243974   \nHUN  0.000000  0.000000  0.000000  0.038149  0.254325  0.000000  0.000000   \nCZE  0.000000  0.000000  0.000000  0.000000  0.000000  0.000000  0.000000   \nSLK  0.000000  0.000000  0.000000  0.000000  0.000000  0.000000  0.000000   \nPOL  0.000000  0.000000  0.000000  0.000000  0.000000  0.000000  0.000000   \nGRE  0.000000  0.000000  0.000000  0.120805  0.254325  0.000000  0.000000   \nLAT  0.000000  0.000000  0.000000  0.000000  0.082656  0.000000  0.000000   \nLIT  0.000000  0.000000  0.000000  0.000000  0.114446  0.000000  0.000000   \nROM  0.000000  0.000000  0.000000  0.000000  0.000000  0.000000  0.000000   \nCRO  0.000000  0.000000  0.000000  0.000000  0.000000  0.000000  0.000000   \nBUL  0.000000  0.000000  0.000000  0.000000  0.000000  0.000000  0.000000   \nRUS  0.000000  0.000000  0.000000  0.000000  0.038149  0.000000  0.000000   \nUKR  0.000000  0.000000  0.000000  0.000000  0.000000  0.000000  0.000000   \nKAZ  0.000000  0.000000  0.000000  0.000000  0.000000  0.000000  0.000000   \nAZE  0.000000  0.000000  0.000000  0.000000  0.000000  0.000000  0.000000   \n\n          IRE       AUS       GER  ...       GRE       LAT       LIT  \\\nUK   0.585809  0.909891  0.909891  ...  1.000000  1.000000  1.000000   \nSWE  0.311131  0.744849  0.694619  ...  0.891912  1.000000  1.000000   \nDEN  0.438554  1.000000  1.000000  ...  0.872837  1.000000  1.000000   \nNET  0.401240  0.592474  0.480173  ...  0.745675  0.802898  0.771107   \nSWI  0.323432  0.212921  0.212921  ...  0.745675  0.745675  0.745675   \nFIN  0.415592  0.542704  0.467347  ...  1.000000  1.000000  1.000000   \nNOR  0.303030  0.467247  0.467247  ...  0.828330  1.000000  1.000000   \nIRE  0.000000  0.598760  0.598760  ...  1.000000  1.000000  1.000000   \nAUS  0.401240  0.000000  0.213021  ...  0.745675  0.745675  0.745675   \nGER  0.401240  0.163936  0.000000  ...  0.745675  0.764749  0.745675   \nFRA  0.090109  0.178028  0.070122  ...  0.745675  0.841047  0.809256   \nBEL  0.090109  0.366962  0.172947  ...  0.745675  0.853763  0.821972   \nSPA  0.000000  0.254325  0.171670  ...  0.745675  1.000000  0.968209   \nEST  0.000000  0.000000  0.000000  ...  0.590059  0.667867  0.667867   \nITA  0.000000  0.254325  0.171670  ...  0.458646  0.806256  0.968209   \nSLO  0.000000  0.254325  0.254325  ...  0.554018  0.712971  0.813431   \nPOR  0.000000  0.057223  0.045925  ...  0.590059  0.512351  0.512351   \nHUN  0.000000  0.241609  0.076298  ...  0.688269  0.749112  0.717322   \nCZE  0.000000  0.000000  0.000000  ...  0.332658  0.695445  0.655566   \nSLK  0.000000  0.000000  0.000000  ...  0.248800  0.610461  0.520352   \nPOL  0.000000  0.000000  0.000000  ...  0.245625  0.411891  0.590059   \nGRE  0.000000  0.254325  0.158953  ...  0.000000  0.610446  0.632061   \nLAT  0.000000  0.019074  0.000000  ...  0.155516  0.000000  0.421017   \nLIT  0.000000  0.050865  0.000000  ...  0.155516  0.090109  0.000000   \nROM  0.000000  0.000000  0.000000  ...  0.062206  0.000000  0.000000   \nCRO  0.000000  0.000000  0.000000  ...  0.077808  0.155616  0.155616   \nBUL  0.000000  0.000000  0.000000  ...  0.000000  0.000000  0.000000   \nRUS  0.000000  0.000000  0.000000  ...  0.000000  0.077808  0.077808   \nUKR  0.000000  0.000000  0.000000  ...  0.000000  0.077808  0.000000   \nKAZ  0.000000  0.000000  0.000000  ...  0.000000  0.000000  0.000000   \nAZE  0.000000  0.000000  0.000000  ...  0.000000  0.000000  0.000000   \n\n          ROM       CRO       BUL       RUS       UKR       KAZ       AZE  \nUK   1.000000  1.000000  1.000000  1.000000  1.000000  1.000000  1.000000  \nSWE  1.000000  1.000000  1.000000  1.000000  1.000000  1.000000  1.000000  \nDEN  1.000000  1.000000  1.000000  1.000000  1.000000  1.000000  1.000000  \nNET  1.000000  1.000000  1.000000  0.847405  1.000000  1.000000  1.000000  \nSWI  1.000000  0.809256  1.000000  0.745675  0.993642  1.000000  1.000000  \nFIN  1.000000  1.000000  1.000000  1.000000  1.000000  1.000000  1.000000  \nNOR  1.000000  1.000000  1.000000  1.000000  1.000000  1.000000  1.000000  \nIRE  1.000000  1.000000  1.000000  1.000000  1.000000  1.000000  1.000000  \nAUS  1.000000  0.872837  1.000000  0.745675  1.000000  1.000000  1.000000  \nGER  1.000000  1.000000  1.000000  0.809256  1.000000  1.000000  1.000000  \nFRA  1.000000  1.000000  1.000000  0.885554  1.000000  1.000000  1.000000  \nBEL  1.000000  1.000000  1.000000  0.898270  1.000000  1.000000  1.000000  \nSPA  1.000000  1.000000  1.000000  1.000000  1.000000  1.000000  1.000000  \nEST  0.922192  0.628208  0.922192  0.590059  0.812594  1.000000  1.000000  \nITA  1.000000  1.000000  1.000000  1.000000  1.000000  1.000000  1.000000  \nSLO  0.763201  1.000000  1.000000  1.000000  1.000000  1.000000  1.000000  \nPOR  1.000000  0.838026  0.922192  0.609133  0.844384  1.000000  1.000000  \nHUN  1.000000  1.000000  1.000000  0.949135  1.000000  1.000000  1.000000  \nCZE  1.000000  0.860121  1.000000  0.745675  1.000000  1.000000  1.000000  \nSLK  0.955493  0.538394  0.922192  0.590059  0.749012  1.000000  1.000000  \nPOL  0.922192  0.679073  0.844384  0.590059  0.844384  0.922192  0.922192  \nGRE  0.844484  0.844384  0.922192  0.743299  0.922192  1.000000  1.000000  \nLAT  0.850435  0.762564  0.844384  0.590059  0.844384  0.922192  0.922192  \nLIT  0.635164  0.794354  0.844384  0.602775  0.844384  0.922192  0.922192  \nROM  0.000000  0.442544  0.499950  0.551180  0.590059  0.844384  0.844384  \nCRO  0.474800  0.000000  0.525665  0.512351  0.710964  0.844484  0.844484  \nBUL  0.077808  0.442544  0.000000  0.434543  0.590059  0.922192  0.922192  \nRUS  0.409941  0.320827  0.487649  0.000000  0.832083  0.565457  0.875013  \nUKR  0.077808  0.062206  0.038149  0.090109  0.000000  0.461121  0.554480  \nKAZ  0.000000  0.023327  0.000000  0.269502  0.344434  0.000000  0.647015  \nAZE  0.000000  0.007776  0.000000  0.057406  0.057406  0.005741  0.000000  \n\n[31 rows x 31 columns]",
      "text/html": "<div>\n<style scoped>\n    .dataframe tbody tr th:only-of-type {\n        vertical-align: middle;\n    }\n\n    .dataframe tbody tr th {\n        vertical-align: top;\n    }\n\n    .dataframe thead th {\n        text-align: right;\n    }\n</style>\n<table border=\"1\" class=\"dataframe\">\n  <thead>\n    <tr style=\"text-align: right;\">\n      <th></th>\n      <th>UK</th>\n      <th>SWE</th>\n      <th>DEN</th>\n      <th>NET</th>\n      <th>SWI</th>\n      <th>FIN</th>\n      <th>NOR</th>\n      <th>IRE</th>\n      <th>AUS</th>\n      <th>GER</th>\n      <th>...</th>\n      <th>GRE</th>\n      <th>LAT</th>\n      <th>LIT</th>\n      <th>ROM</th>\n      <th>CRO</th>\n      <th>BUL</th>\n      <th>RUS</th>\n      <th>UKR</th>\n      <th>KAZ</th>\n      <th>AZE</th>\n    </tr>\n  </thead>\n  <tbody>\n    <tr>\n      <th>UK</th>\n      <td>0.000000</td>\n      <td>0.566882</td>\n      <td>0.305991</td>\n      <td>0.604810</td>\n      <td>0.754375</td>\n      <td>0.725573</td>\n      <td>0.852485</td>\n      <td>0.585809</td>\n      <td>0.909891</td>\n      <td>0.909891</td>\n      <td>...</td>\n      <td>1.000000</td>\n      <td>1.000000</td>\n      <td>1.000000</td>\n      <td>1.000000</td>\n      <td>1.000000</td>\n      <td>1.000000</td>\n      <td>1.000000</td>\n      <td>1.000000</td>\n      <td>1.000000</td>\n      <td>1.000000</td>\n    </tr>\n    <tr>\n      <th>SWE</th>\n      <td>0.311131</td>\n      <td>0.000000</td>\n      <td>0.311131</td>\n      <td>0.518802</td>\n      <td>0.481698</td>\n      <td>0.332658</td>\n      <td>0.598160</td>\n      <td>0.311131</td>\n      <td>0.744849</td>\n      <td>0.694619</td>\n      <td>...</td>\n      <td>0.891912</td>\n      <td>1.000000</td>\n      <td>1.000000</td>\n      <td>1.000000</td>\n      <td>1.000000</td>\n      <td>1.000000</td>\n      <td>1.000000</td>\n      <td>1.000000</td>\n      <td>1.000000</td>\n      <td>1.000000</td>\n    </tr>\n    <tr>\n      <th>DEN</th>\n      <td>0.401240</td>\n      <td>0.341259</td>\n      <td>0.000000</td>\n      <td>0.711321</td>\n      <td>0.844484</td>\n      <td>0.555616</td>\n      <td>0.688269</td>\n      <td>0.438554</td>\n      <td>1.000000</td>\n      <td>1.000000</td>\n      <td>...</td>\n      <td>0.872837</td>\n      <td>1.000000</td>\n      <td>1.000000</td>\n      <td>1.000000</td>\n      <td>1.000000</td>\n      <td>1.000000</td>\n      <td>1.000000</td>\n      <td>1.000000</td>\n      <td>1.000000</td>\n      <td>1.000000</td>\n    </tr>\n    <tr>\n      <th>NET</th>\n      <td>0.245625</td>\n      <td>0.147515</td>\n      <td>0.147740</td>\n      <td>0.000000</td>\n      <td>0.485064</td>\n      <td>0.245625</td>\n      <td>0.688269</td>\n      <td>0.401240</td>\n      <td>0.592474</td>\n      <td>0.480173</td>\n      <td>...</td>\n      <td>0.745675</td>\n      <td>0.802898</td>\n      <td>0.771107</td>\n      <td>1.000000</td>\n      <td>1.000000</td>\n      <td>1.000000</td>\n      <td>0.847405</td>\n      <td>1.000000</td>\n      <td>1.000000</td>\n      <td>1.000000</td>\n    </tr>\n    <tr>\n      <th>SWI</th>\n      <td>0.155516</td>\n      <td>0.294419</td>\n      <td>0.155516</td>\n      <td>0.155516</td>\n      <td>0.000000</td>\n      <td>0.155516</td>\n      <td>0.598160</td>\n      <td>0.323432</td>\n      <td>0.212921</td>\n      <td>0.212921</td>\n      <td>...</td>\n      <td>0.745675</td>\n      <td>0.745675</td>\n      <td>0.745675</td>\n      <td>1.000000</td>\n      <td>0.809256</td>\n      <td>1.000000</td>\n      <td>0.745675</td>\n      <td>0.993642</td>\n      <td>1.000000</td>\n      <td>1.000000</td>\n    </tr>\n    <tr>\n      <th>FIN</th>\n      <td>0.155616</td>\n      <td>0.268319</td>\n      <td>0.295495</td>\n      <td>0.467347</td>\n      <td>0.467347</td>\n      <td>0.000000</td>\n      <td>0.627030</td>\n      <td>0.415592</td>\n      <td>0.542704</td>\n      <td>0.467347</td>\n      <td>...</td>\n      <td>1.000000</td>\n      <td>1.000000</td>\n      <td>1.000000</td>\n      <td>1.000000</td>\n      <td>1.000000</td>\n      <td>1.000000</td>\n      <td>1.000000</td>\n      <td>1.000000</td>\n      <td>1.000000</td>\n      <td>1.000000</td>\n    </tr>\n    <tr>\n      <th>NOR</th>\n      <td>0.025833</td>\n      <td>0.147515</td>\n      <td>0.057406</td>\n      <td>0.311731</td>\n      <td>0.311731</td>\n      <td>0.212921</td>\n      <td>0.000000</td>\n      <td>0.303030</td>\n      <td>0.467247</td>\n      <td>0.467247</td>\n      <td>...</td>\n      <td>0.828330</td>\n      <td>1.000000</td>\n      <td>1.000000</td>\n      <td>1.000000</td>\n      <td>1.000000</td>\n      <td>1.000000</td>\n      <td>1.000000</td>\n      <td>1.000000</td>\n      <td>1.000000</td>\n      <td>1.000000</td>\n    </tr>\n    <tr>\n      <th>IRE</th>\n      <td>0.000000</td>\n      <td>0.548530</td>\n      <td>0.254325</td>\n      <td>0.598760</td>\n      <td>0.598760</td>\n      <td>0.541354</td>\n      <td>0.696970</td>\n      <td>0.000000</td>\n      <td>0.598760</td>\n      <td>0.598760</td>\n      <td>...</td>\n      <td>1.000000</td>\n      <td>1.000000</td>\n      <td>1.000000</td>\n      <td>1.000000</td>\n      <td>1.000000</td>\n      <td>1.000000</td>\n      <td>1.000000</td>\n      <td>1.000000</td>\n      <td>1.000000</td>\n      <td>1.000000</td>\n    </tr>\n    <tr>\n      <th>AUS</th>\n      <td>0.000000</td>\n      <td>0.090109</td>\n      <td>0.000000</td>\n      <td>0.000000</td>\n      <td>0.155616</td>\n      <td>0.000000</td>\n      <td>0.442644</td>\n      <td>0.401240</td>\n      <td>0.000000</td>\n      <td>0.213021</td>\n      <td>...</td>\n      <td>0.745675</td>\n      <td>0.745675</td>\n      <td>0.745675</td>\n      <td>1.000000</td>\n      <td>0.872837</td>\n      <td>1.000000</td>\n      <td>0.745675</td>\n      <td>1.000000</td>\n      <td>1.000000</td>\n      <td>1.000000</td>\n    </tr>\n    <tr>\n      <th>GER</th>\n      <td>0.000000</td>\n      <td>0.090109</td>\n      <td>0.000000</td>\n      <td>0.000000</td>\n      <td>0.320927</td>\n      <td>0.015552</td>\n      <td>0.442644</td>\n      <td>0.401240</td>\n      <td>0.163936</td>\n      <td>0.000000</td>\n      <td>...</td>\n      <td>0.745675</td>\n      <td>0.764749</td>\n      <td>0.745675</td>\n      <td>1.000000</td>\n      <td>1.000000</td>\n      <td>1.000000</td>\n      <td>0.809256</td>\n      <td>1.000000</td>\n      <td>1.000000</td>\n      <td>1.000000</td>\n    </tr>\n    <tr>\n      <th>FRA</th>\n      <td>0.000000</td>\n      <td>0.090109</td>\n      <td>0.000000</td>\n      <td>0.000000</td>\n      <td>0.241609</td>\n      <td>0.000000</td>\n      <td>0.155616</td>\n      <td>0.090109</td>\n      <td>0.178028</td>\n      <td>0.070122</td>\n      <td>...</td>\n      <td>0.745675</td>\n      <td>0.841047</td>\n      <td>0.809256</td>\n      <td>1.000000</td>\n      <td>1.000000</td>\n      <td>1.000000</td>\n      <td>0.885554</td>\n      <td>1.000000</td>\n      <td>1.000000</td>\n      <td>1.000000</td>\n    </tr>\n    <tr>\n      <th>BEL</th>\n      <td>0.090109</td>\n      <td>0.110201</td>\n      <td>0.067582</td>\n      <td>0.067582</td>\n      <td>0.344434</td>\n      <td>0.090109</td>\n      <td>0.377138</td>\n      <td>0.090109</td>\n      <td>0.366962</td>\n      <td>0.172947</td>\n      <td>...</td>\n      <td>0.745675</td>\n      <td>0.853763</td>\n      <td>0.821972</td>\n      <td>1.000000</td>\n      <td>1.000000</td>\n      <td>1.000000</td>\n      <td>0.898270</td>\n      <td>1.000000</td>\n      <td>1.000000</td>\n      <td>1.000000</td>\n    </tr>\n    <tr>\n      <th>SPA</th>\n      <td>0.000000</td>\n      <td>0.000000</td>\n      <td>0.000000</td>\n      <td>0.133521</td>\n      <td>0.254325</td>\n      <td>0.000000</td>\n      <td>0.287029</td>\n      <td>0.000000</td>\n      <td>0.254325</td>\n      <td>0.171670</td>\n      <td>...</td>\n      <td>0.745675</td>\n      <td>1.000000</td>\n      <td>0.968209</td>\n      <td>1.000000</td>\n      <td>1.000000</td>\n      <td>1.000000</td>\n      <td>1.000000</td>\n      <td>1.000000</td>\n      <td>1.000000</td>\n      <td>1.000000</td>\n    </tr>\n    <tr>\n      <th>EST</th>\n      <td>0.000000</td>\n      <td>0.000000</td>\n      <td>0.000000</td>\n      <td>0.000000</td>\n      <td>0.000000</td>\n      <td>0.000000</td>\n      <td>0.000000</td>\n      <td>0.000000</td>\n      <td>0.000000</td>\n      <td>0.000000</td>\n      <td>...</td>\n      <td>0.590059</td>\n      <td>0.667867</td>\n      <td>0.667867</td>\n      <td>0.922192</td>\n      <td>0.628208</td>\n      <td>0.922192</td>\n      <td>0.590059</td>\n      <td>0.812594</td>\n      <td>1.000000</td>\n      <td>1.000000</td>\n    </tr>\n    <tr>\n      <th>ITA</th>\n      <td>0.000000</td>\n      <td>0.000000</td>\n      <td>0.000000</td>\n      <td>0.133521</td>\n      <td>0.254325</td>\n      <td>0.000000</td>\n      <td>0.000000</td>\n      <td>0.000000</td>\n      <td>0.254325</td>\n      <td>0.171670</td>\n      <td>...</td>\n      <td>0.458646</td>\n      <td>0.806256</td>\n      <td>0.968209</td>\n      <td>1.000000</td>\n      <td>1.000000</td>\n      <td>1.000000</td>\n      <td>1.000000</td>\n      <td>1.000000</td>\n      <td>1.000000</td>\n      <td>1.000000</td>\n    </tr>\n    <tr>\n      <th>SLO</th>\n      <td>0.000000</td>\n      <td>0.000000</td>\n      <td>0.000000</td>\n      <td>0.254325</td>\n      <td>0.254325</td>\n      <td>0.000000</td>\n      <td>0.000000</td>\n      <td>0.000000</td>\n      <td>0.254325</td>\n      <td>0.254325</td>\n      <td>...</td>\n      <td>0.554018</td>\n      <td>0.712971</td>\n      <td>0.813431</td>\n      <td>0.763201</td>\n      <td>1.000000</td>\n      <td>1.000000</td>\n      <td>1.000000</td>\n      <td>1.000000</td>\n      <td>1.000000</td>\n      <td>1.000000</td>\n    </tr>\n    <tr>\n      <th>POR</th>\n      <td>0.000000</td>\n      <td>0.000000</td>\n      <td>0.000000</td>\n      <td>0.000000</td>\n      <td>0.120805</td>\n      <td>0.000000</td>\n      <td>0.243974</td>\n      <td>0.000000</td>\n      <td>0.057223</td>\n      <td>0.045925</td>\n      <td>...</td>\n      <td>0.590059</td>\n      <td>0.512351</td>\n      <td>0.512351</td>\n      <td>1.000000</td>\n      <td>0.838026</td>\n      <td>0.922192</td>\n      <td>0.609133</td>\n      <td>0.844384</td>\n      <td>1.000000</td>\n      <td>1.000000</td>\n    </tr>\n    <tr>\n      <th>HUN</th>\n      <td>0.000000</td>\n      <td>0.000000</td>\n      <td>0.000000</td>\n      <td>0.038149</td>\n      <td>0.254325</td>\n      <td>0.000000</td>\n      <td>0.000000</td>\n      <td>0.000000</td>\n      <td>0.241609</td>\n      <td>0.076298</td>\n      <td>...</td>\n      <td>0.688269</td>\n      <td>0.749112</td>\n      <td>0.717322</td>\n      <td>1.000000</td>\n      <td>1.000000</td>\n      <td>1.000000</td>\n      <td>0.949135</td>\n      <td>1.000000</td>\n      <td>1.000000</td>\n      <td>1.000000</td>\n    </tr>\n    <tr>\n      <th>CZE</th>\n      <td>0.000000</td>\n      <td>0.000000</td>\n      <td>0.000000</td>\n      <td>0.000000</td>\n      <td>0.000000</td>\n      <td>0.000000</td>\n      <td>0.000000</td>\n      <td>0.000000</td>\n      <td>0.000000</td>\n      <td>0.000000</td>\n      <td>...</td>\n      <td>0.332658</td>\n      <td>0.695445</td>\n      <td>0.655566</td>\n      <td>1.000000</td>\n      <td>0.860121</td>\n      <td>1.000000</td>\n      <td>0.745675</td>\n      <td>1.000000</td>\n      <td>1.000000</td>\n      <td>1.000000</td>\n    </tr>\n    <tr>\n      <th>SLK</th>\n      <td>0.000000</td>\n      <td>0.000000</td>\n      <td>0.000000</td>\n      <td>0.000000</td>\n      <td>0.000000</td>\n      <td>0.000000</td>\n      <td>0.000000</td>\n      <td>0.000000</td>\n      <td>0.000000</td>\n      <td>0.000000</td>\n      <td>...</td>\n      <td>0.248800</td>\n      <td>0.610461</td>\n      <td>0.520352</td>\n      <td>0.955493</td>\n      <td>0.538394</td>\n      <td>0.922192</td>\n      <td>0.590059</td>\n      <td>0.749012</td>\n      <td>1.000000</td>\n      <td>1.000000</td>\n    </tr>\n    <tr>\n      <th>POL</th>\n      <td>0.000000</td>\n      <td>0.000000</td>\n      <td>0.000000</td>\n      <td>0.000000</td>\n      <td>0.000000</td>\n      <td>0.000000</td>\n      <td>0.000000</td>\n      <td>0.000000</td>\n      <td>0.000000</td>\n      <td>0.000000</td>\n      <td>...</td>\n      <td>0.245625</td>\n      <td>0.411891</td>\n      <td>0.590059</td>\n      <td>0.922192</td>\n      <td>0.679073</td>\n      <td>0.844384</td>\n      <td>0.590059</td>\n      <td>0.844384</td>\n      <td>0.922192</td>\n      <td>0.922192</td>\n    </tr>\n    <tr>\n      <th>GRE</th>\n      <td>0.000000</td>\n      <td>0.000000</td>\n      <td>0.000000</td>\n      <td>0.120805</td>\n      <td>0.254325</td>\n      <td>0.000000</td>\n      <td>0.000000</td>\n      <td>0.000000</td>\n      <td>0.254325</td>\n      <td>0.158953</td>\n      <td>...</td>\n      <td>0.000000</td>\n      <td>0.610446</td>\n      <td>0.632061</td>\n      <td>0.844484</td>\n      <td>0.844384</td>\n      <td>0.922192</td>\n      <td>0.743299</td>\n      <td>0.922192</td>\n      <td>1.000000</td>\n      <td>1.000000</td>\n    </tr>\n    <tr>\n      <th>LAT</th>\n      <td>0.000000</td>\n      <td>0.000000</td>\n      <td>0.000000</td>\n      <td>0.000000</td>\n      <td>0.082656</td>\n      <td>0.000000</td>\n      <td>0.000000</td>\n      <td>0.000000</td>\n      <td>0.019074</td>\n      <td>0.000000</td>\n      <td>...</td>\n      <td>0.155516</td>\n      <td>0.000000</td>\n      <td>0.421017</td>\n      <td>0.850435</td>\n      <td>0.762564</td>\n      <td>0.844384</td>\n      <td>0.590059</td>\n      <td>0.844384</td>\n      <td>0.922192</td>\n      <td>0.922192</td>\n    </tr>\n    <tr>\n      <th>LIT</th>\n      <td>0.000000</td>\n      <td>0.000000</td>\n      <td>0.000000</td>\n      <td>0.000000</td>\n      <td>0.114446</td>\n      <td>0.000000</td>\n      <td>0.000000</td>\n      <td>0.000000</td>\n      <td>0.050865</td>\n      <td>0.000000</td>\n      <td>...</td>\n      <td>0.155516</td>\n      <td>0.090109</td>\n      <td>0.000000</td>\n      <td>0.635164</td>\n      <td>0.794354</td>\n      <td>0.844384</td>\n      <td>0.602775</td>\n      <td>0.844384</td>\n      <td>0.922192</td>\n      <td>0.922192</td>\n    </tr>\n    <tr>\n      <th>ROM</th>\n      <td>0.000000</td>\n      <td>0.000000</td>\n      <td>0.000000</td>\n      <td>0.000000</td>\n      <td>0.000000</td>\n      <td>0.000000</td>\n      <td>0.000000</td>\n      <td>0.000000</td>\n      <td>0.000000</td>\n      <td>0.000000</td>\n      <td>...</td>\n      <td>0.062206</td>\n      <td>0.000000</td>\n      <td>0.000000</td>\n      <td>0.000000</td>\n      <td>0.442544</td>\n      <td>0.499950</td>\n      <td>0.551180</td>\n      <td>0.590059</td>\n      <td>0.844384</td>\n      <td>0.844384</td>\n    </tr>\n    <tr>\n      <th>CRO</th>\n      <td>0.000000</td>\n      <td>0.000000</td>\n      <td>0.000000</td>\n      <td>0.000000</td>\n      <td>0.000000</td>\n      <td>0.000000</td>\n      <td>0.000000</td>\n      <td>0.000000</td>\n      <td>0.000000</td>\n      <td>0.000000</td>\n      <td>...</td>\n      <td>0.077808</td>\n      <td>0.155616</td>\n      <td>0.155616</td>\n      <td>0.474800</td>\n      <td>0.000000</td>\n      <td>0.525665</td>\n      <td>0.512351</td>\n      <td>0.710964</td>\n      <td>0.844484</td>\n      <td>0.844484</td>\n    </tr>\n    <tr>\n      <th>BUL</th>\n      <td>0.000000</td>\n      <td>0.000000</td>\n      <td>0.000000</td>\n      <td>0.000000</td>\n      <td>0.000000</td>\n      <td>0.000000</td>\n      <td>0.000000</td>\n      <td>0.000000</td>\n      <td>0.000000</td>\n      <td>0.000000</td>\n      <td>...</td>\n      <td>0.000000</td>\n      <td>0.000000</td>\n      <td>0.000000</td>\n      <td>0.077808</td>\n      <td>0.442544</td>\n      <td>0.000000</td>\n      <td>0.434543</td>\n      <td>0.590059</td>\n      <td>0.922192</td>\n      <td>0.922192</td>\n    </tr>\n    <tr>\n      <th>RUS</th>\n      <td>0.000000</td>\n      <td>0.000000</td>\n      <td>0.000000</td>\n      <td>0.000000</td>\n      <td>0.038149</td>\n      <td>0.000000</td>\n      <td>0.000000</td>\n      <td>0.000000</td>\n      <td>0.000000</td>\n      <td>0.000000</td>\n      <td>...</td>\n      <td>0.000000</td>\n      <td>0.077808</td>\n      <td>0.077808</td>\n      <td>0.409941</td>\n      <td>0.320827</td>\n      <td>0.487649</td>\n      <td>0.000000</td>\n      <td>0.832083</td>\n      <td>0.565457</td>\n      <td>0.875013</td>\n    </tr>\n    <tr>\n      <th>UKR</th>\n      <td>0.000000</td>\n      <td>0.000000</td>\n      <td>0.000000</td>\n      <td>0.000000</td>\n      <td>0.000000</td>\n      <td>0.000000</td>\n      <td>0.000000</td>\n      <td>0.000000</td>\n      <td>0.000000</td>\n      <td>0.000000</td>\n      <td>...</td>\n      <td>0.000000</td>\n      <td>0.077808</td>\n      <td>0.000000</td>\n      <td>0.077808</td>\n      <td>0.062206</td>\n      <td>0.038149</td>\n      <td>0.090109</td>\n      <td>0.000000</td>\n      <td>0.461121</td>\n      <td>0.554480</td>\n    </tr>\n    <tr>\n      <th>KAZ</th>\n      <td>0.000000</td>\n      <td>0.000000</td>\n      <td>0.000000</td>\n      <td>0.000000</td>\n      <td>0.000000</td>\n      <td>0.000000</td>\n      <td>0.000000</td>\n      <td>0.000000</td>\n      <td>0.000000</td>\n      <td>0.000000</td>\n      <td>...</td>\n      <td>0.000000</td>\n      <td>0.000000</td>\n      <td>0.000000</td>\n      <td>0.000000</td>\n      <td>0.023327</td>\n      <td>0.000000</td>\n      <td>0.269502</td>\n      <td>0.344434</td>\n      <td>0.000000</td>\n      <td>0.647015</td>\n    </tr>\n    <tr>\n      <th>AZE</th>\n      <td>0.000000</td>\n      <td>0.000000</td>\n      <td>0.000000</td>\n      <td>0.000000</td>\n      <td>0.000000</td>\n      <td>0.000000</td>\n      <td>0.000000</td>\n      <td>0.000000</td>\n      <td>0.000000</td>\n      <td>0.000000</td>\n      <td>...</td>\n      <td>0.000000</td>\n      <td>0.000000</td>\n      <td>0.000000</td>\n      <td>0.000000</td>\n      <td>0.007776</td>\n      <td>0.000000</td>\n      <td>0.057406</td>\n      <td>0.057406</td>\n      <td>0.005741</td>\n      <td>0.000000</td>\n    </tr>\n  </tbody>\n</table>\n<p>31 rows × 31 columns</p>\n</div>"
     },
     "execution_count": 15,
     "metadata": {},
     "output_type": "execute_result"
    }
   ],
   "source": [
    "preference_indices"
   ],
   "metadata": {
    "collapsed": false,
    "pycharm": {
     "name": "#%%\n"
    }
   }
  },
  {
   "cell_type": "markdown",
   "source": [
    "Calculating Promethee Preference With Interactions."
   ],
   "metadata": {
    "collapsed": false,
    "pycharm": {
     "name": "#%% md\n"
    }
   }
  },
  {
   "cell_type": "code",
   "execution_count": 16,
   "outputs": [
    {
     "name": "stderr",
     "output_type": "stream",
     "text": [
      "C:\\Users\\teba_sgrabowski\\AppData\\Local\\Temp\\ipykernel_7592\\804971765.py:3: FutureWarning: The default dtype for empty Series will be 'object' instead of 'float64' in a future version. Specify a dtype explicitly to silence this warning.\n",
      "  indifference_thresholds, pd.Series(data=None, index=criteria),\n"
     ]
    },
    {
     "name": "stdout",
     "output_type": "stream",
     "text": [
      "\n"
     ]
    }
   ],
   "source": [
    "preference_indices_int, partial_preference_indices_int = compute_preference_indices_with_interactions(\n",
    "    alternatives_performances, criteria_weights, preference_thresholds,\n",
    "    indifference_thresholds, pd.Series(data=None, index=criteria),\n",
    "    generalised_criteria, criteria_directions, interactions, decimal_place=6)"
   ],
   "metadata": {
    "collapsed": false,
    "pycharm": {
     "name": "#%%\n"
    }
   }
  },
  {
   "cell_type": "code",
   "execution_count": 17,
   "outputs": [
    {
     "data": {
      "text/plain": "               UK    SWE  DEN   NET    SWI    FIN  NOR  IRE    AUS    GER  \\\ncriteria                                                                    \ng1       UK   0.0  0.575  0.0  0.75  1.000  0.900  1.0  0.0  1.000  1.000   \n         SWE  0.0  0.000  0.0  0.00  0.250  0.075  1.0  0.0  0.425  0.250   \n         DEN  0.0  0.675  0.0  0.85  1.000  1.000  1.0  0.0  1.000  1.000   \n         NET  0.0  0.000  0.0  0.00  0.075  0.000  1.0  0.0  0.250  0.075   \n         SWI  0.0  0.000  0.0  0.00  0.000  0.000  1.0  0.0  0.000  0.000   \n...           ...    ...  ...   ...    ...    ...  ...  ...    ...    ...   \ng6       BUL  0.0  0.000  0.0  0.00  0.000  0.000  0.0  0.0  0.000  0.000   \n         RUS  0.0  0.000  0.0  0.00  0.000  0.000  0.0  0.0  0.000  0.000   \n         UKR  0.0  0.000  0.0  0.00  0.000  0.000  0.0  0.0  0.000  0.000   \n         KAZ  0.0  0.000  0.0  0.00  0.000  0.000  0.0  0.0  0.000  0.000   \n         AZE  0.0  0.000  0.0  0.00  0.000  0.000  0.0  0.0  0.000  0.000   \n\n              ...  GRE  LAT  LIT  ROM  CRO  BUL  RUS  UKR  KAZ  AZE  \ncriteria      ...                                                    \ng1       UK   ...  1.0  1.0  1.0  1.0  1.0  1.0  1.0  1.0  1.0  1.0  \n         SWE  ...  1.0  1.0  1.0  1.0  1.0  1.0  1.0  1.0  1.0  1.0  \n         DEN  ...  1.0  1.0  1.0  1.0  1.0  1.0  1.0  1.0  1.0  1.0  \n         NET  ...  1.0  1.0  1.0  1.0  1.0  1.0  1.0  1.0  1.0  1.0  \n         SWI  ...  1.0  1.0  1.0  1.0  1.0  1.0  1.0  1.0  1.0  1.0  \n...           ...  ...  ...  ...  ...  ...  ...  ...  ...  ...  ...  \ng6       BUL  ...  0.0  0.0  0.0  0.0  0.0  0.0  1.0  1.0  1.0  1.0  \n         RUS  ...  0.0  0.0  0.0  0.0  0.0  0.0  0.0  1.0  0.0  0.0  \n         UKR  ...  0.0  0.0  0.0  0.0  0.0  0.0  0.0  0.0  0.0  0.0  \n         KAZ  ...  0.0  0.0  0.0  0.0  0.0  0.0  1.0  1.0  0.0  0.0  \n         AZE  ...  0.0  0.0  0.0  0.0  0.0  0.0  1.0  1.0  0.1  0.0  \n\n[186 rows x 31 columns]",
      "text/html": "<div>\n<style scoped>\n    .dataframe tbody tr th:only-of-type {\n        vertical-align: middle;\n    }\n\n    .dataframe tbody tr th {\n        vertical-align: top;\n    }\n\n    .dataframe thead th {\n        text-align: right;\n    }\n</style>\n<table border=\"1\" class=\"dataframe\">\n  <thead>\n    <tr style=\"text-align: right;\">\n      <th></th>\n      <th></th>\n      <th>UK</th>\n      <th>SWE</th>\n      <th>DEN</th>\n      <th>NET</th>\n      <th>SWI</th>\n      <th>FIN</th>\n      <th>NOR</th>\n      <th>IRE</th>\n      <th>AUS</th>\n      <th>GER</th>\n      <th>...</th>\n      <th>GRE</th>\n      <th>LAT</th>\n      <th>LIT</th>\n      <th>ROM</th>\n      <th>CRO</th>\n      <th>BUL</th>\n      <th>RUS</th>\n      <th>UKR</th>\n      <th>KAZ</th>\n      <th>AZE</th>\n    </tr>\n    <tr>\n      <th>criteria</th>\n      <th></th>\n      <th></th>\n      <th></th>\n      <th></th>\n      <th></th>\n      <th></th>\n      <th></th>\n      <th></th>\n      <th></th>\n      <th></th>\n      <th></th>\n      <th></th>\n      <th></th>\n      <th></th>\n      <th></th>\n      <th></th>\n      <th></th>\n      <th></th>\n      <th></th>\n      <th></th>\n      <th></th>\n      <th></th>\n    </tr>\n  </thead>\n  <tbody>\n    <tr>\n      <th rowspan=\"5\" valign=\"top\">g1</th>\n      <th>UK</th>\n      <td>0.0</td>\n      <td>0.575</td>\n      <td>0.0</td>\n      <td>0.75</td>\n      <td>1.000</td>\n      <td>0.900</td>\n      <td>1.0</td>\n      <td>0.0</td>\n      <td>1.000</td>\n      <td>1.000</td>\n      <td>...</td>\n      <td>1.0</td>\n      <td>1.0</td>\n      <td>1.0</td>\n      <td>1.0</td>\n      <td>1.0</td>\n      <td>1.0</td>\n      <td>1.0</td>\n      <td>1.0</td>\n      <td>1.0</td>\n      <td>1.0</td>\n    </tr>\n    <tr>\n      <th>SWE</th>\n      <td>0.0</td>\n      <td>0.000</td>\n      <td>0.0</td>\n      <td>0.00</td>\n      <td>0.250</td>\n      <td>0.075</td>\n      <td>1.0</td>\n      <td>0.0</td>\n      <td>0.425</td>\n      <td>0.250</td>\n      <td>...</td>\n      <td>1.0</td>\n      <td>1.0</td>\n      <td>1.0</td>\n      <td>1.0</td>\n      <td>1.0</td>\n      <td>1.0</td>\n      <td>1.0</td>\n      <td>1.0</td>\n      <td>1.0</td>\n      <td>1.0</td>\n    </tr>\n    <tr>\n      <th>DEN</th>\n      <td>0.0</td>\n      <td>0.675</td>\n      <td>0.0</td>\n      <td>0.85</td>\n      <td>1.000</td>\n      <td>1.000</td>\n      <td>1.0</td>\n      <td>0.0</td>\n      <td>1.000</td>\n      <td>1.000</td>\n      <td>...</td>\n      <td>1.0</td>\n      <td>1.0</td>\n      <td>1.0</td>\n      <td>1.0</td>\n      <td>1.0</td>\n      <td>1.0</td>\n      <td>1.0</td>\n      <td>1.0</td>\n      <td>1.0</td>\n      <td>1.0</td>\n    </tr>\n    <tr>\n      <th>NET</th>\n      <td>0.0</td>\n      <td>0.000</td>\n      <td>0.0</td>\n      <td>0.00</td>\n      <td>0.075</td>\n      <td>0.000</td>\n      <td>1.0</td>\n      <td>0.0</td>\n      <td>0.250</td>\n      <td>0.075</td>\n      <td>...</td>\n      <td>1.0</td>\n      <td>1.0</td>\n      <td>1.0</td>\n      <td>1.0</td>\n      <td>1.0</td>\n      <td>1.0</td>\n      <td>1.0</td>\n      <td>1.0</td>\n      <td>1.0</td>\n      <td>1.0</td>\n    </tr>\n    <tr>\n      <th>SWI</th>\n      <td>0.0</td>\n      <td>0.000</td>\n      <td>0.0</td>\n      <td>0.00</td>\n      <td>0.000</td>\n      <td>0.000</td>\n      <td>1.0</td>\n      <td>0.0</td>\n      <td>0.000</td>\n      <td>0.000</td>\n      <td>...</td>\n      <td>1.0</td>\n      <td>1.0</td>\n      <td>1.0</td>\n      <td>1.0</td>\n      <td>1.0</td>\n      <td>1.0</td>\n      <td>1.0</td>\n      <td>1.0</td>\n      <td>1.0</td>\n      <td>1.0</td>\n    </tr>\n    <tr>\n      <th>...</th>\n      <th>...</th>\n      <td>...</td>\n      <td>...</td>\n      <td>...</td>\n      <td>...</td>\n      <td>...</td>\n      <td>...</td>\n      <td>...</td>\n      <td>...</td>\n      <td>...</td>\n      <td>...</td>\n      <td>...</td>\n      <td>...</td>\n      <td>...</td>\n      <td>...</td>\n      <td>...</td>\n      <td>...</td>\n      <td>...</td>\n      <td>...</td>\n      <td>...</td>\n      <td>...</td>\n      <td>...</td>\n    </tr>\n    <tr>\n      <th rowspan=\"5\" valign=\"top\">g6</th>\n      <th>BUL</th>\n      <td>0.0</td>\n      <td>0.000</td>\n      <td>0.0</td>\n      <td>0.00</td>\n      <td>0.000</td>\n      <td>0.000</td>\n      <td>0.0</td>\n      <td>0.0</td>\n      <td>0.000</td>\n      <td>0.000</td>\n      <td>...</td>\n      <td>0.0</td>\n      <td>0.0</td>\n      <td>0.0</td>\n      <td>0.0</td>\n      <td>0.0</td>\n      <td>0.0</td>\n      <td>1.0</td>\n      <td>1.0</td>\n      <td>1.0</td>\n      <td>1.0</td>\n    </tr>\n    <tr>\n      <th>RUS</th>\n      <td>0.0</td>\n      <td>0.000</td>\n      <td>0.0</td>\n      <td>0.00</td>\n      <td>0.000</td>\n      <td>0.000</td>\n      <td>0.0</td>\n      <td>0.0</td>\n      <td>0.000</td>\n      <td>0.000</td>\n      <td>...</td>\n      <td>0.0</td>\n      <td>0.0</td>\n      <td>0.0</td>\n      <td>0.0</td>\n      <td>0.0</td>\n      <td>0.0</td>\n      <td>0.0</td>\n      <td>1.0</td>\n      <td>0.0</td>\n      <td>0.0</td>\n    </tr>\n    <tr>\n      <th>UKR</th>\n      <td>0.0</td>\n      <td>0.000</td>\n      <td>0.0</td>\n      <td>0.00</td>\n      <td>0.000</td>\n      <td>0.000</td>\n      <td>0.0</td>\n      <td>0.0</td>\n      <td>0.000</td>\n      <td>0.000</td>\n      <td>...</td>\n      <td>0.0</td>\n      <td>0.0</td>\n      <td>0.0</td>\n      <td>0.0</td>\n      <td>0.0</td>\n      <td>0.0</td>\n      <td>0.0</td>\n      <td>0.0</td>\n      <td>0.0</td>\n      <td>0.0</td>\n    </tr>\n    <tr>\n      <th>KAZ</th>\n      <td>0.0</td>\n      <td>0.000</td>\n      <td>0.0</td>\n      <td>0.00</td>\n      <td>0.000</td>\n      <td>0.000</td>\n      <td>0.0</td>\n      <td>0.0</td>\n      <td>0.000</td>\n      <td>0.000</td>\n      <td>...</td>\n      <td>0.0</td>\n      <td>0.0</td>\n      <td>0.0</td>\n      <td>0.0</td>\n      <td>0.0</td>\n      <td>0.0</td>\n      <td>1.0</td>\n      <td>1.0</td>\n      <td>0.0</td>\n      <td>0.0</td>\n    </tr>\n    <tr>\n      <th>AZE</th>\n      <td>0.0</td>\n      <td>0.000</td>\n      <td>0.0</td>\n      <td>0.00</td>\n      <td>0.000</td>\n      <td>0.000</td>\n      <td>0.0</td>\n      <td>0.0</td>\n      <td>0.000</td>\n      <td>0.000</td>\n      <td>...</td>\n      <td>0.0</td>\n      <td>0.0</td>\n      <td>0.0</td>\n      <td>0.0</td>\n      <td>0.0</td>\n      <td>0.0</td>\n      <td>1.0</td>\n      <td>1.0</td>\n      <td>0.1</td>\n      <td>0.0</td>\n    </tr>\n  </tbody>\n</table>\n<p>186 rows × 31 columns</p>\n</div>"
     },
     "execution_count": 17,
     "metadata": {},
     "output_type": "execute_result"
    }
   ],
   "source": [
    "partial_preference_indices_int"
   ],
   "metadata": {
    "collapsed": false,
    "pycharm": {
     "name": "#%%\n"
    }
   }
  },
  {
   "cell_type": "code",
   "execution_count": 18,
   "outputs": [
    {
     "data": {
      "text/plain": "           UK       SWE       DEN       NET       SWI       FIN       NOR  \\\nUK   0.000000  0.566882  0.305991  0.609207  0.761530  0.719972  0.856782   \nSWE  0.311131  0.000000  0.311131  0.518802  0.485556  0.334156  0.609864   \nDEN  0.401240  0.341259  0.000000  0.718499  0.849014  0.552032  0.697348   \nNET  0.245625  0.147515  0.147740  0.000000  0.486220  0.245625  0.697348   \nSWI  0.155516  0.282217  0.155516  0.155516  0.000000  0.155516  0.609864   \nFIN  0.155616  0.268319  0.295495  0.467347  0.467347  0.000000  0.637893   \nNOR  0.025833  0.147515  0.057406  0.311731  0.311731  0.196858  0.000000   \nIRE  0.000000  0.548530  0.254325  0.598760  0.598760  0.541354  0.705796   \nAUS  0.000000  0.090109  0.000000  0.000000  0.155616  0.000000  0.458878   \nGER  0.000000  0.090109  0.000000  0.000000  0.320927  0.015552  0.458878   \nFRA  0.000000  0.090109  0.000000  0.000000  0.241609  0.000000  0.155616   \nBEL  0.090109  0.110201  0.067582  0.067582  0.344434  0.090109  0.377138   \nSPA  0.000000  0.000000  0.000000  0.133521  0.254325  0.000000  0.287029   \nEST  0.000000  0.000000  0.000000  0.000000  0.000000  0.000000  0.000000   \nITA  0.000000  0.000000  0.000000  0.133521  0.254325  0.000000  0.000000   \nSLO  0.000000  0.000000  0.000000  0.254325  0.254325  0.000000  0.000000   \nPOR  0.000000  0.000000  0.000000  0.000000  0.120805  0.000000  0.243974   \nHUN  0.000000  0.000000  0.000000  0.038149  0.254325  0.000000  0.000000   \nCZE  0.000000  0.000000  0.000000  0.000000  0.000000  0.000000  0.000000   \nSLK  0.000000  0.000000  0.000000  0.000000  0.000000  0.000000  0.000000   \nPOL  0.000000  0.000000  0.000000  0.000000  0.000000  0.000000  0.000000   \nGRE  0.000000  0.000000  0.000000  0.120805  0.254325  0.000000  0.000000   \nLAT  0.000000  0.000000  0.000000  0.000000  0.082656  0.000000  0.000000   \nLIT  0.000000  0.000000  0.000000  0.000000  0.114446  0.000000  0.000000   \nROM  0.000000  0.000000  0.000000  0.000000  0.000000  0.000000  0.000000   \nCRO  0.000000  0.000000  0.000000  0.000000  0.000000  0.000000  0.000000   \nBUL  0.000000  0.000000  0.000000  0.000000  0.000000  0.000000  0.000000   \nRUS  0.000000  0.000000  0.000000  0.000000  0.038149  0.000000  0.000000   \nUKR  0.000000  0.000000  0.000000  0.000000  0.000000  0.000000  0.000000   \nKAZ  0.000000  0.000000  0.000000  0.000000  0.000000  0.000000  0.000000   \nAZE  0.000000  0.000000  0.000000  0.000000  0.000000  0.000000  0.000000   \n\n          IRE       AUS       GER  ...       GRE       LAT       LIT  \\\nUK   0.577356  0.910783  0.910783  ...  1.000000  1.000000  1.000000   \nSWE  0.311131  0.742986  0.690754  ...  0.892982  1.000000  1.000000   \nDEN  0.431159  1.000000  1.000000  ...  0.874096  1.000000  1.000000   \nNET  0.401240  0.585743  0.470779  ...  0.748193  0.804849  0.773373   \nSWI  0.323432  0.196858  0.196858  ...  0.748193  0.748193  0.748193   \nFIN  0.412655  0.541328  0.467347  ...  1.000000  1.000000  1.000000   \nNOR  0.288806  0.456374  0.456374  ...  0.830030  1.000000  1.000000   \nIRE  0.000000  0.598760  0.598760  ...  1.000000  1.000000  1.000000   \nAUS  0.401240  0.000000  0.213021  ...  0.748193  0.748193  0.748193   \nGER  0.401240  0.163936  0.000000  ...  0.748193  0.767078  0.748193   \nFRA  0.090109  0.178028  0.070122  ...  0.748193  0.842620  0.811144   \nBEL  0.090109  0.366962  0.172947  ...  0.748193  0.855211  0.823735   \nSPA  0.000000  0.254325  0.171670  ...  0.748193  1.000000  0.968524   \nEST  0.000000  0.000000  0.000000  ...  0.581693  0.666198  0.666198   \nITA  0.000000  0.254325  0.171670  ...  0.447598  0.804249  0.968524   \nSLO  0.000000  0.254325  0.254325  ...  0.544916  0.707114  0.811642   \nPOR  0.000000  0.057223  0.045925  ...  0.581693  0.519558  0.519558   \nHUN  0.000000  0.241609  0.076298  ...  0.697348  0.756420  0.725555   \nCZE  0.000000  0.000000  0.000000  ...  0.334156  0.696884  0.658976   \nSLK  0.000000  0.000000  0.000000  ...  0.248800  0.616218  0.527440   \nPOL  0.000000  0.000000  0.000000  ...  0.245625  0.417570  0.581693   \nGRE  0.000000  0.254325  0.158953  ...  0.000000  0.613346  0.637498   \nLAT  0.000000  0.019074  0.000000  ...  0.155516  0.000000  0.421017   \nLIT  0.000000  0.050865  0.000000  ...  0.155516  0.090109  0.000000   \nROM  0.000000  0.000000  0.000000  ...  0.062206  0.000000  0.000000   \nCRO  0.000000  0.000000  0.000000  ...  0.077808  0.155616  0.155616   \nBUL  0.000000  0.000000  0.000000  ...  0.000000  0.000000  0.000000   \nRUS  0.000000  0.000000  0.000000  ...  0.000000  0.077808  0.077808   \nUKR  0.000000  0.000000  0.000000  ...  0.000000  0.077808  0.000000   \nKAZ  0.000000  0.000000  0.000000  ...  0.000000  0.000000  0.000000   \nAZE  0.000000  0.000000  0.000000  ...  0.000000  0.000000  0.000000   \n\n          ROM       CRO       BUL       RUS       UKR       KAZ       AZE  \nUK   1.000000  1.000000  1.000000  1.000000  1.000000  1.000000  1.000000  \nSWE  1.000000  1.000000  1.000000  1.000000  1.000000  1.000000  1.000000  \nDEN  1.000000  1.000000  1.000000  1.000000  1.000000  1.000000  1.000000  \nNET  1.000000  1.000000  1.000000  0.848916  1.000000  1.000000  1.000000  \nSWI  1.000000  0.811144  1.000000  0.748193  0.993705  1.000000  1.000000  \nFIN  1.000000  1.000000  1.000000  1.000000  1.000000  1.000000  1.000000  \nNOR  1.000000  1.000000  1.000000  1.000000  1.000000  1.000000  1.000000  \nIRE  1.000000  1.000000  1.000000  1.000000  1.000000  1.000000  1.000000  \nAUS  1.000000  0.874096  1.000000  0.748193  1.000000  1.000000  1.000000  \nGER  1.000000  1.000000  1.000000  0.811144  1.000000  1.000000  1.000000  \nFRA  1.000000  1.000000  1.000000  0.886687  1.000000  1.000000  1.000000  \nBEL  1.000000  1.000000  1.000000  0.899277  1.000000  1.000000  1.000000  \nSPA  1.000000  1.000000  1.000000  1.000000  1.000000  1.000000  1.000000  \nEST  0.921801  0.620620  0.921801  0.581693  0.808769  1.000000  1.000000  \nITA  1.000000  1.000000  1.000000  1.000000  1.000000  1.000000  1.000000  \nSLO  0.759656  1.000000  1.000000  1.000000  1.000000  1.000000  1.000000  \nPOR  1.000000  0.834721  0.921801  0.601157  0.841209  1.000000  1.000000  \nHUN  1.000000  1.000000  1.000000  0.949639  1.000000  1.000000  1.000000  \nCZE  1.000000  0.861506  1.000000  0.748193  1.000000  1.000000  1.000000  \nSLK  0.955934  0.537469  0.921801  0.581693  0.743890  1.000000  1.000000  \nPOL  0.921801  0.672523  0.841209  0.581693  0.841209  0.921801  0.921801  \nGRE  0.849014  0.841209  0.921801  0.741490  0.921801  1.000000  1.000000  \nLAT  0.849115  0.760890  0.841209  0.581693  0.841209  0.921801  0.921801  \nLIT  0.627718  0.792905  0.841209  0.594669  0.841209  0.921801  0.921801  \nROM  0.000000  0.442544  0.489745  0.544345  0.581693  0.841209  0.841209  \nCRO  0.474800  0.000000  0.525665  0.519558  0.719382  0.849014  0.849014  \nBUL  0.077808  0.442544  0.000000  0.434543  0.581693  0.921801  0.921801  \nRUS  0.409941  0.320827  0.487649  0.000000  0.831239  0.565457  0.878653  \nUKR  0.077808  0.062206  0.038149  0.090109  0.000000  0.461121  0.554480  \nKAZ  0.000000  0.023327  0.000000  0.269502  0.344434  0.000000  0.647015  \nAZE  0.000000  0.007776  0.000000  0.057406  0.057406  0.005741  0.000000  \n\n[31 rows x 31 columns]",
      "text/html": "<div>\n<style scoped>\n    .dataframe tbody tr th:only-of-type {\n        vertical-align: middle;\n    }\n\n    .dataframe tbody tr th {\n        vertical-align: top;\n    }\n\n    .dataframe thead th {\n        text-align: right;\n    }\n</style>\n<table border=\"1\" class=\"dataframe\">\n  <thead>\n    <tr style=\"text-align: right;\">\n      <th></th>\n      <th>UK</th>\n      <th>SWE</th>\n      <th>DEN</th>\n      <th>NET</th>\n      <th>SWI</th>\n      <th>FIN</th>\n      <th>NOR</th>\n      <th>IRE</th>\n      <th>AUS</th>\n      <th>GER</th>\n      <th>...</th>\n      <th>GRE</th>\n      <th>LAT</th>\n      <th>LIT</th>\n      <th>ROM</th>\n      <th>CRO</th>\n      <th>BUL</th>\n      <th>RUS</th>\n      <th>UKR</th>\n      <th>KAZ</th>\n      <th>AZE</th>\n    </tr>\n  </thead>\n  <tbody>\n    <tr>\n      <th>UK</th>\n      <td>0.000000</td>\n      <td>0.566882</td>\n      <td>0.305991</td>\n      <td>0.609207</td>\n      <td>0.761530</td>\n      <td>0.719972</td>\n      <td>0.856782</td>\n      <td>0.577356</td>\n      <td>0.910783</td>\n      <td>0.910783</td>\n      <td>...</td>\n      <td>1.000000</td>\n      <td>1.000000</td>\n      <td>1.000000</td>\n      <td>1.000000</td>\n      <td>1.000000</td>\n      <td>1.000000</td>\n      <td>1.000000</td>\n      <td>1.000000</td>\n      <td>1.000000</td>\n      <td>1.000000</td>\n    </tr>\n    <tr>\n      <th>SWE</th>\n      <td>0.311131</td>\n      <td>0.000000</td>\n      <td>0.311131</td>\n      <td>0.518802</td>\n      <td>0.485556</td>\n      <td>0.334156</td>\n      <td>0.609864</td>\n      <td>0.311131</td>\n      <td>0.742986</td>\n      <td>0.690754</td>\n      <td>...</td>\n      <td>0.892982</td>\n      <td>1.000000</td>\n      <td>1.000000</td>\n      <td>1.000000</td>\n      <td>1.000000</td>\n      <td>1.000000</td>\n      <td>1.000000</td>\n      <td>1.000000</td>\n      <td>1.000000</td>\n      <td>1.000000</td>\n    </tr>\n    <tr>\n      <th>DEN</th>\n      <td>0.401240</td>\n      <td>0.341259</td>\n      <td>0.000000</td>\n      <td>0.718499</td>\n      <td>0.849014</td>\n      <td>0.552032</td>\n      <td>0.697348</td>\n      <td>0.431159</td>\n      <td>1.000000</td>\n      <td>1.000000</td>\n      <td>...</td>\n      <td>0.874096</td>\n      <td>1.000000</td>\n      <td>1.000000</td>\n      <td>1.000000</td>\n      <td>1.000000</td>\n      <td>1.000000</td>\n      <td>1.000000</td>\n      <td>1.000000</td>\n      <td>1.000000</td>\n      <td>1.000000</td>\n    </tr>\n    <tr>\n      <th>NET</th>\n      <td>0.245625</td>\n      <td>0.147515</td>\n      <td>0.147740</td>\n      <td>0.000000</td>\n      <td>0.486220</td>\n      <td>0.245625</td>\n      <td>0.697348</td>\n      <td>0.401240</td>\n      <td>0.585743</td>\n      <td>0.470779</td>\n      <td>...</td>\n      <td>0.748193</td>\n      <td>0.804849</td>\n      <td>0.773373</td>\n      <td>1.000000</td>\n      <td>1.000000</td>\n      <td>1.000000</td>\n      <td>0.848916</td>\n      <td>1.000000</td>\n      <td>1.000000</td>\n      <td>1.000000</td>\n    </tr>\n    <tr>\n      <th>SWI</th>\n      <td>0.155516</td>\n      <td>0.282217</td>\n      <td>0.155516</td>\n      <td>0.155516</td>\n      <td>0.000000</td>\n      <td>0.155516</td>\n      <td>0.609864</td>\n      <td>0.323432</td>\n      <td>0.196858</td>\n      <td>0.196858</td>\n      <td>...</td>\n      <td>0.748193</td>\n      <td>0.748193</td>\n      <td>0.748193</td>\n      <td>1.000000</td>\n      <td>0.811144</td>\n      <td>1.000000</td>\n      <td>0.748193</td>\n      <td>0.993705</td>\n      <td>1.000000</td>\n      <td>1.000000</td>\n    </tr>\n    <tr>\n      <th>FIN</th>\n      <td>0.155616</td>\n      <td>0.268319</td>\n      <td>0.295495</td>\n      <td>0.467347</td>\n      <td>0.467347</td>\n      <td>0.000000</td>\n      <td>0.637893</td>\n      <td>0.412655</td>\n      <td>0.541328</td>\n      <td>0.467347</td>\n      <td>...</td>\n      <td>1.000000</td>\n      <td>1.000000</td>\n      <td>1.000000</td>\n      <td>1.000000</td>\n      <td>1.000000</td>\n      <td>1.000000</td>\n      <td>1.000000</td>\n      <td>1.000000</td>\n      <td>1.000000</td>\n      <td>1.000000</td>\n    </tr>\n    <tr>\n      <th>NOR</th>\n      <td>0.025833</td>\n      <td>0.147515</td>\n      <td>0.057406</td>\n      <td>0.311731</td>\n      <td>0.311731</td>\n      <td>0.196858</td>\n      <td>0.000000</td>\n      <td>0.288806</td>\n      <td>0.456374</td>\n      <td>0.456374</td>\n      <td>...</td>\n      <td>0.830030</td>\n      <td>1.000000</td>\n      <td>1.000000</td>\n      <td>1.000000</td>\n      <td>1.000000</td>\n      <td>1.000000</td>\n      <td>1.000000</td>\n      <td>1.000000</td>\n      <td>1.000000</td>\n      <td>1.000000</td>\n    </tr>\n    <tr>\n      <th>IRE</th>\n      <td>0.000000</td>\n      <td>0.548530</td>\n      <td>0.254325</td>\n      <td>0.598760</td>\n      <td>0.598760</td>\n      <td>0.541354</td>\n      <td>0.705796</td>\n      <td>0.000000</td>\n      <td>0.598760</td>\n      <td>0.598760</td>\n      <td>...</td>\n      <td>1.000000</td>\n      <td>1.000000</td>\n      <td>1.000000</td>\n      <td>1.000000</td>\n      <td>1.000000</td>\n      <td>1.000000</td>\n      <td>1.000000</td>\n      <td>1.000000</td>\n      <td>1.000000</td>\n      <td>1.000000</td>\n    </tr>\n    <tr>\n      <th>AUS</th>\n      <td>0.000000</td>\n      <td>0.090109</td>\n      <td>0.000000</td>\n      <td>0.000000</td>\n      <td>0.155616</td>\n      <td>0.000000</td>\n      <td>0.458878</td>\n      <td>0.401240</td>\n      <td>0.000000</td>\n      <td>0.213021</td>\n      <td>...</td>\n      <td>0.748193</td>\n      <td>0.748193</td>\n      <td>0.748193</td>\n      <td>1.000000</td>\n      <td>0.874096</td>\n      <td>1.000000</td>\n      <td>0.748193</td>\n      <td>1.000000</td>\n      <td>1.000000</td>\n      <td>1.000000</td>\n    </tr>\n    <tr>\n      <th>GER</th>\n      <td>0.000000</td>\n      <td>0.090109</td>\n      <td>0.000000</td>\n      <td>0.000000</td>\n      <td>0.320927</td>\n      <td>0.015552</td>\n      <td>0.458878</td>\n      <td>0.401240</td>\n      <td>0.163936</td>\n      <td>0.000000</td>\n      <td>...</td>\n      <td>0.748193</td>\n      <td>0.767078</td>\n      <td>0.748193</td>\n      <td>1.000000</td>\n      <td>1.000000</td>\n      <td>1.000000</td>\n      <td>0.811144</td>\n      <td>1.000000</td>\n      <td>1.000000</td>\n      <td>1.000000</td>\n    </tr>\n    <tr>\n      <th>FRA</th>\n      <td>0.000000</td>\n      <td>0.090109</td>\n      <td>0.000000</td>\n      <td>0.000000</td>\n      <td>0.241609</td>\n      <td>0.000000</td>\n      <td>0.155616</td>\n      <td>0.090109</td>\n      <td>0.178028</td>\n      <td>0.070122</td>\n      <td>...</td>\n      <td>0.748193</td>\n      <td>0.842620</td>\n      <td>0.811144</td>\n      <td>1.000000</td>\n      <td>1.000000</td>\n      <td>1.000000</td>\n      <td>0.886687</td>\n      <td>1.000000</td>\n      <td>1.000000</td>\n      <td>1.000000</td>\n    </tr>\n    <tr>\n      <th>BEL</th>\n      <td>0.090109</td>\n      <td>0.110201</td>\n      <td>0.067582</td>\n      <td>0.067582</td>\n      <td>0.344434</td>\n      <td>0.090109</td>\n      <td>0.377138</td>\n      <td>0.090109</td>\n      <td>0.366962</td>\n      <td>0.172947</td>\n      <td>...</td>\n      <td>0.748193</td>\n      <td>0.855211</td>\n      <td>0.823735</td>\n      <td>1.000000</td>\n      <td>1.000000</td>\n      <td>1.000000</td>\n      <td>0.899277</td>\n      <td>1.000000</td>\n      <td>1.000000</td>\n      <td>1.000000</td>\n    </tr>\n    <tr>\n      <th>SPA</th>\n      <td>0.000000</td>\n      <td>0.000000</td>\n      <td>0.000000</td>\n      <td>0.133521</td>\n      <td>0.254325</td>\n      <td>0.000000</td>\n      <td>0.287029</td>\n      <td>0.000000</td>\n      <td>0.254325</td>\n      <td>0.171670</td>\n      <td>...</td>\n      <td>0.748193</td>\n      <td>1.000000</td>\n      <td>0.968524</td>\n      <td>1.000000</td>\n      <td>1.000000</td>\n      <td>1.000000</td>\n      <td>1.000000</td>\n      <td>1.000000</td>\n      <td>1.000000</td>\n      <td>1.000000</td>\n    </tr>\n    <tr>\n      <th>EST</th>\n      <td>0.000000</td>\n      <td>0.000000</td>\n      <td>0.000000</td>\n      <td>0.000000</td>\n      <td>0.000000</td>\n      <td>0.000000</td>\n      <td>0.000000</td>\n      <td>0.000000</td>\n      <td>0.000000</td>\n      <td>0.000000</td>\n      <td>...</td>\n      <td>0.581693</td>\n      <td>0.666198</td>\n      <td>0.666198</td>\n      <td>0.921801</td>\n      <td>0.620620</td>\n      <td>0.921801</td>\n      <td>0.581693</td>\n      <td>0.808769</td>\n      <td>1.000000</td>\n      <td>1.000000</td>\n    </tr>\n    <tr>\n      <th>ITA</th>\n      <td>0.000000</td>\n      <td>0.000000</td>\n      <td>0.000000</td>\n      <td>0.133521</td>\n      <td>0.254325</td>\n      <td>0.000000</td>\n      <td>0.000000</td>\n      <td>0.000000</td>\n      <td>0.254325</td>\n      <td>0.171670</td>\n      <td>...</td>\n      <td>0.447598</td>\n      <td>0.804249</td>\n      <td>0.968524</td>\n      <td>1.000000</td>\n      <td>1.000000</td>\n      <td>1.000000</td>\n      <td>1.000000</td>\n      <td>1.000000</td>\n      <td>1.000000</td>\n      <td>1.000000</td>\n    </tr>\n    <tr>\n      <th>SLO</th>\n      <td>0.000000</td>\n      <td>0.000000</td>\n      <td>0.000000</td>\n      <td>0.254325</td>\n      <td>0.254325</td>\n      <td>0.000000</td>\n      <td>0.000000</td>\n      <td>0.000000</td>\n      <td>0.254325</td>\n      <td>0.254325</td>\n      <td>...</td>\n      <td>0.544916</td>\n      <td>0.707114</td>\n      <td>0.811642</td>\n      <td>0.759656</td>\n      <td>1.000000</td>\n      <td>1.000000</td>\n      <td>1.000000</td>\n      <td>1.000000</td>\n      <td>1.000000</td>\n      <td>1.000000</td>\n    </tr>\n    <tr>\n      <th>POR</th>\n      <td>0.000000</td>\n      <td>0.000000</td>\n      <td>0.000000</td>\n      <td>0.000000</td>\n      <td>0.120805</td>\n      <td>0.000000</td>\n      <td>0.243974</td>\n      <td>0.000000</td>\n      <td>0.057223</td>\n      <td>0.045925</td>\n      <td>...</td>\n      <td>0.581693</td>\n      <td>0.519558</td>\n      <td>0.519558</td>\n      <td>1.000000</td>\n      <td>0.834721</td>\n      <td>0.921801</td>\n      <td>0.601157</td>\n      <td>0.841209</td>\n      <td>1.000000</td>\n      <td>1.000000</td>\n    </tr>\n    <tr>\n      <th>HUN</th>\n      <td>0.000000</td>\n      <td>0.000000</td>\n      <td>0.000000</td>\n      <td>0.038149</td>\n      <td>0.254325</td>\n      <td>0.000000</td>\n      <td>0.000000</td>\n      <td>0.000000</td>\n      <td>0.241609</td>\n      <td>0.076298</td>\n      <td>...</td>\n      <td>0.697348</td>\n      <td>0.756420</td>\n      <td>0.725555</td>\n      <td>1.000000</td>\n      <td>1.000000</td>\n      <td>1.000000</td>\n      <td>0.949639</td>\n      <td>1.000000</td>\n      <td>1.000000</td>\n      <td>1.000000</td>\n    </tr>\n    <tr>\n      <th>CZE</th>\n      <td>0.000000</td>\n      <td>0.000000</td>\n      <td>0.000000</td>\n      <td>0.000000</td>\n      <td>0.000000</td>\n      <td>0.000000</td>\n      <td>0.000000</td>\n      <td>0.000000</td>\n      <td>0.000000</td>\n      <td>0.000000</td>\n      <td>...</td>\n      <td>0.334156</td>\n      <td>0.696884</td>\n      <td>0.658976</td>\n      <td>1.000000</td>\n      <td>0.861506</td>\n      <td>1.000000</td>\n      <td>0.748193</td>\n      <td>1.000000</td>\n      <td>1.000000</td>\n      <td>1.000000</td>\n    </tr>\n    <tr>\n      <th>SLK</th>\n      <td>0.000000</td>\n      <td>0.000000</td>\n      <td>0.000000</td>\n      <td>0.000000</td>\n      <td>0.000000</td>\n      <td>0.000000</td>\n      <td>0.000000</td>\n      <td>0.000000</td>\n      <td>0.000000</td>\n      <td>0.000000</td>\n      <td>...</td>\n      <td>0.248800</td>\n      <td>0.616218</td>\n      <td>0.527440</td>\n      <td>0.955934</td>\n      <td>0.537469</td>\n      <td>0.921801</td>\n      <td>0.581693</td>\n      <td>0.743890</td>\n      <td>1.000000</td>\n      <td>1.000000</td>\n    </tr>\n    <tr>\n      <th>POL</th>\n      <td>0.000000</td>\n      <td>0.000000</td>\n      <td>0.000000</td>\n      <td>0.000000</td>\n      <td>0.000000</td>\n      <td>0.000000</td>\n      <td>0.000000</td>\n      <td>0.000000</td>\n      <td>0.000000</td>\n      <td>0.000000</td>\n      <td>...</td>\n      <td>0.245625</td>\n      <td>0.417570</td>\n      <td>0.581693</td>\n      <td>0.921801</td>\n      <td>0.672523</td>\n      <td>0.841209</td>\n      <td>0.581693</td>\n      <td>0.841209</td>\n      <td>0.921801</td>\n      <td>0.921801</td>\n    </tr>\n    <tr>\n      <th>GRE</th>\n      <td>0.000000</td>\n      <td>0.000000</td>\n      <td>0.000000</td>\n      <td>0.120805</td>\n      <td>0.254325</td>\n      <td>0.000000</td>\n      <td>0.000000</td>\n      <td>0.000000</td>\n      <td>0.254325</td>\n      <td>0.158953</td>\n      <td>...</td>\n      <td>0.000000</td>\n      <td>0.613346</td>\n      <td>0.637498</td>\n      <td>0.849014</td>\n      <td>0.841209</td>\n      <td>0.921801</td>\n      <td>0.741490</td>\n      <td>0.921801</td>\n      <td>1.000000</td>\n      <td>1.000000</td>\n    </tr>\n    <tr>\n      <th>LAT</th>\n      <td>0.000000</td>\n      <td>0.000000</td>\n      <td>0.000000</td>\n      <td>0.000000</td>\n      <td>0.082656</td>\n      <td>0.000000</td>\n      <td>0.000000</td>\n      <td>0.000000</td>\n      <td>0.019074</td>\n      <td>0.000000</td>\n      <td>...</td>\n      <td>0.155516</td>\n      <td>0.000000</td>\n      <td>0.421017</td>\n      <td>0.849115</td>\n      <td>0.760890</td>\n      <td>0.841209</td>\n      <td>0.581693</td>\n      <td>0.841209</td>\n      <td>0.921801</td>\n      <td>0.921801</td>\n    </tr>\n    <tr>\n      <th>LIT</th>\n      <td>0.000000</td>\n      <td>0.000000</td>\n      <td>0.000000</td>\n      <td>0.000000</td>\n      <td>0.114446</td>\n      <td>0.000000</td>\n      <td>0.000000</td>\n      <td>0.000000</td>\n      <td>0.050865</td>\n      <td>0.000000</td>\n      <td>...</td>\n      <td>0.155516</td>\n      <td>0.090109</td>\n      <td>0.000000</td>\n      <td>0.627718</td>\n      <td>0.792905</td>\n      <td>0.841209</td>\n      <td>0.594669</td>\n      <td>0.841209</td>\n      <td>0.921801</td>\n      <td>0.921801</td>\n    </tr>\n    <tr>\n      <th>ROM</th>\n      <td>0.000000</td>\n      <td>0.000000</td>\n      <td>0.000000</td>\n      <td>0.000000</td>\n      <td>0.000000</td>\n      <td>0.000000</td>\n      <td>0.000000</td>\n      <td>0.000000</td>\n      <td>0.000000</td>\n      <td>0.000000</td>\n      <td>...</td>\n      <td>0.062206</td>\n      <td>0.000000</td>\n      <td>0.000000</td>\n      <td>0.000000</td>\n      <td>0.442544</td>\n      <td>0.489745</td>\n      <td>0.544345</td>\n      <td>0.581693</td>\n      <td>0.841209</td>\n      <td>0.841209</td>\n    </tr>\n    <tr>\n      <th>CRO</th>\n      <td>0.000000</td>\n      <td>0.000000</td>\n      <td>0.000000</td>\n      <td>0.000000</td>\n      <td>0.000000</td>\n      <td>0.000000</td>\n      <td>0.000000</td>\n      <td>0.000000</td>\n      <td>0.000000</td>\n      <td>0.000000</td>\n      <td>...</td>\n      <td>0.077808</td>\n      <td>0.155616</td>\n      <td>0.155616</td>\n      <td>0.474800</td>\n      <td>0.000000</td>\n      <td>0.525665</td>\n      <td>0.519558</td>\n      <td>0.719382</td>\n      <td>0.849014</td>\n      <td>0.849014</td>\n    </tr>\n    <tr>\n      <th>BUL</th>\n      <td>0.000000</td>\n      <td>0.000000</td>\n      <td>0.000000</td>\n      <td>0.000000</td>\n      <td>0.000000</td>\n      <td>0.000000</td>\n      <td>0.000000</td>\n      <td>0.000000</td>\n      <td>0.000000</td>\n      <td>0.000000</td>\n      <td>...</td>\n      <td>0.000000</td>\n      <td>0.000000</td>\n      <td>0.000000</td>\n      <td>0.077808</td>\n      <td>0.442544</td>\n      <td>0.000000</td>\n      <td>0.434543</td>\n      <td>0.581693</td>\n      <td>0.921801</td>\n      <td>0.921801</td>\n    </tr>\n    <tr>\n      <th>RUS</th>\n      <td>0.000000</td>\n      <td>0.000000</td>\n      <td>0.000000</td>\n      <td>0.000000</td>\n      <td>0.038149</td>\n      <td>0.000000</td>\n      <td>0.000000</td>\n      <td>0.000000</td>\n      <td>0.000000</td>\n      <td>0.000000</td>\n      <td>...</td>\n      <td>0.000000</td>\n      <td>0.077808</td>\n      <td>0.077808</td>\n      <td>0.409941</td>\n      <td>0.320827</td>\n      <td>0.487649</td>\n      <td>0.000000</td>\n      <td>0.831239</td>\n      <td>0.565457</td>\n      <td>0.878653</td>\n    </tr>\n    <tr>\n      <th>UKR</th>\n      <td>0.000000</td>\n      <td>0.000000</td>\n      <td>0.000000</td>\n      <td>0.000000</td>\n      <td>0.000000</td>\n      <td>0.000000</td>\n      <td>0.000000</td>\n      <td>0.000000</td>\n      <td>0.000000</td>\n      <td>0.000000</td>\n      <td>...</td>\n      <td>0.000000</td>\n      <td>0.077808</td>\n      <td>0.000000</td>\n      <td>0.077808</td>\n      <td>0.062206</td>\n      <td>0.038149</td>\n      <td>0.090109</td>\n      <td>0.000000</td>\n      <td>0.461121</td>\n      <td>0.554480</td>\n    </tr>\n    <tr>\n      <th>KAZ</th>\n      <td>0.000000</td>\n      <td>0.000000</td>\n      <td>0.000000</td>\n      <td>0.000000</td>\n      <td>0.000000</td>\n      <td>0.000000</td>\n      <td>0.000000</td>\n      <td>0.000000</td>\n      <td>0.000000</td>\n      <td>0.000000</td>\n      <td>...</td>\n      <td>0.000000</td>\n      <td>0.000000</td>\n      <td>0.000000</td>\n      <td>0.000000</td>\n      <td>0.023327</td>\n      <td>0.000000</td>\n      <td>0.269502</td>\n      <td>0.344434</td>\n      <td>0.000000</td>\n      <td>0.647015</td>\n    </tr>\n    <tr>\n      <th>AZE</th>\n      <td>0.000000</td>\n      <td>0.000000</td>\n      <td>0.000000</td>\n      <td>0.000000</td>\n      <td>0.000000</td>\n      <td>0.000000</td>\n      <td>0.000000</td>\n      <td>0.000000</td>\n      <td>0.000000</td>\n      <td>0.000000</td>\n      <td>...</td>\n      <td>0.000000</td>\n      <td>0.000000</td>\n      <td>0.000000</td>\n      <td>0.000000</td>\n      <td>0.007776</td>\n      <td>0.000000</td>\n      <td>0.057406</td>\n      <td>0.057406</td>\n      <td>0.005741</td>\n      <td>0.000000</td>\n    </tr>\n  </tbody>\n</table>\n<p>31 rows × 31 columns</p>\n</div>"
     },
     "execution_count": 18,
     "metadata": {},
     "output_type": "execute_result"
    }
   ],
   "source": [
    "preference_indices_int"
   ],
   "metadata": {
    "collapsed": false,
    "pycharm": {
     "name": "#%%\n"
    }
   }
  },
  {
   "cell_type": "markdown",
   "source": [
    "Finally, alternatives are clustered into 4 groups using PrometheeCluster."
   ],
   "metadata": {
    "collapsed": false,
    "pycharm": {
     "name": "#%% md\n"
    }
   }
  },
  {
   "cell_type": "code",
   "execution_count": 19,
   "outputs": [
    {
     "data": {
      "text/plain": "C1                        [UK, SWE, DEN, NET, FIN, IRE]\nC2    [SWI, NOR, AUS, GER, FRA, BEL, SPA, ITA, SLO, ...\nC3        [EST, POR, CZE, SLK, POL, GRE, LAT, LIT, RUS]\nC4                       [ROM, CRO, BUL, UKR, KAZ, AZE]\nName: Alternatives in clusters, dtype: object"
     },
     "execution_count": 19,
     "metadata": {},
     "output_type": "execute_result"
    }
   ],
   "source": [
    "cluster = group_into_ordered_clusters(preference_indices_int, 4)\n",
    "cluster"
   ],
   "metadata": {
    "collapsed": false,
    "pycharm": {
     "name": "#%%\n"
    }
   }
  },
  {
   "cell_type": "code",
   "execution_count": 20,
   "outputs": [
    {
     "data": {
      "text/plain": "AUS    C2\nAZE    C4\nBEL    C2\nBUL    C4\nCRO    C4\nCZE    C3\nDEN    C1\nEST    C3\nFIN    C1\nFRA    C2\nGER    C2\nGRE    C3\nHUN    C2\nIRE    C1\nITA    C2\nKAZ    C4\nLAT    C3\nLIT    C3\nNET    C1\nNOR    C2\nPOL    C3\nPOR    C3\nROM    C4\nRUS    C3\nSLK    C3\nSLO    C2\nSPA    C2\nSWE    C1\nSWI    C2\nUK     C1\nUKR    C4\ndtype: object"
     },
     "execution_count": 20,
     "metadata": {},
     "output_type": "execute_result"
    }
   ],
   "source": [
    "from core.clusters_commons import change_clusters_output\n",
    "\n",
    "change_clusters_output(cluster)"
   ],
   "metadata": {
    "collapsed": false,
    "pycharm": {
     "name": "#%%\n"
    }
   }
  }
 ],
 "metadata": {
  "kernelspec": {
   "display_name": "Python 3",
   "language": "python",
   "name": "python3"
  },
  "language_info": {
   "codemirror_mode": {
    "name": "ipython",
    "version": 2
   },
   "file_extension": ".py",
   "mimetype": "text/x-python",
   "name": "python",
   "nbconvert_exporter": "python",
   "pygments_lexer": "ipython2",
   "version": "2.7.6"
  }
 },
 "nbformat": 4,
 "nbformat_minor": 0
}