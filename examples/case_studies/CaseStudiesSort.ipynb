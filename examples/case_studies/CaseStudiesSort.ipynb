{
 "cells": [
  {
   "cell_type": "markdown",
   "source": [
    "# CaseStudy II\n",
    "In this notebook, real-life MCDA problem will be solved using multiple modules. In this study case study we took 30 alternatives and use 3 criteria to sort alternatives into 3 categories using FlowSortI (M1)."
   ],
   "metadata": {
    "collapsed": false,
    "pycharm": {
     "name": "#%% md\n"
    }
   }
  },
  {
   "cell_type": "markdown",
   "source": [
    "## Definition of inputs and problem formalization"
   ],
   "metadata": {
    "collapsed": false,
    "pycharm": {
     "name": "#%% md\n"
    }
   }
  },
  {
   "cell_type": "code",
   "execution_count": 15,
   "outputs": [
    {
     "data": {
      "text/plain": "           g1     g2     g3\nLBS     68.78  62.03  59.87\nMIT     60.01  24.10  85.81\nYALE    79.01  25.98  51.84\nUNC     67.80  22.45  62.40\nTOR     59.34  36.68  60.79\nUCLA    55.46  21.52  74.54\nOXF     57.04  43.49  47.12\nMAR     55.33  25.28  64.13\nCAME    54.02  18.69  71.93\nCBS     83.44  32.94  71.63\nCOR     60.54  30.31  55.99\nDUKE    64.05  27.25  64.68\nESADE   54.61  60.15  14.45\nHARV    77.84  29.05  93.91\nIESA    61.99  54.61  40.04\nINSEAD  56.59  70.74  65.45\nNYU     68.24  26.74  80.40\nNWU     68.68  24.52  72.43\nROTT    51.20  52.91  42.98\nSTAN    76.77  28.52  81.80\nUCB     61.26  31.04  73.69\nCHI     75.64  23.57  77.73\nIOWA    58.25  26.25  46.81\nMICH    63.23  28.36  69.61\nPENN    77.11  31.51  91.59\nROCH    60.25  29.60  49.25\nVIRG    76.49  19.05  37.68\nUWO     50.04  40.55  53.55\nVAND    64.67  26.33  35.14\nYORK    57.03  50.73  47.55",
      "text/html": "<div>\n<style scoped>\n    .dataframe tbody tr th:only-of-type {\n        vertical-align: middle;\n    }\n\n    .dataframe tbody tr th {\n        vertical-align: top;\n    }\n\n    .dataframe thead th {\n        text-align: right;\n    }\n</style>\n<table border=\"1\" class=\"dataframe\">\n  <thead>\n    <tr style=\"text-align: right;\">\n      <th></th>\n      <th>g1</th>\n      <th>g2</th>\n      <th>g3</th>\n    </tr>\n  </thead>\n  <tbody>\n    <tr>\n      <th>LBS</th>\n      <td>68.78</td>\n      <td>62.03</td>\n      <td>59.87</td>\n    </tr>\n    <tr>\n      <th>MIT</th>\n      <td>60.01</td>\n      <td>24.10</td>\n      <td>85.81</td>\n    </tr>\n    <tr>\n      <th>YALE</th>\n      <td>79.01</td>\n      <td>25.98</td>\n      <td>51.84</td>\n    </tr>\n    <tr>\n      <th>UNC</th>\n      <td>67.80</td>\n      <td>22.45</td>\n      <td>62.40</td>\n    </tr>\n    <tr>\n      <th>TOR</th>\n      <td>59.34</td>\n      <td>36.68</td>\n      <td>60.79</td>\n    </tr>\n    <tr>\n      <th>UCLA</th>\n      <td>55.46</td>\n      <td>21.52</td>\n      <td>74.54</td>\n    </tr>\n    <tr>\n      <th>OXF</th>\n      <td>57.04</td>\n      <td>43.49</td>\n      <td>47.12</td>\n    </tr>\n    <tr>\n      <th>MAR</th>\n      <td>55.33</td>\n      <td>25.28</td>\n      <td>64.13</td>\n    </tr>\n    <tr>\n      <th>CAME</th>\n      <td>54.02</td>\n      <td>18.69</td>\n      <td>71.93</td>\n    </tr>\n    <tr>\n      <th>CBS</th>\n      <td>83.44</td>\n      <td>32.94</td>\n      <td>71.63</td>\n    </tr>\n    <tr>\n      <th>COR</th>\n      <td>60.54</td>\n      <td>30.31</td>\n      <td>55.99</td>\n    </tr>\n    <tr>\n      <th>DUKE</th>\n      <td>64.05</td>\n      <td>27.25</td>\n      <td>64.68</td>\n    </tr>\n    <tr>\n      <th>ESADE</th>\n      <td>54.61</td>\n      <td>60.15</td>\n      <td>14.45</td>\n    </tr>\n    <tr>\n      <th>HARV</th>\n      <td>77.84</td>\n      <td>29.05</td>\n      <td>93.91</td>\n    </tr>\n    <tr>\n      <th>IESA</th>\n      <td>61.99</td>\n      <td>54.61</td>\n      <td>40.04</td>\n    </tr>\n    <tr>\n      <th>INSEAD</th>\n      <td>56.59</td>\n      <td>70.74</td>\n      <td>65.45</td>\n    </tr>\n    <tr>\n      <th>NYU</th>\n      <td>68.24</td>\n      <td>26.74</td>\n      <td>80.40</td>\n    </tr>\n    <tr>\n      <th>NWU</th>\n      <td>68.68</td>\n      <td>24.52</td>\n      <td>72.43</td>\n    </tr>\n    <tr>\n      <th>ROTT</th>\n      <td>51.20</td>\n      <td>52.91</td>\n      <td>42.98</td>\n    </tr>\n    <tr>\n      <th>STAN</th>\n      <td>76.77</td>\n      <td>28.52</td>\n      <td>81.80</td>\n    </tr>\n    <tr>\n      <th>UCB</th>\n      <td>61.26</td>\n      <td>31.04</td>\n      <td>73.69</td>\n    </tr>\n    <tr>\n      <th>CHI</th>\n      <td>75.64</td>\n      <td>23.57</td>\n      <td>77.73</td>\n    </tr>\n    <tr>\n      <th>IOWA</th>\n      <td>58.25</td>\n      <td>26.25</td>\n      <td>46.81</td>\n    </tr>\n    <tr>\n      <th>MICH</th>\n      <td>63.23</td>\n      <td>28.36</td>\n      <td>69.61</td>\n    </tr>\n    <tr>\n      <th>PENN</th>\n      <td>77.11</td>\n      <td>31.51</td>\n      <td>91.59</td>\n    </tr>\n    <tr>\n      <th>ROCH</th>\n      <td>60.25</td>\n      <td>29.60</td>\n      <td>49.25</td>\n    </tr>\n    <tr>\n      <th>VIRG</th>\n      <td>76.49</td>\n      <td>19.05</td>\n      <td>37.68</td>\n    </tr>\n    <tr>\n      <th>UWO</th>\n      <td>50.04</td>\n      <td>40.55</td>\n      <td>53.55</td>\n    </tr>\n    <tr>\n      <th>VAND</th>\n      <td>64.67</td>\n      <td>26.33</td>\n      <td>35.14</td>\n    </tr>\n    <tr>\n      <th>YORK</th>\n      <td>57.03</td>\n      <td>50.73</td>\n      <td>47.55</td>\n    </tr>\n  </tbody>\n</table>\n</div>"
     },
     "execution_count": 15,
     "metadata": {},
     "output_type": "execute_result"
    }
   ],
   "source": [
    "import pandas as pd\n",
    "from core.enums import Direction, GeneralCriterion, SurrogateMethod, FlowType, CompareProfiles\n",
    "from modular_parts.weights import surrogate_weights\n",
    "from modular_parts.preference import (compute_preference_indices,\n",
    "                                      compute_discordance)\n",
    "from modular_parts.flows import calculate_promethee_outranking_flows\n",
    "from modular_parts.sorting import calculate_flowsortI_sorted_alternatives\n",
    "\n",
    "\n",
    "alternatives = [\"LBS\", \"MIT\", \"YALE\", \"UNC\", \"TOR\", \"UCLA\", \"OXF\", \"MAR\",\n",
    "                \"CAME\",\n",
    "                \"CBS\", \"COR\", \"DUKE\", \"ESADE\", \"HARV\", \"IESA\", \"INSEAD\",\n",
    "                \"NYU\",\n",
    "                \"NWU\", \"ROTT\", \"STAN\", \"UCB\", \"CHI\", \"IOWA\", \"MICH\", \"PENN\",\n",
    "                \"ROCH\",\n",
    "                \"VIRG\", \"UWO\", \"VAND\", \"YORK\"]\n",
    "criteria = ['g1', 'g2', 'g3']\n",
    "criteria_directions = [Direction.MAX, Direction.MAX, Direction.MAX]\n",
    "\n",
    "\n",
    "generalised_criteria = [GeneralCriterion.V_SHAPE_INDIFFERENCE,\n",
    "                        GeneralCriterion.V_SHAPE_INDIFFERENCE,\n",
    "                        GeneralCriterion.V_SHAPE_INDIFFERENCE]\n",
    "preference_thresholds = [3, 3, 3]\n",
    "indifference_thresholds = [0.5, 0.5, 0.5]\n",
    "alternatives_performances = [[68.78, 62.03, 59.87],\n",
    "                             [60.01, 24.1, 85.81],\n",
    "                             [79.01, 25.98, 51.84],\n",
    "                             [67.8, 22.45, 62.4],\n",
    "                             [59.34, 36.68, 60.79],\n",
    "                             [55.46, 21.52, 74.54],\n",
    "                             [57.04, 43.49, 47.12],\n",
    "                             [55.33, 25.28, 64.13],\n",
    "                             [54.02, 18.69, 71.93],\n",
    "                             [83.44, 32.94, 71.63],\n",
    "                             [60.54, 30.31, 55.99],\n",
    "                             [64.05, 27.25, 64.68],\n",
    "                             [54.61, 60.15, 14.45],\n",
    "                             [77.84, 29.05, 93.91],\n",
    "                             [61.99, 54.61, 40.04],\n",
    "                             [56.59, 70.74, 65.45],\n",
    "                             [68.24, 26.74, 80.4],\n",
    "                             [68.68, 24.52, 72.43],\n",
    "                             [51.2, 52.91, 42.98],\n",
    "                             [76.77, 28.52, 81.8],\n",
    "                             [61.26, 31.04, 73.69],\n",
    "                             [75.64, 23.57, 77.73],\n",
    "                             [58.25, 26.25, 46.81],\n",
    "                             [63.23, 28.36, 69.61],\n",
    "                             [77.11, 31.51, 91.59],\n",
    "                             [60.25, 29.6, 49.25],\n",
    "                             [76.49, 19.05, 37.68],\n",
    "                             [50.04, 40.55, 53.55],\n",
    "                             [64.67, 26.33, 35.14],\n",
    "                             [57.03, 50.73, 47.55],\n",
    "                             ]\n",
    "\n",
    "criteria_directions = pd.Series(criteria_directions, criteria)\n",
    "generalised_criteria = pd.Series(generalised_criteria, criteria)\n",
    "preference_thresholds = pd.Series(preference_thresholds, criteria)\n",
    "indifference_thresholds = pd.Series(indifference_thresholds, criteria)\n",
    "\n",
    "alternatives_performances = pd.DataFrame(data=alternatives_performances,\n",
    "                                         index=alternatives, columns=criteria)\n",
    "alternatives_performances"
   ],
   "metadata": {
    "collapsed": false,
    "pycharm": {
     "name": "#%%\n"
    }
   }
  },
  {
   "cell_type": "code",
   "execution_count": 16,
   "outputs": [
    {
     "data": {
      "text/plain": "    g1  g2  g3\nr1  56  25  48\nr2  68  38  70\nr3  75  45  85",
      "text/html": "<div>\n<style scoped>\n    .dataframe tbody tr th:only-of-type {\n        vertical-align: middle;\n    }\n\n    .dataframe tbody tr th {\n        vertical-align: top;\n    }\n\n    .dataframe thead th {\n        text-align: right;\n    }\n</style>\n<table border=\"1\" class=\"dataframe\">\n  <thead>\n    <tr style=\"text-align: right;\">\n      <th></th>\n      <th>g1</th>\n      <th>g2</th>\n      <th>g3</th>\n    </tr>\n  </thead>\n  <tbody>\n    <tr>\n      <th>r1</th>\n      <td>56</td>\n      <td>25</td>\n      <td>48</td>\n    </tr>\n    <tr>\n      <th>r2</th>\n      <td>68</td>\n      <td>38</td>\n      <td>70</td>\n    </tr>\n    <tr>\n      <th>r3</th>\n      <td>75</td>\n      <td>45</td>\n      <td>85</td>\n    </tr>\n  </tbody>\n</table>\n</div>"
     },
     "execution_count": 16,
     "metadata": {},
     "output_type": "execute_result"
    }
   ],
   "source": [
    "categories = [f\"C{i}\" for i in range(1, 4)]\n",
    "profiles = [f\"r{i}\" for i in range(1, 4)]\n",
    "category_profiles_performances = pd.DataFrame(\n",
    "    [[56, 25, 48], [68, 38, 70], [75, 45, 85]],\n",
    "    index=profiles, columns=criteria)\n",
    "category_profiles_performances"
   ],
   "metadata": {
    "collapsed": false,
    "pycharm": {
     "name": "#%%\n"
    }
   }
  },
  {
   "cell_type": "markdown",
   "source": [
    "## Modules usage"
   ],
   "metadata": {
    "collapsed": false,
    "pycharm": {
     "name": "#%% md\n"
    }
   }
  },
  {
   "cell_type": "markdown",
   "source": [
    "Weights calculated with Reciprocal of Ranks method."
   ],
   "metadata": {
    "collapsed": false,
    "pycharm": {
     "name": "#%% md\n"
    }
   }
  },
  {
   "cell_type": "code",
   "execution_count": 17,
   "outputs": [
    {
     "data": {
      "text/plain": "g1    0.545\ng2    0.182\ng3    0.273\nName: weights, dtype: float64"
     },
     "execution_count": 17,
     "metadata": {},
     "output_type": "execute_result"
    }
   ],
   "source": [
    "criteria_weights = surrogate_weights(pd.Series([1, 3, 2], criteria),\n",
    "                                     SurrogateMethod.RR)\n",
    "criteria_weights"
   ],
   "metadata": {
    "collapsed": false,
    "pycharm": {
     "name": "#%%\n"
    }
   }
  },
  {
   "cell_type": "markdown",
   "source": [
    "Promethee Preferences need to be calculated twice: for alternatives vs alternatives and profiles vs profiles"
   ],
   "metadata": {
    "collapsed": false,
    "pycharm": {
     "name": "#%% md\n"
    }
   }
  },
  {
   "cell_type": "code",
   "execution_count": 18,
   "outputs": [
    {
     "name": "stderr",
     "output_type": "stream",
     "text": [
      "C:\\Users\\teba_sgrabowski\\AppData\\Local\\Temp\\ipykernel_17776\\623476402.py:3: FutureWarning: The default dtype for empty Series will be 'object' instead of 'float64' in a future version. Specify a dtype explicitly to silence this warning.\n",
      "  pd.Series(data=None, index=criteria), generalised_criteria,\n"
     ]
    },
    {
     "data": {
      "text/plain": "(                r1     r2   r3\n criteria                      \n g1       LBS   1.0  0.112  0.0\n          MIT   1.0  0.000  0.0\n          YALE  1.0  1.000  1.0\n          UNC   1.0  0.000  0.0\n          TOR   1.0  0.000  0.0\n ...            ...    ...  ...\n g3       ROCH  0.3  0.000  0.0\n          VIRG  0.0  0.000  0.0\n          UWO   1.0  0.000  0.0\n          VAND  0.0  0.000  0.0\n          YORK  0.0  0.000  0.0\n \n [90 rows x 3 columns],\n              LBS   MIT  YALE   UNC    TOR   UCLA    OXF    MAR   CAME  CBS  \\\n criteria                                                                     \n g1       r1  0.0  0.00   0.0  0.00  0.000  0.016  0.000  0.068  0.592  0.0   \n          r2  0.0  1.00   0.0  0.00  1.000  1.000  1.000  1.000  1.000  0.0   \n          r3  1.0  1.00   0.0  1.00  1.000  1.000  1.000  1.000  1.000  0.0   \n g2       r1  0.0  0.16   0.0  0.82  0.000  1.000  0.000  0.000  1.000  0.0   \n          r2  0.0  1.00   1.0  1.00  0.328  1.000  0.000  1.000  1.000  1.0   \n          r3  0.0  1.00   1.0  1.00  1.000  1.000  0.404  1.000  1.000  1.0   \n g3       r1  0.0  0.00   0.0  0.00  0.000  0.000  0.152  0.000  0.000  0.0   \n          r2  1.0  0.00   1.0  1.00  1.000  0.000  1.000  1.000  0.000  0.0   \n          r3  1.0  0.00   1.0  1.00  1.000  1.000  1.000  1.000  1.000  1.0   \n \n              ...  UCB    CHI   IOWA  MICH  PENN  ROCH  VIRG  UWO  VAND  YORK  \n criteria     ...                                                              \n g1       r1  ...  0.0  0.000  0.000   0.0   0.0   0.0   0.0  1.0   0.0   0.0  \n          r2  ...  1.0  0.000  1.000   1.0   0.0   1.0   0.0  1.0   1.0   1.0  \n          r3  ...  1.0  0.000  1.000   1.0   0.0   1.0   0.0  1.0   1.0   1.0  \n g2       r1  ...  0.0  0.372  0.000   0.0   0.0   0.0   1.0  0.0   0.0   0.0  \n          r2  ...  1.0  1.000  1.000   1.0   1.0   1.0   1.0  0.0   1.0   0.0  \n          r3  ...  1.0  1.000  1.000   1.0   1.0   1.0   1.0  1.0   1.0   0.0  \n g3       r1  ...  0.0  0.000  0.276   0.0   0.0   0.0   1.0  0.0   1.0   0.0  \n          r2  ...  0.0  0.000  1.000   0.0   0.0   1.0   1.0  1.0   1.0   1.0  \n          r3  ...  1.0  1.000  1.000   1.0   0.0   1.0   1.0  1.0   1.0   1.0  \n \n [9 rows x 30 columns])"
     },
     "execution_count": 18,
     "metadata": {},
     "output_type": "execute_result"
    }
   ],
   "source": [
    "preference_indices, partial_preference_indices = compute_preference_indices(\n",
    "    alternatives_performances, preference_thresholds, indifference_thresholds,\n",
    "    pd.Series(data=None, index=criteria), generalised_criteria,\n",
    "    criteria_directions, criteria_weights, category_profiles_performances)\n",
    "partial_preference_indices"
   ],
   "metadata": {
    "collapsed": false,
    "pycharm": {
     "name": "#%%\n"
    }
   }
  },
  {
   "cell_type": "code",
   "execution_count": 19,
   "outputs": [
    {
     "data": {
      "text/plain": "(           r1     r2     r3\n LBS     1.000  0.243  0.182\n MIT     0.818  0.273  0.034\n YALE    0.853  0.545  0.545\n UNC     0.818  0.000  0.000\n TOR     1.000  0.000  0.000\n UCLA    0.273  0.273  0.000\n OXF     0.300  0.182  0.000\n MAR     0.273  0.000  0.000\n CAME    0.273  0.156  0.000\n CBS     1.000  0.668  0.545\n COR     1.000  0.000  0.000\n DUKE    0.945  0.000  0.000\n ESADE   0.182  0.182  0.182\n HARV    1.000  0.818  0.783\n IESA    0.727  0.182  0.182\n INSEAD  0.475  0.182  0.182\n NYU     0.908  0.273  0.000\n NWU     0.818  0.250  0.000\n ROTT    0.182  0.182  0.182\n STAN    1.000  0.818  0.277\n UCB     1.000  0.273  0.000\n CHI     0.818  0.818  0.031\n IOWA    0.436  0.000  0.000\n MICH    1.000  0.000  0.000\n PENN    1.000  0.818  0.624\n ROCH    0.809  0.000  0.000\n VIRG    0.545  0.545  0.216\n UWO     0.455  0.149  0.000\n VAND    0.605  0.000  0.000\n YORK    0.298  0.182  0.182,\n       LBS    MIT   YALE    UNC    TOR   UCLA    OXF    MAR   CAME    CBS  ...  \\\n r1  0.000  0.029  0.000  0.149  0.000  0.191  0.041  0.037  0.505  0.000  ...   \n r2  0.273  0.727  0.455  0.455  0.878  0.727  0.818  1.000  0.727  0.182  ...   \n r3  0.818  0.727  0.455  1.000  1.000  1.000  0.892  1.000  1.000  0.455  ...   \n \n       UCB    CHI   IOWA   MICH   PENN  ROCH   VIRG    UWO   VAND   YORK  \n r1  0.000  0.068  0.075  0.000  0.000   0.0  0.455  0.545  0.273  0.000  \n r2  0.727  0.182  1.000  0.727  0.182   1.0  0.455  0.818  1.000  0.818  \n r3  1.000  0.455  1.000  1.000  0.182   1.0  0.455  1.000  1.000  0.818  \n \n [3 rows x 30 columns])"
     },
     "execution_count": 19,
     "metadata": {},
     "output_type": "execute_result"
    }
   ],
   "source": [
    "preference_indices"
   ],
   "metadata": {
    "collapsed": false,
    "pycharm": {
     "name": "#%%\n"
    }
   }
  },
  {
   "cell_type": "code",
   "execution_count": 20,
   "outputs": [
    {
     "name": "stderr",
     "output_type": "stream",
     "text": [
      "C:\\Users\\teba_sgrabowski\\AppData\\Local\\Temp\\ipykernel_17776\\3409108458.py:4: FutureWarning: The default dtype for empty Series will be 'object' instead of 'float64' in a future version. Specify a dtype explicitly to silence this warning.\n",
      "  pd.Series(data=None, index=criteria), generalised_criteria,\n"
     ]
    },
    {
     "data": {
      "text/plain": "              r1   r2   r3\ncriteria                  \ng1       r1  0.0  0.0  0.0\n         r2  1.0  0.0  0.0\n         r3  1.0  1.0  0.0\ng2       r1  0.0  0.0  0.0\n         r2  1.0  0.0  0.0\n         r3  1.0  1.0  0.0\ng3       r1  0.0  0.0  0.0\n         r2  1.0  0.0  0.0\n         r3  1.0  1.0  0.0",
      "text/html": "<div>\n<style scoped>\n    .dataframe tbody tr th:only-of-type {\n        vertical-align: middle;\n    }\n\n    .dataframe tbody tr th {\n        vertical-align: top;\n    }\n\n    .dataframe thead th {\n        text-align: right;\n    }\n</style>\n<table border=\"1\" class=\"dataframe\">\n  <thead>\n    <tr style=\"text-align: right;\">\n      <th></th>\n      <th></th>\n      <th>r1</th>\n      <th>r2</th>\n      <th>r3</th>\n    </tr>\n    <tr>\n      <th>criteria</th>\n      <th></th>\n      <th></th>\n      <th></th>\n      <th></th>\n    </tr>\n  </thead>\n  <tbody>\n    <tr>\n      <th rowspan=\"3\" valign=\"top\">g1</th>\n      <th>r1</th>\n      <td>0.0</td>\n      <td>0.0</td>\n      <td>0.0</td>\n    </tr>\n    <tr>\n      <th>r2</th>\n      <td>1.0</td>\n      <td>0.0</td>\n      <td>0.0</td>\n    </tr>\n    <tr>\n      <th>r3</th>\n      <td>1.0</td>\n      <td>1.0</td>\n      <td>0.0</td>\n    </tr>\n    <tr>\n      <th rowspan=\"3\" valign=\"top\">g2</th>\n      <th>r1</th>\n      <td>0.0</td>\n      <td>0.0</td>\n      <td>0.0</td>\n    </tr>\n    <tr>\n      <th>r2</th>\n      <td>1.0</td>\n      <td>0.0</td>\n      <td>0.0</td>\n    </tr>\n    <tr>\n      <th>r3</th>\n      <td>1.0</td>\n      <td>1.0</td>\n      <td>0.0</td>\n    </tr>\n    <tr>\n      <th rowspan=\"3\" valign=\"top\">g3</th>\n      <th>r1</th>\n      <td>0.0</td>\n      <td>0.0</td>\n      <td>0.0</td>\n    </tr>\n    <tr>\n      <th>r2</th>\n      <td>1.0</td>\n      <td>0.0</td>\n      <td>0.0</td>\n    </tr>\n    <tr>\n      <th>r3</th>\n      <td>1.0</td>\n      <td>1.0</td>\n      <td>0.0</td>\n    </tr>\n  </tbody>\n</table>\n</div>"
     },
     "execution_count": 20,
     "metadata": {},
     "output_type": "execute_result"
    }
   ],
   "source": [
    "preference_indices_profiles, partial_preference_indices_profiles = compute_preference_indices(\n",
    "    category_profiles_performances, preference_thresholds,\n",
    "    indifference_thresholds,\n",
    "    pd.Series(data=None, index=criteria), generalised_criteria,\n",
    "    criteria_directions, criteria_weights)\n",
    "\n",
    "partial_preference_indices_profiles"
   ],
   "metadata": {
    "collapsed": false,
    "pycharm": {
     "name": "#%%\n"
    }
   }
  },
  {
   "cell_type": "code",
   "execution_count": 21,
   "outputs": [
    {
     "data": {
      "text/plain": "     r1   r2   r3\nr1  0.0  0.0  0.0\nr2  1.0  0.0  0.0\nr3  1.0  1.0  0.0",
      "text/html": "<div>\n<style scoped>\n    .dataframe tbody tr th:only-of-type {\n        vertical-align: middle;\n    }\n\n    .dataframe tbody tr th {\n        vertical-align: top;\n    }\n\n    .dataframe thead th {\n        text-align: right;\n    }\n</style>\n<table border=\"1\" class=\"dataframe\">\n  <thead>\n    <tr style=\"text-align: right;\">\n      <th></th>\n      <th>r1</th>\n      <th>r2</th>\n      <th>r3</th>\n    </tr>\n  </thead>\n  <tbody>\n    <tr>\n      <th>r1</th>\n      <td>0.0</td>\n      <td>0.0</td>\n      <td>0.0</td>\n    </tr>\n    <tr>\n      <th>r2</th>\n      <td>1.0</td>\n      <td>0.0</td>\n      <td>0.0</td>\n    </tr>\n    <tr>\n      <th>r3</th>\n      <td>1.0</td>\n      <td>1.0</td>\n      <td>0.0</td>\n    </tr>\n  </tbody>\n</table>\n</div>"
     },
     "execution_count": 21,
     "metadata": {},
     "output_type": "execute_result"
    }
   ],
   "source": [
    "preference_indices_profiles"
   ],
   "metadata": {
    "collapsed": false,
    "pycharm": {
     "name": "#%%\n"
    }
   }
  },
  {
   "cell_type": "markdown",
   "source": [
    "We additionally wanted to include not only the good but also the bad performance on the criteria, so we calculated the discordance indices using the Promethee Discordance (M6). Module M6 is also used twice: for alternatives vs profiles preference and for profiles' preference."
   ],
   "metadata": {
    "collapsed": false,
    "pycharm": {
     "name": "#%% md\n"
    }
   }
  },
  {
   "cell_type": "markdown",
   "source": [],
   "metadata": {
    "collapsed": false,
    "pycharm": {
     "name": "#%% md\n"
    }
   }
  },
  {
   "cell_type": "code",
   "execution_count": 22,
   "outputs": [
    {
     "data": {
      "text/plain": "[          r1   r2   r3\n g1 LBS   0.0  0.0  1.0\n    MIT   0.0  1.0  1.0\n    YALE  0.0  0.0  0.0\n    UNC   0.0  0.0  1.0\n    TOR   0.0  1.0  1.0\n ...      ...  ...  ...\n g3 ROCH  0.0  1.0  1.0\n    VIRG  1.0  1.0  1.0\n    UWO   0.0  1.0  1.0\n    VAND  1.0  1.0  1.0\n    YORK  0.0  1.0  1.0\n \n [90 rows x 3 columns],\n          LBS    MIT   YALE  UNC  TOR  UCLA    OXF  MAR   CAME    CBS  ...  \\\n g1 r1  1.000  1.000  1.000  1.0  1.0   0.0  0.216  0.0  0.000  1.000  ...   \n    r2  0.112  0.000  1.000  0.0  0.0   0.0  0.000  0.0  0.000  1.000  ...   \n    r3  0.000  0.000  1.000  0.0  0.0   0.0  0.000  0.0  0.000  1.000  ...   \n g2 r1  1.000  0.000  0.192  0.0  1.0   0.0  1.000  0.0  0.000  1.000  ...   \n    r2  1.000  0.000  0.000  0.0  0.0   0.0  1.000  0.0  0.000  0.000  ...   \n    r3  1.000  0.000  0.000  0.0  0.0   0.0  0.000  0.0  0.000  0.000  ...   \n g3 r1  1.000  1.000  1.000  1.0  1.0   1.0  0.000  1.0  1.000  1.000  ...   \n    r2  0.000  1.000  0.000  0.0  0.0   1.0  0.000  0.0  0.572  0.452  ...   \n    r3  0.000  0.124  0.000  0.0  0.0   0.0  0.000  0.0  0.000  0.000  ...   \n \n        UCB    CHI  IOWA  MICH   PENN  ROCH   VIRG   UWO   VAND   YORK  \n g1 r1  1.0  1.000   0.7   1.0  1.000   1.0  1.000  0.00  1.000  0.212  \n    r2  0.0  1.000   0.0   0.0  1.000   0.0  1.000  0.00  0.000  0.000  \n    r3  0.0  0.056   0.0   0.0  0.644   0.0  0.396  0.00  0.000  0.000  \n g2 r1  1.0  0.000   0.3   1.0  1.000   1.0  0.000  1.00  0.332  1.000  \n    r2  0.0  0.000   0.0   0.0  0.000   0.0  0.000  0.82  0.000  1.000  \n    r3  0.0  0.000   0.0   0.0  0.000   0.0  0.000  0.00  0.000  1.000  \n g3 r1  1.0  1.000   0.0   1.0  1.000   0.3  0.000  1.00  0.000  0.000  \n    r2  1.0  1.000   0.0   0.0  1.000   0.0  0.000  0.00  0.000  0.000  \n    r3  0.0  0.000   0.0   0.0  1.000   0.0  0.000  0.00  0.000  0.000  \n \n [9 rows x 30 columns]]"
     },
     "execution_count": 22,
     "metadata": {},
     "output_type": "execute_result"
    }
   ],
   "source": [
    "tau = 1\n",
    "discordance, partial_discordance, overall_preference = compute_discordance(\n",
    "    criteria,\n",
    "    partial_preference_indices, tau,\n",
    "    preferences=preference_indices,\n",
    "    were_categories_profiles=True)\n",
    "partial_discordance"
   ],
   "metadata": {
    "collapsed": false,
    "pycharm": {
     "name": "#%%\n"
    }
   }
  },
  {
   "cell_type": "code",
   "execution_count": 23,
   "outputs": [
    {
     "data": {
      "text/plain": "[           r1   r2   r3\n LBS     0.000  1.0  1.0\n MIT     0.056  1.0  1.0\n YALE    0.000  1.0  1.0\n UNC     0.435  1.0  1.0\n TOR     0.000  1.0  1.0\n UCLA    1.000  1.0  1.0\n OXF     0.053  1.0  1.0\n MAR     0.023  1.0  1.0\n CAME    1.000  1.0  1.0\n CBS     0.000  1.0  1.0\n COR     0.000  1.0  1.0\n DUKE    0.000  1.0  1.0\n ESADE   1.000  1.0  1.0\n HARV    0.000  1.0  1.0\n IESA    1.000  1.0  1.0\n INSEAD  0.000  1.0  1.0\n NYU     0.000  1.0  1.0\n NWU     0.000  1.0  1.0\n ROTT    1.000  1.0  1.0\n STAN    0.000  1.0  1.0\n UCB     0.000  1.0  1.0\n CHI     0.144  1.0  1.0\n IOWA    0.102  1.0  1.0\n MICH    0.000  1.0  1.0\n PENN    0.000  1.0  1.0\n ROCH    0.000  1.0  1.0\n VIRG    1.000  1.0  1.0\n UWO     1.000  1.0  1.0\n VAND    1.000  1.0  1.0\n YORK    0.000  1.0  1.0,\n     LBS    MIT  YALE  UNC  TOR  UCLA  OXF  MAR   CAME  CBS  ...  UCB    CHI  \\\n r1  1.0  1.000   1.0  1.0  1.0   1.0  1.0  1.0  1.000  1.0  ...  1.0  1.000   \n r2  1.0  1.000   1.0  0.0  0.0   1.0  1.0  0.0  0.246  1.0  ...  1.0  1.000   \n r3  1.0  0.043   1.0  0.0  0.0   0.0  0.0  0.0  0.000  1.0  ...  0.0  0.019   \n \n      IOWA  MICH  PENN  ROCH   VIRG    UWO  VAND  YORK  \n r1  0.406   1.0   1.0   1.0  1.000  1.000   1.0   1.0  \n r2  0.000   0.0   1.0   0.0  1.000  0.435   0.0   1.0  \n r3  0.000   0.0   1.0   0.0  0.155  0.000   0.0   1.0  \n \n [3 rows x 30 columns]]"
     },
     "execution_count": 23,
     "metadata": {},
     "output_type": "execute_result"
    }
   ],
   "source": [
    "discordance"
   ],
   "metadata": {
    "collapsed": false,
    "pycharm": {
     "name": "#%%\n"
    }
   }
  },
  {
   "cell_type": "code",
   "execution_count": 24,
   "outputs": [
    {
     "data": {
      "text/plain": "(           r1   r2   r3\n LBS     1.000  0.0  0.0\n MIT     0.772  0.0  0.0\n YALE    0.853  0.0  0.0\n UNC     0.462  0.0  0.0\n TOR     1.000  0.0  0.0\n UCLA    0.000  0.0  0.0\n OXF     0.284  0.0  0.0\n MAR     0.267  0.0  0.0\n CAME    0.000  0.0  0.0\n CBS     1.000  0.0  0.0\n COR     1.000  0.0  0.0\n DUKE    0.945  0.0  0.0\n ESADE   0.000  0.0  0.0\n HARV    1.000  0.0  0.0\n IESA    0.000  0.0  0.0\n INSEAD  0.475  0.0  0.0\n NYU     0.908  0.0  0.0\n NWU     0.818  0.0  0.0\n ROTT    0.000  0.0  0.0\n STAN    1.000  0.0  0.0\n UCB     1.000  0.0  0.0\n CHI     0.700  0.0  0.0\n IOWA    0.392  0.0  0.0\n MICH    1.000  0.0  0.0\n PENN    1.000  0.0  0.0\n ROCH    0.809  0.0  0.0\n VIRG    0.000  0.0  0.0\n UWO     0.000  0.0  0.0\n VAND    0.000  0.0  0.0\n YORK    0.298  0.0  0.0,\n     LBS    MIT  YALE    UNC    TOR  UCLA    OXF  MAR   CAME  CBS  ...  UCB  \\\n r1  0.0  0.000   0.0  0.000  0.000   0.0  0.000  0.0  0.000  0.0  ...  0.0   \n r2  0.0  0.000   0.0  0.455  0.878   0.0  0.000  1.0  0.548  0.0  ...  0.0   \n r3  0.0  0.696   0.0  1.000  1.000   1.0  0.892  1.0  1.000  0.0  ...  1.0   \n \n       CHI   IOWA   MICH  PENN  ROCH   VIRG    UWO  VAND  YORK  \n r1  0.000  0.045  0.000   0.0   0.0  0.000  0.000   0.0   0.0  \n r2  0.000  1.000  0.727   0.0   1.0  0.000  0.462   1.0   0.0  \n r3  0.446  1.000  1.000   0.0   1.0  0.384  1.000   1.0   0.0  \n \n [3 rows x 30 columns])"
     },
     "execution_count": 24,
     "metadata": {},
     "output_type": "execute_result"
    }
   ],
   "source": [
    "overall_preference"
   ],
   "metadata": {
    "collapsed": false,
    "pycharm": {
     "name": "#%%\n"
    }
   }
  },
  {
   "cell_type": "code",
   "execution_count": 25,
   "outputs": [
    {
     "data": {
      "text/plain": "     r1   r2   r3\nr1  0.0  0.0  0.0\nr2  1.0  0.0  0.0\nr3  1.0  1.0  0.0",
      "text/html": "<div>\n<style scoped>\n    .dataframe tbody tr th:only-of-type {\n        vertical-align: middle;\n    }\n\n    .dataframe tbody tr th {\n        vertical-align: top;\n    }\n\n    .dataframe thead th {\n        text-align: right;\n    }\n</style>\n<table border=\"1\" class=\"dataframe\">\n  <thead>\n    <tr style=\"text-align: right;\">\n      <th></th>\n      <th>r1</th>\n      <th>r2</th>\n      <th>r3</th>\n    </tr>\n  </thead>\n  <tbody>\n    <tr>\n      <th>r1</th>\n      <td>0.0</td>\n      <td>0.0</td>\n      <td>0.0</td>\n    </tr>\n    <tr>\n      <th>r2</th>\n      <td>1.0</td>\n      <td>0.0</td>\n      <td>0.0</td>\n    </tr>\n    <tr>\n      <th>r3</th>\n      <td>1.0</td>\n      <td>1.0</td>\n      <td>0.0</td>\n    </tr>\n  </tbody>\n</table>\n</div>"
     },
     "execution_count": 25,
     "metadata": {},
     "output_type": "execute_result"
    }
   ],
   "source": [
    "discordance_prof, partial_discordance_prof, overall_preference_prof = compute_discordance(\n",
    "    criteria,\n",
    "    partial_preference_indices_profiles, tau,\n",
    "    preferences=preference_indices_profiles,\n",
    "    were_categories_profiles=False)\n",
    "overall_preference_prof"
   ],
   "metadata": {
    "collapsed": false,
    "pycharm": {
     "name": "#%%\n"
    }
   }
  },
  {
   "cell_type": "markdown",
   "source": [
    "Given the preference degrees, we can compute outranking flows for both alternatives and profiles."
   ],
   "metadata": {
    "collapsed": false,
    "pycharm": {
     "name": "#%% md\n"
    }
   }
  },
  {
   "cell_type": "code",
   "execution_count": 26,
   "outputs": [
    {
     "data": {
      "text/plain": "        positive  negative\nLBS     0.333333  0.000000\nMIT     0.257333  0.232000\nYALE    0.284333  0.000000\nUNC     0.154000  0.485000\nTOR     0.333333  0.626000\nUCLA    0.000000  0.333333\nOXF     0.094667  0.297333\nMAR     0.089000  0.666667\nCAME    0.000000  0.516000\nCBS     0.333333  0.000000\nCOR     0.333333  0.666667\nDUKE    0.315000  0.666667\nESADE   0.000000  0.000000\nHARV    0.333333  0.000000\nIESA    0.000000  0.000000\nINSEAD  0.158333  0.000000\nNYU     0.302667  0.333333\nNWU     0.272667  0.369333\nROTT    0.000000  0.000000\nSTAN    0.333333  0.119667\nUCB     0.333333  0.333333\nCHI     0.233333  0.148667\nIOWA    0.130667  0.681667\nMICH    0.333333  0.575667\nPENN    0.333333  0.000000\nROCH    0.269667  0.666667\nVIRG    0.000000  0.128000\nUWO     0.000000  0.487333\nVAND    0.000000  0.666667\nYORK    0.099333  0.000000",
      "text/html": "<div>\n<style scoped>\n    .dataframe tbody tr th:only-of-type {\n        vertical-align: middle;\n    }\n\n    .dataframe tbody tr th {\n        vertical-align: top;\n    }\n\n    .dataframe thead th {\n        text-align: right;\n    }\n</style>\n<table border=\"1\" class=\"dataframe\">\n  <thead>\n    <tr style=\"text-align: right;\">\n      <th></th>\n      <th>positive</th>\n      <th>negative</th>\n    </tr>\n  </thead>\n  <tbody>\n    <tr>\n      <th>LBS</th>\n      <td>0.333333</td>\n      <td>0.000000</td>\n    </tr>\n    <tr>\n      <th>MIT</th>\n      <td>0.257333</td>\n      <td>0.232000</td>\n    </tr>\n    <tr>\n      <th>YALE</th>\n      <td>0.284333</td>\n      <td>0.000000</td>\n    </tr>\n    <tr>\n      <th>UNC</th>\n      <td>0.154000</td>\n      <td>0.485000</td>\n    </tr>\n    <tr>\n      <th>TOR</th>\n      <td>0.333333</td>\n      <td>0.626000</td>\n    </tr>\n    <tr>\n      <th>UCLA</th>\n      <td>0.000000</td>\n      <td>0.333333</td>\n    </tr>\n    <tr>\n      <th>OXF</th>\n      <td>0.094667</td>\n      <td>0.297333</td>\n    </tr>\n    <tr>\n      <th>MAR</th>\n      <td>0.089000</td>\n      <td>0.666667</td>\n    </tr>\n    <tr>\n      <th>CAME</th>\n      <td>0.000000</td>\n      <td>0.516000</td>\n    </tr>\n    <tr>\n      <th>CBS</th>\n      <td>0.333333</td>\n      <td>0.000000</td>\n    </tr>\n    <tr>\n      <th>COR</th>\n      <td>0.333333</td>\n      <td>0.666667</td>\n    </tr>\n    <tr>\n      <th>DUKE</th>\n      <td>0.315000</td>\n      <td>0.666667</td>\n    </tr>\n    <tr>\n      <th>ESADE</th>\n      <td>0.000000</td>\n      <td>0.000000</td>\n    </tr>\n    <tr>\n      <th>HARV</th>\n      <td>0.333333</td>\n      <td>0.000000</td>\n    </tr>\n    <tr>\n      <th>IESA</th>\n      <td>0.000000</td>\n      <td>0.000000</td>\n    </tr>\n    <tr>\n      <th>INSEAD</th>\n      <td>0.158333</td>\n      <td>0.000000</td>\n    </tr>\n    <tr>\n      <th>NYU</th>\n      <td>0.302667</td>\n      <td>0.333333</td>\n    </tr>\n    <tr>\n      <th>NWU</th>\n      <td>0.272667</td>\n      <td>0.369333</td>\n    </tr>\n    <tr>\n      <th>ROTT</th>\n      <td>0.000000</td>\n      <td>0.000000</td>\n    </tr>\n    <tr>\n      <th>STAN</th>\n      <td>0.333333</td>\n      <td>0.119667</td>\n    </tr>\n    <tr>\n      <th>UCB</th>\n      <td>0.333333</td>\n      <td>0.333333</td>\n    </tr>\n    <tr>\n      <th>CHI</th>\n      <td>0.233333</td>\n      <td>0.148667</td>\n    </tr>\n    <tr>\n      <th>IOWA</th>\n      <td>0.130667</td>\n      <td>0.681667</td>\n    </tr>\n    <tr>\n      <th>MICH</th>\n      <td>0.333333</td>\n      <td>0.575667</td>\n    </tr>\n    <tr>\n      <th>PENN</th>\n      <td>0.333333</td>\n      <td>0.000000</td>\n    </tr>\n    <tr>\n      <th>ROCH</th>\n      <td>0.269667</td>\n      <td>0.666667</td>\n    </tr>\n    <tr>\n      <th>VIRG</th>\n      <td>0.000000</td>\n      <td>0.128000</td>\n    </tr>\n    <tr>\n      <th>UWO</th>\n      <td>0.000000</td>\n      <td>0.487333</td>\n    </tr>\n    <tr>\n      <th>VAND</th>\n      <td>0.000000</td>\n      <td>0.666667</td>\n    </tr>\n    <tr>\n      <th>YORK</th>\n      <td>0.099333</td>\n      <td>0.000000</td>\n    </tr>\n  </tbody>\n</table>\n</div>"
     },
     "execution_count": 26,
     "metadata": {},
     "output_type": "execute_result"
    }
   ],
   "source": [
    "flows_alter = calculate_promethee_outranking_flows(overall_preference,\n",
    "                                                   FlowType.BASIC)\n",
    "flows_alter"
   ],
   "metadata": {
    "collapsed": false,
    "pycharm": {
     "name": "#%%\n"
    }
   }
  },
  {
   "cell_type": "code",
   "execution_count": 27,
   "outputs": [
    {
     "data": {
      "text/plain": "    positive  negative\nr1       0.0       1.0\nr2       0.5       0.5\nr3       1.0       0.0",
      "text/html": "<div>\n<style scoped>\n    .dataframe tbody tr th:only-of-type {\n        vertical-align: middle;\n    }\n\n    .dataframe tbody tr th {\n        vertical-align: top;\n    }\n\n    .dataframe thead th {\n        text-align: right;\n    }\n</style>\n<table border=\"1\" class=\"dataframe\">\n  <thead>\n    <tr style=\"text-align: right;\">\n      <th></th>\n      <th>positive</th>\n      <th>negative</th>\n    </tr>\n  </thead>\n  <tbody>\n    <tr>\n      <th>r1</th>\n      <td>0.0</td>\n      <td>1.0</td>\n    </tr>\n    <tr>\n      <th>r2</th>\n      <td>0.5</td>\n      <td>0.5</td>\n    </tr>\n    <tr>\n      <th>r3</th>\n      <td>1.0</td>\n      <td>0.0</td>\n    </tr>\n  </tbody>\n</table>\n</div>"
     },
     "execution_count": 27,
     "metadata": {},
     "output_type": "execute_result"
    }
   ],
   "source": [
    "flows_profiles = calculate_promethee_outranking_flows(overall_preference_prof,\n",
    "                                                      FlowType.BASIC)\n",
    "flows_profiles"
   ],
   "metadata": {
    "collapsed": false,
    "pycharm": {
     "name": "#%%\n"
    }
   }
  },
  {
   "cell_type": "markdown",
   "source": [
    "Finally, we sorted alternatives using FlowSortI method (M20)."
   ],
   "metadata": {
    "collapsed": false,
    "pycharm": {
     "name": "#%% md\n"
    }
   }
  },
  {
   "cell_type": "code",
   "execution_count": 28,
   "outputs": [
    {
     "data": {
      "text/plain": "       worse better\nLBS       C2     C3\nMIT       C2     C3\nYALE      C2     C3\nUNC       C1     C2\nTOR       C2     C2\nUCLA      C1     C2\nOXF       C1     C2\nMAR       C1     C2\nCAME      C1     C2\nCBS       C2     C3\nCOR       C2     C2\nDUKE      C2     C2\nESADE     C1     C3\nHARV      C2     C3\nIESA      C1     C3\nINSEAD    C1     C3\nNYU       C2     C2\nNWU       C2     C2\nROTT      C1     C3\nSTAN      C2     C3\nUCB       C2     C2\nCHI       C1     C3\nIOWA      C1     C2\nMICH      C2     C2\nPENN      C2     C3\nROCH      C2     C2\nVIRG      C1     C3\nUWO       C1     C2\nVAND      C1     C2\nYORK      C1     C3",
      "text/html": "<div>\n<style scoped>\n    .dataframe tbody tr th:only-of-type {\n        vertical-align: middle;\n    }\n\n    .dataframe tbody tr th {\n        vertical-align: top;\n    }\n\n    .dataframe thead th {\n        text-align: right;\n    }\n</style>\n<table border=\"1\" class=\"dataframe\">\n  <thead>\n    <tr style=\"text-align: right;\">\n      <th></th>\n      <th>worse</th>\n      <th>better</th>\n    </tr>\n  </thead>\n  <tbody>\n    <tr>\n      <th>LBS</th>\n      <td>C2</td>\n      <td>C3</td>\n    </tr>\n    <tr>\n      <th>MIT</th>\n      <td>C2</td>\n      <td>C3</td>\n    </tr>\n    <tr>\n      <th>YALE</th>\n      <td>C2</td>\n      <td>C3</td>\n    </tr>\n    <tr>\n      <th>UNC</th>\n      <td>C1</td>\n      <td>C2</td>\n    </tr>\n    <tr>\n      <th>TOR</th>\n      <td>C2</td>\n      <td>C2</td>\n    </tr>\n    <tr>\n      <th>UCLA</th>\n      <td>C1</td>\n      <td>C2</td>\n    </tr>\n    <tr>\n      <th>OXF</th>\n      <td>C1</td>\n      <td>C2</td>\n    </tr>\n    <tr>\n      <th>MAR</th>\n      <td>C1</td>\n      <td>C2</td>\n    </tr>\n    <tr>\n      <th>CAME</th>\n      <td>C1</td>\n      <td>C2</td>\n    </tr>\n    <tr>\n      <th>CBS</th>\n      <td>C2</td>\n      <td>C3</td>\n    </tr>\n    <tr>\n      <th>COR</th>\n      <td>C2</td>\n      <td>C2</td>\n    </tr>\n    <tr>\n      <th>DUKE</th>\n      <td>C2</td>\n      <td>C2</td>\n    </tr>\n    <tr>\n      <th>ESADE</th>\n      <td>C1</td>\n      <td>C3</td>\n    </tr>\n    <tr>\n      <th>HARV</th>\n      <td>C2</td>\n      <td>C3</td>\n    </tr>\n    <tr>\n      <th>IESA</th>\n      <td>C1</td>\n      <td>C3</td>\n    </tr>\n    <tr>\n      <th>INSEAD</th>\n      <td>C1</td>\n      <td>C3</td>\n    </tr>\n    <tr>\n      <th>NYU</th>\n      <td>C2</td>\n      <td>C2</td>\n    </tr>\n    <tr>\n      <th>NWU</th>\n      <td>C2</td>\n      <td>C2</td>\n    </tr>\n    <tr>\n      <th>ROTT</th>\n      <td>C1</td>\n      <td>C3</td>\n    </tr>\n    <tr>\n      <th>STAN</th>\n      <td>C2</td>\n      <td>C3</td>\n    </tr>\n    <tr>\n      <th>UCB</th>\n      <td>C2</td>\n      <td>C2</td>\n    </tr>\n    <tr>\n      <th>CHI</th>\n      <td>C1</td>\n      <td>C3</td>\n    </tr>\n    <tr>\n      <th>IOWA</th>\n      <td>C1</td>\n      <td>C2</td>\n    </tr>\n    <tr>\n      <th>MICH</th>\n      <td>C2</td>\n      <td>C2</td>\n    </tr>\n    <tr>\n      <th>PENN</th>\n      <td>C2</td>\n      <td>C3</td>\n    </tr>\n    <tr>\n      <th>ROCH</th>\n      <td>C2</td>\n      <td>C2</td>\n    </tr>\n    <tr>\n      <th>VIRG</th>\n      <td>C1</td>\n      <td>C3</td>\n    </tr>\n    <tr>\n      <th>UWO</th>\n      <td>C1</td>\n      <td>C2</td>\n    </tr>\n    <tr>\n      <th>VAND</th>\n      <td>C1</td>\n      <td>C2</td>\n    </tr>\n    <tr>\n      <th>YORK</th>\n      <td>C1</td>\n      <td>C3</td>\n    </tr>\n  </tbody>\n</table>\n</div>"
     },
     "execution_count": 28,
     "metadata": {},
     "output_type": "execute_result"
    }
   ],
   "source": [
    "calculate_flowsortI_sorted_alternatives(categories,\n",
    "                                                     category_profiles_performances,\n",
    "                                                     criteria_directions,\n",
    "                                                     flows_alter,\n",
    "                                                     flows_profiles,\n",
    "                                                     CompareProfiles.CENTRAL_PROFILES)"
   ],
   "metadata": {
    "collapsed": false,
    "pycharm": {
     "name": "#%%\n"
    }
   }
  }
 ],
 "metadata": {
  "kernelspec": {
   "display_name": "Python 3",
   "language": "python",
   "name": "python3"
  },
  "language_info": {
   "codemirror_mode": {
    "name": "ipython",
    "version": 2
   },
   "file_extension": ".py",
   "mimetype": "text/x-python",
   "name": "python",
   "nbconvert_exporter": "python",
   "pygments_lexer": "ipython2",
   "version": "2.7.6"
  }
 },
 "nbformat": 4,
 "nbformat_minor": 0
}