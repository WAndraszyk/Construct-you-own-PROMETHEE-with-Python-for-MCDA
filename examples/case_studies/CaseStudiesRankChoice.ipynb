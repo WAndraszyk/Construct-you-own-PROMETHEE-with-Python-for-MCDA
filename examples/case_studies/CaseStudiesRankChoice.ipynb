{
 "cells": [
  {
   "cell_type": "markdown",
   "source": [
    "# CaseStudy I\n",
    "In this notebook, real-life MCDA problem will be solved using multiple modules. CaseStudy I refers to selecting a European country in which an electric plant will be built. For 6 country (alternatives) we got 3 criteria: the power (g1), safety level (g2), construction cost (g3). In this case, Decision Maker wants 2 outputs - ranking (Promethee II) and choice (Promethee V)"
   ],
   "metadata": {
    "collapsed": false,
    "pycharm": {
     "name": "#%% md\n"
    }
   }
  },
  {
   "cell_type": "markdown",
   "source": [
    "## Definition of inputs and problem formalization"
   ],
   "metadata": {
    "collapsed": false,
    "pycharm": {
     "name": "#%% md\n"
    }
   }
  },
  {
   "cell_type": "code",
   "execution_count": 12,
   "outputs": [],
   "source": [
    "import pandas as pd\n",
    "from core.enums import Direction, SurrogateMethod, GeneralCriterion, FlowType\n",
    "from core.constraint import Constraint, Relation\n",
    "from modular_parts.weights import surrogate_weights\n",
    "from modular_parts.preference import compute_reinforced_preference,\\\n",
    "compute_veto\n",
    "from modular_parts.flows import calculate_promethee_outranking_flows, \\\n",
    "calculate_net_outranking_flows\n",
    "from modular_parts.ranking import calculate_promethee_ii_ranking\n",
    "from modular_parts.choice import compute_decision\n",
    "\n",
    "\n",
    "alternatives = ['ITA', 'BEL', 'GER', 'SWE', 'AUT', 'FRA']\n",
    "criteria = ['g1', 'g2', 'g3']\n",
    "criteria_ranks = pd.Series([2, 3, 1], criteria)\n",
    "\n",
    "generalised_criteria = pd.Series([GeneralCriterion.V_SHAPE_INDIFFERENCE,\n",
    "                                  GeneralCriterion.V_SHAPE_INDIFFERENCE,\n",
    "                                  GeneralCriterion.V_SHAPE_INDIFFERENCE],\n",
    "                                 criteria)\n",
    "criteria_directions = pd.Series([Direction.MAX, Direction.MAX, Direction.MIN],\n",
    "                                criteria)\n",
    "indifference_thresholds = pd.Series([0, 0, 100], criteria)\n",
    "preference_thresholds = pd.Series([0, 1, 300], criteria)\n",
    "reinforced_preference_thresholds = pd.Series([10, 5, 500], criteria)\n",
    "reinforcement_factors = pd.Series([1.3, 1.2, 1.5], criteria)\n",
    "s_parameters = pd.Series([None, None, None], criteria)\n",
    "veto_thresholds = pd.Series([None, 5, 400], criteria)\n",
    "\n",
    "alternatives_performances = pd.DataFrame(data=[[98, 8, 400],\n",
    "                                               [58, 0, 800],\n",
    "                                               [66, 5, 1000],\n",
    "                                               [74, 3, 600],\n",
    "                                               [80, 7, 200],\n",
    "                                               [82, 10, 600]],\n",
    "                                         columns=criteria,\n",
    "                                         index=alternatives)"
   ],
   "metadata": {
    "collapsed": false,
    "pycharm": {
     "name": "#%%\n"
    }
   }
  },
  {
   "cell_type": "markdown",
   "source": [
    "## Modules usage"
   ],
   "metadata": {
    "collapsed": false,
    "pycharm": {
     "name": "#%% md\n"
    }
   }
  },
  {
   "cell_type": "markdown",
   "source": [
    "Weights calculated with Rank Ordered Centroid method:"
   ],
   "metadata": {
    "collapsed": false,
    "pycharm": {
     "name": "#%% md\n"
    }
   }
  },
  {
   "cell_type": "code",
   "execution_count": 13,
   "outputs": [
    {
     "data": {
      "text/plain": "g1    0.278\ng2    0.111\ng3    0.611\nName: weights, dtype: float64"
     },
     "execution_count": 2,
     "metadata": {},
     "output_type": "execute_result"
    },
    {
     "data": {
      "text/plain": "g1    0.278\ng2    0.111\ng3    0.611\nName: weights, dtype: float64"
     },
     "execution_count": 13,
     "metadata": {},
     "output_type": "execute_result"
    }
   ],
   "source": [
    "weights = surrogate_weights(criteria_ranks, SurrogateMethod.ROC)\n",
    "weights"
   ],
   "metadata": {
    "collapsed": false,
    "pycharm": {
     "name": "#%%\n"
    }
   }
  },
  {
   "cell_type": "markdown",
   "source": [
    "Preferences are calculated using Promethee Reinforced Preference\n"
   ],
   "metadata": {
    "collapsed": false,
    "pycharm": {
     "name": "#%% md\n"
    }
   }
  },
  {
   "cell_type": "code",
   "execution_count": 14,
   "outputs": [
    {
     "data": {
      "text/plain": "              ITA  BEL  GER  SWE  AUT  FRA\ncriteria                                  \ng1       ITA  0.0  1.3  1.3  1.3  1.3  1.3\n         BEL  0.0  0.0  0.0  0.0  0.0  0.0\n         GER  0.0  1.0  0.0  0.0  0.0  0.0\n         SWE  0.0  1.3  1.0  0.0  0.0  0.0\n         AUT  0.0  1.3  1.3  1.0  0.0  0.0\n         FRA  0.0  1.3  1.3  1.0  1.0  0.0\ng2       ITA  0.0  1.2  1.0  1.0  1.0  0.0\n         BEL  0.0  0.0  0.0  0.0  0.0  0.0\n         GER  0.0  1.0  0.0  1.0  0.0  0.0\n         SWE  0.0  1.0  0.0  0.0  0.0  0.0\n         AUT  0.0  1.2  1.0  1.0  0.0  0.0\n         FRA  1.0  1.2  1.0  1.2  1.0  0.0\ng3       ITA  0.0  1.0  1.5  0.5  0.0  0.5\n         BEL  0.0  0.0  0.5  0.0  0.0  0.0\n         GER  0.0  0.0  0.0  0.0  0.0  0.0\n         SWE  0.0  0.5  1.0  0.0  0.0  0.0\n         AUT  0.5  1.5  1.5  1.0  0.0  1.0\n         FRA  0.0  0.5  1.0  0.0  0.0  0.0",
      "text/html": "<div>\n<style scoped>\n    .dataframe tbody tr th:only-of-type {\n        vertical-align: middle;\n    }\n\n    .dataframe tbody tr th {\n        vertical-align: top;\n    }\n\n    .dataframe thead th {\n        text-align: right;\n    }\n</style>\n<table border=\"1\" class=\"dataframe\">\n  <thead>\n    <tr style=\"text-align: right;\">\n      <th></th>\n      <th></th>\n      <th>ITA</th>\n      <th>BEL</th>\n      <th>GER</th>\n      <th>SWE</th>\n      <th>AUT</th>\n      <th>FRA</th>\n    </tr>\n    <tr>\n      <th>criteria</th>\n      <th></th>\n      <th></th>\n      <th></th>\n      <th></th>\n      <th></th>\n      <th></th>\n      <th></th>\n    </tr>\n  </thead>\n  <tbody>\n    <tr>\n      <th rowspan=\"6\" valign=\"top\">g1</th>\n      <th>ITA</th>\n      <td>0.0</td>\n      <td>1.3</td>\n      <td>1.3</td>\n      <td>1.3</td>\n      <td>1.3</td>\n      <td>1.3</td>\n    </tr>\n    <tr>\n      <th>BEL</th>\n      <td>0.0</td>\n      <td>0.0</td>\n      <td>0.0</td>\n      <td>0.0</td>\n      <td>0.0</td>\n      <td>0.0</td>\n    </tr>\n    <tr>\n      <th>GER</th>\n      <td>0.0</td>\n      <td>1.0</td>\n      <td>0.0</td>\n      <td>0.0</td>\n      <td>0.0</td>\n      <td>0.0</td>\n    </tr>\n    <tr>\n      <th>SWE</th>\n      <td>0.0</td>\n      <td>1.3</td>\n      <td>1.0</td>\n      <td>0.0</td>\n      <td>0.0</td>\n      <td>0.0</td>\n    </tr>\n    <tr>\n      <th>AUT</th>\n      <td>0.0</td>\n      <td>1.3</td>\n      <td>1.3</td>\n      <td>1.0</td>\n      <td>0.0</td>\n      <td>0.0</td>\n    </tr>\n    <tr>\n      <th>FRA</th>\n      <td>0.0</td>\n      <td>1.3</td>\n      <td>1.3</td>\n      <td>1.0</td>\n      <td>1.0</td>\n      <td>0.0</td>\n    </tr>\n    <tr>\n      <th rowspan=\"6\" valign=\"top\">g2</th>\n      <th>ITA</th>\n      <td>0.0</td>\n      <td>1.2</td>\n      <td>1.0</td>\n      <td>1.0</td>\n      <td>1.0</td>\n      <td>0.0</td>\n    </tr>\n    <tr>\n      <th>BEL</th>\n      <td>0.0</td>\n      <td>0.0</td>\n      <td>0.0</td>\n      <td>0.0</td>\n      <td>0.0</td>\n      <td>0.0</td>\n    </tr>\n    <tr>\n      <th>GER</th>\n      <td>0.0</td>\n      <td>1.0</td>\n      <td>0.0</td>\n      <td>1.0</td>\n      <td>0.0</td>\n      <td>0.0</td>\n    </tr>\n    <tr>\n      <th>SWE</th>\n      <td>0.0</td>\n      <td>1.0</td>\n      <td>0.0</td>\n      <td>0.0</td>\n      <td>0.0</td>\n      <td>0.0</td>\n    </tr>\n    <tr>\n      <th>AUT</th>\n      <td>0.0</td>\n      <td>1.2</td>\n      <td>1.0</td>\n      <td>1.0</td>\n      <td>0.0</td>\n      <td>0.0</td>\n    </tr>\n    <tr>\n      <th>FRA</th>\n      <td>1.0</td>\n      <td>1.2</td>\n      <td>1.0</td>\n      <td>1.2</td>\n      <td>1.0</td>\n      <td>0.0</td>\n    </tr>\n    <tr>\n      <th rowspan=\"6\" valign=\"top\">g3</th>\n      <th>ITA</th>\n      <td>0.0</td>\n      <td>1.0</td>\n      <td>1.5</td>\n      <td>0.5</td>\n      <td>0.0</td>\n      <td>0.5</td>\n    </tr>\n    <tr>\n      <th>BEL</th>\n      <td>0.0</td>\n      <td>0.0</td>\n      <td>0.5</td>\n      <td>0.0</td>\n      <td>0.0</td>\n      <td>0.0</td>\n    </tr>\n    <tr>\n      <th>GER</th>\n      <td>0.0</td>\n      <td>0.0</td>\n      <td>0.0</td>\n      <td>0.0</td>\n      <td>0.0</td>\n      <td>0.0</td>\n    </tr>\n    <tr>\n      <th>SWE</th>\n      <td>0.0</td>\n      <td>0.5</td>\n      <td>1.0</td>\n      <td>0.0</td>\n      <td>0.0</td>\n      <td>0.0</td>\n    </tr>\n    <tr>\n      <th>AUT</th>\n      <td>0.5</td>\n      <td>1.5</td>\n      <td>1.5</td>\n      <td>1.0</td>\n      <td>0.0</td>\n      <td>1.0</td>\n    </tr>\n    <tr>\n      <th>FRA</th>\n      <td>0.0</td>\n      <td>0.5</td>\n      <td>1.0</td>\n      <td>0.0</td>\n      <td>0.0</td>\n      <td>0.0</td>\n    </tr>\n  </tbody>\n</table>\n</div>"
     },
     "execution_count": 3,
     "metadata": {},
     "output_type": "execute_result"
    },
    {
     "data": {
      "text/plain": "              ITA  BEL  GER  SWE  AUT  FRA\ncriteria                                  \ng1       ITA  0.0  1.3  1.3  1.3  1.3  1.3\n         BEL  0.0  0.0  0.0  0.0  0.0  0.0\n         GER  0.0  1.0  0.0  0.0  0.0  0.0\n         SWE  0.0  1.3  1.0  0.0  0.0  0.0\n         AUT  0.0  1.3  1.3  1.0  0.0  0.0\n         FRA  0.0  1.3  1.3  1.0  1.0  0.0\ng2       ITA  0.0  1.2  1.0  1.0  1.0  0.0\n         BEL  0.0  0.0  0.0  0.0  0.0  0.0\n         GER  0.0  1.0  0.0  1.0  0.0  0.0\n         SWE  0.0  1.0  0.0  0.0  0.0  0.0\n         AUT  0.0  1.2  1.0  1.0  0.0  0.0\n         FRA  1.0  1.2  1.0  1.2  1.0  0.0\ng3       ITA  0.0  1.0  1.5  0.5  0.0  0.5\n         BEL  0.0  0.0  0.5  0.0  0.0  0.0\n         GER  0.0  0.0  0.0  0.0  0.0  0.0\n         SWE  0.0  0.5  1.0  0.0  0.0  0.0\n         AUT  0.5  1.5  1.5  1.0  0.0  1.0\n         FRA  0.0  0.5  1.0  0.0  0.0  0.0",
      "text/html": "<div>\n<style scoped>\n    .dataframe tbody tr th:only-of-type {\n        vertical-align: middle;\n    }\n\n    .dataframe tbody tr th {\n        vertical-align: top;\n    }\n\n    .dataframe thead th {\n        text-align: right;\n    }\n</style>\n<table border=\"1\" class=\"dataframe\">\n  <thead>\n    <tr style=\"text-align: right;\">\n      <th></th>\n      <th></th>\n      <th>ITA</th>\n      <th>BEL</th>\n      <th>GER</th>\n      <th>SWE</th>\n      <th>AUT</th>\n      <th>FRA</th>\n    </tr>\n    <tr>\n      <th>criteria</th>\n      <th></th>\n      <th></th>\n      <th></th>\n      <th></th>\n      <th></th>\n      <th></th>\n      <th></th>\n    </tr>\n  </thead>\n  <tbody>\n    <tr>\n      <th rowspan=\"6\" valign=\"top\">g1</th>\n      <th>ITA</th>\n      <td>0.0</td>\n      <td>1.3</td>\n      <td>1.3</td>\n      <td>1.3</td>\n      <td>1.3</td>\n      <td>1.3</td>\n    </tr>\n    <tr>\n      <th>BEL</th>\n      <td>0.0</td>\n      <td>0.0</td>\n      <td>0.0</td>\n      <td>0.0</td>\n      <td>0.0</td>\n      <td>0.0</td>\n    </tr>\n    <tr>\n      <th>GER</th>\n      <td>0.0</td>\n      <td>1.0</td>\n      <td>0.0</td>\n      <td>0.0</td>\n      <td>0.0</td>\n      <td>0.0</td>\n    </tr>\n    <tr>\n      <th>SWE</th>\n      <td>0.0</td>\n      <td>1.3</td>\n      <td>1.0</td>\n      <td>0.0</td>\n      <td>0.0</td>\n      <td>0.0</td>\n    </tr>\n    <tr>\n      <th>AUT</th>\n      <td>0.0</td>\n      <td>1.3</td>\n      <td>1.3</td>\n      <td>1.0</td>\n      <td>0.0</td>\n      <td>0.0</td>\n    </tr>\n    <tr>\n      <th>FRA</th>\n      <td>0.0</td>\n      <td>1.3</td>\n      <td>1.3</td>\n      <td>1.0</td>\n      <td>1.0</td>\n      <td>0.0</td>\n    </tr>\n    <tr>\n      <th rowspan=\"6\" valign=\"top\">g2</th>\n      <th>ITA</th>\n      <td>0.0</td>\n      <td>1.2</td>\n      <td>1.0</td>\n      <td>1.0</td>\n      <td>1.0</td>\n      <td>0.0</td>\n    </tr>\n    <tr>\n      <th>BEL</th>\n      <td>0.0</td>\n      <td>0.0</td>\n      <td>0.0</td>\n      <td>0.0</td>\n      <td>0.0</td>\n      <td>0.0</td>\n    </tr>\n    <tr>\n      <th>GER</th>\n      <td>0.0</td>\n      <td>1.0</td>\n      <td>0.0</td>\n      <td>1.0</td>\n      <td>0.0</td>\n      <td>0.0</td>\n    </tr>\n    <tr>\n      <th>SWE</th>\n      <td>0.0</td>\n      <td>1.0</td>\n      <td>0.0</td>\n      <td>0.0</td>\n      <td>0.0</td>\n      <td>0.0</td>\n    </tr>\n    <tr>\n      <th>AUT</th>\n      <td>0.0</td>\n      <td>1.2</td>\n      <td>1.0</td>\n      <td>1.0</td>\n      <td>0.0</td>\n      <td>0.0</td>\n    </tr>\n    <tr>\n      <th>FRA</th>\n      <td>1.0</td>\n      <td>1.2</td>\n      <td>1.0</td>\n      <td>1.2</td>\n      <td>1.0</td>\n      <td>0.0</td>\n    </tr>\n    <tr>\n      <th rowspan=\"6\" valign=\"top\">g3</th>\n      <th>ITA</th>\n      <td>0.0</td>\n      <td>1.0</td>\n      <td>1.5</td>\n      <td>0.5</td>\n      <td>0.0</td>\n      <td>0.5</td>\n    </tr>\n    <tr>\n      <th>BEL</th>\n      <td>0.0</td>\n      <td>0.0</td>\n      <td>0.5</td>\n      <td>0.0</td>\n      <td>0.0</td>\n      <td>0.0</td>\n    </tr>\n    <tr>\n      <th>GER</th>\n      <td>0.0</td>\n      <td>0.0</td>\n      <td>0.0</td>\n      <td>0.0</td>\n      <td>0.0</td>\n      <td>0.0</td>\n    </tr>\n    <tr>\n      <th>SWE</th>\n      <td>0.0</td>\n      <td>0.5</td>\n      <td>1.0</td>\n      <td>0.0</td>\n      <td>0.0</td>\n      <td>0.0</td>\n    </tr>\n    <tr>\n      <th>AUT</th>\n      <td>0.5</td>\n      <td>1.5</td>\n      <td>1.5</td>\n      <td>1.0</td>\n      <td>0.0</td>\n      <td>1.0</td>\n    </tr>\n    <tr>\n      <th>FRA</th>\n      <td>0.0</td>\n      <td>0.5</td>\n      <td>1.0</td>\n      <td>0.0</td>\n      <td>0.0</td>\n      <td>0.0</td>\n    </tr>\n  </tbody>\n</table>\n</div>"
     },
     "execution_count": 14,
     "metadata": {},
     "output_type": "execute_result"
    }
   ],
   "source": [
    "preference_indices, partial_preference_indices = compute_reinforced_preference(alternatives_performances,\n",
    "                                                preference_thresholds,\n",
    "                                                indifference_thresholds,\n",
    "                                                s_parameters,\n",
    "                                                generalised_criteria,\n",
    "                                                criteria_directions,\n",
    "                                                reinforced_preference_thresholds,\n",
    "                                                reinforcement_factors,\n",
    "                                                weights)\n",
    "partial_preference_indices"
   ],
   "metadata": {
    "collapsed": false,
    "pycharm": {
     "name": "#%%\n"
    }
   }
  },
  {
   "cell_type": "code",
   "execution_count": 15,
   "outputs": [
    {
     "data": {
      "text/plain": "       ITA    BEL    GER    SWE    AUT    FRA\nITA  0.000  1.000  1.000  0.718  0.436  0.616\nBEL  0.000  0.000  0.306  0.000  0.000  0.000\nGER  0.000  0.389  0.000  0.111  0.000  0.000\nSWE  0.000  0.718  0.889  0.000  0.000  0.000\nAUT  0.306  1.000  1.000  1.000  0.000  0.611\nFRA  0.111  0.724  1.000  0.402  0.389  0.000",
      "text/html": "<div>\n<style scoped>\n    .dataframe tbody tr th:only-of-type {\n        vertical-align: middle;\n    }\n\n    .dataframe tbody tr th {\n        vertical-align: top;\n    }\n\n    .dataframe thead th {\n        text-align: right;\n    }\n</style>\n<table border=\"1\" class=\"dataframe\">\n  <thead>\n    <tr style=\"text-align: right;\">\n      <th></th>\n      <th>ITA</th>\n      <th>BEL</th>\n      <th>GER</th>\n      <th>SWE</th>\n      <th>AUT</th>\n      <th>FRA</th>\n    </tr>\n  </thead>\n  <tbody>\n    <tr>\n      <th>ITA</th>\n      <td>0.000</td>\n      <td>1.000</td>\n      <td>1.000</td>\n      <td>0.718</td>\n      <td>0.436</td>\n      <td>0.616</td>\n    </tr>\n    <tr>\n      <th>BEL</th>\n      <td>0.000</td>\n      <td>0.000</td>\n      <td>0.306</td>\n      <td>0.000</td>\n      <td>0.000</td>\n      <td>0.000</td>\n    </tr>\n    <tr>\n      <th>GER</th>\n      <td>0.000</td>\n      <td>0.389</td>\n      <td>0.000</td>\n      <td>0.111</td>\n      <td>0.000</td>\n      <td>0.000</td>\n    </tr>\n    <tr>\n      <th>SWE</th>\n      <td>0.000</td>\n      <td>0.718</td>\n      <td>0.889</td>\n      <td>0.000</td>\n      <td>0.000</td>\n      <td>0.000</td>\n    </tr>\n    <tr>\n      <th>AUT</th>\n      <td>0.306</td>\n      <td>1.000</td>\n      <td>1.000</td>\n      <td>1.000</td>\n      <td>0.000</td>\n      <td>0.611</td>\n    </tr>\n    <tr>\n      <th>FRA</th>\n      <td>0.111</td>\n      <td>0.724</td>\n      <td>1.000</td>\n      <td>0.402</td>\n      <td>0.389</td>\n      <td>0.000</td>\n    </tr>\n  </tbody>\n</table>\n</div>"
     },
     "execution_count": 4,
     "metadata": {},
     "output_type": "execute_result"
    },
    {
     "data": {
      "text/plain": "       ITA    BEL    GER    SWE    AUT    FRA\nITA  0.000  1.000  1.000  0.718  0.436  0.616\nBEL  0.000  0.000  0.306  0.000  0.000  0.000\nGER  0.000  0.389  0.000  0.111  0.000  0.000\nSWE  0.000  0.718  0.889  0.000  0.000  0.000\nAUT  0.306  1.000  1.000  1.000  0.000  0.611\nFRA  0.111  0.724  1.000  0.402  0.389  0.000",
      "text/html": "<div>\n<style scoped>\n    .dataframe tbody tr th:only-of-type {\n        vertical-align: middle;\n    }\n\n    .dataframe tbody tr th {\n        vertical-align: top;\n    }\n\n    .dataframe thead th {\n        text-align: right;\n    }\n</style>\n<table border=\"1\" class=\"dataframe\">\n  <thead>\n    <tr style=\"text-align: right;\">\n      <th></th>\n      <th>ITA</th>\n      <th>BEL</th>\n      <th>GER</th>\n      <th>SWE</th>\n      <th>AUT</th>\n      <th>FRA</th>\n    </tr>\n  </thead>\n  <tbody>\n    <tr>\n      <th>ITA</th>\n      <td>0.000</td>\n      <td>1.000</td>\n      <td>1.000</td>\n      <td>0.718</td>\n      <td>0.436</td>\n      <td>0.616</td>\n    </tr>\n    <tr>\n      <th>BEL</th>\n      <td>0.000</td>\n      <td>0.000</td>\n      <td>0.306</td>\n      <td>0.000</td>\n      <td>0.000</td>\n      <td>0.000</td>\n    </tr>\n    <tr>\n      <th>GER</th>\n      <td>0.000</td>\n      <td>0.389</td>\n      <td>0.000</td>\n      <td>0.111</td>\n      <td>0.000</td>\n      <td>0.000</td>\n    </tr>\n    <tr>\n      <th>SWE</th>\n      <td>0.000</td>\n      <td>0.718</td>\n      <td>0.889</td>\n      <td>0.000</td>\n      <td>0.000</td>\n      <td>0.000</td>\n    </tr>\n    <tr>\n      <th>AUT</th>\n      <td>0.306</td>\n      <td>1.000</td>\n      <td>1.000</td>\n      <td>1.000</td>\n      <td>0.000</td>\n      <td>0.611</td>\n    </tr>\n    <tr>\n      <th>FRA</th>\n      <td>0.111</td>\n      <td>0.724</td>\n      <td>1.000</td>\n      <td>0.402</td>\n      <td>0.389</td>\n      <td>0.000</td>\n    </tr>\n  </tbody>\n</table>\n</div>"
     },
     "execution_count": 15,
     "metadata": {},
     "output_type": "execute_result"
    }
   ],
   "source": [
    "preference_indices"
   ],
   "metadata": {
    "collapsed": false,
    "pycharm": {
     "name": "#%%\n"
    }
   }
  },
  {
   "cell_type": "markdown",
   "source": [],
   "metadata": {
    "collapsed": false,
    "pycharm": {
     "name": "#%% md\n"
    }
   }
  },
  {
   "cell_type": "markdown",
   "source": [
    "Next, we filter out the alternatives with an unacceptably weak performance on some criteria using Promethee Veto."
   ],
   "metadata": {
    "collapsed": false,
    "pycharm": {
     "name": "#%% md\n"
    }
   }
  },
  {
   "cell_type": "code",
   "execution_count": 16,
   "outputs": [
    {
     "data": {
      "text/plain": "              ITA  BEL  GER  SWE  AUT  FRA\ncriteria                                  \ng1       ITA    0    0    0    0    0    0\n         BEL    0    0    0    0    0    0\n         GER    0    0    0    0    0    0\n         SWE    0    0    0    0    0    0\n         AUT    0    0    0    0    0    0\n         FRA    0    0    0    0    0    0\ng2       ITA    0    0    0    0    0    0\n         BEL    1    0    1    0    1    1\n         GER    0    0    0    0    0    1\n         SWE    1    0    0    0    0    1\n         AUT    0    0    0    0    0    0\n         FRA    0    0    0    0    0    0\ng3       ITA    0    0    0    0    0    0\n         BEL    1    0    0    0    1    0\n         GER    1    0    0    1    1    1\n         SWE    0    0    0    0    1    0\n         AUT    0    0    0    0    0    0\n         FRA    0    0    0    0    1    0",
      "text/html": "<div>\n<style scoped>\n    .dataframe tbody tr th:only-of-type {\n        vertical-align: middle;\n    }\n\n    .dataframe tbody tr th {\n        vertical-align: top;\n    }\n\n    .dataframe thead th {\n        text-align: right;\n    }\n</style>\n<table border=\"1\" class=\"dataframe\">\n  <thead>\n    <tr style=\"text-align: right;\">\n      <th></th>\n      <th></th>\n      <th>ITA</th>\n      <th>BEL</th>\n      <th>GER</th>\n      <th>SWE</th>\n      <th>AUT</th>\n      <th>FRA</th>\n    </tr>\n    <tr>\n      <th>criteria</th>\n      <th></th>\n      <th></th>\n      <th></th>\n      <th></th>\n      <th></th>\n      <th></th>\n      <th></th>\n    </tr>\n  </thead>\n  <tbody>\n    <tr>\n      <th rowspan=\"6\" valign=\"top\">g1</th>\n      <th>ITA</th>\n      <td>0</td>\n      <td>0</td>\n      <td>0</td>\n      <td>0</td>\n      <td>0</td>\n      <td>0</td>\n    </tr>\n    <tr>\n      <th>BEL</th>\n      <td>0</td>\n      <td>0</td>\n      <td>0</td>\n      <td>0</td>\n      <td>0</td>\n      <td>0</td>\n    </tr>\n    <tr>\n      <th>GER</th>\n      <td>0</td>\n      <td>0</td>\n      <td>0</td>\n      <td>0</td>\n      <td>0</td>\n      <td>0</td>\n    </tr>\n    <tr>\n      <th>SWE</th>\n      <td>0</td>\n      <td>0</td>\n      <td>0</td>\n      <td>0</td>\n      <td>0</td>\n      <td>0</td>\n    </tr>\n    <tr>\n      <th>AUT</th>\n      <td>0</td>\n      <td>0</td>\n      <td>0</td>\n      <td>0</td>\n      <td>0</td>\n      <td>0</td>\n    </tr>\n    <tr>\n      <th>FRA</th>\n      <td>0</td>\n      <td>0</td>\n      <td>0</td>\n      <td>0</td>\n      <td>0</td>\n      <td>0</td>\n    </tr>\n    <tr>\n      <th rowspan=\"6\" valign=\"top\">g2</th>\n      <th>ITA</th>\n      <td>0</td>\n      <td>0</td>\n      <td>0</td>\n      <td>0</td>\n      <td>0</td>\n      <td>0</td>\n    </tr>\n    <tr>\n      <th>BEL</th>\n      <td>1</td>\n      <td>0</td>\n      <td>1</td>\n      <td>0</td>\n      <td>1</td>\n      <td>1</td>\n    </tr>\n    <tr>\n      <th>GER</th>\n      <td>0</td>\n      <td>0</td>\n      <td>0</td>\n      <td>0</td>\n      <td>0</td>\n      <td>1</td>\n    </tr>\n    <tr>\n      <th>SWE</th>\n      <td>1</td>\n      <td>0</td>\n      <td>0</td>\n      <td>0</td>\n      <td>0</td>\n      <td>1</td>\n    </tr>\n    <tr>\n      <th>AUT</th>\n      <td>0</td>\n      <td>0</td>\n      <td>0</td>\n      <td>0</td>\n      <td>0</td>\n      <td>0</td>\n    </tr>\n    <tr>\n      <th>FRA</th>\n      <td>0</td>\n      <td>0</td>\n      <td>0</td>\n      <td>0</td>\n      <td>0</td>\n      <td>0</td>\n    </tr>\n    <tr>\n      <th rowspan=\"6\" valign=\"top\">g3</th>\n      <th>ITA</th>\n      <td>0</td>\n      <td>0</td>\n      <td>0</td>\n      <td>0</td>\n      <td>0</td>\n      <td>0</td>\n    </tr>\n    <tr>\n      <th>BEL</th>\n      <td>1</td>\n      <td>0</td>\n      <td>0</td>\n      <td>0</td>\n      <td>1</td>\n      <td>0</td>\n    </tr>\n    <tr>\n      <th>GER</th>\n      <td>1</td>\n      <td>0</td>\n      <td>0</td>\n      <td>1</td>\n      <td>1</td>\n      <td>1</td>\n    </tr>\n    <tr>\n      <th>SWE</th>\n      <td>0</td>\n      <td>0</td>\n      <td>0</td>\n      <td>0</td>\n      <td>1</td>\n      <td>0</td>\n    </tr>\n    <tr>\n      <th>AUT</th>\n      <td>0</td>\n      <td>0</td>\n      <td>0</td>\n      <td>0</td>\n      <td>0</td>\n      <td>0</td>\n    </tr>\n    <tr>\n      <th>FRA</th>\n      <td>0</td>\n      <td>0</td>\n      <td>0</td>\n      <td>0</td>\n      <td>1</td>\n      <td>0</td>\n    </tr>\n  </tbody>\n</table>\n</div>"
     },
     "execution_count": 5,
     "metadata": {},
     "output_type": "execute_result"
    },
    {
     "data": {
      "text/plain": "              ITA  BEL  GER  SWE  AUT  FRA\ncriteria                                  \ng1       ITA    0    0    0    0    0    0\n         BEL    0    0    0    0    0    0\n         GER    0    0    0    0    0    0\n         SWE    0    0    0    0    0    0\n         AUT    0    0    0    0    0    0\n         FRA    0    0    0    0    0    0\ng2       ITA    0    0    0    0    0    0\n         BEL    1    0    1    0    1    1\n         GER    0    0    0    0    0    1\n         SWE    1    0    0    0    0    1\n         AUT    0    0    0    0    0    0\n         FRA    0    0    0    0    0    0\ng3       ITA    0    0    0    0    0    0\n         BEL    1    0    0    0    1    0\n         GER    1    0    0    1    1    1\n         SWE    0    0    0    0    1    0\n         AUT    0    0    0    0    0    0\n         FRA    0    0    0    0    1    0",
      "text/html": "<div>\n<style scoped>\n    .dataframe tbody tr th:only-of-type {\n        vertical-align: middle;\n    }\n\n    .dataframe tbody tr th {\n        vertical-align: top;\n    }\n\n    .dataframe thead th {\n        text-align: right;\n    }\n</style>\n<table border=\"1\" class=\"dataframe\">\n  <thead>\n    <tr style=\"text-align: right;\">\n      <th></th>\n      <th></th>\n      <th>ITA</th>\n      <th>BEL</th>\n      <th>GER</th>\n      <th>SWE</th>\n      <th>AUT</th>\n      <th>FRA</th>\n    </tr>\n    <tr>\n      <th>criteria</th>\n      <th></th>\n      <th></th>\n      <th></th>\n      <th></th>\n      <th></th>\n      <th></th>\n      <th></th>\n    </tr>\n  </thead>\n  <tbody>\n    <tr>\n      <th rowspan=\"6\" valign=\"top\">g1</th>\n      <th>ITA</th>\n      <td>0</td>\n      <td>0</td>\n      <td>0</td>\n      <td>0</td>\n      <td>0</td>\n      <td>0</td>\n    </tr>\n    <tr>\n      <th>BEL</th>\n      <td>0</td>\n      <td>0</td>\n      <td>0</td>\n      <td>0</td>\n      <td>0</td>\n      <td>0</td>\n    </tr>\n    <tr>\n      <th>GER</th>\n      <td>0</td>\n      <td>0</td>\n      <td>0</td>\n      <td>0</td>\n      <td>0</td>\n      <td>0</td>\n    </tr>\n    <tr>\n      <th>SWE</th>\n      <td>0</td>\n      <td>0</td>\n      <td>0</td>\n      <td>0</td>\n      <td>0</td>\n      <td>0</td>\n    </tr>\n    <tr>\n      <th>AUT</th>\n      <td>0</td>\n      <td>0</td>\n      <td>0</td>\n      <td>0</td>\n      <td>0</td>\n      <td>0</td>\n    </tr>\n    <tr>\n      <th>FRA</th>\n      <td>0</td>\n      <td>0</td>\n      <td>0</td>\n      <td>0</td>\n      <td>0</td>\n      <td>0</td>\n    </tr>\n    <tr>\n      <th rowspan=\"6\" valign=\"top\">g2</th>\n      <th>ITA</th>\n      <td>0</td>\n      <td>0</td>\n      <td>0</td>\n      <td>0</td>\n      <td>0</td>\n      <td>0</td>\n    </tr>\n    <tr>\n      <th>BEL</th>\n      <td>1</td>\n      <td>0</td>\n      <td>1</td>\n      <td>0</td>\n      <td>1</td>\n      <td>1</td>\n    </tr>\n    <tr>\n      <th>GER</th>\n      <td>0</td>\n      <td>0</td>\n      <td>0</td>\n      <td>0</td>\n      <td>0</td>\n      <td>1</td>\n    </tr>\n    <tr>\n      <th>SWE</th>\n      <td>1</td>\n      <td>0</td>\n      <td>0</td>\n      <td>0</td>\n      <td>0</td>\n      <td>1</td>\n    </tr>\n    <tr>\n      <th>AUT</th>\n      <td>0</td>\n      <td>0</td>\n      <td>0</td>\n      <td>0</td>\n      <td>0</td>\n      <td>0</td>\n    </tr>\n    <tr>\n      <th>FRA</th>\n      <td>0</td>\n      <td>0</td>\n      <td>0</td>\n      <td>0</td>\n      <td>0</td>\n      <td>0</td>\n    </tr>\n    <tr>\n      <th rowspan=\"6\" valign=\"top\">g3</th>\n      <th>ITA</th>\n      <td>0</td>\n      <td>0</td>\n      <td>0</td>\n      <td>0</td>\n      <td>0</td>\n      <td>0</td>\n    </tr>\n    <tr>\n      <th>BEL</th>\n      <td>1</td>\n      <td>0</td>\n      <td>0</td>\n      <td>0</td>\n      <td>1</td>\n      <td>0</td>\n    </tr>\n    <tr>\n      <th>GER</th>\n      <td>1</td>\n      <td>0</td>\n      <td>0</td>\n      <td>1</td>\n      <td>1</td>\n      <td>1</td>\n    </tr>\n    <tr>\n      <th>SWE</th>\n      <td>0</td>\n      <td>0</td>\n      <td>0</td>\n      <td>0</td>\n      <td>1</td>\n      <td>0</td>\n    </tr>\n    <tr>\n      <th>AUT</th>\n      <td>0</td>\n      <td>0</td>\n      <td>0</td>\n      <td>0</td>\n      <td>0</td>\n      <td>0</td>\n    </tr>\n    <tr>\n      <th>FRA</th>\n      <td>0</td>\n      <td>0</td>\n      <td>0</td>\n      <td>0</td>\n      <td>1</td>\n      <td>0</td>\n    </tr>\n  </tbody>\n</table>\n</div>"
     },
     "execution_count": 16,
     "metadata": {},
     "output_type": "execute_result"
    }
   ],
   "source": [
    "veto_indices, partial_veto_indices  = compute_veto(alternatives_performances, weights,\n",
    "                                  veto_thresholds, criteria_directions)\n",
    "partial_veto_indices"
   ],
   "metadata": {
    "collapsed": false,
    "pycharm": {
     "name": "#%%\n"
    }
   }
  },
  {
   "cell_type": "code",
   "execution_count": 17,
   "outputs": [
    {
     "data": {
      "text/plain": "     ITA  BEL  GER  SWE  AUT  FRA\nITA    0    0    0    0    0    0\nBEL    1    0    1    0    1    1\nGER    1    0    0    1    1    1\nSWE    1    0    0    0    1    1\nAUT    0    0    0    0    0    0\nFRA    0    0    0    0    1    0",
      "text/html": "<div>\n<style scoped>\n    .dataframe tbody tr th:only-of-type {\n        vertical-align: middle;\n    }\n\n    .dataframe tbody tr th {\n        vertical-align: top;\n    }\n\n    .dataframe thead th {\n        text-align: right;\n    }\n</style>\n<table border=\"1\" class=\"dataframe\">\n  <thead>\n    <tr style=\"text-align: right;\">\n      <th></th>\n      <th>ITA</th>\n      <th>BEL</th>\n      <th>GER</th>\n      <th>SWE</th>\n      <th>AUT</th>\n      <th>FRA</th>\n    </tr>\n  </thead>\n  <tbody>\n    <tr>\n      <th>ITA</th>\n      <td>0</td>\n      <td>0</td>\n      <td>0</td>\n      <td>0</td>\n      <td>0</td>\n      <td>0</td>\n    </tr>\n    <tr>\n      <th>BEL</th>\n      <td>1</td>\n      <td>0</td>\n      <td>1</td>\n      <td>0</td>\n      <td>1</td>\n      <td>1</td>\n    </tr>\n    <tr>\n      <th>GER</th>\n      <td>1</td>\n      <td>0</td>\n      <td>0</td>\n      <td>1</td>\n      <td>1</td>\n      <td>1</td>\n    </tr>\n    <tr>\n      <th>SWE</th>\n      <td>1</td>\n      <td>0</td>\n      <td>0</td>\n      <td>0</td>\n      <td>1</td>\n      <td>1</td>\n    </tr>\n    <tr>\n      <th>AUT</th>\n      <td>0</td>\n      <td>0</td>\n      <td>0</td>\n      <td>0</td>\n      <td>0</td>\n      <td>0</td>\n    </tr>\n    <tr>\n      <th>FRA</th>\n      <td>0</td>\n      <td>0</td>\n      <td>0</td>\n      <td>0</td>\n      <td>1</td>\n      <td>0</td>\n    </tr>\n  </tbody>\n</table>\n</div>"
     },
     "execution_count": 6,
     "metadata": {},
     "output_type": "execute_result"
    },
    {
     "data": {
      "text/plain": "     ITA  BEL  GER  SWE  AUT  FRA\nITA    0    0    0    0    0    0\nBEL    1    0    1    0    1    1\nGER    1    0    0    1    1    1\nSWE    1    0    0    0    1    1\nAUT    0    0    0    0    0    0\nFRA    0    0    0    0    1    0",
      "text/html": "<div>\n<style scoped>\n    .dataframe tbody tr th:only-of-type {\n        vertical-align: middle;\n    }\n\n    .dataframe tbody tr th {\n        vertical-align: top;\n    }\n\n    .dataframe thead th {\n        text-align: right;\n    }\n</style>\n<table border=\"1\" class=\"dataframe\">\n  <thead>\n    <tr style=\"text-align: right;\">\n      <th></th>\n      <th>ITA</th>\n      <th>BEL</th>\n      <th>GER</th>\n      <th>SWE</th>\n      <th>AUT</th>\n      <th>FRA</th>\n    </tr>\n  </thead>\n  <tbody>\n    <tr>\n      <th>ITA</th>\n      <td>0</td>\n      <td>0</td>\n      <td>0</td>\n      <td>0</td>\n      <td>0</td>\n      <td>0</td>\n    </tr>\n    <tr>\n      <th>BEL</th>\n      <td>1</td>\n      <td>0</td>\n      <td>1</td>\n      <td>0</td>\n      <td>1</td>\n      <td>1</td>\n    </tr>\n    <tr>\n      <th>GER</th>\n      <td>1</td>\n      <td>0</td>\n      <td>0</td>\n      <td>1</td>\n      <td>1</td>\n      <td>1</td>\n    </tr>\n    <tr>\n      <th>SWE</th>\n      <td>1</td>\n      <td>0</td>\n      <td>0</td>\n      <td>0</td>\n      <td>1</td>\n      <td>1</td>\n    </tr>\n    <tr>\n      <th>AUT</th>\n      <td>0</td>\n      <td>0</td>\n      <td>0</td>\n      <td>0</td>\n      <td>0</td>\n      <td>0</td>\n    </tr>\n    <tr>\n      <th>FRA</th>\n      <td>0</td>\n      <td>0</td>\n      <td>0</td>\n      <td>0</td>\n      <td>1</td>\n      <td>0</td>\n    </tr>\n  </tbody>\n</table>\n</div>"
     },
     "execution_count": 17,
     "metadata": {},
     "output_type": "execute_result"
    }
   ],
   "source": [
    "veto_indices"
   ],
   "metadata": {
    "collapsed": false,
    "pycharm": {
     "name": "#%%\n"
    }
   }
  },
  {
   "cell_type": "markdown",
   "source": [
    "Here, preference indices are computed with veto to achieve overall preferences."
   ],
   "metadata": {
    "collapsed": false,
    "pycharm": {
     "name": "#%% md\n"
    }
   }
  },
  {
   "cell_type": "code",
   "execution_count": 18,
   "outputs": [
    {
     "data": {
      "text/plain": "       ITA    BEL    GER    SWE    AUT    FRA\nITA  0.000  1.000  1.000  0.718  0.436  0.616\nBEL  0.000  0.000  0.000  0.000  0.000  0.000\nGER  0.000  0.389  0.000  0.000  0.000  0.000\nSWE  0.000  0.718  0.889  0.000  0.000  0.000\nAUT  0.306  1.000  1.000  1.000  0.000  0.611\nFRA  0.111  0.724  1.000  0.402  0.000  0.000",
      "text/html": "<div>\n<style scoped>\n    .dataframe tbody tr th:only-of-type {\n        vertical-align: middle;\n    }\n\n    .dataframe tbody tr th {\n        vertical-align: top;\n    }\n\n    .dataframe thead th {\n        text-align: right;\n    }\n</style>\n<table border=\"1\" class=\"dataframe\">\n  <thead>\n    <tr style=\"text-align: right;\">\n      <th></th>\n      <th>ITA</th>\n      <th>BEL</th>\n      <th>GER</th>\n      <th>SWE</th>\n      <th>AUT</th>\n      <th>FRA</th>\n    </tr>\n  </thead>\n  <tbody>\n    <tr>\n      <th>ITA</th>\n      <td>0.000</td>\n      <td>1.000</td>\n      <td>1.000</td>\n      <td>0.718</td>\n      <td>0.436</td>\n      <td>0.616</td>\n    </tr>\n    <tr>\n      <th>BEL</th>\n      <td>0.000</td>\n      <td>0.000</td>\n      <td>0.000</td>\n      <td>0.000</td>\n      <td>0.000</td>\n      <td>0.000</td>\n    </tr>\n    <tr>\n      <th>GER</th>\n      <td>0.000</td>\n      <td>0.389</td>\n      <td>0.000</td>\n      <td>0.000</td>\n      <td>0.000</td>\n      <td>0.000</td>\n    </tr>\n    <tr>\n      <th>SWE</th>\n      <td>0.000</td>\n      <td>0.718</td>\n      <td>0.889</td>\n      <td>0.000</td>\n      <td>0.000</td>\n      <td>0.000</td>\n    </tr>\n    <tr>\n      <th>AUT</th>\n      <td>0.306</td>\n      <td>1.000</td>\n      <td>1.000</td>\n      <td>1.000</td>\n      <td>0.000</td>\n      <td>0.611</td>\n    </tr>\n    <tr>\n      <th>FRA</th>\n      <td>0.111</td>\n      <td>0.724</td>\n      <td>1.000</td>\n      <td>0.402</td>\n      <td>0.000</td>\n      <td>0.000</td>\n    </tr>\n  </tbody>\n</table>\n</div>"
     },
     "execution_count": 7,
     "metadata": {},
     "output_type": "execute_result"
    },
    {
     "data": {
      "text/plain": "       ITA    BEL    GER    SWE    AUT    FRA\nITA  0.000  1.000  1.000  0.718  0.436  0.616\nBEL  0.000  0.000  0.000  0.000  0.000  0.000\nGER  0.000  0.389  0.000  0.000  0.000  0.000\nSWE  0.000  0.718  0.889  0.000  0.000  0.000\nAUT  0.306  1.000  1.000  1.000  0.000  0.611\nFRA  0.111  0.724  1.000  0.402  0.000  0.000",
      "text/html": "<div>\n<style scoped>\n    .dataframe tbody tr th:only-of-type {\n        vertical-align: middle;\n    }\n\n    .dataframe tbody tr th {\n        vertical-align: top;\n    }\n\n    .dataframe thead th {\n        text-align: right;\n    }\n</style>\n<table border=\"1\" class=\"dataframe\">\n  <thead>\n    <tr style=\"text-align: right;\">\n      <th></th>\n      <th>ITA</th>\n      <th>BEL</th>\n      <th>GER</th>\n      <th>SWE</th>\n      <th>AUT</th>\n      <th>FRA</th>\n    </tr>\n  </thead>\n  <tbody>\n    <tr>\n      <th>ITA</th>\n      <td>0.000</td>\n      <td>1.000</td>\n      <td>1.000</td>\n      <td>0.718</td>\n      <td>0.436</td>\n      <td>0.616</td>\n    </tr>\n    <tr>\n      <th>BEL</th>\n      <td>0.000</td>\n      <td>0.000</td>\n      <td>0.000</td>\n      <td>0.000</td>\n      <td>0.000</td>\n      <td>0.000</td>\n    </tr>\n    <tr>\n      <th>GER</th>\n      <td>0.000</td>\n      <td>0.389</td>\n      <td>0.000</td>\n      <td>0.000</td>\n      <td>0.000</td>\n      <td>0.000</td>\n    </tr>\n    <tr>\n      <th>SWE</th>\n      <td>0.000</td>\n      <td>0.718</td>\n      <td>0.889</td>\n      <td>0.000</td>\n      <td>0.000</td>\n      <td>0.000</td>\n    </tr>\n    <tr>\n      <th>AUT</th>\n      <td>0.306</td>\n      <td>1.000</td>\n      <td>1.000</td>\n      <td>1.000</td>\n      <td>0.000</td>\n      <td>0.611</td>\n    </tr>\n    <tr>\n      <th>FRA</th>\n      <td>0.111</td>\n      <td>0.724</td>\n      <td>1.000</td>\n      <td>0.402</td>\n      <td>0.000</td>\n      <td>0.000</td>\n    </tr>\n  </tbody>\n</table>\n</div>"
     },
     "execution_count": 18,
     "metadata": {},
     "output_type": "execute_result"
    }
   ],
   "source": [
    "_, _, overall_preference = compute_veto(alternatives_performances, weights,\n",
    "                                  veto_thresholds, criteria_directions,\n",
    "                                  preferences=preference_indices)\n",
    "overall_preference"
   ],
   "metadata": {
    "collapsed": false,
    "pycharm": {
     "name": "#%%\n"
    }
   }
  },
  {
   "cell_type": "markdown",
   "source": [
    "Last step before ranking/choice are promethee flows. First outranking flows need to be calculated."
   ],
   "metadata": {
    "collapsed": false,
    "pycharm": {
     "name": "#%% md\n"
    }
   }
  },
  {
   "cell_type": "code",
   "execution_count": 19,
   "outputs": [
    {
     "data": {
      "text/plain": "     positive  negative\nITA    0.7540    0.0834\nBEL    0.0000    0.7662\nGER    0.0778    0.7778\nSWE    0.3214    0.4240\nAUT    0.7834    0.0872\nFRA    0.4474    0.2454",
      "text/html": "<div>\n<style scoped>\n    .dataframe tbody tr th:only-of-type {\n        vertical-align: middle;\n    }\n\n    .dataframe tbody tr th {\n        vertical-align: top;\n    }\n\n    .dataframe thead th {\n        text-align: right;\n    }\n</style>\n<table border=\"1\" class=\"dataframe\">\n  <thead>\n    <tr style=\"text-align: right;\">\n      <th></th>\n      <th>positive</th>\n      <th>negative</th>\n    </tr>\n  </thead>\n  <tbody>\n    <tr>\n      <th>ITA</th>\n      <td>0.7540</td>\n      <td>0.0834</td>\n    </tr>\n    <tr>\n      <th>BEL</th>\n      <td>0.0000</td>\n      <td>0.7662</td>\n    </tr>\n    <tr>\n      <th>GER</th>\n      <td>0.0778</td>\n      <td>0.7778</td>\n    </tr>\n    <tr>\n      <th>SWE</th>\n      <td>0.3214</td>\n      <td>0.4240</td>\n    </tr>\n    <tr>\n      <th>AUT</th>\n      <td>0.7834</td>\n      <td>0.0872</td>\n    </tr>\n    <tr>\n      <th>FRA</th>\n      <td>0.4474</td>\n      <td>0.2454</td>\n    </tr>\n  </tbody>\n</table>\n</div>"
     },
     "execution_count": 8,
     "metadata": {},
     "output_type": "execute_result"
    },
    {
     "data": {
      "text/plain": "     positive  negative\nITA    0.7540    0.0834\nBEL    0.0000    0.7662\nGER    0.0778    0.7778\nSWE    0.3214    0.4240\nAUT    0.7834    0.0872\nFRA    0.4474    0.2454",
      "text/html": "<div>\n<style scoped>\n    .dataframe tbody tr th:only-of-type {\n        vertical-align: middle;\n    }\n\n    .dataframe tbody tr th {\n        vertical-align: top;\n    }\n\n    .dataframe thead th {\n        text-align: right;\n    }\n</style>\n<table border=\"1\" class=\"dataframe\">\n  <thead>\n    <tr style=\"text-align: right;\">\n      <th></th>\n      <th>positive</th>\n      <th>negative</th>\n    </tr>\n  </thead>\n  <tbody>\n    <tr>\n      <th>ITA</th>\n      <td>0.7540</td>\n      <td>0.0834</td>\n    </tr>\n    <tr>\n      <th>BEL</th>\n      <td>0.0000</td>\n      <td>0.7662</td>\n    </tr>\n    <tr>\n      <th>GER</th>\n      <td>0.0778</td>\n      <td>0.7778</td>\n    </tr>\n    <tr>\n      <th>SWE</th>\n      <td>0.3214</td>\n      <td>0.4240</td>\n    </tr>\n    <tr>\n      <th>AUT</th>\n      <td>0.7834</td>\n      <td>0.0872</td>\n    </tr>\n    <tr>\n      <th>FRA</th>\n      <td>0.4474</td>\n      <td>0.2454</td>\n    </tr>\n  </tbody>\n</table>\n</div>"
     },
     "execution_count": 19,
     "metadata": {},
     "output_type": "execute_result"
    }
   ],
   "source": [
    "outranking_flows = calculate_promethee_outranking_flows(overall_preference,\n",
    "                                                        FlowType.BASIC)\n",
    "outranking_flows"
   ],
   "metadata": {
    "collapsed": false,
    "pycharm": {
     "name": "#%%\n"
    }
   }
  },
  {
   "cell_type": "markdown",
   "source": [
    "Then, flows are inputs for NetOutrankingFlow (M9) module in order to compute net outranking flow."
   ],
   "metadata": {
    "collapsed": false,
    "pycharm": {
     "name": "#%% md\n"
    }
   }
  },
  {
   "cell_type": "code",
   "execution_count": 20,
   "outputs": [
    {
     "data": {
      "text/plain": "     positive  negative     net\nITA    0.7540    0.0834  0.6706\nBEL    0.0000    0.7662 -0.7662\nGER    0.0778    0.7778 -0.7000\nSWE    0.3214    0.4240 -0.1026\nAUT    0.7834    0.0872  0.6962\nFRA    0.4474    0.2454  0.2020",
      "text/html": "<div>\n<style scoped>\n    .dataframe tbody tr th:only-of-type {\n        vertical-align: middle;\n    }\n\n    .dataframe tbody tr th {\n        vertical-align: top;\n    }\n\n    .dataframe thead th {\n        text-align: right;\n    }\n</style>\n<table border=\"1\" class=\"dataframe\">\n  <thead>\n    <tr style=\"text-align: right;\">\n      <th></th>\n      <th>positive</th>\n      <th>negative</th>\n      <th>net</th>\n    </tr>\n  </thead>\n  <tbody>\n    <tr>\n      <th>ITA</th>\n      <td>0.7540</td>\n      <td>0.0834</td>\n      <td>0.6706</td>\n    </tr>\n    <tr>\n      <th>BEL</th>\n      <td>0.0000</td>\n      <td>0.7662</td>\n      <td>-0.7662</td>\n    </tr>\n    <tr>\n      <th>GER</th>\n      <td>0.0778</td>\n      <td>0.7778</td>\n      <td>-0.7000</td>\n    </tr>\n    <tr>\n      <th>SWE</th>\n      <td>0.3214</td>\n      <td>0.4240</td>\n      <td>-0.1026</td>\n    </tr>\n    <tr>\n      <th>AUT</th>\n      <td>0.7834</td>\n      <td>0.0872</td>\n      <td>0.6962</td>\n    </tr>\n    <tr>\n      <th>FRA</th>\n      <td>0.4474</td>\n      <td>0.2454</td>\n      <td>0.2020</td>\n    </tr>\n  </tbody>\n</table>\n</div>"
     },
     "execution_count": 9,
     "metadata": {},
     "output_type": "execute_result"
    },
    {
     "data": {
      "text/plain": "     positive  negative     net\nITA    0.7540    0.0834  0.6706\nBEL    0.0000    0.7662 -0.7662\nGER    0.0778    0.7778 -0.7000\nSWE    0.3214    0.4240 -0.1026\nAUT    0.7834    0.0872  0.6962\nFRA    0.4474    0.2454  0.2020",
      "text/html": "<div>\n<style scoped>\n    .dataframe tbody tr th:only-of-type {\n        vertical-align: middle;\n    }\n\n    .dataframe tbody tr th {\n        vertical-align: top;\n    }\n\n    .dataframe thead th {\n        text-align: right;\n    }\n</style>\n<table border=\"1\" class=\"dataframe\">\n  <thead>\n    <tr style=\"text-align: right;\">\n      <th></th>\n      <th>positive</th>\n      <th>negative</th>\n      <th>net</th>\n    </tr>\n  </thead>\n  <tbody>\n    <tr>\n      <th>ITA</th>\n      <td>0.7540</td>\n      <td>0.0834</td>\n      <td>0.6706</td>\n    </tr>\n    <tr>\n      <th>BEL</th>\n      <td>0.0000</td>\n      <td>0.7662</td>\n      <td>-0.7662</td>\n    </tr>\n    <tr>\n      <th>GER</th>\n      <td>0.0778</td>\n      <td>0.7778</td>\n      <td>-0.7000</td>\n    </tr>\n    <tr>\n      <th>SWE</th>\n      <td>0.3214</td>\n      <td>0.4240</td>\n      <td>-0.1026</td>\n    </tr>\n    <tr>\n      <th>AUT</th>\n      <td>0.7834</td>\n      <td>0.0872</td>\n      <td>0.6962</td>\n    </tr>\n    <tr>\n      <th>FRA</th>\n      <td>0.4474</td>\n      <td>0.2454</td>\n      <td>0.2020</td>\n    </tr>\n  </tbody>\n</table>\n</div>"
     },
     "execution_count": 20,
     "metadata": {},
     "output_type": "execute_result"
    }
   ],
   "source": [
    "prometheeII_flows = calculate_net_outranking_flows(outranking_flows, True)\n",
    "prometheeII_flows"
   ],
   "metadata": {
    "collapsed": false,
    "pycharm": {
     "name": "#%%\n"
    }
   }
  },
  {
   "cell_type": "markdown",
   "source": [
    "Finally, we obtained the ranking and the chosen pair of alternatives."
   ],
   "metadata": {
    "collapsed": false,
    "pycharm": {
     "name": "#%% md\n"
    }
   }
  },
  {
   "cell_type": "code",
   "execution_count": 21,
   "outputs": [
    {
     "data": {
      "text/plain": "1    AUT\n2    ITA\n3    FRA\n4    SWE\n5    GER\n6    BEL\nName: ranking, dtype: object"
     },
     "execution_count": 10,
     "metadata": {},
     "output_type": "execute_result"
    },
    {
     "data": {
      "text/plain": "1    AUT\n2    ITA\n3    FRA\n4    SWE\n5    GER\n6    BEL\nName: ranking, dtype: object"
     },
     "execution_count": 21,
     "metadata": {},
     "output_type": "execute_result"
    }
   ],
   "source": [
    "calculate_promethee_ii_ranking(prometheeII_flows)"
   ],
   "metadata": {
    "collapsed": false,
    "pycharm": {
     "name": "#%%\n"
    }
   }
  },
  {
   "cell_type": "markdown",
   "source": [],
   "metadata": {
    "collapsed": false,
    "pycharm": {
     "name": "#%% md\n"
    }
   }
  },
  {
   "cell_type": "code",
   "execution_count": 22,
   "outputs": [
    {
     "data": {
      "text/plain": "0    AUT\n1    FRA\nName: chosen alternatives, dtype: object"
     },
     "execution_count": 11,
     "metadata": {},
     "output_type": "execute_result"
    },
    {
     "data": {
      "text/plain": "0    AUT\n1    FRA\nName: chosen alternatives, dtype: object"
     },
     "execution_count": 22,
     "metadata": {},
     "output_type": "execute_result"
    }
   ],
   "source": [
    "constraint1 = Constraint([22, 17, 25, 28, 20, 18], Relation.LEQ, 40)\n",
    "constraint2 = Constraint([1, 1, 1, 1, 1, 1], Relation.LEQ, 2)\n",
    "compute_decision(prometheeII_flows['net'], [constraint1, constraint2])"
   ],
   "metadata": {
    "collapsed": false,
    "pycharm": {
     "name": "#%%\n"
    }
   }
  }
 ],
 "metadata": {
  "kernelspec": {
   "display_name": "Python 3",
   "language": "python",
   "name": "python3"
  },
  "language_info": {
   "codemirror_mode": {
    "name": "ipython",
    "version": 2
   },
   "file_extension": ".py",
   "mimetype": "text/x-python",
   "name": "python",
   "nbconvert_exporter": "python",
   "pygments_lexer": "ipython2",
   "version": "2.7.6"
  }
 },
 "nbformat": 4,
 "nbformat_minor": 0
}