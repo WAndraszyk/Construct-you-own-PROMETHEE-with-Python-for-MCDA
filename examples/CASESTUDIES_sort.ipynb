{
 "cells": [
  {
   "cell_type": "code",
   "execution_count": 1,
   "metadata": {
    "collapsed": true,
    "pycharm": {
     "name": "#%%\n"
    }
   },
   "outputs": [],
   "source": [
    "from modular_parts.weights import surrogate_weights\n",
    "## Definition of inputs and problem formalization\n",
    "import pandas as pd\n",
    "from core.enums import Direction, GeneralCriterion, SurrogateMethod\n",
    "from modular_parts.preference import (compute_preference_indices,\n",
    "                                      compute_discordance)\n",
    "from modular_parts.flows import calculate_promethee_outranking_flows\n",
    "from core.enums import FlowType\n",
    "alternatives = [\"LBS\", \"MIT\", \"YALE\", \"UNC\", \"TOR\", \"UCLA\", \"OXF\", \"MAR\",\n",
    "                \"CAME\",\n",
    "                \"CBS\", \"COR\", \"DUKE\", \"ESADE\", \"HARV\", \"IESA\", \"INSEAD\",\n",
    "                \"NYU\",\n",
    "                \"NWU\", \"ROTT\", \"STAN\", \"UCB\", \"CHI\", \"IOWA\", \"MICH\", \"PENN\",\n",
    "                \"ROCH\",\n",
    "                \"VIRG\", \"UWO\", \"VAND\", \"YORK\"]\n",
    "criteria = ['g1', 'g2', 'g3']\n",
    "criteria_directions = [Direction.MAX, Direction.MAX, Direction.MAX]\n",
    "\n",
    "criteria_weights = surrogate_weights(pd.Series([1,3,2],criteria), SurrogateMethod.RR)\n",
    "generalised_criteria = [GeneralCriterion.V_SHAPE_INDIFFERENCE,\n",
    "                        GeneralCriterion.V_SHAPE_INDIFFERENCE,\n",
    "                        GeneralCriterion.V_SHAPE_INDIFFERENCE]\n",
    "preference_thresholds = [3, 3, 3]\n",
    "indifference_thresholds = [0.5, 0.5, 0.5]\n",
    "alternatives_performances = [[68.78, 62.03, 59.87],\n",
    "                             [60.01, 24.1, 85.81],\n",
    "                             [79.01, 25.98, 51.84],\n",
    "                             [67.8, 22.45, 62.4],\n",
    "                             [59.34, 36.68, 60.79],\n",
    "                             [55.46, 21.52, 74.54],\n",
    "                             [57.04, 43.49, 47.12],\n",
    "                             [55.33, 25.28, 64.13],\n",
    "                             [54.02, 18.69, 71.93],\n",
    "                             [83.44, 32.94, 71.63],\n",
    "                             [60.54, 30.31, 55.99],\n",
    "                             [64.05, 27.25, 64.68],\n",
    "                             [54.61, 60.15, 14.45],\n",
    "                             [77.84, 29.05, 93.91],\n",
    "                             [61.99, 54.61, 40.04],\n",
    "                             [56.59, 70.74, 65.45],\n",
    "                             [68.24, 26.74, 80.4],\n",
    "                             [68.68, 24.52, 72.43],\n",
    "                             [51.2, 52.91, 42.98],\n",
    "                             [76.77, 28.52, 81.8],\n",
    "                             [61.26, 31.04, 73.69],\n",
    "                             [75.64, 23.57, 77.73],\n",
    "                             [58.25, 26.25, 46.81],\n",
    "                             [63.23, 28.36, 69.61],\n",
    "                             [77.11, 31.51, 91.59],\n",
    "                             [60.25, 29.6, 49.25],\n",
    "                             [76.49, 19.05, 37.68],\n",
    "                             [50.04, 40.55, 53.55],\n",
    "                             [64.67, 26.33, 35.14],\n",
    "                             [57.03, 50.73, 47.55],\n",
    "                             ]\n",
    "\n",
    "criteria_directions = pd.Series(criteria_directions, criteria)\n",
    "generalised_criteria = pd.Series(generalised_criteria, criteria)\n",
    "preference_thresholds = pd.Series(preference_thresholds, criteria)\n",
    "indifference_thresholds = pd.Series(indifference_thresholds, criteria)\n",
    "\n",
    "alternatives_performances = pd.DataFrame(data=alternatives_performances,\n",
    "                                         index=alternatives, columns=criteria)\n",
    "\n"
   ]
  },
  {
   "cell_type": "code",
   "execution_count": 2,
   "outputs": [
    {
     "data": {
      "text/plain": "    g1  g2  g3\nr1  56  25  48\nr2  68  38  70\nr3  75  45  85",
      "text/html": "<div>\n<style scoped>\n    .dataframe tbody tr th:only-of-type {\n        vertical-align: middle;\n    }\n\n    .dataframe tbody tr th {\n        vertical-align: top;\n    }\n\n    .dataframe thead th {\n        text-align: right;\n    }\n</style>\n<table border=\"1\" class=\"dataframe\">\n  <thead>\n    <tr style=\"text-align: right;\">\n      <th></th>\n      <th>g1</th>\n      <th>g2</th>\n      <th>g3</th>\n    </tr>\n  </thead>\n  <tbody>\n    <tr>\n      <th>r1</th>\n      <td>56</td>\n      <td>25</td>\n      <td>48</td>\n    </tr>\n    <tr>\n      <th>r2</th>\n      <td>68</td>\n      <td>38</td>\n      <td>70</td>\n    </tr>\n    <tr>\n      <th>r3</th>\n      <td>75</td>\n      <td>45</td>\n      <td>85</td>\n    </tr>\n  </tbody>\n</table>\n</div>"
     },
     "execution_count": 2,
     "metadata": {},
     "output_type": "execute_result"
    }
   ],
   "source": [
    "categories = [f\"C{i}\" for i in range(1, 4)]\n",
    "profiles = [f\"r{i}\" for i in range(1, 4)]\n",
    "category_profiles_performances = pd.DataFrame([[56,25,48], [68,38,70], [75,45,85]],\n",
    "                                               index=profiles, columns=criteria)\n",
    "category_profiles_performances"
   ],
   "metadata": {
    "collapsed": false,
    "pycharm": {
     "name": "#%%\n"
    }
   }
  },
  {
   "cell_type": "code",
   "execution_count": 3,
   "outputs": [
    {
     "name": "stderr",
     "output_type": "stream",
     "text": [
      "C:\\Users\\teba_sgrabowski\\AppData\\Local\\Temp\\ipykernel_11820\\3222764940.py:4: FutureWarning: The default dtype for empty Series will be 'object' instead of 'float64' in a future version. Specify a dtype explicitly to silence this warning.\n",
      "  pd.Series(data=None, index=criteria), generalised_criteria,\n"
     ]
    },
    {
     "data": {
      "text/plain": "(           r1     r2     r3\n LBS     1.000  0.243  0.182\n MIT     0.818  0.273  0.034\n YALE    0.853  0.545  0.545\n UNC     0.818  0.000  0.000\n TOR     1.000  0.000  0.000\n UCLA    0.273  0.273  0.000\n OXF     0.300  0.182  0.000\n MAR     0.273  0.000  0.000\n CAME    0.273  0.156  0.000\n CBS     1.000  0.668  0.545\n COR     1.000  0.000  0.000\n DUKE    0.945  0.000  0.000\n ESADE   0.182  0.182  0.182\n HARV    1.000  0.818  0.783\n IESA    0.727  0.182  0.182\n INSEAD  0.475  0.182  0.182\n NYU     0.908  0.273  0.000\n NWU     0.818  0.250  0.000\n ROTT    0.182  0.182  0.182\n STAN    1.000  0.818  0.277\n UCB     1.000  0.273  0.000\n CHI     0.818  0.818  0.031\n IOWA    0.436  0.000  0.000\n MICH    1.000  0.000  0.000\n PENN    1.000  0.818  0.624\n ROCH    0.809  0.000  0.000\n VIRG    0.545  0.545  0.216\n UWO     0.455  0.149  0.000\n VAND    0.605  0.000  0.000\n YORK    0.298  0.182  0.182,\n       LBS    MIT   YALE    UNC    TOR   UCLA    OXF    MAR   CAME    CBS  ...  \\\n r1  0.000  0.029  0.000  0.149  0.000  0.191  0.041  0.037  0.505  0.000  ...   \n r2  0.273  0.727  0.455  0.455  0.878  0.727  0.818  1.000  0.727  0.182  ...   \n r3  0.818  0.727  0.455  1.000  1.000  1.000  0.892  1.000  1.000  0.455  ...   \n \n       UCB    CHI   IOWA   MICH   PENN  ROCH   VIRG    UWO   VAND   YORK  \n r1  0.000  0.068  0.075  0.000  0.000   0.0  0.455  0.545  0.273  0.000  \n r2  0.727  0.182  1.000  0.727  0.182   1.0  0.455  0.818  1.000  0.818  \n r3  1.000  0.455  1.000  1.000  0.182   1.0  0.455  1.000  1.000  0.818  \n \n [3 rows x 30 columns])"
     },
     "execution_count": 3,
     "metadata": {},
     "output_type": "execute_result"
    }
   ],
   "source": [
    "## Promethee Preference\n",
    "preference_indices, partial_preference_indices = compute_preference_indices(\n",
    "    alternatives_performances, preference_thresholds, indifference_thresholds,\n",
    "    pd.Series(data=None, index=criteria), generalised_criteria,\n",
    "    criteria_directions, criteria_weights, category_profiles_performances)\n",
    "\n",
    "preference_indices\n",
    "# Promethee Discordance\n"
   ],
   "metadata": {
    "collapsed": false,
    "pycharm": {
     "name": "#%%\n"
    }
   }
  },
  {
   "cell_type": "code",
   "execution_count": 4,
   "outputs": [
    {
     "name": "stderr",
     "output_type": "stream",
     "text": [
      "C:\\Users\\teba_sgrabowski\\AppData\\Local\\Temp\\ipykernel_11820\\111524363.py:3: FutureWarning: The default dtype for empty Series will be 'object' instead of 'float64' in a future version. Specify a dtype explicitly to silence this warning.\n",
      "  pd.Series(data=None, index=criteria), generalised_criteria,\n"
     ]
    },
    {
     "data": {
      "text/plain": "(     r1   r2   r3\n r1  0.0  0.0  0.0\n r2  1.0  0.0  0.0\n r3  1.0  1.0  0.0,\n      r1   r2   r3\n r1  0.0  0.0  0.0\n r2  1.0  0.0  0.0\n r3  1.0  1.0  0.0)"
     },
     "execution_count": 4,
     "metadata": {},
     "output_type": "execute_result"
    }
   ],
   "source": [
    "preference_indices_profiles, partial_preference_indices_profiles = compute_preference_indices(\n",
    "    category_profiles_performances, preference_thresholds, indifference_thresholds,\n",
    "    pd.Series(data=None, index=criteria), generalised_criteria,\n",
    "    criteria_directions, criteria_weights, category_profiles_performances)\n",
    "\n",
    "preference_indices_profiles"
   ],
   "metadata": {
    "collapsed": false,
    "pycharm": {
     "name": "#%%\n"
    }
   }
  },
  {
   "cell_type": "code",
   "execution_count": 5,
   "outputs": [
    {
     "data": {
      "text/plain": "(           r1     r2     r3\n LBS     1.000  0.243  0.182\n MIT     0.818  0.273  0.034\n YALE    0.853  0.545  0.545\n UNC     0.818  0.000  0.000\n TOR     1.000  0.000  0.000\n UCLA    0.273  0.273  0.000\n OXF     0.300  0.182  0.000\n MAR     0.273  0.000  0.000\n CAME    0.273  0.156  0.000\n CBS     1.000  0.668  0.545\n COR     1.000  0.000  0.000\n DUKE    0.945  0.000  0.000\n ESADE   0.182  0.182  0.182\n HARV    1.000  0.818  0.783\n IESA    0.727  0.182  0.182\n INSEAD  0.475  0.182  0.182\n NYU     0.908  0.273  0.000\n NWU     0.818  0.250  0.000\n ROTT    0.182  0.182  0.182\n STAN    1.000  0.818  0.277\n UCB     1.000  0.273  0.000\n CHI     0.818  0.818  0.031\n IOWA    0.436  0.000  0.000\n MICH    1.000  0.000  0.000\n PENN    1.000  0.818  0.624\n ROCH    0.809  0.000  0.000\n VIRG    0.545  0.545  0.216\n UWO     0.455  0.149  0.000\n VAND    0.605  0.000  0.000\n YORK    0.298  0.182  0.182,\n       LBS    MIT   YALE    UNC    TOR   UCLA    OXF    MAR   CAME    CBS  ...  \\\n r1  0.000  0.029  0.000  0.149  0.000  0.191  0.041  0.037  0.505  0.000  ...   \n r2  0.273  0.727  0.455  0.455  0.878  0.727  0.818  1.000  0.727  0.182  ...   \n r3  0.818  0.727  0.455  1.000  1.000  1.000  0.892  1.000  1.000  0.455  ...   \n \n       UCB    CHI   IOWA   MICH   PENN  ROCH   VIRG    UWO   VAND   YORK  \n r1  0.000  0.068  0.075  0.000  0.000   0.0  0.455  0.545  0.273  0.000  \n r2  0.727  0.182  1.000  0.727  0.182   1.0  0.455  0.818  1.000  0.818  \n r3  1.000  0.455  1.000  1.000  0.182   1.0  0.455  1.000  1.000  0.818  \n \n [3 rows x 30 columns])"
     },
     "execution_count": 5,
     "metadata": {},
     "output_type": "execute_result"
    }
   ],
   "source": [
    "preference_indices"
   ],
   "metadata": {
    "collapsed": false,
    "pycharm": {
     "name": "#%%\n"
    }
   }
  },
  {
   "cell_type": "code",
   "execution_count": 6,
   "outputs": [
    {
     "ename": "KeyError",
     "evalue": "'LBS'",
     "output_type": "error",
     "traceback": [
      "\u001B[1;31m---------------------------------------------------------------------------\u001B[0m",
      "\u001B[1;31mKeyError\u001B[0m                                  Traceback (most recent call last)",
      "File \u001B[1;32m~\\AppData\\Local\\Programs\\Python\\Python310\\lib\\site-packages\\pandas\\core\\indexes\\base.py:3621\u001B[0m, in \u001B[0;36mIndex.get_loc\u001B[1;34m(self, key, method, tolerance)\u001B[0m\n\u001B[0;32m   3620\u001B[0m \u001B[38;5;28;01mtry\u001B[39;00m:\n\u001B[1;32m-> 3621\u001B[0m     \u001B[38;5;28;01mreturn\u001B[39;00m \u001B[38;5;28;43mself\u001B[39;49m\u001B[38;5;241;43m.\u001B[39;49m\u001B[43m_engine\u001B[49m\u001B[38;5;241;43m.\u001B[39;49m\u001B[43mget_loc\u001B[49m\u001B[43m(\u001B[49m\u001B[43mcasted_key\u001B[49m\u001B[43m)\u001B[49m\n\u001B[0;32m   3622\u001B[0m \u001B[38;5;28;01mexcept\u001B[39;00m \u001B[38;5;167;01mKeyError\u001B[39;00m \u001B[38;5;28;01mas\u001B[39;00m err:\n",
      "File \u001B[1;32m~\\AppData\\Local\\Programs\\Python\\Python310\\lib\\site-packages\\pandas\\_libs\\index.pyx:136\u001B[0m, in \u001B[0;36mpandas._libs.index.IndexEngine.get_loc\u001B[1;34m()\u001B[0m\n",
      "File \u001B[1;32m~\\AppData\\Local\\Programs\\Python\\Python310\\lib\\site-packages\\pandas\\_libs\\index.pyx:163\u001B[0m, in \u001B[0;36mpandas._libs.index.IndexEngine.get_loc\u001B[1;34m()\u001B[0m\n",
      "File \u001B[1;32mpandas\\_libs\\hashtable_class_helper.pxi:5198\u001B[0m, in \u001B[0;36mpandas._libs.hashtable.PyObjectHashTable.get_item\u001B[1;34m()\u001B[0m\n",
      "File \u001B[1;32mpandas\\_libs\\hashtable_class_helper.pxi:5206\u001B[0m, in \u001B[0;36mpandas._libs.hashtable.PyObjectHashTable.get_item\u001B[1;34m()\u001B[0m\n",
      "\u001B[1;31mKeyError\u001B[0m: 'LBS'",
      "\nThe above exception was the direct cause of the following exception:\n",
      "\u001B[1;31mKeyError\u001B[0m                                  Traceback (most recent call last)",
      "Input \u001B[1;32mIn [6]\u001B[0m, in \u001B[0;36m<cell line: 3>\u001B[1;34m()\u001B[0m\n\u001B[0;32m      1\u001B[0m \u001B[38;5;66;03m## Discordance\u001B[39;00m\n\u001B[0;32m      2\u001B[0m tau \u001B[38;5;241m=\u001B[39m \u001B[38;5;241m1\u001B[39m\n\u001B[1;32m----> 3\u001B[0m discordance, partial_discordance, overall_preference \u001B[38;5;241m=\u001B[39m \u001B[43mcompute_discordance\u001B[49m\u001B[43m(\u001B[49m\u001B[43mcriteria\u001B[49m\u001B[43m,\u001B[49m\n\u001B[0;32m      4\u001B[0m \u001B[43m                                                       \u001B[49m\u001B[43mpartial_preference_indices\u001B[49m\u001B[43m,\u001B[49m\u001B[43m \u001B[49m\u001B[43mtau\u001B[49m\u001B[43m,\u001B[49m\n\u001B[0;32m      5\u001B[0m \u001B[43m                                                       \u001B[49m\u001B[43mpreferences\u001B[49m\u001B[38;5;241;43m=\u001B[39;49m\u001B[43mpreference_indices\u001B[49m\u001B[43m,\u001B[49m\n\u001B[0;32m      6\u001B[0m \u001B[43m                                                        \u001B[49m\u001B[43mwere_categories_profiles\u001B[49m\u001B[38;5;241;43m=\u001B[39;49m\u001B[38;5;28;43;01mTrue\u001B[39;49;00m\u001B[43m)\u001B[49m\n\u001B[0;32m      7\u001B[0m partial_discordance\n",
      "File \u001B[1;32m~\\PUT\\Inzynierka\\Construct-your-own-PROMETHEE-with-Python-for-MCDA\\modular_parts\\preference\\M6_PrometheeDiscordance.py:82\u001B[0m, in \u001B[0;36mcompute_discordance\u001B[1;34m(criteria, partial_preferences, tau, decimal_place, preferences, were_categories_profiles)\u001B[0m\n\u001B[0;32m     80\u001B[0m \u001B[38;5;66;03m# check whether to calculate overall preference\u001B[39;00m\n\u001B[0;32m     81\u001B[0m \u001B[38;5;28;01mif\u001B[39;00m preferences \u001B[38;5;129;01mis\u001B[39;00m \u001B[38;5;129;01mnot\u001B[39;00m \u001B[38;5;28;01mNone\u001B[39;00m:\n\u001B[1;32m---> 82\u001B[0m     \u001B[38;5;28;01mreturn\u001B[39;00m discordance, partial_discordance, \u001B[43moverall_preference\u001B[49m\u001B[43m(\u001B[49m\n\u001B[0;32m     83\u001B[0m \u001B[43m        \u001B[49m\u001B[43mpreferences\u001B[49m\u001B[43m,\u001B[49m\u001B[43m \u001B[49m\u001B[43mdiscordance\u001B[49m\u001B[43m,\u001B[49m\u001B[43m \u001B[49m\u001B[43mwere_categories_profiles\u001B[49m\u001B[43m,\u001B[49m\u001B[43m \u001B[49m\u001B[43mdecimal_place\u001B[49m\u001B[43m)\u001B[49m\n\u001B[0;32m     84\u001B[0m \u001B[38;5;28;01melse\u001B[39;00m:\n\u001B[0;32m     85\u001B[0m     \u001B[38;5;28;01mreturn\u001B[39;00m discordance, partial_discordance\n",
      "File \u001B[1;32m~\\PUT\\Inzynierka\\Construct-your-own-PROMETHEE-with-Python-for-MCDA\\core\\preference_commons.py:294\u001B[0m, in \u001B[0;36moverall_preference\u001B[1;34m(preferences, discordances, profiles, decimal_place)\u001B[0m\n\u001B[0;32m    292\u001B[0m         \u001B[38;5;28;01mfor\u001B[39;00m n \u001B[38;5;129;01min\u001B[39;00m discordance\u001B[38;5;241m.\u001B[39mindex:\n\u001B[0;32m    293\u001B[0m             \u001B[38;5;28;01mfor\u001B[39;00m i \u001B[38;5;129;01min\u001B[39;00m discordance\u001B[38;5;241m.\u001B[39mcolumns:\n\u001B[1;32m--> 294\u001B[0m                 discordance[n][i] \u001B[38;5;241m=\u001B[39m \u001B[38;5;241m1\u001B[39m \u001B[38;5;241m-\u001B[39m \u001B[43mdiscordance\u001B[49m\u001B[43m[\u001B[49m\u001B[43mn\u001B[49m\u001B[43m]\u001B[49m[i]\n\u001B[0;32m    295\u001B[0m     overall_preferences \u001B[38;5;241m=\u001B[39m (preferences[\u001B[38;5;241m0\u001B[39m] \u001B[38;5;241m*\u001B[39m discordances_copy[\u001B[38;5;241m0\u001B[39m],\n\u001B[0;32m    296\u001B[0m                            preferences[\u001B[38;5;241m1\u001B[39m] \u001B[38;5;241m*\u001B[39m discordances_copy[\u001B[38;5;241m1\u001B[39m])\n\u001B[0;32m    297\u001B[0m \u001B[38;5;28;01melse\u001B[39;00m:\n\u001B[0;32m    298\u001B[0m     \u001B[38;5;66;03m# calculating overall preference\u001B[39;00m\n",
      "File \u001B[1;32m~\\AppData\\Local\\Programs\\Python\\Python310\\lib\\site-packages\\pandas\\core\\frame.py:3505\u001B[0m, in \u001B[0;36mDataFrame.__getitem__\u001B[1;34m(self, key)\u001B[0m\n\u001B[0;32m   3503\u001B[0m \u001B[38;5;28;01mif\u001B[39;00m \u001B[38;5;28mself\u001B[39m\u001B[38;5;241m.\u001B[39mcolumns\u001B[38;5;241m.\u001B[39mnlevels \u001B[38;5;241m>\u001B[39m \u001B[38;5;241m1\u001B[39m:\n\u001B[0;32m   3504\u001B[0m     \u001B[38;5;28;01mreturn\u001B[39;00m \u001B[38;5;28mself\u001B[39m\u001B[38;5;241m.\u001B[39m_getitem_multilevel(key)\n\u001B[1;32m-> 3505\u001B[0m indexer \u001B[38;5;241m=\u001B[39m \u001B[38;5;28;43mself\u001B[39;49m\u001B[38;5;241;43m.\u001B[39;49m\u001B[43mcolumns\u001B[49m\u001B[38;5;241;43m.\u001B[39;49m\u001B[43mget_loc\u001B[49m\u001B[43m(\u001B[49m\u001B[43mkey\u001B[49m\u001B[43m)\u001B[49m\n\u001B[0;32m   3506\u001B[0m \u001B[38;5;28;01mif\u001B[39;00m is_integer(indexer):\n\u001B[0;32m   3507\u001B[0m     indexer \u001B[38;5;241m=\u001B[39m [indexer]\n",
      "File \u001B[1;32m~\\AppData\\Local\\Programs\\Python\\Python310\\lib\\site-packages\\pandas\\core\\indexes\\base.py:3623\u001B[0m, in \u001B[0;36mIndex.get_loc\u001B[1;34m(self, key, method, tolerance)\u001B[0m\n\u001B[0;32m   3621\u001B[0m     \u001B[38;5;28;01mreturn\u001B[39;00m \u001B[38;5;28mself\u001B[39m\u001B[38;5;241m.\u001B[39m_engine\u001B[38;5;241m.\u001B[39mget_loc(casted_key)\n\u001B[0;32m   3622\u001B[0m \u001B[38;5;28;01mexcept\u001B[39;00m \u001B[38;5;167;01mKeyError\u001B[39;00m \u001B[38;5;28;01mas\u001B[39;00m err:\n\u001B[1;32m-> 3623\u001B[0m     \u001B[38;5;28;01mraise\u001B[39;00m \u001B[38;5;167;01mKeyError\u001B[39;00m(key) \u001B[38;5;28;01mfrom\u001B[39;00m \u001B[38;5;21;01merr\u001B[39;00m\n\u001B[0;32m   3624\u001B[0m \u001B[38;5;28;01mexcept\u001B[39;00m \u001B[38;5;167;01mTypeError\u001B[39;00m:\n\u001B[0;32m   3625\u001B[0m     \u001B[38;5;66;03m# If we have a listlike key, _check_indexing_error will raise\u001B[39;00m\n\u001B[0;32m   3626\u001B[0m     \u001B[38;5;66;03m#  InvalidIndexError. Otherwise we fall through and re-raise\u001B[39;00m\n\u001B[0;32m   3627\u001B[0m     \u001B[38;5;66;03m#  the TypeError.\u001B[39;00m\n\u001B[0;32m   3628\u001B[0m     \u001B[38;5;28mself\u001B[39m\u001B[38;5;241m.\u001B[39m_check_indexing_error(key)\n",
      "\u001B[1;31mKeyError\u001B[0m: 'LBS'"
     ]
    }
   ],
   "source": [
    "## Discordance\n",
    "tau = 1\n",
    "discordance, partial_discordance, overall_preference = compute_discordance(criteria,\n",
    "                                                       partial_preference_indices, tau,\n",
    "                                                       preferences=preference_indices,\n",
    "                                                        were_categories_profiles=True)\n",
    "partial_discordance\n",
    "# partial_discordance.loc[\"g1\"]\n",
    "### Overall Preference\n"
   ],
   "metadata": {
    "collapsed": false,
    "pycharm": {
     "name": "#%%\n"
    }
   }
  },
  {
   "cell_type": "code",
   "execution_count": null,
   "outputs": [],
   "source": [
    "discordance  # widzi star wartosc"
   ],
   "metadata": {
    "collapsed": false,
    "pycharm": {
     "name": "#%%\n"
    }
   }
  },
  {
   "cell_type": "code",
   "execution_count": 8,
   "outputs": [
    {
     "data": {
      "text/plain": "(     r1   r2   r3\n r1  0.0  0.0  0.0\n r2  1.0  0.0  0.0\n r3  1.0  1.0  0.0,\n      r1   r2   r3\n r1  0.0  0.0  0.0\n r2  1.0  0.0  0.0\n r3  1.0  1.0  0.0)"
     },
     "execution_count": 8,
     "metadata": {},
     "output_type": "execute_result"
    }
   ],
   "source": [
    "discordance_prof, partial_discordance_prof, overall_preference_prof = compute_discordance(criteria,\n",
    "                                                       partial_preference_indices_profiles, tau,\n",
    "                                                       preferences=preference_indices_profiles,\n",
    "                                                        were_categories_profiles=True)\n",
    "overall_preference_prof"
   ],
   "metadata": {
    "collapsed": false,
    "pycharm": {
     "name": "#%%\n"
    }
   }
  },
  {
   "cell_type": "code",
   "execution_count": null,
   "outputs": [],
   "source": [],
   "metadata": {
    "collapsed": false,
    "pycharm": {
     "name": "#%%\n"
    }
   }
  },
  {
   "cell_type": "code",
   "execution_count": 10,
   "outputs": [
    {
     "ename": "NameError",
     "evalue": "name 'overall_preference' is not defined",
     "output_type": "error",
     "traceback": [
      "\u001B[1;31m---------------------------------------------------------------------------\u001B[0m",
      "\u001B[1;31mNameError\u001B[0m                                 Traceback (most recent call last)",
      "Input \u001B[1;32mIn [10]\u001B[0m, in \u001B[0;36m<cell line: 1>\u001B[1;34m()\u001B[0m\n\u001B[1;32m----> 1\u001B[0m flows_alter \u001B[38;5;241m=\u001B[39m calculate_promethee_outranking_flows(\u001B[43moverall_preference\u001B[49m, FlowType\u001B[38;5;241m.\u001B[39mPROMETHEE_I)\n",
      "\u001B[1;31mNameError\u001B[0m: name 'overall_preference' is not defined"
     ]
    }
   ],
   "source": [
    "\n",
    "\n",
    "flows_alter = calculate_promethee_outranking_flows(overall_preference, FlowType.PROMETHEE_I)"
   ],
   "metadata": {
    "collapsed": false,
    "pycharm": {
     "name": "#%%\n"
    }
   }
  },
  {
   "cell_type": "code",
   "execution_count": 9,
   "outputs": [
    {
     "data": {
      "text/plain": "    positive  negative\nr1  0.000000  0.666667\nr2  0.333333  0.333333\nr3  0.666667  0.000000",
      "text/html": "<div>\n<style scoped>\n    .dataframe tbody tr th:only-of-type {\n        vertical-align: middle;\n    }\n\n    .dataframe tbody tr th {\n        vertical-align: top;\n    }\n\n    .dataframe thead th {\n        text-align: right;\n    }\n</style>\n<table border=\"1\" class=\"dataframe\">\n  <thead>\n    <tr style=\"text-align: right;\">\n      <th></th>\n      <th>positive</th>\n      <th>negative</th>\n    </tr>\n  </thead>\n  <tbody>\n    <tr>\n      <th>r1</th>\n      <td>0.000000</td>\n      <td>0.666667</td>\n    </tr>\n    <tr>\n      <th>r2</th>\n      <td>0.333333</td>\n      <td>0.333333</td>\n    </tr>\n    <tr>\n      <th>r3</th>\n      <td>0.666667</td>\n      <td>0.000000</td>\n    </tr>\n  </tbody>\n</table>\n</div>"
     },
     "execution_count": 9,
     "metadata": {},
     "output_type": "execute_result"
    }
   ],
   "source": [
    "\n",
    "\n",
    "flows_profiles = calculate_promethee_outranking_flows(overall_preference_prof, FlowType.PROMETHEE_I)\n",
    "flows_profiles"
   ],
   "metadata": {
    "collapsed": false,
    "pycharm": {
     "name": "#%%\n"
    }
   }
  },
  {
   "cell_type": "code",
   "execution_count": null,
   "outputs": [],
   "source": [],
   "metadata": {
    "collapsed": false,
    "pycharm": {
     "name": "#%%\n"
    }
   }
  }
 ],
 "metadata": {
  "kernelspec": {
   "display_name": "Python 3",
   "language": "python",
   "name": "python3"
  },
  "language_info": {
   "codemirror_mode": {
    "name": "ipython",
    "version": 2
   },
   "file_extension": ".py",
   "mimetype": "text/x-python",
   "name": "python",
   "nbconvert_exporter": "python",
   "pygments_lexer": "ipython2",
   "version": "2.7.6"
  }
 },
 "nbformat": 4,
 "nbformat_minor": 0
}