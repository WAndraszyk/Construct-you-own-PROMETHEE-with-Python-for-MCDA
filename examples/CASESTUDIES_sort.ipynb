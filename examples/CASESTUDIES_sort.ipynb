{
 "cells": [
  {
   "cell_type": "code",
   "execution_count": 30,
   "metadata": {
    "collapsed": true,
    "pycharm": {
     "name": "#%%\n"
    }
   },
   "outputs": [
    {
     "data": {
      "text/plain": "           g1     g2     g3\nLBS     68.78  62.03  59.87\nMIT     60.01  24.10  85.81\nYALE    79.01  25.98  51.84\nUNC     67.80  22.45  62.40\nTOR     59.34  36.68  60.79\nUCLA    55.46  21.52  74.54\nOXF     57.04  43.49  47.12\nMAR     55.33  25.28  64.13\nCAME    54.02  18.69  71.93\nCBS     83.44  32.94  71.63\nCOR     60.54  30.31  55.99\nDUKE    64.05  27.25  64.68\nESADE   54.61  60.15  14.45\nHARV    77.84  29.05  93.91\nIESA    61.99  54.61  40.04\nINSEAD  56.59  70.74  65.45\nNYU     68.24  26.74  80.40\nNWU     68.68  24.52  72.43\nROTT    51.20  52.91  42.98\nSTAN    76.77  28.52  81.80\nUCB     61.26  31.04  73.69\nCHI     75.64  23.57  77.73\nIOWA    58.25  26.25  46.81\nMICH    63.23  28.36  69.61\nPENN    77.11  31.51  91.59\nROCH    60.25  29.60  49.25\nVIRG    76.49  19.05  37.68\nUWO     50.04  40.55  53.55\nVAND    64.67  26.33  35.14\nYORK    57.03  50.73  47.55",
      "text/html": "<div>\n<style scoped>\n    .dataframe tbody tr th:only-of-type {\n        vertical-align: middle;\n    }\n\n    .dataframe tbody tr th {\n        vertical-align: top;\n    }\n\n    .dataframe thead th {\n        text-align: right;\n    }\n</style>\n<table border=\"1\" class=\"dataframe\">\n  <thead>\n    <tr style=\"text-align: right;\">\n      <th></th>\n      <th>g1</th>\n      <th>g2</th>\n      <th>g3</th>\n    </tr>\n  </thead>\n  <tbody>\n    <tr>\n      <th>LBS</th>\n      <td>68.78</td>\n      <td>62.03</td>\n      <td>59.87</td>\n    </tr>\n    <tr>\n      <th>MIT</th>\n      <td>60.01</td>\n      <td>24.10</td>\n      <td>85.81</td>\n    </tr>\n    <tr>\n      <th>YALE</th>\n      <td>79.01</td>\n      <td>25.98</td>\n      <td>51.84</td>\n    </tr>\n    <tr>\n      <th>UNC</th>\n      <td>67.80</td>\n      <td>22.45</td>\n      <td>62.40</td>\n    </tr>\n    <tr>\n      <th>TOR</th>\n      <td>59.34</td>\n      <td>36.68</td>\n      <td>60.79</td>\n    </tr>\n    <tr>\n      <th>UCLA</th>\n      <td>55.46</td>\n      <td>21.52</td>\n      <td>74.54</td>\n    </tr>\n    <tr>\n      <th>OXF</th>\n      <td>57.04</td>\n      <td>43.49</td>\n      <td>47.12</td>\n    </tr>\n    <tr>\n      <th>MAR</th>\n      <td>55.33</td>\n      <td>25.28</td>\n      <td>64.13</td>\n    </tr>\n    <tr>\n      <th>CAME</th>\n      <td>54.02</td>\n      <td>18.69</td>\n      <td>71.93</td>\n    </tr>\n    <tr>\n      <th>CBS</th>\n      <td>83.44</td>\n      <td>32.94</td>\n      <td>71.63</td>\n    </tr>\n    <tr>\n      <th>COR</th>\n      <td>60.54</td>\n      <td>30.31</td>\n      <td>55.99</td>\n    </tr>\n    <tr>\n      <th>DUKE</th>\n      <td>64.05</td>\n      <td>27.25</td>\n      <td>64.68</td>\n    </tr>\n    <tr>\n      <th>ESADE</th>\n      <td>54.61</td>\n      <td>60.15</td>\n      <td>14.45</td>\n    </tr>\n    <tr>\n      <th>HARV</th>\n      <td>77.84</td>\n      <td>29.05</td>\n      <td>93.91</td>\n    </tr>\n    <tr>\n      <th>IESA</th>\n      <td>61.99</td>\n      <td>54.61</td>\n      <td>40.04</td>\n    </tr>\n    <tr>\n      <th>INSEAD</th>\n      <td>56.59</td>\n      <td>70.74</td>\n      <td>65.45</td>\n    </tr>\n    <tr>\n      <th>NYU</th>\n      <td>68.24</td>\n      <td>26.74</td>\n      <td>80.40</td>\n    </tr>\n    <tr>\n      <th>NWU</th>\n      <td>68.68</td>\n      <td>24.52</td>\n      <td>72.43</td>\n    </tr>\n    <tr>\n      <th>ROTT</th>\n      <td>51.20</td>\n      <td>52.91</td>\n      <td>42.98</td>\n    </tr>\n    <tr>\n      <th>STAN</th>\n      <td>76.77</td>\n      <td>28.52</td>\n      <td>81.80</td>\n    </tr>\n    <tr>\n      <th>UCB</th>\n      <td>61.26</td>\n      <td>31.04</td>\n      <td>73.69</td>\n    </tr>\n    <tr>\n      <th>CHI</th>\n      <td>75.64</td>\n      <td>23.57</td>\n      <td>77.73</td>\n    </tr>\n    <tr>\n      <th>IOWA</th>\n      <td>58.25</td>\n      <td>26.25</td>\n      <td>46.81</td>\n    </tr>\n    <tr>\n      <th>MICH</th>\n      <td>63.23</td>\n      <td>28.36</td>\n      <td>69.61</td>\n    </tr>\n    <tr>\n      <th>PENN</th>\n      <td>77.11</td>\n      <td>31.51</td>\n      <td>91.59</td>\n    </tr>\n    <tr>\n      <th>ROCH</th>\n      <td>60.25</td>\n      <td>29.60</td>\n      <td>49.25</td>\n    </tr>\n    <tr>\n      <th>VIRG</th>\n      <td>76.49</td>\n      <td>19.05</td>\n      <td>37.68</td>\n    </tr>\n    <tr>\n      <th>UWO</th>\n      <td>50.04</td>\n      <td>40.55</td>\n      <td>53.55</td>\n    </tr>\n    <tr>\n      <th>VAND</th>\n      <td>64.67</td>\n      <td>26.33</td>\n      <td>35.14</td>\n    </tr>\n    <tr>\n      <th>YORK</th>\n      <td>57.03</td>\n      <td>50.73</td>\n      <td>47.55</td>\n    </tr>\n  </tbody>\n</table>\n</div>"
     },
     "execution_count": 30,
     "metadata": {},
     "output_type": "execute_result"
    }
   ],
   "source": [
    "from modular_parts.weights import surrogate_weights\n",
    "## Definition of inputs and problem formalization\n",
    "import pandas as pd\n",
    "from core.enums import Direction, GeneralCriterion, SurrogateMethod\n",
    "from modular_parts.preference import (compute_preference_indices,\n",
    "                                      compute_discordance)\n",
    "from modular_parts.flows import calculate_promethee_outranking_flows\n",
    "from core.enums import FlowType\n",
    "alternatives = [\"LBS\", \"MIT\", \"YALE\", \"UNC\", \"TOR\", \"UCLA\", \"OXF\", \"MAR\",\n",
    "                \"CAME\",\n",
    "                \"CBS\", \"COR\", \"DUKE\", \"ESADE\", \"HARV\", \"IESA\", \"INSEAD\",\n",
    "                \"NYU\",\n",
    "                \"NWU\", \"ROTT\", \"STAN\", \"UCB\", \"CHI\", \"IOWA\", \"MICH\", \"PENN\",\n",
    "                \"ROCH\",\n",
    "                \"VIRG\", \"UWO\", \"VAND\", \"YORK\"]\n",
    "criteria = ['g1', 'g2', 'g3']\n",
    "criteria_directions = [Direction.MAX, Direction.MAX, Direction.MAX]\n",
    "\n",
    "criteria_weights = surrogate_weights(pd.Series([1,3,2],criteria), SurrogateMethod.RR)\n",
    "generalised_criteria = [GeneralCriterion.V_SHAPE_INDIFFERENCE,\n",
    "                        GeneralCriterion.V_SHAPE_INDIFFERENCE,\n",
    "                        GeneralCriterion.V_SHAPE_INDIFFERENCE]\n",
    "preference_thresholds = [3, 3, 3]\n",
    "indifference_thresholds = [0.5, 0.5, 0.5]\n",
    "alternatives_performances = [[68.78, 62.03, 59.87],\n",
    "                             [60.01, 24.1, 85.81],\n",
    "                             [79.01, 25.98, 51.84],\n",
    "                             [67.8, 22.45, 62.4],\n",
    "                             [59.34, 36.68, 60.79],\n",
    "                             [55.46, 21.52, 74.54],\n",
    "                             [57.04, 43.49, 47.12],\n",
    "                             [55.33, 25.28, 64.13],\n",
    "                             [54.02, 18.69, 71.93],\n",
    "                             [83.44, 32.94, 71.63],\n",
    "                             [60.54, 30.31, 55.99],\n",
    "                             [64.05, 27.25, 64.68],\n",
    "                             [54.61, 60.15, 14.45],\n",
    "                             [77.84, 29.05, 93.91],\n",
    "                             [61.99, 54.61, 40.04],\n",
    "                             [56.59, 70.74, 65.45],\n",
    "                             [68.24, 26.74, 80.4],\n",
    "                             [68.68, 24.52, 72.43],\n",
    "                             [51.2, 52.91, 42.98],\n",
    "                             [76.77, 28.52, 81.8],\n",
    "                             [61.26, 31.04, 73.69],\n",
    "                             [75.64, 23.57, 77.73],\n",
    "                             [58.25, 26.25, 46.81],\n",
    "                             [63.23, 28.36, 69.61],\n",
    "                             [77.11, 31.51, 91.59],\n",
    "                             [60.25, 29.6, 49.25],\n",
    "                             [76.49, 19.05, 37.68],\n",
    "                             [50.04, 40.55, 53.55],\n",
    "                             [64.67, 26.33, 35.14],\n",
    "                             [57.03, 50.73, 47.55],\n",
    "                             ]\n",
    "\n",
    "criteria_directions = pd.Series(criteria_directions, criteria)\n",
    "generalised_criteria = pd.Series(generalised_criteria, criteria)\n",
    "preference_thresholds = pd.Series(preference_thresholds, criteria)\n",
    "indifference_thresholds = pd.Series(indifference_thresholds, criteria)\n",
    "\n",
    "alternatives_performances = pd.DataFrame(data=alternatives_performances,\n",
    "                                         index=alternatives, columns=criteria)\n",
    "\n",
    "alternatives_performances"
   ]
  },
  {
   "cell_type": "code",
   "execution_count": 15,
   "outputs": [
    {
     "data": {
      "text/plain": "    g1  g2  g3\nr1  56  25  48\nr2  68  38  70\nr3  75  45  85",
      "text/html": "<div>\n<style scoped>\n    .dataframe tbody tr th:only-of-type {\n        vertical-align: middle;\n    }\n\n    .dataframe tbody tr th {\n        vertical-align: top;\n    }\n\n    .dataframe thead th {\n        text-align: right;\n    }\n</style>\n<table border=\"1\" class=\"dataframe\">\n  <thead>\n    <tr style=\"text-align: right;\">\n      <th></th>\n      <th>g1</th>\n      <th>g2</th>\n      <th>g3</th>\n    </tr>\n  </thead>\n  <tbody>\n    <tr>\n      <th>r1</th>\n      <td>56</td>\n      <td>25</td>\n      <td>48</td>\n    </tr>\n    <tr>\n      <th>r2</th>\n      <td>68</td>\n      <td>38</td>\n      <td>70</td>\n    </tr>\n    <tr>\n      <th>r3</th>\n      <td>75</td>\n      <td>45</td>\n      <td>85</td>\n    </tr>\n  </tbody>\n</table>\n</div>"
     },
     "execution_count": 15,
     "metadata": {},
     "output_type": "execute_result"
    }
   ],
   "source": [
    "categories = [f\"C{i}\" for i in range(1, 4)]\n",
    "profiles = [f\"r{i}\" for i in range(1, 4)]\n",
    "category_profiles_performances = pd.DataFrame([[56,25,48], [68,38,70], [75,45,85]],\n",
    "                                               index=profiles, columns=criteria)\n",
    "category_profiles_performances"
   ],
   "metadata": {
    "collapsed": false,
    "pycharm": {
     "name": "#%%\n"
    }
   }
  },
  {
   "cell_type": "code",
   "execution_count": 26,
   "outputs": [
    {
     "name": "stderr",
     "output_type": "stream",
     "text": [
      "C:\\Users\\teba_sgrabowski\\AppData\\Local\\Temp\\ipykernel_21508\\3993714006.py:4: FutureWarning: The default dtype for empty Series will be 'object' instead of 'float64' in a future version. Specify a dtype explicitly to silence this warning.\n",
      "  pd.Series(data=None, index=criteria), generalised_criteria,\n"
     ]
    },
    {
     "data": {
      "text/plain": "           r1     r2     r3\nLBS     1.000  0.243  0.182\nMIT     0.818  0.273  0.034\nYALE    0.853  0.545  0.545\nUNC     0.818  0.000  0.000\nTOR     1.000  0.000  0.000\nUCLA    0.273  0.273  0.000\nOXF     0.300  0.182  0.000\nMAR     0.273  0.000  0.000\nCAME    0.273  0.156  0.000\nCBS     1.000  0.668  0.545\nCOR     1.000  0.000  0.000\nDUKE    0.945  0.000  0.000\nESADE   0.182  0.182  0.182\nHARV    1.000  0.818  0.783\nIESA    0.727  0.182  0.182\nINSEAD  0.475  0.182  0.182\nNYU     0.908  0.273  0.000\nNWU     0.818  0.250  0.000\nROTT    0.182  0.182  0.182\nSTAN    1.000  0.818  0.277\nUCB     1.000  0.273  0.000\nCHI     0.818  0.818  0.031\nIOWA    0.436  0.000  0.000\nMICH    1.000  0.000  0.000\nPENN    1.000  0.818  0.624\nROCH    0.809  0.000  0.000\nVIRG    0.545  0.545  0.216\nUWO     0.455  0.149  0.000\nVAND    0.605  0.000  0.000\nYORK    0.298  0.182  0.182",
      "text/html": "<div>\n<style scoped>\n    .dataframe tbody tr th:only-of-type {\n        vertical-align: middle;\n    }\n\n    .dataframe tbody tr th {\n        vertical-align: top;\n    }\n\n    .dataframe thead th {\n        text-align: right;\n    }\n</style>\n<table border=\"1\" class=\"dataframe\">\n  <thead>\n    <tr style=\"text-align: right;\">\n      <th></th>\n      <th>r1</th>\n      <th>r2</th>\n      <th>r3</th>\n    </tr>\n  </thead>\n  <tbody>\n    <tr>\n      <th>LBS</th>\n      <td>1.000</td>\n      <td>0.243</td>\n      <td>0.182</td>\n    </tr>\n    <tr>\n      <th>MIT</th>\n      <td>0.818</td>\n      <td>0.273</td>\n      <td>0.034</td>\n    </tr>\n    <tr>\n      <th>YALE</th>\n      <td>0.853</td>\n      <td>0.545</td>\n      <td>0.545</td>\n    </tr>\n    <tr>\n      <th>UNC</th>\n      <td>0.818</td>\n      <td>0.000</td>\n      <td>0.000</td>\n    </tr>\n    <tr>\n      <th>TOR</th>\n      <td>1.000</td>\n      <td>0.000</td>\n      <td>0.000</td>\n    </tr>\n    <tr>\n      <th>UCLA</th>\n      <td>0.273</td>\n      <td>0.273</td>\n      <td>0.000</td>\n    </tr>\n    <tr>\n      <th>OXF</th>\n      <td>0.300</td>\n      <td>0.182</td>\n      <td>0.000</td>\n    </tr>\n    <tr>\n      <th>MAR</th>\n      <td>0.273</td>\n      <td>0.000</td>\n      <td>0.000</td>\n    </tr>\n    <tr>\n      <th>CAME</th>\n      <td>0.273</td>\n      <td>0.156</td>\n      <td>0.000</td>\n    </tr>\n    <tr>\n      <th>CBS</th>\n      <td>1.000</td>\n      <td>0.668</td>\n      <td>0.545</td>\n    </tr>\n    <tr>\n      <th>COR</th>\n      <td>1.000</td>\n      <td>0.000</td>\n      <td>0.000</td>\n    </tr>\n    <tr>\n      <th>DUKE</th>\n      <td>0.945</td>\n      <td>0.000</td>\n      <td>0.000</td>\n    </tr>\n    <tr>\n      <th>ESADE</th>\n      <td>0.182</td>\n      <td>0.182</td>\n      <td>0.182</td>\n    </tr>\n    <tr>\n      <th>HARV</th>\n      <td>1.000</td>\n      <td>0.818</td>\n      <td>0.783</td>\n    </tr>\n    <tr>\n      <th>IESA</th>\n      <td>0.727</td>\n      <td>0.182</td>\n      <td>0.182</td>\n    </tr>\n    <tr>\n      <th>INSEAD</th>\n      <td>0.475</td>\n      <td>0.182</td>\n      <td>0.182</td>\n    </tr>\n    <tr>\n      <th>NYU</th>\n      <td>0.908</td>\n      <td>0.273</td>\n      <td>0.000</td>\n    </tr>\n    <tr>\n      <th>NWU</th>\n      <td>0.818</td>\n      <td>0.250</td>\n      <td>0.000</td>\n    </tr>\n    <tr>\n      <th>ROTT</th>\n      <td>0.182</td>\n      <td>0.182</td>\n      <td>0.182</td>\n    </tr>\n    <tr>\n      <th>STAN</th>\n      <td>1.000</td>\n      <td>0.818</td>\n      <td>0.277</td>\n    </tr>\n    <tr>\n      <th>UCB</th>\n      <td>1.000</td>\n      <td>0.273</td>\n      <td>0.000</td>\n    </tr>\n    <tr>\n      <th>CHI</th>\n      <td>0.818</td>\n      <td>0.818</td>\n      <td>0.031</td>\n    </tr>\n    <tr>\n      <th>IOWA</th>\n      <td>0.436</td>\n      <td>0.000</td>\n      <td>0.000</td>\n    </tr>\n    <tr>\n      <th>MICH</th>\n      <td>1.000</td>\n      <td>0.000</td>\n      <td>0.000</td>\n    </tr>\n    <tr>\n      <th>PENN</th>\n      <td>1.000</td>\n      <td>0.818</td>\n      <td>0.624</td>\n    </tr>\n    <tr>\n      <th>ROCH</th>\n      <td>0.809</td>\n      <td>0.000</td>\n      <td>0.000</td>\n    </tr>\n    <tr>\n      <th>VIRG</th>\n      <td>0.545</td>\n      <td>0.545</td>\n      <td>0.216</td>\n    </tr>\n    <tr>\n      <th>UWO</th>\n      <td>0.455</td>\n      <td>0.149</td>\n      <td>0.000</td>\n    </tr>\n    <tr>\n      <th>VAND</th>\n      <td>0.605</td>\n      <td>0.000</td>\n      <td>0.000</td>\n    </tr>\n    <tr>\n      <th>YORK</th>\n      <td>0.298</td>\n      <td>0.182</td>\n      <td>0.182</td>\n    </tr>\n  </tbody>\n</table>\n</div>"
     },
     "execution_count": 26,
     "metadata": {},
     "output_type": "execute_result"
    }
   ],
   "source": [
    "## Promethee Preference\n",
    "preference_indices, partial_preference_indices = compute_preference_indices(\n",
    "    alternatives_performances, preference_thresholds, indifference_thresholds,\n",
    "    pd.Series(data=None, index=criteria), generalised_criteria,\n",
    "    criteria_directions, criteria_weights, category_profiles_performances)\n",
    "\n",
    "preference_indices[0]\n",
    "# preference_indices[1]\n",
    "# Promethee Discordance\n"
   ],
   "metadata": {
    "collapsed": false,
    "pycharm": {
     "name": "#%%\n"
    }
   }
  },
  {
   "cell_type": "code",
   "execution_count": 27,
   "outputs": [
    {
     "data": {
      "text/plain": "      LBS    MIT   YALE    UNC    TOR   UCLA    OXF    MAR   CAME    CBS  ...  \\\nr1  0.000  0.029  0.000  0.149  0.000  0.191  0.041  0.037  0.505  0.000  ...   \nr2  0.273  0.727  0.455  0.455  0.878  0.727  0.818  1.000  0.727  0.182  ...   \nr3  0.818  0.727  0.455  1.000  1.000  1.000  0.892  1.000  1.000  0.455  ...   \n\n      UCB    CHI   IOWA   MICH   PENN  ROCH   VIRG    UWO   VAND   YORK  \nr1  0.000  0.068  0.075  0.000  0.000   0.0  0.455  0.545  0.273  0.000  \nr2  0.727  0.182  1.000  0.727  0.182   1.0  0.455  0.818  1.000  0.818  \nr3  1.000  0.455  1.000  1.000  0.182   1.0  0.455  1.000  1.000  0.818  \n\n[3 rows x 30 columns]",
      "text/html": "<div>\n<style scoped>\n    .dataframe tbody tr th:only-of-type {\n        vertical-align: middle;\n    }\n\n    .dataframe tbody tr th {\n        vertical-align: top;\n    }\n\n    .dataframe thead th {\n        text-align: right;\n    }\n</style>\n<table border=\"1\" class=\"dataframe\">\n  <thead>\n    <tr style=\"text-align: right;\">\n      <th></th>\n      <th>LBS</th>\n      <th>MIT</th>\n      <th>YALE</th>\n      <th>UNC</th>\n      <th>TOR</th>\n      <th>UCLA</th>\n      <th>OXF</th>\n      <th>MAR</th>\n      <th>CAME</th>\n      <th>CBS</th>\n      <th>...</th>\n      <th>UCB</th>\n      <th>CHI</th>\n      <th>IOWA</th>\n      <th>MICH</th>\n      <th>PENN</th>\n      <th>ROCH</th>\n      <th>VIRG</th>\n      <th>UWO</th>\n      <th>VAND</th>\n      <th>YORK</th>\n    </tr>\n  </thead>\n  <tbody>\n    <tr>\n      <th>r1</th>\n      <td>0.000</td>\n      <td>0.029</td>\n      <td>0.000</td>\n      <td>0.149</td>\n      <td>0.000</td>\n      <td>0.191</td>\n      <td>0.041</td>\n      <td>0.037</td>\n      <td>0.505</td>\n      <td>0.000</td>\n      <td>...</td>\n      <td>0.000</td>\n      <td>0.068</td>\n      <td>0.075</td>\n      <td>0.000</td>\n      <td>0.000</td>\n      <td>0.0</td>\n      <td>0.455</td>\n      <td>0.545</td>\n      <td>0.273</td>\n      <td>0.000</td>\n    </tr>\n    <tr>\n      <th>r2</th>\n      <td>0.273</td>\n      <td>0.727</td>\n      <td>0.455</td>\n      <td>0.455</td>\n      <td>0.878</td>\n      <td>0.727</td>\n      <td>0.818</td>\n      <td>1.000</td>\n      <td>0.727</td>\n      <td>0.182</td>\n      <td>...</td>\n      <td>0.727</td>\n      <td>0.182</td>\n      <td>1.000</td>\n      <td>0.727</td>\n      <td>0.182</td>\n      <td>1.0</td>\n      <td>0.455</td>\n      <td>0.818</td>\n      <td>1.000</td>\n      <td>0.818</td>\n    </tr>\n    <tr>\n      <th>r3</th>\n      <td>0.818</td>\n      <td>0.727</td>\n      <td>0.455</td>\n      <td>1.000</td>\n      <td>1.000</td>\n      <td>1.000</td>\n      <td>0.892</td>\n      <td>1.000</td>\n      <td>1.000</td>\n      <td>0.455</td>\n      <td>...</td>\n      <td>1.000</td>\n      <td>0.455</td>\n      <td>1.000</td>\n      <td>1.000</td>\n      <td>0.182</td>\n      <td>1.0</td>\n      <td>0.455</td>\n      <td>1.000</td>\n      <td>1.000</td>\n      <td>0.818</td>\n    </tr>\n  </tbody>\n</table>\n<p>3 rows × 30 columns</p>\n</div>"
     },
     "execution_count": 27,
     "metadata": {},
     "output_type": "execute_result"
    }
   ],
   "source": [
    "preference_indices[1]"
   ],
   "metadata": {
    "collapsed": false,
    "pycharm": {
     "name": "#%%\n"
    }
   }
  },
  {
   "cell_type": "code",
   "execution_count": 28,
   "outputs": [
    {
     "name": "stderr",
     "output_type": "stream",
     "text": [
      "C:\\Users\\teba_sgrabowski\\AppData\\Local\\Temp\\ipykernel_21508\\387432061.py:3: FutureWarning: The default dtype for empty Series will be 'object' instead of 'float64' in a future version. Specify a dtype explicitly to silence this warning.\n",
      "  pd.Series(data=None, index=criteria), generalised_criteria,\n"
     ]
    },
    {
     "data": {
      "text/plain": "     r1   r2   r3\nr1  0.0  0.0  0.0\nr2  1.0  0.0  0.0\nr3  1.0  1.0  0.0",
      "text/html": "<div>\n<style scoped>\n    .dataframe tbody tr th:only-of-type {\n        vertical-align: middle;\n    }\n\n    .dataframe tbody tr th {\n        vertical-align: top;\n    }\n\n    .dataframe thead th {\n        text-align: right;\n    }\n</style>\n<table border=\"1\" class=\"dataframe\">\n  <thead>\n    <tr style=\"text-align: right;\">\n      <th></th>\n      <th>r1</th>\n      <th>r2</th>\n      <th>r3</th>\n    </tr>\n  </thead>\n  <tbody>\n    <tr>\n      <th>r1</th>\n      <td>0.0</td>\n      <td>0.0</td>\n      <td>0.0</td>\n    </tr>\n    <tr>\n      <th>r2</th>\n      <td>1.0</td>\n      <td>0.0</td>\n      <td>0.0</td>\n    </tr>\n    <tr>\n      <th>r3</th>\n      <td>1.0</td>\n      <td>1.0</td>\n      <td>0.0</td>\n    </tr>\n  </tbody>\n</table>\n</div>"
     },
     "execution_count": 28,
     "metadata": {},
     "output_type": "execute_result"
    }
   ],
   "source": [
    "preference_indices_profiles, partial_preference_indices_profiles = compute_preference_indices(\n",
    "    category_profiles_performances, preference_thresholds, indifference_thresholds,\n",
    "    pd.Series(data=None, index=criteria), generalised_criteria,\n",
    "    criteria_directions, criteria_weights, category_profiles_performances)\n",
    "\n",
    "preference_indices_profiles[0]"
   ],
   "metadata": {
    "collapsed": false,
    "pycharm": {
     "name": "#%%\n"
    }
   }
  },
  {
   "cell_type": "code",
   "execution_count": 29,
   "outputs": [
    {
     "data": {
      "text/plain": "     r1   r2   r3\nr1  0.0  0.0  0.0\nr2  1.0  0.0  0.0\nr3  1.0  1.0  0.0",
      "text/html": "<div>\n<style scoped>\n    .dataframe tbody tr th:only-of-type {\n        vertical-align: middle;\n    }\n\n    .dataframe tbody tr th {\n        vertical-align: top;\n    }\n\n    .dataframe thead th {\n        text-align: right;\n    }\n</style>\n<table border=\"1\" class=\"dataframe\">\n  <thead>\n    <tr style=\"text-align: right;\">\n      <th></th>\n      <th>r1</th>\n      <th>r2</th>\n      <th>r3</th>\n    </tr>\n  </thead>\n  <tbody>\n    <tr>\n      <th>r1</th>\n      <td>0.0</td>\n      <td>0.0</td>\n      <td>0.0</td>\n    </tr>\n    <tr>\n      <th>r2</th>\n      <td>1.0</td>\n      <td>0.0</td>\n      <td>0.0</td>\n    </tr>\n    <tr>\n      <th>r3</th>\n      <td>1.0</td>\n      <td>1.0</td>\n      <td>0.0</td>\n    </tr>\n  </tbody>\n</table>\n</div>"
     },
     "execution_count": 29,
     "metadata": {},
     "output_type": "execute_result"
    }
   ],
   "source": [
    "preference_indices_profiles[1]"
   ],
   "metadata": {
    "collapsed": false,
    "pycharm": {
     "name": "#%%\n"
    }
   }
  },
  {
   "cell_type": "code",
   "execution_count": 18,
   "outputs": [
    {
     "data": {
      "text/plain": "(           r1     r2     r3\n LBS     1.000  0.243  0.182\n MIT     0.818  0.273  0.034\n YALE    0.853  0.545  0.545\n UNC     0.818  0.000  0.000\n TOR     1.000  0.000  0.000\n UCLA    0.273  0.273  0.000\n OXF     0.300  0.182  0.000\n MAR     0.273  0.000  0.000\n CAME    0.273  0.156  0.000\n CBS     1.000  0.668  0.545\n COR     1.000  0.000  0.000\n DUKE    0.945  0.000  0.000\n ESADE   0.182  0.182  0.182\n HARV    1.000  0.818  0.783\n IESA    0.727  0.182  0.182\n INSEAD  0.475  0.182  0.182\n NYU     0.908  0.273  0.000\n NWU     0.818  0.250  0.000\n ROTT    0.182  0.182  0.182\n STAN    1.000  0.818  0.277\n UCB     1.000  0.273  0.000\n CHI     0.818  0.818  0.031\n IOWA    0.436  0.000  0.000\n MICH    1.000  0.000  0.000\n PENN    1.000  0.818  0.624\n ROCH    0.809  0.000  0.000\n VIRG    0.545  0.545  0.216\n UWO     0.455  0.149  0.000\n VAND    0.605  0.000  0.000\n YORK    0.298  0.182  0.182,\n       LBS    MIT   YALE    UNC    TOR   UCLA    OXF    MAR   CAME    CBS  ...  \\\n r1  0.000  0.029  0.000  0.149  0.000  0.191  0.041  0.037  0.505  0.000  ...   \n r2  0.273  0.727  0.455  0.455  0.878  0.727  0.818  1.000  0.727  0.182  ...   \n r3  0.818  0.727  0.455  1.000  1.000  1.000  0.892  1.000  1.000  0.455  ...   \n \n       UCB    CHI   IOWA   MICH   PENN  ROCH   VIRG    UWO   VAND   YORK  \n r1  0.000  0.068  0.075  0.000  0.000   0.0  0.455  0.545  0.273  0.000  \n r2  0.727  0.182  1.000  0.727  0.182   1.0  0.455  0.818  1.000  0.818  \n r3  1.000  0.455  1.000  1.000  0.182   1.0  0.455  1.000  1.000  0.818  \n \n [3 rows x 30 columns])"
     },
     "execution_count": 18,
     "metadata": {},
     "output_type": "execute_result"
    }
   ],
   "source": [
    "preference_indices"
   ],
   "metadata": {
    "collapsed": false,
    "pycharm": {
     "name": "#%%\n"
    }
   }
  },
  {
   "cell_type": "code",
   "execution_count": 19,
   "outputs": [
    {
     "data": {
      "text/plain": "[          r1   r2   r3\n g1 LBS   0.0  0.0  1.0\n    MIT   0.0  1.0  1.0\n    YALE  0.0  0.0  0.0\n    UNC   0.0  0.0  1.0\n    TOR   0.0  1.0  1.0\n ...      ...  ...  ...\n g3 ROCH  0.0  1.0  1.0\n    VIRG  1.0  1.0  1.0\n    UWO   0.0  1.0  1.0\n    VAND  1.0  1.0  1.0\n    YORK  0.0  1.0  1.0\n \n [90 rows x 3 columns],\n          LBS    MIT   YALE  UNC  TOR  UCLA    OXF  MAR   CAME    CBS  ...  \\\n g1 r1  1.000  1.000  1.000  1.0  1.0   0.0  0.216  0.0  0.000  1.000  ...   \n    r2  0.112  0.000  1.000  0.0  0.0   0.0  0.000  0.0  0.000  1.000  ...   \n    r3  0.000  0.000  1.000  0.0  0.0   0.0  0.000  0.0  0.000  1.000  ...   \n g2 r1  1.000  0.000  0.192  0.0  1.0   0.0  1.000  0.0  0.000  1.000  ...   \n    r2  1.000  0.000  0.000  0.0  0.0   0.0  1.000  0.0  0.000  0.000  ...   \n    r3  1.000  0.000  0.000  0.0  0.0   0.0  0.000  0.0  0.000  0.000  ...   \n g3 r1  1.000  1.000  1.000  1.0  1.0   1.0  0.000  1.0  1.000  1.000  ...   \n    r2  0.000  1.000  0.000  0.0  0.0   1.0  0.000  0.0  0.572  0.452  ...   \n    r3  0.000  0.124  0.000  0.0  0.0   0.0  0.000  0.0  0.000  0.000  ...   \n \n        UCB    CHI  IOWA  MICH   PENN  ROCH   VIRG   UWO   VAND   YORK  \n g1 r1  1.0  1.000   0.7   1.0  1.000   1.0  1.000  0.00  1.000  0.212  \n    r2  0.0  1.000   0.0   0.0  1.000   0.0  1.000  0.00  0.000  0.000  \n    r3  0.0  0.056   0.0   0.0  0.644   0.0  0.396  0.00  0.000  0.000  \n g2 r1  1.0  0.000   0.3   1.0  1.000   1.0  0.000  1.00  0.332  1.000  \n    r2  0.0  0.000   0.0   0.0  0.000   0.0  0.000  0.82  0.000  1.000  \n    r3  0.0  0.000   0.0   0.0  0.000   0.0  0.000  0.00  0.000  1.000  \n g3 r1  1.0  1.000   0.0   1.0  1.000   0.3  0.000  1.00  0.000  0.000  \n    r2  1.0  1.000   0.0   0.0  1.000   0.0  0.000  0.00  0.000  0.000  \n    r3  0.0  0.000   0.0   0.0  1.000   0.0  0.000  0.00  0.000  0.000  \n \n [9 rows x 30 columns]]"
     },
     "execution_count": 19,
     "metadata": {},
     "output_type": "execute_result"
    }
   ],
   "source": [
    "## Discordance\n",
    "tau = 1\n",
    "discordance, partial_discordance, overall_preference = compute_discordance(criteria,\n",
    "                                                       partial_preference_indices, tau,\n",
    "                                                       preferences=preference_indices,\n",
    "                                                        were_categories_profiles=True)\n",
    "partial_discordance\n",
    "# partial_discordance.loc[\"g1\"]\n",
    "### Overall Preference\n"
   ],
   "metadata": {
    "collapsed": false,
    "pycharm": {
     "name": "#%%\n"
    }
   }
  },
  {
   "cell_type": "code",
   "execution_count": 20,
   "outputs": [
    {
     "data": {
      "text/plain": "[           r1   r2   r3\n LBS     1.000  0.0  0.0\n MIT     0.944  0.0  0.0\n YALE    1.000  0.0  0.0\n UNC     0.565  0.0  0.0\n TOR     1.000  0.0  0.0\n UCLA    0.000  0.0  0.0\n OXF     0.947  0.0  0.0\n MAR     0.977  0.0  0.0\n CAME    0.000  0.0  0.0\n CBS     1.000  0.0  0.0\n COR     1.000  0.0  0.0\n DUKE    1.000  0.0  0.0\n ESADE   0.000  0.0  0.0\n HARV    1.000  0.0  0.0\n IESA    0.000  0.0  0.0\n INSEAD  1.000  0.0  0.0\n NYU     1.000  0.0  0.0\n NWU     1.000  0.0  0.0\n ROTT    0.000  0.0  0.0\n STAN    1.000  0.0  0.0\n UCB     1.000  0.0  0.0\n CHI     0.856  0.0  0.0\n IOWA    0.898  0.0  0.0\n MICH    1.000  0.0  0.0\n PENN    1.000  0.0  0.0\n ROCH    1.000  0.0  0.0\n VIRG    0.000  0.0  0.0\n UWO     0.000  0.0  0.0\n VAND    0.000  0.0  0.0\n YORK    1.000  0.0  0.0,\n     LBS    MIT  YALE  UNC  TOR  UCLA  OXF  MAR   CAME  CBS  ...  UCB    CHI  \\\n r1  0.0  0.000   0.0  0.0  0.0   0.0  0.0  0.0  0.000  0.0  ...  0.0  0.000   \n r2  0.0  0.000   0.0  1.0  1.0   0.0  0.0  1.0  0.754  0.0  ...  0.0  0.000   \n r3  0.0  0.957   0.0  1.0  1.0   1.0  1.0  1.0  1.000  0.0  ...  1.0  0.981   \n \n      IOWA  MICH  PENN  ROCH   VIRG    UWO  VAND  YORK  \n r1  0.594   0.0   0.0   0.0  0.000  0.000   0.0   0.0  \n r2  1.000   1.0   0.0   1.0  0.000  0.565   1.0   0.0  \n r3  1.000   1.0   0.0   1.0  0.845  1.000   1.0   0.0  \n \n [3 rows x 30 columns]]"
     },
     "execution_count": 20,
     "metadata": {},
     "output_type": "execute_result"
    }
   ],
   "source": [
    "discordance  # widzi star wartosc"
   ],
   "metadata": {
    "collapsed": false,
    "pycharm": {
     "name": "#%%\n"
    }
   }
  },
  {
   "cell_type": "code",
   "execution_count": 21,
   "outputs": [
    {
     "data": {
      "text/plain": "(     r1   r2   r3\n r1  0.0  0.0  0.0\n r2  1.0  0.0  0.0\n r3  1.0  1.0  0.0,\n      r1   r2   r3\n r1  0.0  0.0  0.0\n r2  1.0  0.0  0.0\n r3  1.0  1.0  0.0)"
     },
     "execution_count": 21,
     "metadata": {},
     "output_type": "execute_result"
    }
   ],
   "source": [
    "discordance_prof, partial_discordance_prof, overall_preference_prof = compute_discordance(criteria,\n",
    "                                                       partial_preference_indices_profiles, tau,\n",
    "                                                       preferences=preference_indices_profiles,\n",
    "                                                        were_categories_profiles=True)\n",
    "overall_preference_prof"
   ],
   "metadata": {
    "collapsed": false,
    "pycharm": {
     "name": "#%%\n"
    }
   }
  },
  {
   "cell_type": "code",
   "execution_count": 21,
   "outputs": [],
   "source": [],
   "metadata": {
    "collapsed": false,
    "pycharm": {
     "name": "#%%\n"
    }
   }
  },
  {
   "cell_type": "code",
   "execution_count": 22,
   "outputs": [
    {
     "data": {
      "text/plain": "        positive  negative\nLBS     0.333333  0.000000\nMIT     0.257333  0.232000\nYALE    0.284333  0.000000\nUNC     0.154000  0.485000\nTOR     0.333333  0.626000\nUCLA    0.000000  0.333333\nOXF     0.094667  0.297333\nMAR     0.089000  0.666667\nCAME    0.000000  0.516000\nCBS     0.333333  0.000000\nCOR     0.333333  0.666667\nDUKE    0.315000  0.666667\nESADE   0.000000  0.000000\nHARV    0.333333  0.000000\nIESA    0.000000  0.000000\nINSEAD  0.158333  0.000000\nNYU     0.302667  0.333333\nNWU     0.272667  0.369333\nROTT    0.000000  0.000000\nSTAN    0.333333  0.119667\nUCB     0.333333  0.333333\nCHI     0.233333  0.148667\nIOWA    0.130667  0.681667\nMICH    0.333333  0.575667\nPENN    0.333333  0.000000\nROCH    0.269667  0.666667\nVIRG    0.000000  0.128000\nUWO     0.000000  0.487333\nVAND    0.000000  0.666667\nYORK    0.099333  0.000000",
      "text/html": "<div>\n<style scoped>\n    .dataframe tbody tr th:only-of-type {\n        vertical-align: middle;\n    }\n\n    .dataframe tbody tr th {\n        vertical-align: top;\n    }\n\n    .dataframe thead th {\n        text-align: right;\n    }\n</style>\n<table border=\"1\" class=\"dataframe\">\n  <thead>\n    <tr style=\"text-align: right;\">\n      <th></th>\n      <th>positive</th>\n      <th>negative</th>\n    </tr>\n  </thead>\n  <tbody>\n    <tr>\n      <th>LBS</th>\n      <td>0.333333</td>\n      <td>0.000000</td>\n    </tr>\n    <tr>\n      <th>MIT</th>\n      <td>0.257333</td>\n      <td>0.232000</td>\n    </tr>\n    <tr>\n      <th>YALE</th>\n      <td>0.284333</td>\n      <td>0.000000</td>\n    </tr>\n    <tr>\n      <th>UNC</th>\n      <td>0.154000</td>\n      <td>0.485000</td>\n    </tr>\n    <tr>\n      <th>TOR</th>\n      <td>0.333333</td>\n      <td>0.626000</td>\n    </tr>\n    <tr>\n      <th>UCLA</th>\n      <td>0.000000</td>\n      <td>0.333333</td>\n    </tr>\n    <tr>\n      <th>OXF</th>\n      <td>0.094667</td>\n      <td>0.297333</td>\n    </tr>\n    <tr>\n      <th>MAR</th>\n      <td>0.089000</td>\n      <td>0.666667</td>\n    </tr>\n    <tr>\n      <th>CAME</th>\n      <td>0.000000</td>\n      <td>0.516000</td>\n    </tr>\n    <tr>\n      <th>CBS</th>\n      <td>0.333333</td>\n      <td>0.000000</td>\n    </tr>\n    <tr>\n      <th>COR</th>\n      <td>0.333333</td>\n      <td>0.666667</td>\n    </tr>\n    <tr>\n      <th>DUKE</th>\n      <td>0.315000</td>\n      <td>0.666667</td>\n    </tr>\n    <tr>\n      <th>ESADE</th>\n      <td>0.000000</td>\n      <td>0.000000</td>\n    </tr>\n    <tr>\n      <th>HARV</th>\n      <td>0.333333</td>\n      <td>0.000000</td>\n    </tr>\n    <tr>\n      <th>IESA</th>\n      <td>0.000000</td>\n      <td>0.000000</td>\n    </tr>\n    <tr>\n      <th>INSEAD</th>\n      <td>0.158333</td>\n      <td>0.000000</td>\n    </tr>\n    <tr>\n      <th>NYU</th>\n      <td>0.302667</td>\n      <td>0.333333</td>\n    </tr>\n    <tr>\n      <th>NWU</th>\n      <td>0.272667</td>\n      <td>0.369333</td>\n    </tr>\n    <tr>\n      <th>ROTT</th>\n      <td>0.000000</td>\n      <td>0.000000</td>\n    </tr>\n    <tr>\n      <th>STAN</th>\n      <td>0.333333</td>\n      <td>0.119667</td>\n    </tr>\n    <tr>\n      <th>UCB</th>\n      <td>0.333333</td>\n      <td>0.333333</td>\n    </tr>\n    <tr>\n      <th>CHI</th>\n      <td>0.233333</td>\n      <td>0.148667</td>\n    </tr>\n    <tr>\n      <th>IOWA</th>\n      <td>0.130667</td>\n      <td>0.681667</td>\n    </tr>\n    <tr>\n      <th>MICH</th>\n      <td>0.333333</td>\n      <td>0.575667</td>\n    </tr>\n    <tr>\n      <th>PENN</th>\n      <td>0.333333</td>\n      <td>0.000000</td>\n    </tr>\n    <tr>\n      <th>ROCH</th>\n      <td>0.269667</td>\n      <td>0.666667</td>\n    </tr>\n    <tr>\n      <th>VIRG</th>\n      <td>0.000000</td>\n      <td>0.128000</td>\n    </tr>\n    <tr>\n      <th>UWO</th>\n      <td>0.000000</td>\n      <td>0.487333</td>\n    </tr>\n    <tr>\n      <th>VAND</th>\n      <td>0.000000</td>\n      <td>0.666667</td>\n    </tr>\n    <tr>\n      <th>YORK</th>\n      <td>0.099333</td>\n      <td>0.000000</td>\n    </tr>\n  </tbody>\n</table>\n</div>"
     },
     "execution_count": 22,
     "metadata": {},
     "output_type": "execute_result"
    }
   ],
   "source": [
    "\n",
    "\n",
    "flows_alter = calculate_promethee_outranking_flows(overall_preference, FlowType.PROMETHEE_I)\n",
    "flows_alter"
   ],
   "metadata": {
    "collapsed": false,
    "pycharm": {
     "name": "#%%\n"
    }
   }
  },
  {
   "cell_type": "code",
   "execution_count": 23,
   "outputs": [
    {
     "data": {
      "text/plain": "    positive  negative\nr1  0.000000  0.666667\nr2  0.333333  0.333333\nr3  0.666667  0.000000",
      "text/html": "<div>\n<style scoped>\n    .dataframe tbody tr th:only-of-type {\n        vertical-align: middle;\n    }\n\n    .dataframe tbody tr th {\n        vertical-align: top;\n    }\n\n    .dataframe thead th {\n        text-align: right;\n    }\n</style>\n<table border=\"1\" class=\"dataframe\">\n  <thead>\n    <tr style=\"text-align: right;\">\n      <th></th>\n      <th>positive</th>\n      <th>negative</th>\n    </tr>\n  </thead>\n  <tbody>\n    <tr>\n      <th>r1</th>\n      <td>0.000000</td>\n      <td>0.666667</td>\n    </tr>\n    <tr>\n      <th>r2</th>\n      <td>0.333333</td>\n      <td>0.333333</td>\n    </tr>\n    <tr>\n      <th>r3</th>\n      <td>0.666667</td>\n      <td>0.000000</td>\n    </tr>\n  </tbody>\n</table>\n</div>"
     },
     "execution_count": 23,
     "metadata": {},
     "output_type": "execute_result"
    }
   ],
   "source": [
    "\n",
    "\n",
    "flows_profiles = calculate_promethee_outranking_flows(overall_preference_prof, FlowType.PROMETHEE_I)\n",
    "flows_profiles"
   ],
   "metadata": {
    "collapsed": false,
    "pycharm": {
     "name": "#%%\n"
    }
   }
  },
  {
   "cell_type": "code",
   "execution_count": 24,
   "outputs": [
    {
     "data": {
      "text/plain": "       worse better\nLBS       C2     C3\nMIT       C2     C2\nYALE      C2     C3\nUNC       C1     C2\nTOR       C1     C2\nUCLA      C1     C2\nOXF       C1     C2\nMAR       C1     C1\nCAME      C1     C1\nCBS       C2     C3\nCOR       C1     C2\nDUKE      C1     C2\nESADE     C1     C3\nHARV      C2     C3\nIESA      C1     C3\nINSEAD    C1     C3\nNYU       C2     C2\nNWU       C2     C2\nROTT      C1     C3\nSTAN      C2     C3\nUCB       C2     C2\nCHI       C2     C3\nIOWA      C1     C1\nMICH      C1     C2\nPENN      C2     C3\nROCH      C1     C2\nVIRG      C1     C3\nUWO       C1     C2\nVAND      C1     C1\nYORK      C1     C3",
      "text/html": "<div>\n<style scoped>\n    .dataframe tbody tr th:only-of-type {\n        vertical-align: middle;\n    }\n\n    .dataframe tbody tr th {\n        vertical-align: top;\n    }\n\n    .dataframe thead th {\n        text-align: right;\n    }\n</style>\n<table border=\"1\" class=\"dataframe\">\n  <thead>\n    <tr style=\"text-align: right;\">\n      <th></th>\n      <th>worse</th>\n      <th>better</th>\n    </tr>\n  </thead>\n  <tbody>\n    <tr>\n      <th>LBS</th>\n      <td>C2</td>\n      <td>C3</td>\n    </tr>\n    <tr>\n      <th>MIT</th>\n      <td>C2</td>\n      <td>C2</td>\n    </tr>\n    <tr>\n      <th>YALE</th>\n      <td>C2</td>\n      <td>C3</td>\n    </tr>\n    <tr>\n      <th>UNC</th>\n      <td>C1</td>\n      <td>C2</td>\n    </tr>\n    <tr>\n      <th>TOR</th>\n      <td>C1</td>\n      <td>C2</td>\n    </tr>\n    <tr>\n      <th>UCLA</th>\n      <td>C1</td>\n      <td>C2</td>\n    </tr>\n    <tr>\n      <th>OXF</th>\n      <td>C1</td>\n      <td>C2</td>\n    </tr>\n    <tr>\n      <th>MAR</th>\n      <td>C1</td>\n      <td>C1</td>\n    </tr>\n    <tr>\n      <th>CAME</th>\n      <td>C1</td>\n      <td>C1</td>\n    </tr>\n    <tr>\n      <th>CBS</th>\n      <td>C2</td>\n      <td>C3</td>\n    </tr>\n    <tr>\n      <th>COR</th>\n      <td>C1</td>\n      <td>C2</td>\n    </tr>\n    <tr>\n      <th>DUKE</th>\n      <td>C1</td>\n      <td>C2</td>\n    </tr>\n    <tr>\n      <th>ESADE</th>\n      <td>C1</td>\n      <td>C3</td>\n    </tr>\n    <tr>\n      <th>HARV</th>\n      <td>C2</td>\n      <td>C3</td>\n    </tr>\n    <tr>\n      <th>IESA</th>\n      <td>C1</td>\n      <td>C3</td>\n    </tr>\n    <tr>\n      <th>INSEAD</th>\n      <td>C1</td>\n      <td>C3</td>\n    </tr>\n    <tr>\n      <th>NYU</th>\n      <td>C2</td>\n      <td>C2</td>\n    </tr>\n    <tr>\n      <th>NWU</th>\n      <td>C2</td>\n      <td>C2</td>\n    </tr>\n    <tr>\n      <th>ROTT</th>\n      <td>C1</td>\n      <td>C3</td>\n    </tr>\n    <tr>\n      <th>STAN</th>\n      <td>C2</td>\n      <td>C3</td>\n    </tr>\n    <tr>\n      <th>UCB</th>\n      <td>C2</td>\n      <td>C2</td>\n    </tr>\n    <tr>\n      <th>CHI</th>\n      <td>C2</td>\n      <td>C3</td>\n    </tr>\n    <tr>\n      <th>IOWA</th>\n      <td>C1</td>\n      <td>C1</td>\n    </tr>\n    <tr>\n      <th>MICH</th>\n      <td>C1</td>\n      <td>C2</td>\n    </tr>\n    <tr>\n      <th>PENN</th>\n      <td>C2</td>\n      <td>C3</td>\n    </tr>\n    <tr>\n      <th>ROCH</th>\n      <td>C1</td>\n      <td>C2</td>\n    </tr>\n    <tr>\n      <th>VIRG</th>\n      <td>C1</td>\n      <td>C3</td>\n    </tr>\n    <tr>\n      <th>UWO</th>\n      <td>C1</td>\n      <td>C2</td>\n    </tr>\n    <tr>\n      <th>VAND</th>\n      <td>C1</td>\n      <td>C1</td>\n    </tr>\n    <tr>\n      <th>YORK</th>\n      <td>C1</td>\n      <td>C3</td>\n    </tr>\n  </tbody>\n</table>\n</div>"
     },
     "execution_count": 24,
     "metadata": {},
     "output_type": "execute_result"
    }
   ],
   "source": [
    "from core.enums import CompareProfiles\n",
    "from modular_parts.sorting import calculate_flowsortI_sorted_alternatives\n",
    "\n",
    "flow_sort1 = calculate_flowsortI_sorted_alternatives(categories, category_profiles_performances,\n",
    "                                                     criteria_directions, flows_alter,\n",
    "                                                     flows_profiles, CompareProfiles.CENTRAL_PROFILES)\n",
    "flow_sort1"
   ],
   "metadata": {
    "collapsed": false,
    "pycharm": {
     "name": "#%%\n"
    }
   }
  },
  {
   "cell_type": "code",
   "execution_count": 24,
   "outputs": [],
   "source": [],
   "metadata": {
    "collapsed": false,
    "pycharm": {
     "name": "#%%\n"
    }
   }
  }
 ],
 "metadata": {
  "kernelspec": {
   "display_name": "Python 3",
   "language": "python",
   "name": "python3"
  },
  "language_info": {
   "codemirror_mode": {
    "name": "ipython",
    "version": 2
   },
   "file_extension": ".py",
   "mimetype": "text/x-python",
   "name": "python",
   "nbconvert_exporter": "python",
   "pygments_lexer": "ipython2",
   "version": "2.7.6"
  }
 },
 "nbformat": 4,
 "nbformat_minor": 0
}