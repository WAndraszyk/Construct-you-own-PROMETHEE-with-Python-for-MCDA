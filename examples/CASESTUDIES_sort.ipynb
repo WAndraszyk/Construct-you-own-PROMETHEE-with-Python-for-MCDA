{
 "cells": [
  {
   "cell_type": "code",
   "execution_count": 1,
   "metadata": {
    "collapsed": true
   },
   "outputs": [
    {
     "data": {
      "text/plain": "g1    0.545\ng2    0.182\ng3    0.273\nName: weights, dtype: float64"
     },
     "execution_count": 1,
     "metadata": {},
     "output_type": "execute_result"
    }
   ],
   "source": [
    "from modular_parts.weights import surrogate_weights\n",
    "## Definition of inputs and problem formalization\n",
    "import pandas as pd\n",
    "from core.enums import Direction, GeneralCriterion, SurrogateMethod\n",
    "from modular_parts.preference import (compute_preference_indices,\n",
    "                                      compute_discordance)\n",
    "from modular_parts.flows import calculate_promethee_outranking_flows\n",
    "from core.enums import FlowType\n",
    "\n",
    "alternatives = [\"LBS\", \"MIT\", \"YALE\", \"UNC\", \"TOR\", \"UCLA\", \"OXF\", \"MAR\",\n",
    "                \"CAME\",\n",
    "                \"CBS\", \"COR\", \"DUKE\", \"ESADE\", \"HARV\", \"IESA\", \"INSEAD\",\n",
    "                \"NYU\",\n",
    "                \"NWU\", \"ROTT\", \"STAN\", \"UCB\", \"CHI\", \"IOWA\", \"MICH\", \"PENN\",\n",
    "                \"ROCH\",\n",
    "                \"VIRG\", \"UWO\", \"VAND\", \"YORK\"]\n",
    "criteria = ['g1', 'g2', 'g3']\n",
    "criteria_directions = [Direction.MAX, Direction.MAX, Direction.MAX]\n",
    "\n",
    "criteria_weights = surrogate_weights(pd.Series([1, 3, 2], criteria),\n",
    "                                     SurrogateMethod.RR)\n",
    "generalised_criteria = [GeneralCriterion.V_SHAPE_INDIFFERENCE,\n",
    "                        GeneralCriterion.V_SHAPE_INDIFFERENCE,\n",
    "                        GeneralCriterion.V_SHAPE_INDIFFERENCE]\n",
    "preference_thresholds = [3, 3, 3]\n",
    "indifference_thresholds = [0.5, 0.5, 0.5]\n",
    "alternatives_performances = [[68.78, 62.03, 59.87],\n",
    "                             [60.01, 24.1, 85.81],\n",
    "                             [79.01, 25.98, 51.84],\n",
    "                             [67.8, 22.45, 62.4],\n",
    "                             [59.34, 36.68, 60.79],\n",
    "                             [55.46, 21.52, 74.54],\n",
    "                             [57.04, 43.49, 47.12],\n",
    "                             [55.33, 25.28, 64.13],\n",
    "                             [54.02, 18.69, 71.93],\n",
    "                             [83.44, 32.94, 71.63],\n",
    "                             [60.54, 30.31, 55.99],\n",
    "                             [64.05, 27.25, 64.68],\n",
    "                             [54.61, 60.15, 14.45],\n",
    "                             [77.84, 29.05, 93.91],\n",
    "                             [61.99, 54.61, 40.04],\n",
    "                             [56.59, 70.74, 65.45],\n",
    "                             [68.24, 26.74, 80.4],\n",
    "                             [68.68, 24.52, 72.43],\n",
    "                             [51.2, 52.91, 42.98],\n",
    "                             [76.77, 28.52, 81.8],\n",
    "                             [61.26, 31.04, 73.69],\n",
    "                             [75.64, 23.57, 77.73],\n",
    "                             [58.25, 26.25, 46.81],\n",
    "                             [63.23, 28.36, 69.61],\n",
    "                             [77.11, 31.51, 91.59],\n",
    "                             [60.25, 29.6, 49.25],\n",
    "                             [76.49, 19.05, 37.68],\n",
    "                             [50.04, 40.55, 53.55],\n",
    "                             [64.67, 26.33, 35.14],\n",
    "                             [57.03, 50.73, 47.55],\n",
    "                             ]\n",
    "\n",
    "criteria_directions = pd.Series(criteria_directions, criteria)\n",
    "generalised_criteria = pd.Series(generalised_criteria, criteria)\n",
    "preference_thresholds = pd.Series(preference_thresholds, criteria)\n",
    "indifference_thresholds = pd.Series(indifference_thresholds, criteria)\n",
    "\n",
    "alternatives_performances = pd.DataFrame(data=alternatives_performances,\n",
    "                                         index=alternatives, columns=criteria)\n",
    "\n",
    "criteria_weights"
   ]
  },
  {
   "cell_type": "code",
   "execution_count": 2,
   "outputs": [
    {
     "data": {
      "text/plain": "    g1  g2  g3\nr1  56  25  48\nr2  68  38  70\nr3  75  45  85",
      "text/html": "<div>\n<style scoped>\n    .dataframe tbody tr th:only-of-type {\n        vertical-align: middle;\n    }\n\n    .dataframe tbody tr th {\n        vertical-align: top;\n    }\n\n    .dataframe thead th {\n        text-align: right;\n    }\n</style>\n<table border=\"1\" class=\"dataframe\">\n  <thead>\n    <tr style=\"text-align: right;\">\n      <th></th>\n      <th>g1</th>\n      <th>g2</th>\n      <th>g3</th>\n    </tr>\n  </thead>\n  <tbody>\n    <tr>\n      <th>r1</th>\n      <td>56</td>\n      <td>25</td>\n      <td>48</td>\n    </tr>\n    <tr>\n      <th>r2</th>\n      <td>68</td>\n      <td>38</td>\n      <td>70</td>\n    </tr>\n    <tr>\n      <th>r3</th>\n      <td>75</td>\n      <td>45</td>\n      <td>85</td>\n    </tr>\n  </tbody>\n</table>\n</div>"
     },
     "execution_count": 2,
     "metadata": {},
     "output_type": "execute_result"
    }
   ],
   "source": [
    "categories = [f\"C{i}\" for i in range(1, 4)]\n",
    "profiles = [f\"r{i}\" for i in range(1, 4)]\n",
    "category_profiles_performances = pd.DataFrame(\n",
    "    [[56, 25, 48], [68, 38, 70], [75, 45, 85]],\n",
    "    index=profiles, columns=criteria)\n",
    "category_profiles_performances"
   ],
   "metadata": {
    "collapsed": false
   }
  },
  {
   "cell_type": "code",
   "execution_count": 6,
   "outputs": [
    {
     "name": "stderr",
     "output_type": "stream",
     "text": [
      "C:\\Users\\wandr\\AppData\\Local\\Temp\\ipykernel_12352\\420187809.py:4: FutureWarning: The default dtype for empty Series will be 'object' instead of 'float64' in a future version. Specify a dtype explicitly to silence this warning.\n",
      "  pd.Series(data=None, index=criteria), generalised_criteria,\n"
     ]
    },
    {
     "data": {
      "text/plain": "           r1     r2     r3\nLBS     1.000  0.243  0.182\nMIT     0.818  0.273  0.034\nYALE    0.853  0.545  0.545\nUNC     0.818  0.000  0.000\nTOR     1.000  0.000  0.000\nUCLA    0.273  0.273  0.000\nOXF     0.300  0.182  0.000\nMAR     0.273  0.000  0.000\nCAME    0.273  0.156  0.000\nCBS     1.000  0.668  0.545\nCOR     1.000  0.000  0.000\nDUKE    0.945  0.000  0.000\nESADE   0.182  0.182  0.182\nHARV    1.000  0.818  0.783\nIESA    0.727  0.182  0.182\nINSEAD  0.475  0.182  0.182\nNYU     0.908  0.273  0.000\nNWU     0.818  0.250  0.000\nROTT    0.182  0.182  0.182\nSTAN    1.000  0.818  0.277\nUCB     1.000  0.273  0.000\nCHI     0.818  0.818  0.031\nIOWA    0.436  0.000  0.000\nMICH    1.000  0.000  0.000\nPENN    1.000  0.818  0.624\nROCH    0.809  0.000  0.000\nVIRG    0.545  0.545  0.216\nUWO     0.455  0.149  0.000\nVAND    0.605  0.000  0.000\nYORK    0.298  0.182  0.182",
      "text/html": "<div>\n<style scoped>\n    .dataframe tbody tr th:only-of-type {\n        vertical-align: middle;\n    }\n\n    .dataframe tbody tr th {\n        vertical-align: top;\n    }\n\n    .dataframe thead th {\n        text-align: right;\n    }\n</style>\n<table border=\"1\" class=\"dataframe\">\n  <thead>\n    <tr style=\"text-align: right;\">\n      <th></th>\n      <th>r1</th>\n      <th>r2</th>\n      <th>r3</th>\n    </tr>\n  </thead>\n  <tbody>\n    <tr>\n      <th>LBS</th>\n      <td>1.000</td>\n      <td>0.243</td>\n      <td>0.182</td>\n    </tr>\n    <tr>\n      <th>MIT</th>\n      <td>0.818</td>\n      <td>0.273</td>\n      <td>0.034</td>\n    </tr>\n    <tr>\n      <th>YALE</th>\n      <td>0.853</td>\n      <td>0.545</td>\n      <td>0.545</td>\n    </tr>\n    <tr>\n      <th>UNC</th>\n      <td>0.818</td>\n      <td>0.000</td>\n      <td>0.000</td>\n    </tr>\n    <tr>\n      <th>TOR</th>\n      <td>1.000</td>\n      <td>0.000</td>\n      <td>0.000</td>\n    </tr>\n    <tr>\n      <th>UCLA</th>\n      <td>0.273</td>\n      <td>0.273</td>\n      <td>0.000</td>\n    </tr>\n    <tr>\n      <th>OXF</th>\n      <td>0.300</td>\n      <td>0.182</td>\n      <td>0.000</td>\n    </tr>\n    <tr>\n      <th>MAR</th>\n      <td>0.273</td>\n      <td>0.000</td>\n      <td>0.000</td>\n    </tr>\n    <tr>\n      <th>CAME</th>\n      <td>0.273</td>\n      <td>0.156</td>\n      <td>0.000</td>\n    </tr>\n    <tr>\n      <th>CBS</th>\n      <td>1.000</td>\n      <td>0.668</td>\n      <td>0.545</td>\n    </tr>\n    <tr>\n      <th>COR</th>\n      <td>1.000</td>\n      <td>0.000</td>\n      <td>0.000</td>\n    </tr>\n    <tr>\n      <th>DUKE</th>\n      <td>0.945</td>\n      <td>0.000</td>\n      <td>0.000</td>\n    </tr>\n    <tr>\n      <th>ESADE</th>\n      <td>0.182</td>\n      <td>0.182</td>\n      <td>0.182</td>\n    </tr>\n    <tr>\n      <th>HARV</th>\n      <td>1.000</td>\n      <td>0.818</td>\n      <td>0.783</td>\n    </tr>\n    <tr>\n      <th>IESA</th>\n      <td>0.727</td>\n      <td>0.182</td>\n      <td>0.182</td>\n    </tr>\n    <tr>\n      <th>INSEAD</th>\n      <td>0.475</td>\n      <td>0.182</td>\n      <td>0.182</td>\n    </tr>\n    <tr>\n      <th>NYU</th>\n      <td>0.908</td>\n      <td>0.273</td>\n      <td>0.000</td>\n    </tr>\n    <tr>\n      <th>NWU</th>\n      <td>0.818</td>\n      <td>0.250</td>\n      <td>0.000</td>\n    </tr>\n    <tr>\n      <th>ROTT</th>\n      <td>0.182</td>\n      <td>0.182</td>\n      <td>0.182</td>\n    </tr>\n    <tr>\n      <th>STAN</th>\n      <td>1.000</td>\n      <td>0.818</td>\n      <td>0.277</td>\n    </tr>\n    <tr>\n      <th>UCB</th>\n      <td>1.000</td>\n      <td>0.273</td>\n      <td>0.000</td>\n    </tr>\n    <tr>\n      <th>CHI</th>\n      <td>0.818</td>\n      <td>0.818</td>\n      <td>0.031</td>\n    </tr>\n    <tr>\n      <th>IOWA</th>\n      <td>0.436</td>\n      <td>0.000</td>\n      <td>0.000</td>\n    </tr>\n    <tr>\n      <th>MICH</th>\n      <td>1.000</td>\n      <td>0.000</td>\n      <td>0.000</td>\n    </tr>\n    <tr>\n      <th>PENN</th>\n      <td>1.000</td>\n      <td>0.818</td>\n      <td>0.624</td>\n    </tr>\n    <tr>\n      <th>ROCH</th>\n      <td>0.809</td>\n      <td>0.000</td>\n      <td>0.000</td>\n    </tr>\n    <tr>\n      <th>VIRG</th>\n      <td>0.545</td>\n      <td>0.545</td>\n      <td>0.216</td>\n    </tr>\n    <tr>\n      <th>UWO</th>\n      <td>0.455</td>\n      <td>0.149</td>\n      <td>0.000</td>\n    </tr>\n    <tr>\n      <th>VAND</th>\n      <td>0.605</td>\n      <td>0.000</td>\n      <td>0.000</td>\n    </tr>\n    <tr>\n      <th>YORK</th>\n      <td>0.298</td>\n      <td>0.182</td>\n      <td>0.182</td>\n    </tr>\n  </tbody>\n</table>\n</div>"
     },
     "execution_count": 6,
     "metadata": {},
     "output_type": "execute_result"
    }
   ],
   "source": [
    "## Promethee Preference\n",
    "preference_indices, partial_preference_indices = compute_preference_indices(\n",
    "    alternatives_performances, preference_thresholds, indifference_thresholds,\n",
    "    pd.Series(data=None, index=criteria), generalised_criteria,\n",
    "    criteria_directions, criteria_weights, category_profiles_performances)\n",
    "\n",
    "preference_indices[0]\n",
    "\n",
    "# Promethee Discordance\n",
    "\n",
    "# partial_preference_indices[0]\n",
    "# partial_discordance.loc[\"g1\"]\n",
    "### Overall Preference\n",
    "# partial_preference_indices[1]"
   ],
   "metadata": {
    "collapsed": false
   }
  },
  {
   "cell_type": "code",
   "execution_count": 4,
   "outputs": [
    {
     "ename": "KeyError",
     "evalue": "'MIT'",
     "output_type": "error",
     "traceback": [
      "\u001B[1;31m---------------------------------------------------------------------------\u001B[0m",
      "\u001B[1;31mKeyError\u001B[0m                                  Traceback (most recent call last)",
      "File \u001B[1;32mc:\\users\\wandr\\appdata\\local\\programs\\python\\python38\\lib\\site-packages\\pandas\\core\\indexes\\base.py:3803\u001B[0m, in \u001B[0;36mIndex.get_loc\u001B[1;34m(self, key, method, tolerance)\u001B[0m\n\u001B[0;32m   3802\u001B[0m \u001B[38;5;28;01mtry\u001B[39;00m:\n\u001B[1;32m-> 3803\u001B[0m     \u001B[38;5;28;01mreturn\u001B[39;00m \u001B[38;5;28;43mself\u001B[39;49m\u001B[38;5;241;43m.\u001B[39;49m\u001B[43m_engine\u001B[49m\u001B[38;5;241;43m.\u001B[39;49m\u001B[43mget_loc\u001B[49m\u001B[43m(\u001B[49m\u001B[43mcasted_key\u001B[49m\u001B[43m)\u001B[49m\n\u001B[0;32m   3804\u001B[0m \u001B[38;5;28;01mexcept\u001B[39;00m \u001B[38;5;167;01mKeyError\u001B[39;00m \u001B[38;5;28;01mas\u001B[39;00m err:\n",
      "File \u001B[1;32mc:\\users\\wandr\\appdata\\local\\programs\\python\\python38\\lib\\site-packages\\pandas\\_libs\\index.pyx:138\u001B[0m, in \u001B[0;36mpandas._libs.index.IndexEngine.get_loc\u001B[1;34m()\u001B[0m\n",
      "File \u001B[1;32mc:\\users\\wandr\\appdata\\local\\programs\\python\\python38\\lib\\site-packages\\pandas\\_libs\\index.pyx:165\u001B[0m, in \u001B[0;36mpandas._libs.index.IndexEngine.get_loc\u001B[1;34m()\u001B[0m\n",
      "File \u001B[1;32mpandas\\_libs\\hashtable_class_helper.pxi:5745\u001B[0m, in \u001B[0;36mpandas._libs.hashtable.PyObjectHashTable.get_item\u001B[1;34m()\u001B[0m\n",
      "File \u001B[1;32mpandas\\_libs\\hashtable_class_helper.pxi:5753\u001B[0m, in \u001B[0;36mpandas._libs.hashtable.PyObjectHashTable.get_item\u001B[1;34m()\u001B[0m\n",
      "\u001B[1;31mKeyError\u001B[0m: 'MIT'",
      "\nThe above exception was the direct cause of the following exception:\n",
      "\u001B[1;31mKeyError\u001B[0m                                  Traceback (most recent call last)",
      "Cell \u001B[1;32mIn [4], line 3\u001B[0m\n\u001B[0;32m      1\u001B[0m alter \u001B[38;5;241m=\u001B[39m \u001B[38;5;124m'\u001B[39m\u001B[38;5;124mMIT\u001B[39m\u001B[38;5;124m'\u001B[39m\n\u001B[0;32m      2\u001B[0m prof \u001B[38;5;241m=\u001B[39m \u001B[38;5;124m'\u001B[39m\u001B[38;5;124mr2\u001B[39m\u001B[38;5;124m'\u001B[39m\n\u001B[1;32m----> 3\u001B[0m g1 \u001B[38;5;241m=\u001B[39m \u001B[43mpreference_indices\u001B[49m\u001B[43m[\u001B[49m\u001B[38;5;241;43m0\u001B[39;49m\u001B[43m]\u001B[49m\u001B[38;5;241;43m.\u001B[39;49m\u001B[43mloc\u001B[49m\u001B[43m[\u001B[49m\u001B[38;5;124;43m'\u001B[39;49m\u001B[38;5;124;43mg1\u001B[39;49m\u001B[38;5;124;43m'\u001B[39;49m\u001B[43m,\u001B[49m\u001B[43m \u001B[49m\u001B[43malter\u001B[49m\u001B[43m]\u001B[49m[prof]\n\u001B[0;32m      4\u001B[0m g2 \u001B[38;5;241m=\u001B[39m preference_indices[\u001B[38;5;241m0\u001B[39m]\u001B[38;5;241m.\u001B[39mloc[\u001B[38;5;124m'\u001B[39m\u001B[38;5;124mg2\u001B[39m\u001B[38;5;124m'\u001B[39m, alter][prof]\n\u001B[0;32m      5\u001B[0m g3 \u001B[38;5;241m=\u001B[39m preference_indices[\u001B[38;5;241m0\u001B[39m]\u001B[38;5;241m.\u001B[39mloc[\u001B[38;5;124m'\u001B[39m\u001B[38;5;124mg3\u001B[39m\u001B[38;5;124m'\u001B[39m, alter][prof]\n",
      "File \u001B[1;32mc:\\users\\wandr\\appdata\\local\\programs\\python\\python38\\lib\\site-packages\\pandas\\core\\indexing.py:1066\u001B[0m, in \u001B[0;36m_LocationIndexer.__getitem__\u001B[1;34m(self, key)\u001B[0m\n\u001B[0;32m   1064\u001B[0m     key \u001B[38;5;241m=\u001B[39m \u001B[38;5;28mtuple\u001B[39m(com\u001B[38;5;241m.\u001B[39mapply_if_callable(x, \u001B[38;5;28mself\u001B[39m\u001B[38;5;241m.\u001B[39mobj) \u001B[38;5;28;01mfor\u001B[39;00m x \u001B[38;5;129;01min\u001B[39;00m key)\n\u001B[0;32m   1065\u001B[0m     \u001B[38;5;28;01mif\u001B[39;00m \u001B[38;5;28mself\u001B[39m\u001B[38;5;241m.\u001B[39m_is_scalar_access(key):\n\u001B[1;32m-> 1066\u001B[0m         \u001B[38;5;28;01mreturn\u001B[39;00m \u001B[38;5;28;43mself\u001B[39;49m\u001B[38;5;241;43m.\u001B[39;49m\u001B[43mobj\u001B[49m\u001B[38;5;241;43m.\u001B[39;49m\u001B[43m_get_value\u001B[49m\u001B[43m(\u001B[49m\u001B[38;5;241;43m*\u001B[39;49m\u001B[43mkey\u001B[49m\u001B[43m,\u001B[49m\u001B[43m \u001B[49m\u001B[43mtakeable\u001B[49m\u001B[38;5;241;43m=\u001B[39;49m\u001B[38;5;28;43mself\u001B[39;49m\u001B[38;5;241;43m.\u001B[39;49m\u001B[43m_takeable\u001B[49m\u001B[43m)\u001B[49m\n\u001B[0;32m   1067\u001B[0m     \u001B[38;5;28;01mreturn\u001B[39;00m \u001B[38;5;28mself\u001B[39m\u001B[38;5;241m.\u001B[39m_getitem_tuple(key)\n\u001B[0;32m   1068\u001B[0m \u001B[38;5;28;01melse\u001B[39;00m:\n\u001B[0;32m   1069\u001B[0m     \u001B[38;5;66;03m# we by definition only have the 0th axis\u001B[39;00m\n",
      "File \u001B[1;32mc:\\users\\wandr\\appdata\\local\\programs\\python\\python38\\lib\\site-packages\\pandas\\core\\frame.py:3914\u001B[0m, in \u001B[0;36mDataFrame._get_value\u001B[1;34m(self, index, col, takeable)\u001B[0m\n\u001B[0;32m   3911\u001B[0m     series \u001B[38;5;241m=\u001B[39m \u001B[38;5;28mself\u001B[39m\u001B[38;5;241m.\u001B[39m_ixs(col, axis\u001B[38;5;241m=\u001B[39m\u001B[38;5;241m1\u001B[39m)\n\u001B[0;32m   3912\u001B[0m     \u001B[38;5;28;01mreturn\u001B[39;00m series\u001B[38;5;241m.\u001B[39m_values[index]\n\u001B[1;32m-> 3914\u001B[0m series \u001B[38;5;241m=\u001B[39m \u001B[38;5;28;43mself\u001B[39;49m\u001B[38;5;241;43m.\u001B[39;49m\u001B[43m_get_item_cache\u001B[49m\u001B[43m(\u001B[49m\u001B[43mcol\u001B[49m\u001B[43m)\u001B[49m\n\u001B[0;32m   3915\u001B[0m engine \u001B[38;5;241m=\u001B[39m \u001B[38;5;28mself\u001B[39m\u001B[38;5;241m.\u001B[39mindex\u001B[38;5;241m.\u001B[39m_engine\n\u001B[0;32m   3917\u001B[0m \u001B[38;5;28;01mif\u001B[39;00m \u001B[38;5;129;01mnot\u001B[39;00m \u001B[38;5;28misinstance\u001B[39m(\u001B[38;5;28mself\u001B[39m\u001B[38;5;241m.\u001B[39mindex, MultiIndex):\n\u001B[0;32m   3918\u001B[0m     \u001B[38;5;66;03m# CategoricalIndex: Trying to use the engine fastpath may give incorrect\u001B[39;00m\n\u001B[0;32m   3919\u001B[0m     \u001B[38;5;66;03m#  results if our categories are integers that dont match our codes\u001B[39;00m\n\u001B[0;32m   3920\u001B[0m     \u001B[38;5;66;03m# IntervalIndex: IntervalTree has no get_loc\u001B[39;00m\n",
      "File \u001B[1;32mc:\\users\\wandr\\appdata\\local\\programs\\python\\python38\\lib\\site-packages\\pandas\\core\\frame.py:4271\u001B[0m, in \u001B[0;36mDataFrame._get_item_cache\u001B[1;34m(self, item)\u001B[0m\n\u001B[0;32m   4266\u001B[0m res \u001B[38;5;241m=\u001B[39m cache\u001B[38;5;241m.\u001B[39mget(item)\n\u001B[0;32m   4267\u001B[0m \u001B[38;5;28;01mif\u001B[39;00m res \u001B[38;5;129;01mis\u001B[39;00m \u001B[38;5;28;01mNone\u001B[39;00m:\n\u001B[0;32m   4268\u001B[0m     \u001B[38;5;66;03m# All places that call _get_item_cache have unique columns,\u001B[39;00m\n\u001B[0;32m   4269\u001B[0m     \u001B[38;5;66;03m#  pending resolution of GH#33047\u001B[39;00m\n\u001B[1;32m-> 4271\u001B[0m     loc \u001B[38;5;241m=\u001B[39m \u001B[38;5;28;43mself\u001B[39;49m\u001B[38;5;241;43m.\u001B[39;49m\u001B[43mcolumns\u001B[49m\u001B[38;5;241;43m.\u001B[39;49m\u001B[43mget_loc\u001B[49m\u001B[43m(\u001B[49m\u001B[43mitem\u001B[49m\u001B[43m)\u001B[49m\n\u001B[0;32m   4272\u001B[0m     res \u001B[38;5;241m=\u001B[39m \u001B[38;5;28mself\u001B[39m\u001B[38;5;241m.\u001B[39m_ixs(loc, axis\u001B[38;5;241m=\u001B[39m\u001B[38;5;241m1\u001B[39m)\n\u001B[0;32m   4274\u001B[0m     cache[item] \u001B[38;5;241m=\u001B[39m res\n",
      "File \u001B[1;32mc:\\users\\wandr\\appdata\\local\\programs\\python\\python38\\lib\\site-packages\\pandas\\core\\indexes\\base.py:3805\u001B[0m, in \u001B[0;36mIndex.get_loc\u001B[1;34m(self, key, method, tolerance)\u001B[0m\n\u001B[0;32m   3803\u001B[0m     \u001B[38;5;28;01mreturn\u001B[39;00m \u001B[38;5;28mself\u001B[39m\u001B[38;5;241m.\u001B[39m_engine\u001B[38;5;241m.\u001B[39mget_loc(casted_key)\n\u001B[0;32m   3804\u001B[0m \u001B[38;5;28;01mexcept\u001B[39;00m \u001B[38;5;167;01mKeyError\u001B[39;00m \u001B[38;5;28;01mas\u001B[39;00m err:\n\u001B[1;32m-> 3805\u001B[0m     \u001B[38;5;28;01mraise\u001B[39;00m \u001B[38;5;167;01mKeyError\u001B[39;00m(key) \u001B[38;5;28;01mfrom\u001B[39;00m \u001B[38;5;21;01merr\u001B[39;00m\n\u001B[0;32m   3806\u001B[0m \u001B[38;5;28;01mexcept\u001B[39;00m \u001B[38;5;167;01mTypeError\u001B[39;00m:\n\u001B[0;32m   3807\u001B[0m     \u001B[38;5;66;03m# If we have a listlike key, _check_indexing_error will raise\u001B[39;00m\n\u001B[0;32m   3808\u001B[0m     \u001B[38;5;66;03m#  InvalidIndexError. Otherwise we fall through and re-raise\u001B[39;00m\n\u001B[0;32m   3809\u001B[0m     \u001B[38;5;66;03m#  the TypeError.\u001B[39;00m\n\u001B[0;32m   3810\u001B[0m     \u001B[38;5;28mself\u001B[39m\u001B[38;5;241m.\u001B[39m_check_indexing_error(key)\n",
      "\u001B[1;31mKeyError\u001B[0m: 'MIT'"
     ]
    }
   ],
   "source": [
    "# alter = 'MIT'\n",
    "# prof = 'r2'\n",
    "# g1 = preference_indices[0].loc['g1', alter][prof]\n",
    "# g2 = preference_indices[0].loc['g2', alter][prof]\n",
    "# g3 = preference_indices[0].loc['g3', alter][prof]\n",
    "# print(f'{alter},{prof},{round(g1,3)},{round(g2,3)},{round(g3,3)}\\t')"
   ],
   "metadata": {
    "collapsed": false
   }
  },
  {
   "cell_type": "code",
   "execution_count": 7,
   "outputs": [
    {
     "name": "stdout",
     "output_type": "stream",
     "text": [
      "r3,STAN,0.455\n"
     ]
    }
   ],
   "source": [
    "alter = 'r3'\n",
    "prof = 'STAN'\n",
    "g1 = preference_indices[1].loc[alter][prof]\n",
    "print(f'{alter},{prof},{round(g1,3)}')"
   ],
   "metadata": {
    "collapsed": false
   }
  },
  {
   "cell_type": "code",
   "execution_count": 8,
   "outputs": [
    {
     "data": {
      "text/plain": "      LBS    MIT   YALE    UNC    TOR   UCLA    OXF    MAR   CAME    CBS  ...  \\\nr1  0.000  0.029  0.000  0.149  0.000  0.191  0.041  0.037  0.505  0.000  ...   \nr2  0.273  0.727  0.455  0.455  0.878  0.727  0.818  1.000  0.727  0.182  ...   \nr3  0.818  0.727  0.455  1.000  1.000  1.000  0.892  1.000  1.000  0.455  ...   \n\n      UCB    CHI   IOWA   MICH   PENN  ROCH   VIRG    UWO   VAND   YORK  \nr1  0.000  0.068  0.075  0.000  0.000   0.0  0.455  0.545  0.273  0.000  \nr2  0.727  0.182  1.000  0.727  0.182   1.0  0.455  0.818  1.000  0.818  \nr3  1.000  0.455  1.000  1.000  0.182   1.0  0.455  1.000  1.000  0.818  \n\n[3 rows x 30 columns]",
      "text/html": "<div>\n<style scoped>\n    .dataframe tbody tr th:only-of-type {\n        vertical-align: middle;\n    }\n\n    .dataframe tbody tr th {\n        vertical-align: top;\n    }\n\n    .dataframe thead th {\n        text-align: right;\n    }\n</style>\n<table border=\"1\" class=\"dataframe\">\n  <thead>\n    <tr style=\"text-align: right;\">\n      <th></th>\n      <th>LBS</th>\n      <th>MIT</th>\n      <th>YALE</th>\n      <th>UNC</th>\n      <th>TOR</th>\n      <th>UCLA</th>\n      <th>OXF</th>\n      <th>MAR</th>\n      <th>CAME</th>\n      <th>CBS</th>\n      <th>...</th>\n      <th>UCB</th>\n      <th>CHI</th>\n      <th>IOWA</th>\n      <th>MICH</th>\n      <th>PENN</th>\n      <th>ROCH</th>\n      <th>VIRG</th>\n      <th>UWO</th>\n      <th>VAND</th>\n      <th>YORK</th>\n    </tr>\n  </thead>\n  <tbody>\n    <tr>\n      <th>r1</th>\n      <td>0.000</td>\n      <td>0.029</td>\n      <td>0.000</td>\n      <td>0.149</td>\n      <td>0.000</td>\n      <td>0.191</td>\n      <td>0.041</td>\n      <td>0.037</td>\n      <td>0.505</td>\n      <td>0.000</td>\n      <td>...</td>\n      <td>0.000</td>\n      <td>0.068</td>\n      <td>0.075</td>\n      <td>0.000</td>\n      <td>0.000</td>\n      <td>0.0</td>\n      <td>0.455</td>\n      <td>0.545</td>\n      <td>0.273</td>\n      <td>0.000</td>\n    </tr>\n    <tr>\n      <th>r2</th>\n      <td>0.273</td>\n      <td>0.727</td>\n      <td>0.455</td>\n      <td>0.455</td>\n      <td>0.878</td>\n      <td>0.727</td>\n      <td>0.818</td>\n      <td>1.000</td>\n      <td>0.727</td>\n      <td>0.182</td>\n      <td>...</td>\n      <td>0.727</td>\n      <td>0.182</td>\n      <td>1.000</td>\n      <td>0.727</td>\n      <td>0.182</td>\n      <td>1.0</td>\n      <td>0.455</td>\n      <td>0.818</td>\n      <td>1.000</td>\n      <td>0.818</td>\n    </tr>\n    <tr>\n      <th>r3</th>\n      <td>0.818</td>\n      <td>0.727</td>\n      <td>0.455</td>\n      <td>1.000</td>\n      <td>1.000</td>\n      <td>1.000</td>\n      <td>0.892</td>\n      <td>1.000</td>\n      <td>1.000</td>\n      <td>0.455</td>\n      <td>...</td>\n      <td>1.000</td>\n      <td>0.455</td>\n      <td>1.000</td>\n      <td>1.000</td>\n      <td>0.182</td>\n      <td>1.0</td>\n      <td>0.455</td>\n      <td>1.000</td>\n      <td>1.000</td>\n      <td>0.818</td>\n    </tr>\n  </tbody>\n</table>\n<p>3 rows × 30 columns</p>\n</div>"
     },
     "execution_count": 8,
     "metadata": {},
     "output_type": "execute_result"
    }
   ],
   "source": [
    "partial_preference_indices[1]\n",
    "preference_indices[1]"
   ],
   "metadata": {
    "collapsed": false
   }
  },
  {
   "cell_type": "code",
   "execution_count": null,
   "outputs": [],
   "source": [
    "preference_indices_profiles, partial_preference_indices_profiles = compute_preference_indices(\n",
    "    category_profiles_performances, preference_thresholds,\n",
    "    indifference_thresholds,\n",
    "    pd.Series(data=None, index=criteria), generalised_criteria,\n",
    "    criteria_directions, criteria_weights)\n",
    "\n",
    "preference_indices_profiles"
   ],
   "metadata": {
    "collapsed": false
   }
  },
  {
   "cell_type": "code",
   "execution_count": null,
   "outputs": [],
   "source": [
    "preference_indices"
   ],
   "metadata": {
    "collapsed": false,
    "pycharm": {
     "name": "#%%\n"
    }
   }
  },
  {
   "cell_type": "code",
   "execution_count": 9,
   "outputs": [
    {
     "name": "stdout",
     "output_type": "stream",
     "text": [
      "0.0\n",
      "0.3719999999999999\n",
      "0.0\n"
     ]
    },
    {
     "data": {
      "text/plain": "          r1   r2   r3\ng1 LBS   0.0  0.0  1.0\n   MIT   0.0  1.0  1.0\n   YALE  0.0  0.0  0.0\n   UNC   0.0  0.0  1.0\n   TOR   0.0  1.0  1.0\n...      ...  ...  ...\ng3 ROCH  0.0  1.0  1.0\n   VIRG  1.0  1.0  1.0\n   UWO   0.0  1.0  1.0\n   VAND  1.0  1.0  1.0\n   YORK  0.0  1.0  1.0\n\n[90 rows x 3 columns]",
      "text/html": "<div>\n<style scoped>\n    .dataframe tbody tr th:only-of-type {\n        vertical-align: middle;\n    }\n\n    .dataframe tbody tr th {\n        vertical-align: top;\n    }\n\n    .dataframe thead th {\n        text-align: right;\n    }\n</style>\n<table border=\"1\" class=\"dataframe\">\n  <thead>\n    <tr style=\"text-align: right;\">\n      <th></th>\n      <th></th>\n      <th>r1</th>\n      <th>r2</th>\n      <th>r3</th>\n    </tr>\n  </thead>\n  <tbody>\n    <tr>\n      <th rowspan=\"5\" valign=\"top\">g1</th>\n      <th>LBS</th>\n      <td>0.0</td>\n      <td>0.0</td>\n      <td>1.0</td>\n    </tr>\n    <tr>\n      <th>MIT</th>\n      <td>0.0</td>\n      <td>1.0</td>\n      <td>1.0</td>\n    </tr>\n    <tr>\n      <th>YALE</th>\n      <td>0.0</td>\n      <td>0.0</td>\n      <td>0.0</td>\n    </tr>\n    <tr>\n      <th>UNC</th>\n      <td>0.0</td>\n      <td>0.0</td>\n      <td>1.0</td>\n    </tr>\n    <tr>\n      <th>TOR</th>\n      <td>0.0</td>\n      <td>1.0</td>\n      <td>1.0</td>\n    </tr>\n    <tr>\n      <th>...</th>\n      <th>...</th>\n      <td>...</td>\n      <td>...</td>\n      <td>...</td>\n    </tr>\n    <tr>\n      <th rowspan=\"5\" valign=\"top\">g3</th>\n      <th>ROCH</th>\n      <td>0.0</td>\n      <td>1.0</td>\n      <td>1.0</td>\n    </tr>\n    <tr>\n      <th>VIRG</th>\n      <td>1.0</td>\n      <td>1.0</td>\n      <td>1.0</td>\n    </tr>\n    <tr>\n      <th>UWO</th>\n      <td>0.0</td>\n      <td>1.0</td>\n      <td>1.0</td>\n    </tr>\n    <tr>\n      <th>VAND</th>\n      <td>1.0</td>\n      <td>1.0</td>\n      <td>1.0</td>\n    </tr>\n    <tr>\n      <th>YORK</th>\n      <td>0.0</td>\n      <td>1.0</td>\n      <td>1.0</td>\n    </tr>\n  </tbody>\n</table>\n<p>90 rows × 3 columns</p>\n</div>"
     },
     "execution_count": 9,
     "metadata": {},
     "output_type": "execute_result"
    }
   ],
   "source": [
    "## Discordance\n",
    "tau = 1\n",
    "discordance, partial_discordance, overall_preference = compute_discordance(\n",
    "    criteria,\n",
    "    partial_preference_indices, tau,\n",
    "    preferences=preference_indices,\n",
    "    were_categories_profiles=True)\n",
    "alter = 'CHI'\n",
    "prof = 'r1'\n",
    "print(partial_discordance[0].loc['g1', alter][prof])\n",
    "print(partial_discordance[0].loc['g2', alter][prof])\n",
    "print(partial_discordance[0].loc['g3', alter][prof])\n",
    "# partial_discordance.loc[\"g1\"]\n",
    "### Overall Preference\n",
    "partial_discordance[0]"
   ],
   "metadata": {
    "collapsed": false
   }
  },
  {
   "cell_type": "code",
   "execution_count": 18,
   "outputs": [
    {
     "name": "stdout",
     "output_type": "stream",
     "text": [
      "MIT & r2 & 1.0 & 1.0 & 0.0 & 1.0\\\\\n",
      "UNC & r1 & 0.0 & 0.82 & 0.0 & 0.435\\\\\n",
      "MAR & r1 & 0.068 & 0.0 & 0.0 & 0.023\\\\\n",
      "INSEAD & r2 & 1.0 & 0.0 & 1.0 & 1.0\\\\\n",
      "VAND & r3 & 1.0 & 1.0 & 1.0 & 1.0\\\\\n",
      "YORK & r1 & 0.0 & 0.0 & 0.0 & 0.0\\\\\n",
      "ESADE & r3 & 1.0 & 0.0 & 1.0 & 1.0\\\\\n",
      "CHI & r1 & 0.0 & 0.372 & 0.0 & 0.144\\\\\n",
      "r2 & CAME & 0.0 & 0.0 & 0.572 & 0.246\\\\\n",
      "r1 & IOWA & 0.7 & 0.3 & 0.0 & 0.406\\\\\n",
      "r2 & NWU & 0.072 & 0.0 & 0.772 & 0.404\\\\\n",
      "r3 & STAN & 0.508 & 0.0 & 0.0 & 0.211\\\\\n"
     ]
    }
   ],
   "source": [
    "# partial_discordance[1]\n",
    "alters_0 = ['MIT','UNC','MAR', 'INSEAD','VAND','YORK','ESADE','CHI']\n",
    "profs_0 = ['r2','r1','r1','r2','r3','r1','r3','r1']\n",
    "alters_1 = ['r2','r1','r2','r3']\n",
    "profs_1 = ['CAME','IOWA','NWU','STAN']\n",
    "\n",
    "for alter, prof in zip(alters_0,profs_0):\n",
    "    g1  = partial_discordance[0].loc['g1', alter][prof]\n",
    "    g2=partial_discordance[0].loc['g2', alter][prof]\n",
    "    g3=partial_discordance[0].loc['g3', alter][prof]\n",
    "    g4 =discordance[0].loc[alter][prof]\n",
    "    print(f'{alter} & {prof} & {round(g1,3)} & {round(g2,3)} & {round(g3,3)} & {round(g4,3)}\\\\\\\\')\n",
    "\n",
    "for alter, prof in zip(alters_1,profs_1):\n",
    "    g1  = partial_discordance[1].loc['g1', alter][prof]\n",
    "    g2=partial_discordance[1].loc['g2', alter][prof]\n",
    "    g3=partial_discordance[1].loc['g3', alter][prof]\n",
    "    g4 =discordance[1].loc[alter][prof]\n",
    "    print(f'{alter} & {prof} & {round(g1,3)} & {round(g2,3)} & {round(g3,3)} & {round(g4,3)}\\\\\\\\')\n",
    "# partial_discordance.loc[\"g1\"]\n",
    "### Overall Preference\n",
    "# partial_discordance[1]"
   ],
   "metadata": {
    "collapsed": false
   }
  },
  {
   "cell_type": "code",
   "execution_count": 17,
   "outputs": [
    {
     "name": "stdout",
     "output_type": "stream",
     "text": [
      "MIT & r2 & 0.0 & 0.0 & 1.0 & 0.273\n",
      "UNC & r1 & 1.0 & 0.0 & 1.0 & 0.818\n",
      "MAR & r1 & 0.0 & 0.0 & 1.0 & 0.273\n",
      "INSEAD & r2 & 0.0 & 1.0 & 0.0 & 0.182\n",
      "VAND & r3 & 0.0 & 0.0 & 0.0 & 0.0\n",
      "YORK & r1 & 0.212 & 1.0 & 0.0 & 0.298\n",
      "ESADE & r3 & 0.0 & 1.0 & 0.0 & 0.182\n",
      "CHI & r1 & 1.0 & 0.0 & 1.0 & 0.818\n",
      "r2 & CAME & 1.0 & 1.0 & 0.0 & 0.727\n",
      "r1 & IOWA & 0.0 & 0.0 & 0.276 & 0.075\n",
      "r2 & NWU & 0.0 & 1.0 & 0.0 & 0.182\n",
      "r3 & STAN & 0.0 & 1.0 & 1.0 & 0.455\n"
     ]
    }
   ],
   "source": [
    "\n",
    "for alter, prof in zip(alters_0,profs_0):\n",
    "    g1  = partial_preference_indices[0].loc['g1', alter][prof]\n",
    "    g2=partial_preference_indices[0].loc['g2', alter][prof]\n",
    "    g3=partial_preference_indices[0].loc['g3', alter][prof]\n",
    "    g4 =preference_indices[0].loc[alter][prof]\n",
    "    print(f'{alter} & {prof} & {round(g1,3)} & {round(g2,3)} & {round(g3,3)} & {round(g4,3)}')\n",
    "\n",
    "for alter, prof in zip(alters_1,profs_1):\n",
    "    g1  = partial_preference_indices[1].loc['g1', alter][prof]\n",
    "    g2=partial_preference_indices[1].loc['g2', alter][prof]\n",
    "    g3=partial_preference_indices[1].loc['g3', alter][prof]\n",
    "    g4 =preference_indices[1].loc[alter][prof]\n",
    "    print(f'{alter} & {prof} & {round(g1,3)} & {round(g2,3)} & {round(g3,3)} & {round(g4,3)}')"
   ],
   "metadata": {
    "collapsed": false
   }
  },
  {
   "cell_type": "code",
   "execution_count": 19,
   "outputs": [
    {
     "name": "stdout",
     "output_type": "stream",
     "text": [
      "MIT & r2 & 0.273 & 1.0 & 0.0\\\\\n",
      "UNC & r1 & 0.818 & 0.435 & 0.462\\\\\n",
      "MAR & r1 & 0.273 & 0.023 & 0.267\\\\\n",
      "INSEAD & r2 & 0.182 & 1.0 & 0.0\\\\\n",
      "VAND & r3 & 0.0 & 1.0 & 0.0\\\\\n",
      "YORK & r1 & 0.298 & 0.0 & 0.298\\\\\n",
      "ESADE & r3 & 0.182 & 1.0 & 0.0\\\\\n",
      "CHI & r1 & 0.818 & 0.144 & 0.7\\\\\n",
      "r2 & CAME & 0.727 & 0.246 & 0.548\\\\\n",
      "r1 & IOWA & 0.075 & 0.406 & 0.045\\\\\n",
      "r2 & NWU & 0.182 & 0.404 & 0.108\\\\\n",
      "r3 & STAN & 0.455 & 0.211 & 0.359\\\\\n"
     ]
    }
   ],
   "source": [
    "\n",
    "for alter, prof in zip(alters_0,profs_0):\n",
    "    g1 =preference_indices[0].loc[alter][prof]\n",
    "    g2 =discordance[0].loc[alter][prof]\n",
    "    g3 = overall_preference[0].loc[alter][prof]\n",
    "    print(f'{alter} & {prof} & {round(g1,3)} & {round(g2,3)} & {round(g3,3)}\\\\\\\\')\n",
    "\n",
    "for alter, prof in zip(alters_1,profs_1):\n",
    "    g1 =preference_indices[1].loc[alter][prof]\n",
    "    g2 =discordance[1].loc[alter][prof]\n",
    "    g3 = overall_preference[1].loc[alter][prof]\n",
    "    print(f'{alter} & {prof} & {round(g1,3)} & {round(g2,3)} & {round(g3,3)}\\\\\\\\')"
   ],
   "metadata": {
    "collapsed": false
   }
  },
  {
   "cell_type": "code",
   "execution_count": null,
   "outputs": [],
   "source": [
    "discordance[1]"
   ],
   "metadata": {
    "collapsed": false
   }
  },
  {
   "cell_type": "code",
   "execution_count": null,
   "outputs": [],
   "source": [
    "overall_preference[0]"
   ],
   "metadata": {
    "collapsed": false
   }
  },
  {
   "cell_type": "code",
   "execution_count": null,
   "outputs": [],
   "source": [
    "\n",
    "alter = 'r3'\n",
    "prof = 'STAN'\n",
    "x= print(preference_indices[1].loc[alter][prof])\n",
    "z=print(discordance[1].loc[alter][prof])\n",
    "k =print(overall_preference[1].loc[alter][prof])\n",
    "print(x,z,k)\n",
    "# partial_discordance.loc[\"g1\"]\n",
    "### Overall Preference\n",
    "# partial_discordance[1]"
   ],
   "metadata": {
    "collapsed": false
   }
  },
  {
   "cell_type": "code",
   "execution_count": null,
   "outputs": [],
   "source": [
    "discordance_prof, partial_discordance_prof, overall_preference_prof = compute_discordance(\n",
    "    criteria,\n",
    "    partial_preference_indices_profiles, tau,\n",
    "    preferences=preference_indices_profiles,\n",
    "    were_categories_profiles=False)\n",
    "overall_preference_prof"
   ],
   "metadata": {
    "collapsed": false
   }
  },
  {
   "cell_type": "code",
   "execution_count": null,
   "outputs": [],
   "source": [
    "flows_alter = calculate_promethee_outranking_flows(overall_preference,\n",
    "                                                   FlowType.PROMETHEE_I)\n",
    "flows_alter"
   ],
   "metadata": {
    "collapsed": false
   }
  },
  {
   "cell_type": "code",
   "execution_count": null,
   "outputs": [],
   "source": [
    "flows_profiles = calculate_promethee_outranking_flows(overall_preference_prof,\n",
    "                                                      FlowType.PROMETHEE_I)\n",
    "flows_profiles"
   ],
   "metadata": {
    "collapsed": false
   }
  },
  {
   "cell_type": "code",
   "execution_count": null,
   "outputs": [],
   "source": [],
   "metadata": {
    "collapsed": false
   }
  },
  {
   "cell_type": "code",
   "execution_count": null,
   "outputs": [],
   "source": [
    "from core.enums import CompareProfiles\n",
    "from modular_parts.sorting import calculate_flowsortI_sorted_alternatives\n",
    "\n",
    "flow_sort1 = calculate_flowsortI_sorted_alternatives(categories,\n",
    "                                                     category_profiles_performances,\n",
    "                                                     criteria_directions,\n",
    "                                                     flows_alter,\n",
    "                                                     flows_profiles,\n",
    "                                                     CompareProfiles.CENTRAL_PROFILES)\n",
    "flow_sort1"
   ],
   "metadata": {
    "collapsed": false
   }
  },
  {
   "cell_type": "code",
   "execution_count": null,
   "outputs": [],
   "source": [],
   "metadata": {
    "collapsed": false,
    "pycharm": {
     "name": "#%%\n"
    }
   }
  }
 ],
 "metadata": {
  "kernelspec": {
   "display_name": "Python 3",
   "language": "python",
   "name": "python3"
  },
  "language_info": {
   "codemirror_mode": {
    "name": "ipython",
    "version": 2
   },
   "file_extension": ".py",
   "mimetype": "text/x-python",
   "name": "python",
   "nbconvert_exporter": "python",
   "pygments_lexer": "ipython2",
   "version": "2.7.6"
  }
 },
 "nbformat": 4,
 "nbformat_minor": 0
}