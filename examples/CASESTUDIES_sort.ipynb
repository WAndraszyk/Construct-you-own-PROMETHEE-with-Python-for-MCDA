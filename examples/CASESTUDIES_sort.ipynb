{
 "cells": [
  {
   "cell_type": "code",
   "execution_count": 21,
   "metadata": {
    "pycharm": {
     "name": "#%%\n"
    }
   },
   "outputs": [],
   "source": [
    "from modular_parts.M1_SurrogateWeights import surrogate_weights\n",
    "## Definition of inputs and problem formalization\n",
    "import pandas as pd\n",
    "from core.enums import Direction, GeneralCriterion, SurrogateMethod\n",
    "from modular_parts.M3_PrometheePreference import compute_preference_indices\n",
    "from modular_parts.M6_PrometheeDiscordance import compute_discordance\n",
    "from modular_parts.M8_PrometheeOutrankingFlows import calculate_promethee_outranking_flows\n",
    "from core.enums import FlowType\n",
    "alternatives = [\"LBS\", \"MIT\", \"YALE\", \"UNC\", \"TOR\", \"UCLA\", \"OXF\", \"MAR\",\n",
    "                \"CAME\",\n",
    "                \"CBS\", \"COR\", \"DUKE\", \"ESADE\", \"HARV\", \"IESA\", \"INSEAD\",\n",
    "                \"NYU\",\n",
    "                \"NWU\", \"ROTT\", \"STAN\", \"UCB\", \"CHI\", \"IOWA\", \"MICH\", \"PENN\",\n",
    "                \"ROCH\",\n",
    "                \"VIRG\", \"UWO\", \"VAND\", \"YORK\"]\n",
    "criteria = ['g1', 'g2', 'g3']\n",
    "criteria_directions = [Direction.MAX, Direction.MAX, Direction.MAX]\n",
    "\n",
    "criteria_weights = surrogate_weights(pd.Series([1,3,2],criteria), SurrogateMethod.RR)\n",
    "generalised_criteria = [GeneralCriterion.V_SHAPE_INDIFFERENCE,\n",
    "                        GeneralCriterion.V_SHAPE_INDIFFERENCE,\n",
    "                        GeneralCriterion.V_SHAPE_INDIFFERENCE]\n",
    "preference_thresholds = [3, 3, 3]\n",
    "indifference_thresholds = [0.5, 0.5, 0.5]\n",
    "alternatives_performances = [[68.78, 62.03, 59.87],\n",
    "                             [60.01, 24.1, 85.81],\n",
    "                             [79.01, 25.98, 51.84],\n",
    "                             [67.8, 22.45, 62.4],\n",
    "                             [59.34, 36.68, 60.79],\n",
    "                             [55.46, 21.52, 74.54],\n",
    "                             [57.04, 43.49, 47.12],\n",
    "                             [55.33, 25.28, 64.13],\n",
    "                             [54.02, 18.69, 71.93],\n",
    "                             [83.44, 32.94, 71.63],\n",
    "                             [60.54, 30.31, 55.99],\n",
    "                             [64.05, 27.25, 64.68],\n",
    "                             [54.61, 60.15, 14.45],\n",
    "                             [77.84, 29.05, 93.91],\n",
    "                             [61.99, 54.61, 40.04],\n",
    "                             [56.59, 70.74, 65.45],\n",
    "                             [68.24, 26.74, 80.4],\n",
    "                             [68.68, 24.52, 72.43],\n",
    "                             [51.2, 52.91, 42.98],\n",
    "                             [76.77, 28.52, 81.8],\n",
    "                             [61.26, 31.04, 73.69],\n",
    "                             [75.64, 23.57, 77.73],\n",
    "                             [58.25, 26.25, 46.81],\n",
    "                             [63.23, 28.36, 69.61],\n",
    "                             [77.11, 31.51, 91.59],\n",
    "                             [60.25, 29.6, 49.25],\n",
    "                             [76.49, 19.05, 37.68],\n",
    "                             [50.04, 40.55, 53.55],\n",
    "                             [64.67, 26.33, 35.14],\n",
    "                             [57.03, 50.73, 47.55],\n",
    "                             ]\n",
    "\n",
    "criteria_directions = pd.Series(criteria_directions, criteria)\n",
    "generalised_criteria = pd.Series(generalised_criteria, criteria)\n",
    "preference_thresholds = pd.Series(preference_thresholds, criteria)\n",
    "indifference_thresholds = pd.Series(indifference_thresholds, criteria)\n",
    "standard_deviations = pd.Series([None]*3, criteria)\n",
    "\n",
    "alternatives_performances = pd.DataFrame(data=alternatives_performances,\n",
    "                                         index=alternatives, columns=criteria)\n",
    "\n"
   ]
  },
  {
   "cell_type": "code",
   "execution_count": 22,
   "metadata": {
    "pycharm": {
     "name": "#%%\n"
    }
   },
   "outputs": [
    {
     "data": {
      "text/html": [
       "<div>\n",
       "<style scoped>\n",
       "    .dataframe tbody tr th:only-of-type {\n",
       "        vertical-align: middle;\n",
       "    }\n",
       "\n",
       "    .dataframe tbody tr th {\n",
       "        vertical-align: top;\n",
       "    }\n",
       "\n",
       "    .dataframe thead th {\n",
       "        text-align: right;\n",
       "    }\n",
       "</style>\n",
       "<table border=\"1\" class=\"dataframe\">\n",
       "  <thead>\n",
       "    <tr style=\"text-align: right;\">\n",
       "      <th></th>\n",
       "      <th>g1</th>\n",
       "      <th>g2</th>\n",
       "      <th>g3</th>\n",
       "    </tr>\n",
       "  </thead>\n",
       "  <tbody>\n",
       "    <tr>\n",
       "      <th>r1</th>\n",
       "      <td>56</td>\n",
       "      <td>25</td>\n",
       "      <td>48</td>\n",
       "    </tr>\n",
       "    <tr>\n",
       "      <th>r2</th>\n",
       "      <td>68</td>\n",
       "      <td>38</td>\n",
       "      <td>70</td>\n",
       "    </tr>\n",
       "    <tr>\n",
       "      <th>r3</th>\n",
       "      <td>75</td>\n",
       "      <td>45</td>\n",
       "      <td>85</td>\n",
       "    </tr>\n",
       "  </tbody>\n",
       "</table>\n",
       "</div>"
      ],
      "text/plain": [
       "    g1  g2  g3\n",
       "r1  56  25  48\n",
       "r2  68  38  70\n",
       "r3  75  45  85"
      ]
     },
     "execution_count": 22,
     "metadata": {},
     "output_type": "execute_result"
    }
   ],
   "source": [
    "categories = [f\"C{i}\" for i in range(1, 4)]\n",
    "profiles = [f\"r{i}\" for i in range(1, 4)]\n",
    "category_profiles_performances = pd.DataFrame([[56,25,48], [68,38,70], [75,45,85]],\n",
    "                                               index=profiles, columns=criteria)\n",
    "category_profiles_performances"
   ]
  },
  {
   "cell_type": "code",
   "execution_count": 23,
   "metadata": {
    "pycharm": {
     "name": "#%%\n"
    }
   },
   "outputs": [
    {
     "data": {
      "text/plain": [
       "(           r1     r2     r3\n",
       " LBS     1.000  0.243  0.182\n",
       " MIT     0.818  0.273  0.034\n",
       " YALE    0.853  0.545  0.545\n",
       " UNC     0.818  0.000  0.000\n",
       " TOR     1.000  0.000  0.000\n",
       " UCLA    0.273  0.273  0.000\n",
       " OXF     0.300  0.182  0.000\n",
       " MAR     0.273  0.000  0.000\n",
       " CAME    0.273  0.156  0.000\n",
       " CBS     1.000  0.668  0.545\n",
       " COR     1.000  0.000  0.000\n",
       " DUKE    0.945  0.000  0.000\n",
       " ESADE   0.182  0.182  0.182\n",
       " HARV    1.000  0.818  0.783\n",
       " IESA    0.727  0.182  0.182\n",
       " INSEAD  0.475  0.182  0.182\n",
       " NYU     0.908  0.273  0.000\n",
       " NWU     0.818  0.250  0.000\n",
       " ROTT    0.182  0.182  0.182\n",
       " STAN    1.000  0.818  0.277\n",
       " UCB     1.000  0.273  0.000\n",
       " CHI     0.818  0.818  0.031\n",
       " IOWA    0.436  0.000  0.000\n",
       " MICH    1.000  0.000  0.000\n",
       " PENN    1.000  0.818  0.624\n",
       " ROCH    0.809  0.000  0.000\n",
       " VIRG    0.545  0.545  0.216\n",
       " UWO     0.455  0.149  0.000\n",
       " VAND    0.605  0.000  0.000\n",
       " YORK    0.298  0.182  0.182,\n",
       "       LBS    MIT   YALE    UNC    TOR   UCLA    OXF    MAR   CAME    CBS  ...  \\\n",
       " r1  0.000  0.029  0.000  0.149  0.000  0.191  0.041  0.037  0.505  0.000  ...   \n",
       " r2  0.273  0.727  0.455  0.455  0.878  0.727  0.818  1.000  0.727  0.182  ...   \n",
       " r3  0.818  0.727  0.455  1.000  1.000  1.000  0.892  1.000  1.000  0.455  ...   \n",
       " \n",
       "       UCB    CHI   IOWA   MICH   PENN  ROCH   VIRG    UWO   VAND   YORK  \n",
       " r1  0.000  0.068  0.075  0.000  0.000   0.0  0.455  0.545  0.273  0.000  \n",
       " r2  0.727  0.182  1.000  0.727  0.182   1.0  0.455  0.818  1.000  0.818  \n",
       " r3  1.000  0.455  1.000  1.000  0.182   1.0  0.455  1.000  1.000  0.818  \n",
       " \n",
       " [3 rows x 30 columns])"
      ]
     },
     "execution_count": 23,
     "metadata": {},
     "output_type": "execute_result"
    }
   ],
   "source": [
    "## Promethee Preference\n",
    "preference_indices, partial_preference_indices = compute_preference_indices(\n",
    "    alternatives_performances, preference_thresholds, indifference_thresholds,\n",
    "    standard_deviations, generalised_criteria,\n",
    "    criteria_directions, criteria_weights, category_profiles_performances)\n",
    "\n",
    "preference_indices\n",
    "# Promethee Discordance\n"
   ]
  },
  {
   "cell_type": "code",
   "execution_count": 24,
   "metadata": {
    "pycharm": {
     "name": "#%%\n"
    }
   },
   "outputs": [
    {
     "data": {
      "text/plain": [
       "(     r1   r2   r3\n",
       " r1  0.0  0.0  0.0\n",
       " r2  1.0  0.0  0.0\n",
       " r3  1.0  1.0  0.0,\n",
       "      r1   r2   r3\n",
       " r1  0.0  0.0  0.0\n",
       " r2  1.0  0.0  0.0\n",
       " r3  1.0  1.0  0.0)"
      ]
     },
     "execution_count": 24,
     "metadata": {},
     "output_type": "execute_result"
    }
   ],
   "source": [
    "preference_indices_profiles, partial_preference_indices_profiles = compute_preference_indices(\n",
    "    category_profiles_performances, preference_thresholds, indifference_thresholds,\n",
    "    standard_deviations, generalised_criteria,\n",
    "    criteria_directions, criteria_weights, category_profiles_performances)\n",
    "\n",
    "preference_indices_profiles"
   ]
  },
  {
   "cell_type": "code",
   "execution_count": 25,
   "metadata": {
    "pycharm": {
     "name": "#%%\n"
    }
   },
   "outputs": [
    {
     "data": {
      "text/plain": [
       "(           r1     r2     r3\n",
       " LBS     1.000  0.243  0.182\n",
       " MIT     0.818  0.273  0.034\n",
       " YALE    0.853  0.545  0.545\n",
       " UNC     0.818  0.000  0.000\n",
       " TOR     1.000  0.000  0.000\n",
       " UCLA    0.273  0.273  0.000\n",
       " OXF     0.300  0.182  0.000\n",
       " MAR     0.273  0.000  0.000\n",
       " CAME    0.273  0.156  0.000\n",
       " CBS     1.000  0.668  0.545\n",
       " COR     1.000  0.000  0.000\n",
       " DUKE    0.945  0.000  0.000\n",
       " ESADE   0.182  0.182  0.182\n",
       " HARV    1.000  0.818  0.783\n",
       " IESA    0.727  0.182  0.182\n",
       " INSEAD  0.475  0.182  0.182\n",
       " NYU     0.908  0.273  0.000\n",
       " NWU     0.818  0.250  0.000\n",
       " ROTT    0.182  0.182  0.182\n",
       " STAN    1.000  0.818  0.277\n",
       " UCB     1.000  0.273  0.000\n",
       " CHI     0.818  0.818  0.031\n",
       " IOWA    0.436  0.000  0.000\n",
       " MICH    1.000  0.000  0.000\n",
       " PENN    1.000  0.818  0.624\n",
       " ROCH    0.809  0.000  0.000\n",
       " VIRG    0.545  0.545  0.216\n",
       " UWO     0.455  0.149  0.000\n",
       " VAND    0.605  0.000  0.000\n",
       " YORK    0.298  0.182  0.182,\n",
       "       LBS    MIT   YALE    UNC    TOR   UCLA    OXF    MAR   CAME    CBS  ...  \\\n",
       " r1  0.000  0.029  0.000  0.149  0.000  0.191  0.041  0.037  0.505  0.000  ...   \n",
       " r2  0.273  0.727  0.455  0.455  0.878  0.727  0.818  1.000  0.727  0.182  ...   \n",
       " r3  0.818  0.727  0.455  1.000  1.000  1.000  0.892  1.000  1.000  0.455  ...   \n",
       " \n",
       "       UCB    CHI   IOWA   MICH   PENN  ROCH   VIRG    UWO   VAND   YORK  \n",
       " r1  0.000  0.068  0.075  0.000  0.000   0.0  0.455  0.545  0.273  0.000  \n",
       " r2  0.727  0.182  1.000  0.727  0.182   1.0  0.455  0.818  1.000  0.818  \n",
       " r3  1.000  0.455  1.000  1.000  0.182   1.0  0.455  1.000  1.000  0.818  \n",
       " \n",
       " [3 rows x 30 columns])"
      ]
     },
     "execution_count": 25,
     "metadata": {},
     "output_type": "execute_result"
    }
   ],
   "source": [
    "preference_indices"
   ]
  },
  {
   "cell_type": "code",
   "execution_count": 26,
   "metadata": {
    "pycharm": {
     "name": "#%%\n"
    }
   },
   "outputs": [
    {
     "data": {
      "text/plain": [
       "(          r1   r2   r3\n",
       " g1 LBS   0.0  0.0  1.0\n",
       "    MIT   0.0  1.0  1.0\n",
       "    YALE  0.0  0.0  0.0\n",
       "    UNC   0.0  0.0  1.0\n",
       "    TOR   0.0  1.0  1.0\n",
       " ...      ...  ...  ...\n",
       " g3 ROCH  0.0  1.0  1.0\n",
       "    VIRG  1.0  1.0  1.0\n",
       "    UWO   0.0  1.0  1.0\n",
       "    VAND  1.0  1.0  1.0\n",
       "    YORK  0.0  1.0  1.0\n",
       " \n",
       " [90 rows x 3 columns],\n",
       "          LBS    MIT   YALE  UNC  TOR  UCLA    OXF  MAR   CAME    CBS  ...  \\\n",
       " g1 r1  1.000  1.000  1.000  1.0  1.0   0.0  0.216  0.0  0.000  1.000  ...   \n",
       "    r2  0.112  0.000  1.000  0.0  0.0   0.0  0.000  0.0  0.000  1.000  ...   \n",
       "    r3  0.000  0.000  1.000  0.0  0.0   0.0  0.000  0.0  0.000  1.000  ...   \n",
       " g2 r1  1.000  0.000  0.192  0.0  1.0   0.0  1.000  0.0  0.000  1.000  ...   \n",
       "    r2  1.000  0.000  0.000  0.0  0.0   0.0  1.000  0.0  0.000  0.000  ...   \n",
       "    r3  1.000  0.000  0.000  0.0  0.0   0.0  0.000  0.0  0.000  0.000  ...   \n",
       " g3 r1  1.000  1.000  1.000  1.0  1.0   1.0  0.000  1.0  1.000  1.000  ...   \n",
       "    r2  0.000  1.000  0.000  0.0  0.0   1.0  0.000  0.0  0.572  0.452  ...   \n",
       "    r3  0.000  0.124  0.000  0.0  0.0   0.0  0.000  0.0  0.000  0.000  ...   \n",
       " \n",
       "        UCB    CHI  IOWA  MICH   PENN  ROCH   VIRG   UWO   VAND   YORK  \n",
       " g1 r1  1.0  1.000   0.7   1.0  1.000   1.0  1.000  0.00  1.000  0.212  \n",
       "    r2  0.0  1.000   0.0   0.0  1.000   0.0  1.000  0.00  0.000  0.000  \n",
       "    r3  0.0  0.056   0.0   0.0  0.644   0.0  0.396  0.00  0.000  0.000  \n",
       " g2 r1  1.0  0.000   0.3   1.0  1.000   1.0  0.000  1.00  0.332  1.000  \n",
       "    r2  0.0  0.000   0.0   0.0  0.000   0.0  0.000  0.82  0.000  1.000  \n",
       "    r3  0.0  0.000   0.0   0.0  0.000   0.0  0.000  0.00  0.000  1.000  \n",
       " g3 r1  1.0  1.000   0.0   1.0  1.000   0.3  0.000  1.00  0.000  0.000  \n",
       "    r2  1.0  1.000   0.0   0.0  1.000   0.0  0.000  0.00  0.000  0.000  \n",
       "    r3  0.0  0.000   0.0   0.0  1.000   0.0  0.000  0.00  0.000  0.000  \n",
       " \n",
       " [9 rows x 30 columns])"
      ]
     },
     "execution_count": 26,
     "metadata": {},
     "output_type": "execute_result"
    }
   ],
   "source": [
    "## Discordance\n",
    "tau = 1\n",
    "discordance, partial_discordance, overall_preference = compute_discordance(criteria,\n",
    "                                                       partial_preference_indices, tau,\n",
    "                                                       preferences=preference_indices,\n",
    "                                                        were_categories_profiles=True)\n",
    "partial_discordance\n",
    "# partial_discordance.loc[\"g1\"]\n",
    "### Overall Preference"
   ]
  },
  {
   "cell_type": "code",
   "execution_count": 27,
   "metadata": {
    "pycharm": {
     "name": "#%%\n"
    }
   },
   "outputs": [
    {
     "data": {
      "text/plain": [
       "(           r1   r2   r3\n",
       " LBS     0.000  1.0  1.0\n",
       " MIT     0.056  1.0  1.0\n",
       " YALE    0.000  1.0  1.0\n",
       " UNC     0.435  1.0  1.0\n",
       " TOR     0.000  1.0  1.0\n",
       " UCLA    1.000  1.0  1.0\n",
       " OXF     0.053  1.0  1.0\n",
       " MAR     0.023  1.0  1.0\n",
       " CAME    1.000  1.0  1.0\n",
       " CBS     0.000  1.0  1.0\n",
       " COR     0.000  1.0  1.0\n",
       " DUKE    0.000  1.0  1.0\n",
       " ESADE   1.000  1.0  1.0\n",
       " HARV    0.000  1.0  1.0\n",
       " IESA    1.000  1.0  1.0\n",
       " INSEAD  0.000  1.0  1.0\n",
       " NYU     0.000  1.0  1.0\n",
       " NWU     0.000  1.0  1.0\n",
       " ROTT    1.000  1.0  1.0\n",
       " STAN    0.000  1.0  1.0\n",
       " UCB     0.000  1.0  1.0\n",
       " CHI     0.144  1.0  1.0\n",
       " IOWA    0.102  1.0  1.0\n",
       " MICH    0.000  1.0  1.0\n",
       " PENN    0.000  1.0  1.0\n",
       " ROCH    0.000  1.0  1.0\n",
       " VIRG    1.000  1.0  1.0\n",
       " UWO     1.000  1.0  1.0\n",
       " VAND    1.000  1.0  1.0\n",
       " YORK    0.000  1.0  1.0,\n",
       "     LBS    MIT  YALE  UNC  TOR  UCLA  OXF  MAR   CAME  CBS  ...  UCB    CHI  \\\n",
       " r1  1.0  1.000   1.0  1.0  1.0   1.0  1.0  1.0  1.000  1.0  ...  1.0  1.000   \n",
       " r2  1.0  1.000   1.0  0.0  0.0   1.0  1.0  0.0  0.246  1.0  ...  1.0  1.000   \n",
       " r3  1.0  0.043   1.0  0.0  0.0   0.0  0.0  0.0  0.000  1.0  ...  0.0  0.019   \n",
       " \n",
       "      IOWA  MICH  PENN  ROCH   VIRG    UWO  VAND  YORK  \n",
       " r1  0.406   1.0   1.0   1.0  1.000  1.000   1.0   1.0  \n",
       " r2  0.000   0.0   1.0   0.0  1.000  0.435   0.0   1.0  \n",
       " r3  0.000   0.0   1.0   0.0  0.155  0.000   0.0   1.0  \n",
       " \n",
       " [3 rows x 30 columns])"
      ]
     },
     "execution_count": 27,
     "metadata": {},
     "output_type": "execute_result"
    }
   ],
   "source": [
    "discordance  # widzi star wartosc"
   ]
  },
  {
   "cell_type": "code",
   "execution_count": 28,
   "metadata": {
    "pycharm": {
     "name": "#%%\n"
    }
   },
   "outputs": [
    {
     "data": {
      "text/plain": [
       "(     r1   r2   r3\n",
       " r1  0.0  0.0  0.0\n",
       " r2  1.0  0.0  0.0\n",
       " r3  1.0  1.0  0.0,\n",
       "      r1   r2   r3\n",
       " r1  0.0  0.0  0.0\n",
       " r2  1.0  0.0  0.0\n",
       " r3  1.0  1.0  0.0)"
      ]
     },
     "execution_count": 28,
     "metadata": {},
     "output_type": "execute_result"
    }
   ],
   "source": [
    "discordance_prof, partial_discordance_prof, overall_preference_prof = compute_discordance(criteria,\n",
    "                                                       partial_preference_indices_profiles, tau,\n",
    "                                                       preferences=preference_indices_profiles,\n",
    "                                                        were_categories_profiles=True)\n",
    "overall_preference_prof"
   ]
  },
  {
   "cell_type": "code",
   "execution_count": 29,
   "metadata": {
    "pycharm": {
     "name": "#%%\n"
    }
   },
   "outputs": [],
   "source": [
    "flows_alter = calculate_promethee_outranking_flows(overall_preference, FlowType.BASIC)"
   ]
  },
  {
   "cell_type": "code",
   "execution_count": 30,
   "metadata": {
    "pycharm": {
     "name": "#%%\n"
    }
   },
   "outputs": [
    {
     "data": {
      "text/html": [
       "<div>\n",
       "<style scoped>\n",
       "    .dataframe tbody tr th:only-of-type {\n",
       "        vertical-align: middle;\n",
       "    }\n",
       "\n",
       "    .dataframe tbody tr th {\n",
       "        vertical-align: top;\n",
       "    }\n",
       "\n",
       "    .dataframe thead th {\n",
       "        text-align: right;\n",
       "    }\n",
       "</style>\n",
       "<table border=\"1\" class=\"dataframe\">\n",
       "  <thead>\n",
       "    <tr style=\"text-align: right;\">\n",
       "      <th></th>\n",
       "      <th>positive</th>\n",
       "      <th>negative</th>\n",
       "    </tr>\n",
       "  </thead>\n",
       "  <tbody>\n",
       "    <tr>\n",
       "      <th>r1</th>\n",
       "      <td>0.000000</td>\n",
       "      <td>0.666667</td>\n",
       "    </tr>\n",
       "    <tr>\n",
       "      <th>r2</th>\n",
       "      <td>0.333333</td>\n",
       "      <td>0.333333</td>\n",
       "    </tr>\n",
       "    <tr>\n",
       "      <th>r3</th>\n",
       "      <td>0.666667</td>\n",
       "      <td>0.000000</td>\n",
       "    </tr>\n",
       "  </tbody>\n",
       "</table>\n",
       "</div>"
      ],
      "text/plain": [
       "    positive  negative\n",
       "r1  0.000000  0.666667\n",
       "r2  0.333333  0.333333\n",
       "r3  0.666667  0.000000"
      ]
     },
     "execution_count": 30,
     "metadata": {},
     "output_type": "execute_result"
    }
   ],
   "source": [
    "flows_profiles = calculate_promethee_outranking_flows(overall_preference_prof, FlowType.BASIC)\n",
    "flows_profiles"
   ]
  }
 ],
 "metadata": {
  "kernelspec": {
   "display_name": "Python 3 (ipykernel)",
   "language": "python",
   "name": "python3"
  },
  "language_info": {
   "codemirror_mode": {
    "name": "ipython",
    "version": 3
   },
   "file_extension": ".py",
   "mimetype": "text/x-python",
   "name": "python",
   "nbconvert_exporter": "python",
   "pygments_lexer": "ipython3",
   "version": "3.9.11"
  }
 },
 "nbformat": 4,
 "nbformat_minor": 1
}