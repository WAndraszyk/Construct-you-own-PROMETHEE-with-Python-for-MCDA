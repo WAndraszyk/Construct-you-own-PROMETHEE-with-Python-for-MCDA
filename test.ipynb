{
 "cells": [
  {
   "cell_type": "code",
   "execution_count": 1,
   "metadata": {
    "collapsed": true
   },
   "outputs": [
    {
     "name": "stdout",
     "output_type": "stream",
     "text": [
      "g1    7\n",
      "g2    1\n",
      "g3    3\n",
      "g4    2\n",
      "g5    4\n",
      "g6    5\n",
      "g7    6\n",
      "dtype: int64\n",
      "g1    0.036\n",
      "g2    0.250\n",
      "g3    0.179\n",
      "g4    0.214\n",
      "g5    0.143\n",
      "g6    0.107\n",
      "g7    0.071\n",
      "dtype: float64\n",
      "----------------------PREFERENCE--------------\n",
      "<class 'pandas.core.frame.DataFrame'>\n"
     ]
    },
    {
     "data": {
      "text/plain": "                        a1   a2   a3   a4   a5   a6   a7   a8   a9  a10  ...  \\\ncriteria alternatives                                                    ...   \ng1       a1            0.0  1.0  0.0  1.0  1.0  1.0  1.0  1.0  1.0  1.0  ...   \n         a2            0.0  0.0  0.0  0.0  1.0  0.0  0.0  0.0  1.0  0.0  ...   \n         a3            0.0  1.0  0.0  1.0  1.0  1.0  1.0  1.0  1.0  1.0  ...   \n         a4            0.0  1.0  0.0  0.0  1.0  0.0  0.0  0.0  1.0  0.0  ...   \n         a5            0.0  0.0  0.0  0.0  0.0  0.0  0.0  0.0  1.0  0.0  ...   \n...                    ...  ...  ...  ...  ...  ...  ...  ...  ...  ...  ...   \ng7       a36           0.0  0.0  0.0  0.0  0.0  0.0  0.0  0.0  0.0  0.0  ...   \n         a37           0.0  0.0  0.0  0.0  0.0  0.0  0.0  0.0  0.0  0.0  ...   \n         a38           0.0  0.0  0.0  0.0  0.0  0.0  0.0  0.0  0.0  0.0  ...   \n         a39           0.0  0.0  0.0  0.0  0.0  0.0  0.0  0.0  0.0  0.0  ...   \n         a40           0.0  0.0  0.0  0.0  0.0  0.0  0.0  0.0  0.0  0.0  ...   \n\n                       a31  a32  a33  a34  a35  a36  a37  a38  a39  a40  \ncriteria alternatives                                                    \ng1       a1            1.0  1.0  1.0  1.0  1.0  1.0  1.0  1.0  1.0  1.0  \n         a2            0.0  1.0  0.0  0.0  1.0  1.0  1.0  1.0  1.0  1.0  \n         a3            1.0  1.0  1.0  1.0  1.0  1.0  1.0  1.0  1.0  1.0  \n         a4            0.0  1.0  0.0  0.7  1.0  1.0  1.0  1.0  1.0  1.0  \n         a5            0.0  1.0  0.0  0.0  0.0  1.0  1.0  1.0  1.0  0.0  \n...                    ...  ...  ...  ...  ...  ...  ...  ...  ...  ...  \ng7       a36           0.0  0.0  0.0  0.0  0.0  0.0  0.0  0.0  0.0  0.0  \n         a37           0.0  0.0  0.0  0.0  0.0  0.0  0.0  0.0  0.0  0.0  \n         a38           0.0  0.0  0.0  0.0  0.0  1.0  1.0  0.0  1.0  1.0  \n         a39           0.0  0.0  0.0  0.0  0.0  0.0  0.0  0.0  0.0  0.0  \n         a40           0.0  0.0  0.0  0.0  0.0  0.0  0.0  0.0  0.0  0.0  \n\n[280 rows x 40 columns]",
      "text/html": "<div>\n<style scoped>\n    .dataframe tbody tr th:only-of-type {\n        vertical-align: middle;\n    }\n\n    .dataframe tbody tr th {\n        vertical-align: top;\n    }\n\n    .dataframe thead th {\n        text-align: right;\n    }\n</style>\n<table border=\"1\" class=\"dataframe\">\n  <thead>\n    <tr style=\"text-align: right;\">\n      <th></th>\n      <th></th>\n      <th>a1</th>\n      <th>a2</th>\n      <th>a3</th>\n      <th>a4</th>\n      <th>a5</th>\n      <th>a6</th>\n      <th>a7</th>\n      <th>a8</th>\n      <th>a9</th>\n      <th>a10</th>\n      <th>...</th>\n      <th>a31</th>\n      <th>a32</th>\n      <th>a33</th>\n      <th>a34</th>\n      <th>a35</th>\n      <th>a36</th>\n      <th>a37</th>\n      <th>a38</th>\n      <th>a39</th>\n      <th>a40</th>\n    </tr>\n    <tr>\n      <th>criteria</th>\n      <th>alternatives</th>\n      <th></th>\n      <th></th>\n      <th></th>\n      <th></th>\n      <th></th>\n      <th></th>\n      <th></th>\n      <th></th>\n      <th></th>\n      <th></th>\n      <th></th>\n      <th></th>\n      <th></th>\n      <th></th>\n      <th></th>\n      <th></th>\n      <th></th>\n      <th></th>\n      <th></th>\n      <th></th>\n      <th></th>\n    </tr>\n  </thead>\n  <tbody>\n    <tr>\n      <th rowspan=\"5\" valign=\"top\">g1</th>\n      <th>a1</th>\n      <td>0.0</td>\n      <td>1.0</td>\n      <td>0.0</td>\n      <td>1.0</td>\n      <td>1.0</td>\n      <td>1.0</td>\n      <td>1.0</td>\n      <td>1.0</td>\n      <td>1.0</td>\n      <td>1.0</td>\n      <td>...</td>\n      <td>1.0</td>\n      <td>1.0</td>\n      <td>1.0</td>\n      <td>1.0</td>\n      <td>1.0</td>\n      <td>1.0</td>\n      <td>1.0</td>\n      <td>1.0</td>\n      <td>1.0</td>\n      <td>1.0</td>\n    </tr>\n    <tr>\n      <th>a2</th>\n      <td>0.0</td>\n      <td>0.0</td>\n      <td>0.0</td>\n      <td>0.0</td>\n      <td>1.0</td>\n      <td>0.0</td>\n      <td>0.0</td>\n      <td>0.0</td>\n      <td>1.0</td>\n      <td>0.0</td>\n      <td>...</td>\n      <td>0.0</td>\n      <td>1.0</td>\n      <td>0.0</td>\n      <td>0.0</td>\n      <td>1.0</td>\n      <td>1.0</td>\n      <td>1.0</td>\n      <td>1.0</td>\n      <td>1.0</td>\n      <td>1.0</td>\n    </tr>\n    <tr>\n      <th>a3</th>\n      <td>0.0</td>\n      <td>1.0</td>\n      <td>0.0</td>\n      <td>1.0</td>\n      <td>1.0</td>\n      <td>1.0</td>\n      <td>1.0</td>\n      <td>1.0</td>\n      <td>1.0</td>\n      <td>1.0</td>\n      <td>...</td>\n      <td>1.0</td>\n      <td>1.0</td>\n      <td>1.0</td>\n      <td>1.0</td>\n      <td>1.0</td>\n      <td>1.0</td>\n      <td>1.0</td>\n      <td>1.0</td>\n      <td>1.0</td>\n      <td>1.0</td>\n    </tr>\n    <tr>\n      <th>a4</th>\n      <td>0.0</td>\n      <td>1.0</td>\n      <td>0.0</td>\n      <td>0.0</td>\n      <td>1.0</td>\n      <td>0.0</td>\n      <td>0.0</td>\n      <td>0.0</td>\n      <td>1.0</td>\n      <td>0.0</td>\n      <td>...</td>\n      <td>0.0</td>\n      <td>1.0</td>\n      <td>0.0</td>\n      <td>0.7</td>\n      <td>1.0</td>\n      <td>1.0</td>\n      <td>1.0</td>\n      <td>1.0</td>\n      <td>1.0</td>\n      <td>1.0</td>\n    </tr>\n    <tr>\n      <th>a5</th>\n      <td>0.0</td>\n      <td>0.0</td>\n      <td>0.0</td>\n      <td>0.0</td>\n      <td>0.0</td>\n      <td>0.0</td>\n      <td>0.0</td>\n      <td>0.0</td>\n      <td>1.0</td>\n      <td>0.0</td>\n      <td>...</td>\n      <td>0.0</td>\n      <td>1.0</td>\n      <td>0.0</td>\n      <td>0.0</td>\n      <td>0.0</td>\n      <td>1.0</td>\n      <td>1.0</td>\n      <td>1.0</td>\n      <td>1.0</td>\n      <td>0.0</td>\n    </tr>\n    <tr>\n      <th>...</th>\n      <th>...</th>\n      <td>...</td>\n      <td>...</td>\n      <td>...</td>\n      <td>...</td>\n      <td>...</td>\n      <td>...</td>\n      <td>...</td>\n      <td>...</td>\n      <td>...</td>\n      <td>...</td>\n      <td>...</td>\n      <td>...</td>\n      <td>...</td>\n      <td>...</td>\n      <td>...</td>\n      <td>...</td>\n      <td>...</td>\n      <td>...</td>\n      <td>...</td>\n      <td>...</td>\n      <td>...</td>\n    </tr>\n    <tr>\n      <th rowspan=\"5\" valign=\"top\">g7</th>\n      <th>a36</th>\n      <td>0.0</td>\n      <td>0.0</td>\n      <td>0.0</td>\n      <td>0.0</td>\n      <td>0.0</td>\n      <td>0.0</td>\n      <td>0.0</td>\n      <td>0.0</td>\n      <td>0.0</td>\n      <td>0.0</td>\n      <td>...</td>\n      <td>0.0</td>\n      <td>0.0</td>\n      <td>0.0</td>\n      <td>0.0</td>\n      <td>0.0</td>\n      <td>0.0</td>\n      <td>0.0</td>\n      <td>0.0</td>\n      <td>0.0</td>\n      <td>0.0</td>\n    </tr>\n    <tr>\n      <th>a37</th>\n      <td>0.0</td>\n      <td>0.0</td>\n      <td>0.0</td>\n      <td>0.0</td>\n      <td>0.0</td>\n      <td>0.0</td>\n      <td>0.0</td>\n      <td>0.0</td>\n      <td>0.0</td>\n      <td>0.0</td>\n      <td>...</td>\n      <td>0.0</td>\n      <td>0.0</td>\n      <td>0.0</td>\n      <td>0.0</td>\n      <td>0.0</td>\n      <td>0.0</td>\n      <td>0.0</td>\n      <td>0.0</td>\n      <td>0.0</td>\n      <td>0.0</td>\n    </tr>\n    <tr>\n      <th>a38</th>\n      <td>0.0</td>\n      <td>0.0</td>\n      <td>0.0</td>\n      <td>0.0</td>\n      <td>0.0</td>\n      <td>0.0</td>\n      <td>0.0</td>\n      <td>0.0</td>\n      <td>0.0</td>\n      <td>0.0</td>\n      <td>...</td>\n      <td>0.0</td>\n      <td>0.0</td>\n      <td>0.0</td>\n      <td>0.0</td>\n      <td>0.0</td>\n      <td>1.0</td>\n      <td>1.0</td>\n      <td>0.0</td>\n      <td>1.0</td>\n      <td>1.0</td>\n    </tr>\n    <tr>\n      <th>a39</th>\n      <td>0.0</td>\n      <td>0.0</td>\n      <td>0.0</td>\n      <td>0.0</td>\n      <td>0.0</td>\n      <td>0.0</td>\n      <td>0.0</td>\n      <td>0.0</td>\n      <td>0.0</td>\n      <td>0.0</td>\n      <td>...</td>\n      <td>0.0</td>\n      <td>0.0</td>\n      <td>0.0</td>\n      <td>0.0</td>\n      <td>0.0</td>\n      <td>0.0</td>\n      <td>0.0</td>\n      <td>0.0</td>\n      <td>0.0</td>\n      <td>0.0</td>\n    </tr>\n    <tr>\n      <th>a40</th>\n      <td>0.0</td>\n      <td>0.0</td>\n      <td>0.0</td>\n      <td>0.0</td>\n      <td>0.0</td>\n      <td>0.0</td>\n      <td>0.0</td>\n      <td>0.0</td>\n      <td>0.0</td>\n      <td>0.0</td>\n      <td>...</td>\n      <td>0.0</td>\n      <td>0.0</td>\n      <td>0.0</td>\n      <td>0.0</td>\n      <td>0.0</td>\n      <td>0.0</td>\n      <td>0.0</td>\n      <td>0.0</td>\n      <td>0.0</td>\n      <td>0.0</td>\n    </tr>\n  </tbody>\n</table>\n<p>280 rows × 40 columns</p>\n</div>"
     },
     "execution_count": 1,
     "metadata": {},
     "output_type": "execute_result"
    }
   ],
   "source": [
    "from PandasModularParts.pd_M1_SurrogateWeights import SurrogateWeights\n",
    "import pandas as pd\n",
    "from ModularParts.M5_PrometheePreferenceWithInteractions import PrometheePreferenceWithInteractions\n",
    "from PandasModularParts.pd_M3_PrometheePreference import PrometheePreference\n",
    "from Tests.DecisionProblemData import *\n",
    "\n",
    "criteria = ['g1', 'g2', 'g3', 'g4', 'g5', 'g6', 'g7']\n",
    "ranking = SurrogateWeights(ranked_criteria=pd.Series(data=[7, 1, 3, 2, 4, 5, 6], index=criteria)).rank_sum()\n",
    "print(pd.Series(data=[7, 1, 3, 2, 4, 5, 6], index=criteria))\n",
    "print(ranking)\n",
    "preference, partial_preference = PrometheePreference(alternatives_performances=\n",
    "                                                     pd.DataFrame(data=alternatives_performances, index=alternatives,\n",
    "                                                                  columns=criteria), weights=ranking,\n",
    "                                                     criteria_features=df_criteria\n",
    "                                                     ).computePreferenceIndices()\n",
    "\n",
    "print(\"----------------------PREFERENCE--------------\")\n",
    "print(type(partial_preference))\n",
    "partial_preference\n"
   ]
  },
  {
   "cell_type": "code",
   "execution_count": 26,
   "outputs": [
    {
     "data": {
      "text/plain": "    criteria_weights  preference_thresholds  indifference_thresholds  \\\ng1             0.073                      2                        1   \ng2             0.370                      4                        4   \ng3             0.228                      3                        1   \ng4             0.109                      3                        0   \ng5             0.156                      3                        1   \ng6             0.020                      0                        0   \ng7             0.044                      0                        0   \n\n    reinforced_preferences  reinforcement_factors standard_deviations  \\\ng1                       4                    1.2                None   \ng2                       8                    1.2                None   \ng3                       6                    1.2                None   \ng4                       6                    1.3                None   \ng5                       6                    1.1                None   \ng6                       3                    1.1                None   \ng7                       3                    1.1                None   \n\n    criteria_directions  criteria_ranks  \\\ng1                    1               5   \ng2                    1               1   \ng3                    0               2   \ng4                    0               4   \ng5                    0               3   \ng6                    1               7   \ng7                    1               6   \n\n                       generalized_criteria  \ng1  PreferenceFunction.V_SHAPE_INDIFFERENCE  \ng2               PreferenceFunction.U_SHAPE  \ng3                 PreferenceFunction.LEVEL  \ng4               PreferenceFunction.V_SHAPE  \ng5  PreferenceFunction.V_SHAPE_INDIFFERENCE  \ng6                 PreferenceFunction.USUAL  \ng7                 PreferenceFunction.USUAL  ",
      "text/html": "<div>\n<style scoped>\n    .dataframe tbody tr th:only-of-type {\n        vertical-align: middle;\n    }\n\n    .dataframe tbody tr th {\n        vertical-align: top;\n    }\n\n    .dataframe thead th {\n        text-align: right;\n    }\n</style>\n<table border=\"1\" class=\"dataframe\">\n  <thead>\n    <tr style=\"text-align: right;\">\n      <th></th>\n      <th>criteria_weights</th>\n      <th>preference_thresholds</th>\n      <th>indifference_thresholds</th>\n      <th>reinforced_preferences</th>\n      <th>reinforcement_factors</th>\n      <th>standard_deviations</th>\n      <th>criteria_directions</th>\n      <th>criteria_ranks</th>\n      <th>generalized_criteria</th>\n    </tr>\n  </thead>\n  <tbody>\n    <tr>\n      <th>g1</th>\n      <td>0.073</td>\n      <td>2</td>\n      <td>1</td>\n      <td>4</td>\n      <td>1.2</td>\n      <td>None</td>\n      <td>1</td>\n      <td>5</td>\n      <td>PreferenceFunction.V_SHAPE_INDIFFERENCE</td>\n    </tr>\n    <tr>\n      <th>g2</th>\n      <td>0.370</td>\n      <td>4</td>\n      <td>4</td>\n      <td>8</td>\n      <td>1.2</td>\n      <td>None</td>\n      <td>1</td>\n      <td>1</td>\n      <td>PreferenceFunction.U_SHAPE</td>\n    </tr>\n    <tr>\n      <th>g3</th>\n      <td>0.228</td>\n      <td>3</td>\n      <td>1</td>\n      <td>6</td>\n      <td>1.2</td>\n      <td>None</td>\n      <td>0</td>\n      <td>2</td>\n      <td>PreferenceFunction.LEVEL</td>\n    </tr>\n    <tr>\n      <th>g4</th>\n      <td>0.109</td>\n      <td>3</td>\n      <td>0</td>\n      <td>6</td>\n      <td>1.3</td>\n      <td>None</td>\n      <td>0</td>\n      <td>4</td>\n      <td>PreferenceFunction.V_SHAPE</td>\n    </tr>\n    <tr>\n      <th>g5</th>\n      <td>0.156</td>\n      <td>3</td>\n      <td>1</td>\n      <td>6</td>\n      <td>1.1</td>\n      <td>None</td>\n      <td>0</td>\n      <td>3</td>\n      <td>PreferenceFunction.V_SHAPE_INDIFFERENCE</td>\n    </tr>\n    <tr>\n      <th>g6</th>\n      <td>0.020</td>\n      <td>0</td>\n      <td>0</td>\n      <td>3</td>\n      <td>1.1</td>\n      <td>None</td>\n      <td>1</td>\n      <td>7</td>\n      <td>PreferenceFunction.USUAL</td>\n    </tr>\n    <tr>\n      <th>g7</th>\n      <td>0.044</td>\n      <td>0</td>\n      <td>0</td>\n      <td>3</td>\n      <td>1.1</td>\n      <td>None</td>\n      <td>1</td>\n      <td>6</td>\n      <td>PreferenceFunction.USUAL</td>\n    </tr>\n  </tbody>\n</table>\n</div>"
     },
     "execution_count": 26,
     "metadata": {},
     "output_type": "execute_result"
    }
   ],
   "source": [
    "df_criteria = pd.DataFrame(zip(criteria_weights, preference_thresholds, indifference_thresholds,\n",
    "                               reinforced_preferences, reinforcement_factors, standard_deviations,\n",
    "                               criteria_directions, criteria_ranks, generalized_criteria),\n",
    "\n",
    "                           index=criteria,\n",
    "                           columns=['criteria_weights', 'preference_thresholds', 'indifference_thresholds',\n",
    "                                    'reinforced_preferences', 'reinforcement_factors', 'standard_deviations',\n",
    "                                    'criteria_directions', 'criteria_ranks', 'generalized_criteria'])\n",
    "df_criteria"
   ],
   "metadata": {
    "collapsed": false
   }
  },
  {
   "cell_type": "code",
   "execution_count": 12,
   "outputs": [
    {
     "ename": "ValueError",
     "evalue": "Length of names must match number of levels in MultiIndex.",
     "output_type": "error",
     "traceback": [
      "\u001B[1;31m---------------------------------------------------------------------------\u001B[0m",
      "\u001B[1;31mValueError\u001B[0m                                Traceback (most recent call last)",
      "Cell \u001B[1;32mIn [12], line 2\u001B[0m\n\u001B[0;32m      1\u001B[0m \u001B[38;5;28;01mimport\u001B[39;00m \u001B[38;5;21;01mpandas\u001B[39;00m \u001B[38;5;28;01mas\u001B[39;00m \u001B[38;5;21;01mpd\u001B[39;00m\n\u001B[1;32m----> 2\u001B[0m multi_index \u001B[38;5;241m=\u001B[39m pd\u001B[38;5;241m.\u001B[39mMultiIndex\u001B[38;5;241m.\u001B[39mfrom_tuples([\u001B[38;5;124m\"\u001B[39m\u001B[38;5;124mr0\u001B[39m\u001B[38;5;124m\"\u001B[39m,\n\u001B[0;32m      3\u001B[0m                                        \u001B[38;5;124m\"\u001B[39m\u001B[38;5;124mr1\u001B[39m\u001B[38;5;124m\"\u001B[39m],\n\u001B[0;32m      4\u001B[0m                                        names\u001B[38;5;241m=\u001B[39m[\u001B[38;5;124m'\u001B[39m\u001B[38;5;124mCourses\u001B[39m\u001B[38;5;124m'\u001B[39m])\n\u001B[0;32m      5\u001B[0m multi_index\n",
      "File \u001B[1;32m~\\AppData\\Roaming\\Python\\Python310\\site-packages\\pandas\\core\\indexes\\multi.py:206\u001B[0m, in \u001B[0;36mnames_compat.<locals>.new_meth\u001B[1;34m(self_or_cls, *args, **kwargs)\u001B[0m\n\u001B[0;32m    203\u001B[0m \u001B[38;5;28;01melif\u001B[39;00m \u001B[38;5;124m\"\u001B[39m\u001B[38;5;124mname\u001B[39m\u001B[38;5;124m\"\u001B[39m \u001B[38;5;129;01min\u001B[39;00m kwargs:\n\u001B[0;32m    204\u001B[0m     kwargs[\u001B[38;5;124m\"\u001B[39m\u001B[38;5;124mnames\u001B[39m\u001B[38;5;124m\"\u001B[39m] \u001B[38;5;241m=\u001B[39m kwargs\u001B[38;5;241m.\u001B[39mpop(\u001B[38;5;124m\"\u001B[39m\u001B[38;5;124mname\u001B[39m\u001B[38;5;124m\"\u001B[39m)\n\u001B[1;32m--> 206\u001B[0m \u001B[38;5;28;01mreturn\u001B[39;00m meth(self_or_cls, \u001B[38;5;241m*\u001B[39margs, \u001B[38;5;241m*\u001B[39m\u001B[38;5;241m*\u001B[39mkwargs)\n",
      "File \u001B[1;32m~\\AppData\\Roaming\\Python\\Python310\\site-packages\\pandas\\core\\indexes\\multi.py:581\u001B[0m, in \u001B[0;36mMultiIndex.from_tuples\u001B[1;34m(cls, tuples, sortorder, names)\u001B[0m\n\u001B[0;32m    578\u001B[0m     arrs \u001B[38;5;241m=\u001B[39m \u001B[38;5;28mzip\u001B[39m(\u001B[38;5;241m*\u001B[39mtuples)\n\u001B[0;32m    579\u001B[0m     arrays \u001B[38;5;241m=\u001B[39m cast(List[Sequence[Hashable]], arrs)\n\u001B[1;32m--> 581\u001B[0m \u001B[38;5;28;01mreturn\u001B[39;00m \u001B[38;5;28;43mcls\u001B[39;49m\u001B[38;5;241;43m.\u001B[39;49m\u001B[43mfrom_arrays\u001B[49m\u001B[43m(\u001B[49m\u001B[43marrays\u001B[49m\u001B[43m,\u001B[49m\u001B[43m \u001B[49m\u001B[43msortorder\u001B[49m\u001B[38;5;241;43m=\u001B[39;49m\u001B[43msortorder\u001B[49m\u001B[43m,\u001B[49m\u001B[43m \u001B[49m\u001B[43mnames\u001B[49m\u001B[38;5;241;43m=\u001B[39;49m\u001B[43mnames\u001B[49m\u001B[43m)\u001B[49m\n",
      "File \u001B[1;32m~\\AppData\\Roaming\\Python\\Python310\\site-packages\\pandas\\core\\indexes\\multi.py:494\u001B[0m, in \u001B[0;36mMultiIndex.from_arrays\u001B[1;34m(cls, arrays, sortorder, names)\u001B[0m\n\u001B[0;32m    491\u001B[0m \u001B[38;5;28;01mif\u001B[39;00m names \u001B[38;5;129;01mis\u001B[39;00m lib\u001B[38;5;241m.\u001B[39mno_default:\n\u001B[0;32m    492\u001B[0m     names \u001B[38;5;241m=\u001B[39m [\u001B[38;5;28mgetattr\u001B[39m(arr, \u001B[38;5;124m\"\u001B[39m\u001B[38;5;124mname\u001B[39m\u001B[38;5;124m\"\u001B[39m, \u001B[38;5;28;01mNone\u001B[39;00m) \u001B[38;5;28;01mfor\u001B[39;00m arr \u001B[38;5;129;01min\u001B[39;00m arrays]\n\u001B[1;32m--> 494\u001B[0m \u001B[38;5;28;01mreturn\u001B[39;00m \u001B[38;5;28;43mcls\u001B[39;49m\u001B[43m(\u001B[49m\n\u001B[0;32m    495\u001B[0m \u001B[43m    \u001B[49m\u001B[43mlevels\u001B[49m\u001B[38;5;241;43m=\u001B[39;49m\u001B[43mlevels\u001B[49m\u001B[43m,\u001B[49m\n\u001B[0;32m    496\u001B[0m \u001B[43m    \u001B[49m\u001B[43mcodes\u001B[49m\u001B[38;5;241;43m=\u001B[39;49m\u001B[43mcodes\u001B[49m\u001B[43m,\u001B[49m\n\u001B[0;32m    497\u001B[0m \u001B[43m    \u001B[49m\u001B[43msortorder\u001B[49m\u001B[38;5;241;43m=\u001B[39;49m\u001B[43msortorder\u001B[49m\u001B[43m,\u001B[49m\n\u001B[0;32m    498\u001B[0m \u001B[43m    \u001B[49m\u001B[43mnames\u001B[49m\u001B[38;5;241;43m=\u001B[39;49m\u001B[43mnames\u001B[49m\u001B[43m,\u001B[49m\n\u001B[0;32m    499\u001B[0m \u001B[43m    \u001B[49m\u001B[43mverify_integrity\u001B[49m\u001B[38;5;241;43m=\u001B[39;49m\u001B[38;5;28;43;01mFalse\u001B[39;49;00m\u001B[43m,\u001B[49m\n\u001B[0;32m    500\u001B[0m \u001B[43m\u001B[49m\u001B[43m)\u001B[49m\n",
      "File \u001B[1;32m~\\AppData\\Roaming\\Python\\Python310\\site-packages\\pandas\\core\\indexes\\multi.py:335\u001B[0m, in \u001B[0;36mMultiIndex.__new__\u001B[1;34m(cls, levels, codes, sortorder, names, dtype, copy, name, verify_integrity)\u001B[0m\n\u001B[0;32m    332\u001B[0m result\u001B[38;5;241m.\u001B[39m_names \u001B[38;5;241m=\u001B[39m [\u001B[38;5;28;01mNone\u001B[39;00m] \u001B[38;5;241m*\u001B[39m \u001B[38;5;28mlen\u001B[39m(levels)\n\u001B[0;32m    333\u001B[0m \u001B[38;5;28;01mif\u001B[39;00m names \u001B[38;5;129;01mis\u001B[39;00m \u001B[38;5;129;01mnot\u001B[39;00m \u001B[38;5;28;01mNone\u001B[39;00m:\n\u001B[0;32m    334\u001B[0m     \u001B[38;5;66;03m# handles name validation\u001B[39;00m\n\u001B[1;32m--> 335\u001B[0m     \u001B[43mresult\u001B[49m\u001B[38;5;241;43m.\u001B[39;49m\u001B[43m_set_names\u001B[49m\u001B[43m(\u001B[49m\u001B[43mnames\u001B[49m\u001B[43m)\u001B[49m\n\u001B[0;32m    337\u001B[0m \u001B[38;5;28;01mif\u001B[39;00m sortorder \u001B[38;5;129;01mis\u001B[39;00m \u001B[38;5;129;01mnot\u001B[39;00m \u001B[38;5;28;01mNone\u001B[39;00m:\n\u001B[0;32m    338\u001B[0m     result\u001B[38;5;241m.\u001B[39msortorder \u001B[38;5;241m=\u001B[39m \u001B[38;5;28mint\u001B[39m(sortorder)\n",
      "File \u001B[1;32m~\\AppData\\Roaming\\Python\\Python310\\site-packages\\pandas\\core\\indexes\\multi.py:1473\u001B[0m, in \u001B[0;36mMultiIndex._set_names\u001B[1;34m(self, names, level, validate)\u001B[0m\n\u001B[0;32m   1471\u001B[0m         \u001B[38;5;28;01mraise\u001B[39;00m \u001B[38;5;167;01mValueError\u001B[39;00m(\u001B[38;5;124m\"\u001B[39m\u001B[38;5;124mLength of names must match length of level.\u001B[39m\u001B[38;5;124m\"\u001B[39m)\n\u001B[0;32m   1472\u001B[0m     \u001B[38;5;28;01mif\u001B[39;00m level \u001B[38;5;129;01mis\u001B[39;00m \u001B[38;5;28;01mNone\u001B[39;00m \u001B[38;5;129;01mand\u001B[39;00m \u001B[38;5;28mlen\u001B[39m(names) \u001B[38;5;241m!=\u001B[39m \u001B[38;5;28mself\u001B[39m\u001B[38;5;241m.\u001B[39mnlevels:\n\u001B[1;32m-> 1473\u001B[0m         \u001B[38;5;28;01mraise\u001B[39;00m \u001B[38;5;167;01mValueError\u001B[39;00m(\n\u001B[0;32m   1474\u001B[0m             \u001B[38;5;124m\"\u001B[39m\u001B[38;5;124mLength of names must match number of levels in MultiIndex.\u001B[39m\u001B[38;5;124m\"\u001B[39m\n\u001B[0;32m   1475\u001B[0m         )\n\u001B[0;32m   1477\u001B[0m \u001B[38;5;28;01mif\u001B[39;00m level \u001B[38;5;129;01mis\u001B[39;00m \u001B[38;5;28;01mNone\u001B[39;00m:\n\u001B[0;32m   1478\u001B[0m     level \u001B[38;5;241m=\u001B[39m \u001B[38;5;28mrange\u001B[39m(\u001B[38;5;28mself\u001B[39m\u001B[38;5;241m.\u001B[39mnlevels)\n",
      "\u001B[1;31mValueError\u001B[0m: Length of names must match number of levels in MultiIndex."
     ]
    }
   ],
   "source": [
    "\n",
    "import pandas as pd\n",
    "multi_index = pd.MultiIndex.from_tuples([(\"r0\", \"rA\"),\n",
    "                                       (\"r1\", \"rB\")],\n",
    "                                       names=['Courses','Fee'])\n",
    "multi_index"
   ],
   "metadata": {
    "collapsed": false
   }
  },
  {
   "cell_type": "code",
   "execution_count": 13,
   "outputs": [
    {
     "ename": "NameError",
     "evalue": "name 'Toyoto' is not defined",
     "output_type": "error",
     "traceback": [
      "\u001B[1;31m---------------------------------------------------------------------------\u001B[0m",
      "\u001B[1;31mNameError\u001B[0m                                 Traceback (most recent call last)",
      "Cell \u001B[1;32mIn [13], line 7\u001B[0m\n\u001B[0;32m      1\u001B[0m cols \u001B[38;5;241m=\u001B[39m pd\u001B[38;5;241m.\u001B[39mMultiIndex\u001B[38;5;241m.\u001B[39mfrom_tuples([(\u001B[38;5;124m\"\u001B[39m\u001B[38;5;124mGasoline\u001B[39m\u001B[38;5;124m\"\u001B[39m, \u001B[38;5;124m\"\u001B[39m\u001B[38;5;124mToyoto\u001B[39m\u001B[38;5;124m\"\u001B[39m),\n\u001B[0;32m      2\u001B[0m                                   (\u001B[38;5;124m\"\u001B[39m\u001B[38;5;124mToyoto\u001B[39m\u001B[38;5;124m\"\u001B[39m, \u001B[38;5;124m\"\u001B[39m\u001B[38;5;124mFord\u001B[39m\u001B[38;5;124m\"\u001B[39m),\n\u001B[0;32m      3\u001B[0m                                   (\u001B[38;5;124m\"\u001B[39m\u001B[38;5;124mElectric\u001B[39m\u001B[38;5;124m\"\u001B[39m, \u001B[38;5;124m\"\u001B[39m\u001B[38;5;124mTesla\u001B[39m\u001B[38;5;124m\"\u001B[39m),\n\u001B[0;32m      4\u001B[0m                                   (\u001B[38;5;124m\"\u001B[39m\u001B[38;5;124mElectric\u001B[39m\u001B[38;5;124m\"\u001B[39m, \u001B[38;5;124m\"\u001B[39m\u001B[38;5;124mNio\u001B[39m\u001B[38;5;124m\"\u001B[39m)])\n\u001B[0;32m      5\u001B[0m data\u001B[38;5;241m=\u001B[39m[[\u001B[38;5;241m100\u001B[39m,\u001B[38;5;241m300\u001B[39m, \u001B[38;5;241m900\u001B[39m,\u001B[38;5;241m400\u001B[39m ], [\u001B[38;5;241m200\u001B[39m,\u001B[38;5;241m500\u001B[39m, \u001B[38;5;241m300\u001B[39m,\u001B[38;5;241m600\u001B[39m]]\n\u001B[1;32m----> 7\u001B[0m df \u001B[38;5;241m=\u001B[39m pd\u001B[38;5;241m.\u001B[39mDataFrame(data, columns\u001B[38;5;241m=\u001B[39m [Toyoto , ],index\u001B[38;5;241m=\u001B[39mmulti_index)\n\u001B[0;32m      8\u001B[0m df\n",
      "\u001B[1;31mNameError\u001B[0m: name 'Toyoto' is not defined"
     ]
    }
   ],
   "source": [
    "\n",
    "cols = pd.MultiIndex.from_tuples([(\"Gasoline\", \"Toyoto\"),\n",
    "                                  (\"Toyoto\", \"Ford\"),\n",
    "                                  (\"Electric\", \"Tesla\"),\n",
    "                                  (\"Electric\", \"Nio\")])\n",
    "data=[[100,300, 900,400 ], [200,500, 300,600]]\n",
    "\n",
    "df = pd.DataFrame(data, columns= [Toyoto , \"Ford\", ],index=multi_index)\n",
    "df"
   ],
   "metadata": {
    "collapsed": false
   }
  },
  {
   "cell_type": "code",
   "execution_count": 15,
   "outputs": [
    {
     "data": {
      "text/plain": "  first second\n0   bar    one\n1   bar    two\n2   foo    one\n3   foo    two",
      "text/html": "<div>\n<style scoped>\n    .dataframe tbody tr th:only-of-type {\n        vertical-align: middle;\n    }\n\n    .dataframe tbody tr th {\n        vertical-align: top;\n    }\n\n    .dataframe thead th {\n        text-align: right;\n    }\n</style>\n<table border=\"1\" class=\"dataframe\">\n  <thead>\n    <tr style=\"text-align: right;\">\n      <th></th>\n      <th>first</th>\n      <th>second</th>\n    </tr>\n  </thead>\n  <tbody>\n    <tr>\n      <th>0</th>\n      <td>bar</td>\n      <td>one</td>\n    </tr>\n    <tr>\n      <th>1</th>\n      <td>bar</td>\n      <td>two</td>\n    </tr>\n    <tr>\n      <th>2</th>\n      <td>foo</td>\n      <td>one</td>\n    </tr>\n    <tr>\n      <th>3</th>\n      <td>foo</td>\n      <td>two</td>\n    </tr>\n  </tbody>\n</table>\n</div>"
     },
     "execution_count": 15,
     "metadata": {},
     "output_type": "execute_result"
    }
   ],
   "source": [
    "df = pd.DataFrame(\n",
    "    [[\"bar\", \"one\"], [\"bar\", \"two\"], [\"foo\", \"one\"], [\"foo\", \"two\"]],\n",
    "    columns=[\"first\", \"second\"],\n",
    ")\n",
    "\n",
    "\n",
    "pd.MultiIndex.from_frame(df)\n",
    "df"
   ],
   "metadata": {
    "collapsed": false
   }
  },
  {
   "cell_type": "code",
   "execution_count": 17,
   "outputs": [
    {
     "name": "stdout",
     "output_type": "stream",
     "text": [
      "            Gasoline      Electric     \n",
      "              Toyoto Ford    Tesla  Nio\n",
      "indx1 indx2                            \n",
      "r0    rA         100  300      900  400\n",
      "      rB         200  500      300  600\n",
      "  indx1 indx2 Gasoline      Electric     \n",
      "                Toyoto Ford    Tesla  Nio\n",
      "0    r0    rA      100  300      900  400\n",
      "1    r0    rB      200  500      300  600\n",
      "      indx2 Gasoline      Electric     \n",
      "              Toyoto Ford    Tesla  Nio\n",
      "indx1                                  \n",
      "r0       rA      100  300      900  400\n",
      "r0       rB      200  500      300  600\n",
      "      Gasoline      Electric     \n",
      "        Toyoto Ford    Tesla  Nio\n",
      "indx1                            \n",
      "r0         100  300      900  400\n",
      "r0         200  500      300  600\n",
      "             Toyoto  Ford  Tesla  Nio\n",
      "indx1 indx2                          \n",
      "r0    rA        100   300    900  400\n",
      "      rB        200   500    300  600\n",
      "       Toyoto  Ford  Tesla  Nio\n",
      "indx2                          \n",
      "rA        100   300    900  400\n",
      "rB        200   500    300  600\n"
     ]
    }
   ],
   "source": [
    "\n",
    "import pandas as pd\n",
    "# Create Row Level MultiIndex\n",
    "new_index = pd.MultiIndex.from_tuples([(\"r0\", \"rA\"),\n",
    "                                       (\"r0\", \"rB\")],\n",
    "                                       names=['indx1','indx2'])\n",
    "\n",
    "# Create Column Level MultiIndex\n",
    "cols = pd.MultiIndex.from_tuples([(\"Gasoline\", \"Toyoto\"),\n",
    "                                  (\"Gasoline\", \"Ford\"),\n",
    "                                  (\"Electric\", \"Tesla\"),\n",
    "                                  (\"Electric\", \"Nio\")])\n",
    "\n",
    "# Create MultiIndex DataFrame\n",
    "data=[[100,300, 900,400 ], [200,500, 300,600]]\n",
    "df = pd.DataFrame(data, columns=cols,index=new_index)\n",
    "print(df)\n",
    "\n",
    "# Convert MultiIndex to Columns\n",
    "df2=df.reset_index()\n",
    "print(df2)\n",
    "\n",
    "# Convert MuliIndex to Single index\n",
    "df2 = df.reset_index(level=[1])\n",
    "print(df2)\n",
    "\n",
    "# Drop Index\n",
    "df2 = df.reset_index(level=[1], drop=True)\n",
    "print(df2)\n",
    "\n",
    "# Flattern MultiIndex columns\n",
    "df.columns = df.columns.get_level_values(1)\n",
    "print(df)\n",
    "\n",
    "#Drop Index from MultiIndex\n",
    "df=df.droplevel(0, axis=0)\n",
    "print(df)\n"
   ],
   "metadata": {
    "collapsed": false
   }
  },
  {
   "cell_type": "code",
   "execution_count": 22,
   "outputs": [
    {
     "name": "stdout",
     "output_type": "stream",
     "text": [
      "[[[9 4]\n",
      "  [0 1]\n",
      "  [9 0]]\n",
      "\n",
      " [[1 8]\n",
      "  [9 0]\n",
      "  [8 6]]\n",
      "\n",
      " [[4 3]\n",
      "  [0 4]\n",
      "  [6 8]]\n",
      "\n",
      " [[1 8]\n",
      "  [4 1]\n",
      "  [3 6]]\n",
      "\n",
      " [[5 3]\n",
      "  [9 6]\n",
      "  [9 1]]]\n",
      "(5, 3, 2)\n"
     ]
    },
    {
     "data": {
      "text/plain": "     0  1  2  3  4\n0 0  9  1  4  1  5\n  1  4  8  3  8  3\n1 0  0  9  0  4  9\n  1  1  0  4  1  6\n2 0  9  8  6  3  9\n  1  0  6  8  6  1",
      "text/html": "<div>\n<style scoped>\n    .dataframe tbody tr th:only-of-type {\n        vertical-align: middle;\n    }\n\n    .dataframe tbody tr th {\n        vertical-align: top;\n    }\n\n    .dataframe thead th {\n        text-align: right;\n    }\n</style>\n<table border=\"1\" class=\"dataframe\">\n  <thead>\n    <tr style=\"text-align: right;\">\n      <th></th>\n      <th></th>\n      <th>0</th>\n      <th>1</th>\n      <th>2</th>\n      <th>3</th>\n      <th>4</th>\n    </tr>\n  </thead>\n  <tbody>\n    <tr>\n      <th rowspan=\"2\" valign=\"top\">0</th>\n      <th>0</th>\n      <td>9</td>\n      <td>1</td>\n      <td>4</td>\n      <td>1</td>\n      <td>5</td>\n    </tr>\n    <tr>\n      <th>1</th>\n      <td>4</td>\n      <td>8</td>\n      <td>3</td>\n      <td>8</td>\n      <td>3</td>\n    </tr>\n    <tr>\n      <th rowspan=\"2\" valign=\"top\">1</th>\n      <th>0</th>\n      <td>0</td>\n      <td>9</td>\n      <td>0</td>\n      <td>4</td>\n      <td>9</td>\n    </tr>\n    <tr>\n      <th>1</th>\n      <td>1</td>\n      <td>0</td>\n      <td>4</td>\n      <td>1</td>\n      <td>6</td>\n    </tr>\n    <tr>\n      <th rowspan=\"2\" valign=\"top\">2</th>\n      <th>0</th>\n      <td>9</td>\n      <td>8</td>\n      <td>6</td>\n      <td>3</td>\n      <td>9</td>\n    </tr>\n    <tr>\n      <th>1</th>\n      <td>0</td>\n      <td>6</td>\n      <td>8</td>\n      <td>6</td>\n      <td>1</td>\n    </tr>\n  </tbody>\n</table>\n</div>"
     },
     "execution_count": 22,
     "metadata": {},
     "output_type": "execute_result"
    }
   ],
   "source": [
    "import numpy as np\n",
    "\n",
    "np.random.seed(10)\n",
    "arr = np.random.randint(10, size=(5,3,2))\n",
    "print (arr)\n",
    "print(arr.shape)\n",
    "\n",
    "arr = arr.transpose(1,2,0)\n",
    "df = pd.concat([pd.DataFrame(x) for x in arr], keys=np.arange(arr.shape[2]))\n",
    "df"
   ],
   "metadata": {
    "collapsed": false
   }
  },
  {
   "cell_type": "code",
   "execution_count": null,
   "outputs": [],
   "source": [],
   "metadata": {
    "collapsed": false
   }
  }
 ],
 "metadata": {
  "kernelspec": {
   "display_name": "Python 3",
   "language": "python",
   "name": "python3"
  },
  "language_info": {
   "codemirror_mode": {
    "name": "ipython",
    "version": 2
   },
   "file_extension": ".py",
   "mimetype": "text/x-python",
   "name": "python",
   "nbconvert_exporter": "python",
   "pygments_lexer": "ipython2",
   "version": "2.7.6"
  }
 },
 "nbformat": 4,
 "nbformat_minor": 0
}
